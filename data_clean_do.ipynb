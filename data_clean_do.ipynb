{
 "cells": [
  {
   "cell_type": "code",
   "execution_count": 35,
   "id": "ba4084d2",
   "metadata": {
    "ExecuteTime": {
     "end_time": "2022-12-13T02:11:01.429786Z",
     "start_time": "2022-12-13T02:11:01.416821Z"
    }
   },
   "outputs": [],
   "source": [
    "import pandas as pd\n",
    "import numpy as np\n",
    "import os\n",
    "import sys\n",
    "import time\n",
    "from IPython.display import clear_output as clear"
   ]
  },
  {
   "cell_type": "code",
   "execution_count": 3,
   "id": "e73636e1",
   "metadata": {
    "ExecuteTime": {
     "end_time": "2022-12-12T12:48:40.932127Z",
     "start_time": "2022-12-12T12:48:40.853181Z"
    }
   },
   "outputs": [],
   "source": [
    "#\"I:\\Russia_Ukraine_Tweets\\tweet_ids_day_2022-4-1.txt_tweets.csv\"\n",
    "date_series = [f\"I:/Russia_Ukraine_Tweets/tweet_ids_day_2022-{month}-{date}.txt_tweets.csv\"\n",
    "              for month in range(2,10) for date in range(1,32)]\n",
    "dates = []\n",
    "for date_data in date_series:\n",
    "    if os.path.exists(date_data):\n",
    "        dates.append(date_data)\n",
    "        "
   ]
  },
  {
   "cell_type": "code",
   "execution_count": 4,
   "id": "419a1d5a",
   "metadata": {
    "ExecuteTime": {
     "end_time": "2022-12-12T12:48:46.453234Z",
     "start_time": "2022-12-12T12:48:46.405361Z"
    }
   },
   "outputs": [
    {
     "data": {
      "text/plain": [
       "['I:/Russia_Ukraine_Tweets/tweet_ids_day_2022-2-22.txt_tweets.csv',\n",
       " 'I:/Russia_Ukraine_Tweets/tweet_ids_day_2022-2-23.txt_tweets.csv',\n",
       " 'I:/Russia_Ukraine_Tweets/tweet_ids_day_2022-4-1.txt_tweets.csv',\n",
       " 'I:/Russia_Ukraine_Tweets/tweet_ids_day_2022-4-2.txt_tweets.csv',\n",
       " 'I:/Russia_Ukraine_Tweets/tweet_ids_day_2022-4-3.txt_tweets.csv',\n",
       " 'I:/Russia_Ukraine_Tweets/tweet_ids_day_2022-4-4.txt_tweets.csv',\n",
       " 'I:/Russia_Ukraine_Tweets/tweet_ids_day_2022-4-5.txt_tweets.csv',\n",
       " 'I:/Russia_Ukraine_Tweets/tweet_ids_day_2022-4-6.txt_tweets.csv',\n",
       " 'I:/Russia_Ukraine_Tweets/tweet_ids_day_2022-4-7.txt_tweets.csv',\n",
       " 'I:/Russia_Ukraine_Tweets/tweet_ids_day_2022-4-8.txt_tweets.csv',\n",
       " 'I:/Russia_Ukraine_Tweets/tweet_ids_day_2022-4-9.txt_tweets.csv',\n",
       " 'I:/Russia_Ukraine_Tweets/tweet_ids_day_2022-4-10.txt_tweets.csv',\n",
       " 'I:/Russia_Ukraine_Tweets/tweet_ids_day_2022-4-11.txt_tweets.csv',\n",
       " 'I:/Russia_Ukraine_Tweets/tweet_ids_day_2022-4-12.txt_tweets.csv',\n",
       " 'I:/Russia_Ukraine_Tweets/tweet_ids_day_2022-4-13.txt_tweets.csv',\n",
       " 'I:/Russia_Ukraine_Tweets/tweet_ids_day_2022-4-14.txt_tweets.csv',\n",
       " 'I:/Russia_Ukraine_Tweets/tweet_ids_day_2022-4-15.txt_tweets.csv',\n",
       " 'I:/Russia_Ukraine_Tweets/tweet_ids_day_2022-4-16.txt_tweets.csv',\n",
       " 'I:/Russia_Ukraine_Tweets/tweet_ids_day_2022-4-17.txt_tweets.csv',\n",
       " 'I:/Russia_Ukraine_Tweets/tweet_ids_day_2022-4-18.txt_tweets.csv',\n",
       " 'I:/Russia_Ukraine_Tweets/tweet_ids_day_2022-4-19.txt_tweets.csv',\n",
       " 'I:/Russia_Ukraine_Tweets/tweet_ids_day_2022-4-20.txt_tweets.csv',\n",
       " 'I:/Russia_Ukraine_Tweets/tweet_ids_day_2022-4-21.txt_tweets.csv',\n",
       " 'I:/Russia_Ukraine_Tweets/tweet_ids_day_2022-4-22.txt_tweets.csv',\n",
       " 'I:/Russia_Ukraine_Tweets/tweet_ids_day_2022-4-23.txt_tweets.csv',\n",
       " 'I:/Russia_Ukraine_Tweets/tweet_ids_day_2022-4-24.txt_tweets.csv',\n",
       " 'I:/Russia_Ukraine_Tweets/tweet_ids_day_2022-4-25.txt_tweets.csv',\n",
       " 'I:/Russia_Ukraine_Tweets/tweet_ids_day_2022-4-26.txt_tweets.csv',\n",
       " 'I:/Russia_Ukraine_Tweets/tweet_ids_day_2022-4-27.txt_tweets.csv',\n",
       " 'I:/Russia_Ukraine_Tweets/tweet_ids_day_2022-4-28.txt_tweets.csv',\n",
       " 'I:/Russia_Ukraine_Tweets/tweet_ids_day_2022-4-29.txt_tweets.csv',\n",
       " 'I:/Russia_Ukraine_Tweets/tweet_ids_day_2022-4-30.txt_tweets.csv',\n",
       " 'I:/Russia_Ukraine_Tweets/tweet_ids_day_2022-5-1.txt_tweets.csv',\n",
       " 'I:/Russia_Ukraine_Tweets/tweet_ids_day_2022-5-2.txt_tweets.csv',\n",
       " 'I:/Russia_Ukraine_Tweets/tweet_ids_day_2022-5-3.txt_tweets.csv',\n",
       " 'I:/Russia_Ukraine_Tweets/tweet_ids_day_2022-5-4.txt_tweets.csv',\n",
       " 'I:/Russia_Ukraine_Tweets/tweet_ids_day_2022-5-5.txt_tweets.csv',\n",
       " 'I:/Russia_Ukraine_Tweets/tweet_ids_day_2022-5-6.txt_tweets.csv',\n",
       " 'I:/Russia_Ukraine_Tweets/tweet_ids_day_2022-5-7.txt_tweets.csv',\n",
       " 'I:/Russia_Ukraine_Tweets/tweet_ids_day_2022-5-8.txt_tweets.csv',\n",
       " 'I:/Russia_Ukraine_Tweets/tweet_ids_day_2022-5-9.txt_tweets.csv',\n",
       " 'I:/Russia_Ukraine_Tweets/tweet_ids_day_2022-5-10.txt_tweets.csv',\n",
       " 'I:/Russia_Ukraine_Tweets/tweet_ids_day_2022-5-11.txt_tweets.csv',\n",
       " 'I:/Russia_Ukraine_Tweets/tweet_ids_day_2022-5-12.txt_tweets.csv',\n",
       " 'I:/Russia_Ukraine_Tweets/tweet_ids_day_2022-5-13.txt_tweets.csv',\n",
       " 'I:/Russia_Ukraine_Tweets/tweet_ids_day_2022-5-14.txt_tweets.csv',\n",
       " 'I:/Russia_Ukraine_Tweets/tweet_ids_day_2022-5-15.txt_tweets.csv',\n",
       " 'I:/Russia_Ukraine_Tweets/tweet_ids_day_2022-5-16.txt_tweets.csv',\n",
       " 'I:/Russia_Ukraine_Tweets/tweet_ids_day_2022-5-17.txt_tweets.csv',\n",
       " 'I:/Russia_Ukraine_Tweets/tweet_ids_day_2022-5-18.txt_tweets.csv',\n",
       " 'I:/Russia_Ukraine_Tweets/tweet_ids_day_2022-5-19.txt_tweets.csv',\n",
       " 'I:/Russia_Ukraine_Tweets/tweet_ids_day_2022-5-20.txt_tweets.csv',\n",
       " 'I:/Russia_Ukraine_Tweets/tweet_ids_day_2022-5-21.txt_tweets.csv',\n",
       " 'I:/Russia_Ukraine_Tweets/tweet_ids_day_2022-5-22.txt_tweets.csv',\n",
       " 'I:/Russia_Ukraine_Tweets/tweet_ids_day_2022-5-23.txt_tweets.csv',\n",
       " 'I:/Russia_Ukraine_Tweets/tweet_ids_day_2022-5-24.txt_tweets.csv',\n",
       " 'I:/Russia_Ukraine_Tweets/tweet_ids_day_2022-5-25.txt_tweets.csv',\n",
       " 'I:/Russia_Ukraine_Tweets/tweet_ids_day_2022-5-26.txt_tweets.csv',\n",
       " 'I:/Russia_Ukraine_Tweets/tweet_ids_day_2022-5-27.txt_tweets.csv',\n",
       " 'I:/Russia_Ukraine_Tweets/tweet_ids_day_2022-5-28.txt_tweets.csv',\n",
       " 'I:/Russia_Ukraine_Tweets/tweet_ids_day_2022-5-29.txt_tweets.csv',\n",
       " 'I:/Russia_Ukraine_Tweets/tweet_ids_day_2022-5-30.txt_tweets.csv',\n",
       " 'I:/Russia_Ukraine_Tweets/tweet_ids_day_2022-5-31.txt_tweets.csv',\n",
       " 'I:/Russia_Ukraine_Tweets/tweet_ids_day_2022-6-1.txt_tweets.csv',\n",
       " 'I:/Russia_Ukraine_Tweets/tweet_ids_day_2022-6-2.txt_tweets.csv',\n",
       " 'I:/Russia_Ukraine_Tweets/tweet_ids_day_2022-6-3.txt_tweets.csv',\n",
       " 'I:/Russia_Ukraine_Tweets/tweet_ids_day_2022-6-4.txt_tweets.csv',\n",
       " 'I:/Russia_Ukraine_Tweets/tweet_ids_day_2022-6-5.txt_tweets.csv',\n",
       " 'I:/Russia_Ukraine_Tweets/tweet_ids_day_2022-6-6.txt_tweets.csv',\n",
       " 'I:/Russia_Ukraine_Tweets/tweet_ids_day_2022-6-7.txt_tweets.csv',\n",
       " 'I:/Russia_Ukraine_Tweets/tweet_ids_day_2022-6-8.txt_tweets.csv',\n",
       " 'I:/Russia_Ukraine_Tweets/tweet_ids_day_2022-6-9.txt_tweets.csv',\n",
       " 'I:/Russia_Ukraine_Tweets/tweet_ids_day_2022-6-10.txt_tweets.csv',\n",
       " 'I:/Russia_Ukraine_Tweets/tweet_ids_day_2022-6-11.txt_tweets.csv',\n",
       " 'I:/Russia_Ukraine_Tweets/tweet_ids_day_2022-6-12.txt_tweets.csv',\n",
       " 'I:/Russia_Ukraine_Tweets/tweet_ids_day_2022-6-13.txt_tweets.csv',\n",
       " 'I:/Russia_Ukraine_Tweets/tweet_ids_day_2022-6-14.txt_tweets.csv',\n",
       " 'I:/Russia_Ukraine_Tweets/tweet_ids_day_2022-6-15.txt_tweets.csv',\n",
       " 'I:/Russia_Ukraine_Tweets/tweet_ids_day_2022-6-16.txt_tweets.csv',\n",
       " 'I:/Russia_Ukraine_Tweets/tweet_ids_day_2022-6-17.txt_tweets.csv',\n",
       " 'I:/Russia_Ukraine_Tweets/tweet_ids_day_2022-6-18.txt_tweets.csv',\n",
       " 'I:/Russia_Ukraine_Tweets/tweet_ids_day_2022-6-19.txt_tweets.csv',\n",
       " 'I:/Russia_Ukraine_Tweets/tweet_ids_day_2022-6-20.txt_tweets.csv',\n",
       " 'I:/Russia_Ukraine_Tweets/tweet_ids_day_2022-6-21.txt_tweets.csv',\n",
       " 'I:/Russia_Ukraine_Tweets/tweet_ids_day_2022-6-22.txt_tweets.csv',\n",
       " 'I:/Russia_Ukraine_Tweets/tweet_ids_day_2022-6-23.txt_tweets.csv',\n",
       " 'I:/Russia_Ukraine_Tweets/tweet_ids_day_2022-6-24.txt_tweets.csv',\n",
       " 'I:/Russia_Ukraine_Tweets/tweet_ids_day_2022-6-25.txt_tweets.csv',\n",
       " 'I:/Russia_Ukraine_Tweets/tweet_ids_day_2022-6-26.txt_tweets.csv',\n",
       " 'I:/Russia_Ukraine_Tweets/tweet_ids_day_2022-6-27.txt_tweets.csv',\n",
       " 'I:/Russia_Ukraine_Tweets/tweet_ids_day_2022-6-28.txt_tweets.csv',\n",
       " 'I:/Russia_Ukraine_Tweets/tweet_ids_day_2022-6-29.txt_tweets.csv',\n",
       " 'I:/Russia_Ukraine_Tweets/tweet_ids_day_2022-6-30.txt_tweets.csv',\n",
       " 'I:/Russia_Ukraine_Tweets/tweet_ids_day_2022-7-1.txt_tweets.csv',\n",
       " 'I:/Russia_Ukraine_Tweets/tweet_ids_day_2022-7-2.txt_tweets.csv',\n",
       " 'I:/Russia_Ukraine_Tweets/tweet_ids_day_2022-7-3.txt_tweets.csv',\n",
       " 'I:/Russia_Ukraine_Tweets/tweet_ids_day_2022-7-4.txt_tweets.csv',\n",
       " 'I:/Russia_Ukraine_Tweets/tweet_ids_day_2022-7-5.txt_tweets.csv',\n",
       " 'I:/Russia_Ukraine_Tweets/tweet_ids_day_2022-7-6.txt_tweets.csv',\n",
       " 'I:/Russia_Ukraine_Tweets/tweet_ids_day_2022-7-7.txt_tweets.csv',\n",
       " 'I:/Russia_Ukraine_Tweets/tweet_ids_day_2022-7-8.txt_tweets.csv',\n",
       " 'I:/Russia_Ukraine_Tweets/tweet_ids_day_2022-7-9.txt_tweets.csv',\n",
       " 'I:/Russia_Ukraine_Tweets/tweet_ids_day_2022-7-10.txt_tweets.csv',\n",
       " 'I:/Russia_Ukraine_Tweets/tweet_ids_day_2022-7-11.txt_tweets.csv',\n",
       " 'I:/Russia_Ukraine_Tweets/tweet_ids_day_2022-7-12.txt_tweets.csv',\n",
       " 'I:/Russia_Ukraine_Tweets/tweet_ids_day_2022-7-13.txt_tweets.csv',\n",
       " 'I:/Russia_Ukraine_Tweets/tweet_ids_day_2022-7-14.txt_tweets.csv',\n",
       " 'I:/Russia_Ukraine_Tweets/tweet_ids_day_2022-7-15.txt_tweets.csv',\n",
       " 'I:/Russia_Ukraine_Tweets/tweet_ids_day_2022-7-16.txt_tweets.csv',\n",
       " 'I:/Russia_Ukraine_Tweets/tweet_ids_day_2022-7-17.txt_tweets.csv',\n",
       " 'I:/Russia_Ukraine_Tweets/tweet_ids_day_2022-7-18.txt_tweets.csv',\n",
       " 'I:/Russia_Ukraine_Tweets/tweet_ids_day_2022-7-19.txt_tweets.csv',\n",
       " 'I:/Russia_Ukraine_Tweets/tweet_ids_day_2022-7-20.txt_tweets.csv',\n",
       " 'I:/Russia_Ukraine_Tweets/tweet_ids_day_2022-7-21.txt_tweets.csv',\n",
       " 'I:/Russia_Ukraine_Tweets/tweet_ids_day_2022-7-22.txt_tweets.csv',\n",
       " 'I:/Russia_Ukraine_Tweets/tweet_ids_day_2022-7-23.txt_tweets.csv',\n",
       " 'I:/Russia_Ukraine_Tweets/tweet_ids_day_2022-7-24.txt_tweets.csv',\n",
       " 'I:/Russia_Ukraine_Tweets/tweet_ids_day_2022-7-25.txt_tweets.csv',\n",
       " 'I:/Russia_Ukraine_Tweets/tweet_ids_day_2022-7-26.txt_tweets.csv',\n",
       " 'I:/Russia_Ukraine_Tweets/tweet_ids_day_2022-7-27.txt_tweets.csv',\n",
       " 'I:/Russia_Ukraine_Tweets/tweet_ids_day_2022-7-28.txt_tweets.csv',\n",
       " 'I:/Russia_Ukraine_Tweets/tweet_ids_day_2022-7-29.txt_tweets.csv',\n",
       " 'I:/Russia_Ukraine_Tweets/tweet_ids_day_2022-7-30.txt_tweets.csv',\n",
       " 'I:/Russia_Ukraine_Tweets/tweet_ids_day_2022-7-31.txt_tweets.csv',\n",
       " 'I:/Russia_Ukraine_Tweets/tweet_ids_day_2022-8-1.txt_tweets.csv',\n",
       " 'I:/Russia_Ukraine_Tweets/tweet_ids_day_2022-8-2.txt_tweets.csv',\n",
       " 'I:/Russia_Ukraine_Tweets/tweet_ids_day_2022-8-3.txt_tweets.csv',\n",
       " 'I:/Russia_Ukraine_Tweets/tweet_ids_day_2022-8-4.txt_tweets.csv',\n",
       " 'I:/Russia_Ukraine_Tweets/tweet_ids_day_2022-8-5.txt_tweets.csv',\n",
       " 'I:/Russia_Ukraine_Tweets/tweet_ids_day_2022-8-6.txt_tweets.csv',\n",
       " 'I:/Russia_Ukraine_Tweets/tweet_ids_day_2022-8-7.txt_tweets.csv',\n",
       " 'I:/Russia_Ukraine_Tweets/tweet_ids_day_2022-8-8.txt_tweets.csv',\n",
       " 'I:/Russia_Ukraine_Tweets/tweet_ids_day_2022-8-9.txt_tweets.csv',\n",
       " 'I:/Russia_Ukraine_Tweets/tweet_ids_day_2022-8-10.txt_tweets.csv',\n",
       " 'I:/Russia_Ukraine_Tweets/tweet_ids_day_2022-8-11.txt_tweets.csv',\n",
       " 'I:/Russia_Ukraine_Tweets/tweet_ids_day_2022-8-12.txt_tweets.csv',\n",
       " 'I:/Russia_Ukraine_Tweets/tweet_ids_day_2022-8-13.txt_tweets.csv',\n",
       " 'I:/Russia_Ukraine_Tweets/tweet_ids_day_2022-8-14.txt_tweets.csv',\n",
       " 'I:/Russia_Ukraine_Tweets/tweet_ids_day_2022-8-15.txt_tweets.csv',\n",
       " 'I:/Russia_Ukraine_Tweets/tweet_ids_day_2022-8-16.txt_tweets.csv',\n",
       " 'I:/Russia_Ukraine_Tweets/tweet_ids_day_2022-8-17.txt_tweets.csv',\n",
       " 'I:/Russia_Ukraine_Tweets/tweet_ids_day_2022-8-18.txt_tweets.csv',\n",
       " 'I:/Russia_Ukraine_Tweets/tweet_ids_day_2022-8-19.txt_tweets.csv',\n",
       " 'I:/Russia_Ukraine_Tweets/tweet_ids_day_2022-8-20.txt_tweets.csv',\n",
       " 'I:/Russia_Ukraine_Tweets/tweet_ids_day_2022-8-21.txt_tweets.csv',\n",
       " 'I:/Russia_Ukraine_Tweets/tweet_ids_day_2022-8-22.txt_tweets.csv',\n",
       " 'I:/Russia_Ukraine_Tweets/tweet_ids_day_2022-8-23.txt_tweets.csv',\n",
       " 'I:/Russia_Ukraine_Tweets/tweet_ids_day_2022-8-24.txt_tweets.csv',\n",
       " 'I:/Russia_Ukraine_Tweets/tweet_ids_day_2022-8-25.txt_tweets.csv',\n",
       " 'I:/Russia_Ukraine_Tweets/tweet_ids_day_2022-8-26.txt_tweets.csv',\n",
       " 'I:/Russia_Ukraine_Tweets/tweet_ids_day_2022-8-27.txt_tweets.csv',\n",
       " 'I:/Russia_Ukraine_Tweets/tweet_ids_day_2022-8-28.txt_tweets.csv',\n",
       " 'I:/Russia_Ukraine_Tweets/tweet_ids_day_2022-8-29.txt_tweets.csv',\n",
       " 'I:/Russia_Ukraine_Tweets/tweet_ids_day_2022-8-30.txt_tweets.csv',\n",
       " 'I:/Russia_Ukraine_Tweets/tweet_ids_day_2022-8-31.txt_tweets.csv',\n",
       " 'I:/Russia_Ukraine_Tweets/tweet_ids_day_2022-9-1.txt_tweets.csv',\n",
       " 'I:/Russia_Ukraine_Tweets/tweet_ids_day_2022-9-2.txt_tweets.csv',\n",
       " 'I:/Russia_Ukraine_Tweets/tweet_ids_day_2022-9-3.txt_tweets.csv',\n",
       " 'I:/Russia_Ukraine_Tweets/tweet_ids_day_2022-9-4.txt_tweets.csv',\n",
       " 'I:/Russia_Ukraine_Tweets/tweet_ids_day_2022-9-5.txt_tweets.csv',\n",
       " 'I:/Russia_Ukraine_Tweets/tweet_ids_day_2022-9-6.txt_tweets.csv',\n",
       " 'I:/Russia_Ukraine_Tweets/tweet_ids_day_2022-9-7.txt_tweets.csv',\n",
       " 'I:/Russia_Ukraine_Tweets/tweet_ids_day_2022-9-8.txt_tweets.csv',\n",
       " 'I:/Russia_Ukraine_Tweets/tweet_ids_day_2022-9-9.txt_tweets.csv',\n",
       " 'I:/Russia_Ukraine_Tweets/tweet_ids_day_2022-9-10.txt_tweets.csv',\n",
       " 'I:/Russia_Ukraine_Tweets/tweet_ids_day_2022-9-11.txt_tweets.csv',\n",
       " 'I:/Russia_Ukraine_Tweets/tweet_ids_day_2022-9-12.txt_tweets.csv',\n",
       " 'I:/Russia_Ukraine_Tweets/tweet_ids_day_2022-9-13.txt_tweets.csv',\n",
       " 'I:/Russia_Ukraine_Tweets/tweet_ids_day_2022-9-14.txt_tweets.csv',\n",
       " 'I:/Russia_Ukraine_Tweets/tweet_ids_day_2022-9-15.txt_tweets.csv',\n",
       " 'I:/Russia_Ukraine_Tweets/tweet_ids_day_2022-9-16.txt_tweets.csv',\n",
       " 'I:/Russia_Ukraine_Tweets/tweet_ids_day_2022-9-17.txt_tweets.csv',\n",
       " 'I:/Russia_Ukraine_Tweets/tweet_ids_day_2022-9-18.txt_tweets.csv',\n",
       " 'I:/Russia_Ukraine_Tweets/tweet_ids_day_2022-9-19.txt_tweets.csv',\n",
       " 'I:/Russia_Ukraine_Tweets/tweet_ids_day_2022-9-20.txt_tweets.csv',\n",
       " 'I:/Russia_Ukraine_Tweets/tweet_ids_day_2022-9-21.txt_tweets.csv']"
      ]
     },
     "execution_count": 4,
     "metadata": {},
     "output_type": "execute_result"
    }
   ],
   "source": [
    "dates"
   ]
  },
  {
   "cell_type": "code",
   "execution_count": 5,
   "id": "c8f8695c",
   "metadata": {
    "ExecuteTime": {
     "end_time": "2022-12-12T12:52:00.657090Z",
     "start_time": "2022-12-12T12:52:00.638492Z"
    }
   },
   "outputs": [
    {
     "data": {
      "text/plain": [
       "'hello 李john 12，34'"
      ]
     },
     "execution_count": 5,
     "metadata": {},
     "output_type": "execute_result"
    }
   ],
   "source": [
    "import re\n",
    "#写一个清洗函数\n",
    "\n",
    "def clean_text(text):\n",
    "    # 用空字符串替换文本中所有以\"http\"开头的连续字符串，并将文本转换为小写\n",
    "    text = re.sub(\"http\\S+\", \"\", text).lower()\n",
    "    # 使用列表推导式将文本拆分为单词列表，并过滤掉所有以@开头的单词\n",
    "    text = \" \".join([w for w in text.split() if w[0]!='@'])\n",
    "    # 用空格替换文本中的所有非字母和数字字符，但不替换标点符号，并将剩余的文本转换为小写\n",
    "    text = re.sub(\"[^a-zA-Z0-9\\u4e00-\\u9fa5,，.。？?！!;；:]+\", \" \", text).lower()\n",
    "    return text\n",
    "\n",
    "test_text = 'hello @Apple, https://apple.com 李John 12，34'\n",
    "clean_text(text=test_text)\n"
   ]
  },
  {
   "cell_type": "code",
   "execution_count": 7,
   "id": "40b872f2",
   "metadata": {
    "ExecuteTime": {
     "end_time": "2022-12-12T12:54:49.208996Z",
     "start_time": "2022-12-12T12:54:49.200788Z"
    }
   },
   "outputs": [],
   "source": [
    "import nltk\n",
    "def word_more_than(text,num):#写一个检测text中单词数量是否大于num的函数\n",
    "    # 检测一段文本中的英文单词\n",
    "    tokens = nltk.word_tokenize(text)\n",
    "    # 过滤掉标点符号\n",
    "    words = [token for token in tokens if token.isalpha()]\n",
    "    if len(words)>num:\n",
    "        return 1\n",
    "    else:\n",
    "        return 0\n"
   ]
  },
  {
   "cell_type": "code",
   "execution_count": 36,
   "id": "02aaba3e",
   "metadata": {
    "ExecuteTime": {
     "end_time": "2022-12-13T04:26:40.276654Z",
     "start_time": "2022-12-13T02:13:05.223315Z"
    }
   },
   "outputs": [
    {
     "name": "stdout",
     "output_type": "stream",
     "text": [
      "I:/Russia_Ukraine_Tweets/tweet_ids_day_2022-9-21_clean.csv  generated\n"
     ]
    }
   ],
   "source": [
    "for date in dates:\n",
    "    #Columns (20,21,23) have mixed types. Specify dtype option on import or set low_memory=False.\n",
    "    name = date[:-15] + '_clean.csv'\n",
    "    if os.path.exists(name):#如果已经洗过了，就跳过\n",
    "        clear(wait=True)\n",
    "        print(name,' generated', flush = True)\n",
    "        continue\n",
    "        \n",
    "    else:\n",
    "        print(name,' generating...')\n",
    "        data = pd.read_csv(date, index_col=0, dtype={'Tweet_place':str, 'Tweet_hashtags':str, 'Username':str })\n",
    "        data = data[data['Tweet_language'] == 'en']#过滤英文推特\n",
    "        data = data.reset_index(drop=True)\n",
    "        data['Tweet_isRT']=0\n",
    "        for i in range(len(data)):\n",
    "            if data.loc[i].Tweet_content[:2]=='RT':\n",
    "                data.loc[i, 'Tweet_isRT'] = 1\n",
    "                data.loc[i, 'Tweet_content'] = data.loc[i, 'Tweet_content'][3:]#删除文本中的RT标识\n",
    "\n",
    "        data['Tweet_content'] = data['Tweet_content'].apply(clean_text)#去除url、@\n",
    "        data.dropna(subset=['Tweet_content'])\n",
    "\n",
    "        #删除小于等于3个单词的推文\n",
    "        for index, row in data.iterrows():\n",
    "            text = row['Tweet_content']\n",
    "            if not word_more_than(text, 2):\n",
    "                data.drop(index, inplace=True)\n",
    "                \n",
    "        clear(wait=True)\n",
    "        print(name,' generated', flush = True)\n",
    "        data.to_csv(name)"
   ]
  },
  {
   "cell_type": "code",
   "execution_count": null,
   "id": "c96d91f1",
   "metadata": {},
   "outputs": [],
   "source": []
  }
 ],
 "metadata": {
  "kernelspec": {
   "display_name": "Python 3 (ipykernel)",
   "language": "python",
   "name": "python3"
  },
  "language_info": {
   "codemirror_mode": {
    "name": "ipython",
    "version": 3
   },
   "file_extension": ".py",
   "mimetype": "text/x-python",
   "name": "python",
   "nbconvert_exporter": "python",
   "pygments_lexer": "ipython3",
   "version": "3.8.13"
  },
  "varInspector": {
   "cols": {
    "lenName": 16,
    "lenType": 16,
    "lenVar": 40
   },
   "kernels_config": {
    "python": {
     "delete_cmd_postfix": "",
     "delete_cmd_prefix": "del ",
     "library": "var_list.py",
     "varRefreshCmd": "print(var_dic_list())"
    },
    "r": {
     "delete_cmd_postfix": ") ",
     "delete_cmd_prefix": "rm(",
     "library": "var_list.r",
     "varRefreshCmd": "cat(var_dic_list()) "
    }
   },
   "types_to_exclude": [
    "module",
    "function",
    "builtin_function_or_method",
    "instance",
    "_Feature"
   ],
   "window_display": false
  }
 },
 "nbformat": 4,
 "nbformat_minor": 5
}
