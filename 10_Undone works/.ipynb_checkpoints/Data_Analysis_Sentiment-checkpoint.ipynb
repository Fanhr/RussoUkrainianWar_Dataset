{
 "cells": [
  {
   "cell_type": "markdown",
   "id": "3b573c7e",
   "metadata": {},
   "source": [
    "# 在数据中加入情感\n",
    "基于NRC字典的情感分析\n",
    "\n",
    "https://chengjun.github.io/mybook/11-3-NRC-Chinese-dict.html\n",
    "\n",
    "1. 对所有的活跃用户推文跑出各类情感词的数量\n",
    "2. 将情感词频率作为特征纳入固定效应模型\n",
    "3. 如果可能，再对所有原创推文做同样的事\n",
    "4. 如果还可能，再做出情感词的时间序列"
   ]
  },
  {
   "cell_type": "code",
   "execution_count": 1,
   "id": "596136ac",
   "metadata": {
    "ExecuteTime": {
     "end_time": "2023-05-19T02:17:03.565333Z",
     "start_time": "2023-05-19T02:17:02.993779Z"
    }
   },
   "outputs": [],
   "source": [
    "import pandas as pd"
   ]
  },
  {
   "cell_type": "code",
   "execution_count": 2,
   "id": "95dbbcd6",
   "metadata": {
    "ExecuteTime": {
     "end_time": "2023-05-19T02:17:10.660473Z",
     "start_time": "2023-05-19T02:17:04.456269Z"
    }
   },
   "outputs": [
    {
     "data": {
      "text/html": [
       "<div>\n",
       "<style scoped>\n",
       "    .dataframe tbody tr th:only-of-type {\n",
       "        vertical-align: middle;\n",
       "    }\n",
       "\n",
       "    .dataframe tbody tr th {\n",
       "        vertical-align: top;\n",
       "    }\n",
       "\n",
       "    .dataframe thead th {\n",
       "        text-align: right;\n",
       "    }\n",
       "</style>\n",
       "<table border=\"1\" class=\"dataframe\">\n",
       "  <thead>\n",
       "    <tr style=\"text-align: right;\">\n",
       "      <th></th>\n",
       "      <th>word</th>\n",
       "      <th>emotion</th>\n",
       "      <th>value</th>\n",
       "    </tr>\n",
       "  </thead>\n",
       "  <tbody>\n",
       "    <tr>\n",
       "      <th>0</th>\n",
       "      <td>aback</td>\n",
       "      <td>anger</td>\n",
       "      <td>0</td>\n",
       "    </tr>\n",
       "    <tr>\n",
       "      <th>1</th>\n",
       "      <td>aback</td>\n",
       "      <td>anticipation</td>\n",
       "      <td>0</td>\n",
       "    </tr>\n",
       "    <tr>\n",
       "      <th>2</th>\n",
       "      <td>aback</td>\n",
       "      <td>disgust</td>\n",
       "      <td>0</td>\n",
       "    </tr>\n",
       "    <tr>\n",
       "      <th>3</th>\n",
       "      <td>aback</td>\n",
       "      <td>fear</td>\n",
       "      <td>0</td>\n",
       "    </tr>\n",
       "    <tr>\n",
       "      <th>4</th>\n",
       "      <td>aback</td>\n",
       "      <td>joy</td>\n",
       "      <td>0</td>\n",
       "    </tr>\n",
       "  </tbody>\n",
       "</table>\n",
       "</div>"
      ],
      "text/plain": [
       "    word       emotion  value\n",
       "0  aback         anger      0\n",
       "1  aback  anticipation      0\n",
       "2  aback       disgust      0\n",
       "3  aback          fear      0\n",
       "4  aback           joy      0"
      ]
     },
     "execution_count": 2,
     "metadata": {},
     "output_type": "execute_result"
    }
   ],
   "source": [
    "lexicon_df = pd.read_excel(\"H:/课程/毕业论文/NRC-Emotion-Lexicon/NRC-Emotion-Lexicon.xlsx\")\n",
    "lexicon_df.head()"
   ]
  },
  {
   "cell_type": "code",
   "execution_count": 3,
   "id": "0ca1577a",
   "metadata": {
    "ExecuteTime": {
     "end_time": "2023-05-19T02:17:12.850464Z",
     "start_time": "2023-05-19T02:17:12.830445Z"
    }
   },
   "outputs": [
    {
     "data": {
      "text/html": [
       "<div>\n",
       "<style scoped>\n",
       "    .dataframe tbody tr th:only-of-type {\n",
       "        vertical-align: middle;\n",
       "    }\n",
       "\n",
       "    .dataframe tbody tr th {\n",
       "        vertical-align: top;\n",
       "    }\n",
       "\n",
       "    .dataframe thead th {\n",
       "        text-align: right;\n",
       "    }\n",
       "</style>\n",
       "<table border=\"1\" class=\"dataframe\">\n",
       "  <thead>\n",
       "    <tr style=\"text-align: right;\">\n",
       "      <th></th>\n",
       "      <th>word</th>\n",
       "      <th>emotion</th>\n",
       "      <th>value</th>\n",
       "    </tr>\n",
       "  </thead>\n",
       "  <tbody>\n",
       "    <tr>\n",
       "      <th>0</th>\n",
       "      <td>aback</td>\n",
       "      <td>anger</td>\n",
       "      <td>0</td>\n",
       "    </tr>\n",
       "    <tr>\n",
       "      <th>1</th>\n",
       "      <td>aback</td>\n",
       "      <td>anticipation</td>\n",
       "      <td>0</td>\n",
       "    </tr>\n",
       "    <tr>\n",
       "      <th>2</th>\n",
       "      <td>aback</td>\n",
       "      <td>disgust</td>\n",
       "      <td>0</td>\n",
       "    </tr>\n",
       "    <tr>\n",
       "      <th>3</th>\n",
       "      <td>aback</td>\n",
       "      <td>fear</td>\n",
       "      <td>0</td>\n",
       "    </tr>\n",
       "    <tr>\n",
       "      <th>4</th>\n",
       "      <td>aback</td>\n",
       "      <td>joy</td>\n",
       "      <td>0</td>\n",
       "    </tr>\n",
       "    <tr>\n",
       "      <th>5</th>\n",
       "      <td>aback</td>\n",
       "      <td>negative</td>\n",
       "      <td>0</td>\n",
       "    </tr>\n",
       "    <tr>\n",
       "      <th>6</th>\n",
       "      <td>aback</td>\n",
       "      <td>positive</td>\n",
       "      <td>0</td>\n",
       "    </tr>\n",
       "    <tr>\n",
       "      <th>7</th>\n",
       "      <td>aback</td>\n",
       "      <td>sadness</td>\n",
       "      <td>0</td>\n",
       "    </tr>\n",
       "    <tr>\n",
       "      <th>8</th>\n",
       "      <td>aback</td>\n",
       "      <td>surprise</td>\n",
       "      <td>0</td>\n",
       "    </tr>\n",
       "    <tr>\n",
       "      <th>9</th>\n",
       "      <td>aback</td>\n",
       "      <td>trust</td>\n",
       "      <td>0</td>\n",
       "    </tr>\n",
       "  </tbody>\n",
       "</table>\n",
       "</div>"
      ],
      "text/plain": [
       "    word       emotion  value\n",
       "0  aback         anger      0\n",
       "1  aback  anticipation      0\n",
       "2  aback       disgust      0\n",
       "3  aback          fear      0\n",
       "4  aback           joy      0\n",
       "5  aback      negative      0\n",
       "6  aback      positive      0\n",
       "7  aback       sadness      0\n",
       "8  aback      surprise      0\n",
       "9  aback         trust      0"
      ]
     },
     "execution_count": 3,
     "metadata": {},
     "output_type": "execute_result"
    }
   ],
   "source": [
    "lexicon_df[:10]"
   ]
  },
  {
   "cell_type": "code",
   "execution_count": 4,
   "id": "4e61669e",
   "metadata": {
    "ExecuteTime": {
     "end_time": "2023-05-19T02:17:16.254745Z",
     "start_time": "2023-05-19T02:17:16.231358Z"
    }
   },
   "outputs": [
    {
     "data": {
      "text/plain": [
       "['anger',\n",
       " 'anticipation',\n",
       " 'disgust',\n",
       " 'fear',\n",
       " 'joy',\n",
       " 'negative',\n",
       " 'positive',\n",
       " 'sadness',\n",
       " 'surprise',\n",
       " 'trust']"
      ]
     },
     "execution_count": 4,
     "metadata": {},
     "output_type": "execute_result"
    }
   ],
   "source": [
    "lexicon_df.emotion.unique().tolist()"
   ]
  },
  {
   "cell_type": "code",
   "execution_count": 5,
   "id": "336b5fe5",
   "metadata": {
    "ExecuteTime": {
     "end_time": "2023-05-19T02:17:19.001232Z",
     "start_time": "2023-05-19T02:17:18.951693Z"
    }
   },
   "outputs": [
    {
     "name": "stderr",
     "output_type": "stream",
     "text": [
      "C:\\Windows\\Temp\\ipykernel_6256\\3382447542.py:1: UserWarning: Boolean Series key will be reindexed to match DataFrame index.\n",
      "  lexicon_df[lexicon_df.emotion=='anger'][lexicon_df.value==1][['word','value']].reset_index(drop=True)\n"
     ]
    },
    {
     "data": {
      "text/html": [
       "<div>\n",
       "<style scoped>\n",
       "    .dataframe tbody tr th:only-of-type {\n",
       "        vertical-align: middle;\n",
       "    }\n",
       "\n",
       "    .dataframe tbody tr th {\n",
       "        vertical-align: top;\n",
       "    }\n",
       "\n",
       "    .dataframe thead th {\n",
       "        text-align: right;\n",
       "    }\n",
       "</style>\n",
       "<table border=\"1\" class=\"dataframe\">\n",
       "  <thead>\n",
       "    <tr style=\"text-align: right;\">\n",
       "      <th></th>\n",
       "      <th>word</th>\n",
       "      <th>value</th>\n",
       "    </tr>\n",
       "  </thead>\n",
       "  <tbody>\n",
       "    <tr>\n",
       "      <th>0</th>\n",
       "      <td>abandoned</td>\n",
       "      <td>1</td>\n",
       "    </tr>\n",
       "    <tr>\n",
       "      <th>1</th>\n",
       "      <td>abandonment</td>\n",
       "      <td>1</td>\n",
       "    </tr>\n",
       "    <tr>\n",
       "      <th>2</th>\n",
       "      <td>abhor</td>\n",
       "      <td>1</td>\n",
       "    </tr>\n",
       "    <tr>\n",
       "      <th>3</th>\n",
       "      <td>abhorrent</td>\n",
       "      <td>1</td>\n",
       "    </tr>\n",
       "    <tr>\n",
       "      <th>4</th>\n",
       "      <td>abolish</td>\n",
       "      <td>1</td>\n",
       "    </tr>\n",
       "    <tr>\n",
       "      <th>...</th>\n",
       "      <td>...</td>\n",
       "      <td>...</td>\n",
       "    </tr>\n",
       "    <tr>\n",
       "      <th>1240</th>\n",
       "      <td>wrongful</td>\n",
       "      <td>1</td>\n",
       "    </tr>\n",
       "    <tr>\n",
       "      <th>1241</th>\n",
       "      <td>wrongly</td>\n",
       "      <td>1</td>\n",
       "    </tr>\n",
       "    <tr>\n",
       "      <th>1242</th>\n",
       "      <td>yell</td>\n",
       "      <td>1</td>\n",
       "    </tr>\n",
       "    <tr>\n",
       "      <th>1243</th>\n",
       "      <td>yelp</td>\n",
       "      <td>1</td>\n",
       "    </tr>\n",
       "    <tr>\n",
       "      <th>1244</th>\n",
       "      <td>youth</td>\n",
       "      <td>1</td>\n",
       "    </tr>\n",
       "  </tbody>\n",
       "</table>\n",
       "<p>1245 rows × 2 columns</p>\n",
       "</div>"
      ],
      "text/plain": [
       "             word  value\n",
       "0       abandoned      1\n",
       "1     abandonment      1\n",
       "2           abhor      1\n",
       "3       abhorrent      1\n",
       "4         abolish      1\n",
       "...           ...    ...\n",
       "1240     wrongful      1\n",
       "1241      wrongly      1\n",
       "1242         yell      1\n",
       "1243         yelp      1\n",
       "1244        youth      1\n",
       "\n",
       "[1245 rows x 2 columns]"
      ]
     },
     "execution_count": 5,
     "metadata": {},
     "output_type": "execute_result"
    }
   ],
   "source": [
    "lexicon_df[lexicon_df.emotion=='anger'][lexicon_df.value==1][['word','value']].reset_index(drop=True)"
   ]
  },
  {
   "cell_type": "code",
   "execution_count": 8,
   "id": "b8de98e3",
   "metadata": {
    "ExecuteTime": {
     "end_time": "2023-05-19T02:18:42.895268Z",
     "start_time": "2023-05-19T02:18:42.878056Z"
    }
   },
   "outputs": [],
   "source": [
    "# 构建情感词列表\n",
    "Positive, Negative, Anger, Anticipation, Disgust, Fear, Joy, Sadness, Surprise, Trust= [[] for i in range(10)]"
   ]
  },
  {
   "cell_type": "code",
   "execution_count": 9,
   "id": "210f465c",
   "metadata": {
    "ExecuteTime": {
     "end_time": "2023-05-19T02:18:43.862034Z",
     "start_time": "2023-05-19T02:18:43.750053Z"
    }
   },
   "outputs": [
    {
     "name": "stderr",
     "output_type": "stream",
     "text": [
      "C:\\Windows\\Temp\\ipykernel_6256\\135569679.py:1: UserWarning: Boolean Series key will be reindexed to match DataFrame index.\n",
      "  Positive=lexicon_df[lexicon_df.emotion=='positive'][lexicon_df.value==1][['word','value']].reset_index(drop=True)\n",
      "C:\\Windows\\Temp\\ipykernel_6256\\135569679.py:2: UserWarning: Boolean Series key will be reindexed to match DataFrame index.\n",
      "  Negative=lexicon_df[lexicon_df.emotion=='negative'][lexicon_df.value==1][['word','value']].reset_index(drop=True)\n",
      "C:\\Windows\\Temp\\ipykernel_6256\\135569679.py:3: UserWarning: Boolean Series key will be reindexed to match DataFrame index.\n",
      "  Anger=lexicon_df[lexicon_df.emotion=='anger'][lexicon_df.value==1][['word','value']].reset_index(drop=True)\n",
      "C:\\Windows\\Temp\\ipykernel_6256\\135569679.py:4: UserWarning: Boolean Series key will be reindexed to match DataFrame index.\n",
      "  Anticipation=lexicon_df[lexicon_df.emotion=='anticipation'][lexicon_df.value==1][['word','value']].reset_index(drop=True)\n",
      "C:\\Windows\\Temp\\ipykernel_6256\\135569679.py:5: UserWarning: Boolean Series key will be reindexed to match DataFrame index.\n",
      "  Disgust=lexicon_df[lexicon_df.emotion=='disgust'][lexicon_df.value==1][['word','value']].reset_index(drop=True)\n",
      "C:\\Windows\\Temp\\ipykernel_6256\\135569679.py:6: UserWarning: Boolean Series key will be reindexed to match DataFrame index.\n",
      "  Fear=lexicon_df[lexicon_df.emotion=='fear'][lexicon_df.value==1][['word','value']].reset_index(drop=True)\n",
      "C:\\Windows\\Temp\\ipykernel_6256\\135569679.py:7: UserWarning: Boolean Series key will be reindexed to match DataFrame index.\n",
      "  Joy=lexicon_df[lexicon_df.emotion=='joy'][lexicon_df.value==1][['word','value']].reset_index(drop=True)\n",
      "C:\\Windows\\Temp\\ipykernel_6256\\135569679.py:8: UserWarning: Boolean Series key will be reindexed to match DataFrame index.\n",
      "  Sadness=lexicon_df[lexicon_df.emotion=='sadness'][lexicon_df.value==1][['word','value']].reset_index(drop=True)\n",
      "C:\\Windows\\Temp\\ipykernel_6256\\135569679.py:9: UserWarning: Boolean Series key will be reindexed to match DataFrame index.\n",
      "  Surprise=lexicon_df[lexicon_df.emotion=='surprise'][lexicon_df.value==1][['word','value']].reset_index(drop=True)\n",
      "C:\\Windows\\Temp\\ipykernel_6256\\135569679.py:10: UserWarning: Boolean Series key will be reindexed to match DataFrame index.\n",
      "  Trust=lexicon_df[lexicon_df.emotion=='trust'][lexicon_df.value==1][['word','value']].reset_index(drop=True)\n"
     ]
    }
   ],
   "source": [
    "Positive=lexicon_df[lexicon_df.emotion=='positive'][lexicon_df.value==1][['word','value']].reset_index(drop=True)\n",
    "Negative=lexicon_df[lexicon_df.emotion=='negative'][lexicon_df.value==1][['word','value']].reset_index(drop=True)\n",
    "Anger=lexicon_df[lexicon_df.emotion=='anger'][lexicon_df.value==1][['word','value']].reset_index(drop=True)\n",
    "Anticipation=lexicon_df[lexicon_df.emotion=='anticipation'][lexicon_df.value==1][['word','value']].reset_index(drop=True)\n",
    "Disgust=lexicon_df[lexicon_df.emotion=='disgust'][lexicon_df.value==1][['word','value']].reset_index(drop=True)\n",
    "Fear=lexicon_df[lexicon_df.emotion=='fear'][lexicon_df.value==1][['word','value']].reset_index(drop=True)\n",
    "Joy=lexicon_df[lexicon_df.emotion=='joy'][lexicon_df.value==1][['word','value']].reset_index(drop=True)\n",
    "Sadness=lexicon_df[lexicon_df.emotion=='sadness'][lexicon_df.value==1][['word','value']].reset_index(drop=True)\n",
    "Surprise=lexicon_df[lexicon_df.emotion=='surprise'][lexicon_df.value==1][['word','value']].reset_index(drop=True)\n",
    "Trust=lexicon_df[lexicon_df.emotion=='trust'][lexicon_df.value==1][['word','value']].reset_index(drop=True)"
   ]
  },
  {
   "cell_type": "code",
   "execution_count": 10,
   "id": "d2d0eb01",
   "metadata": {
    "ExecuteTime": {
     "end_time": "2023-05-19T02:18:53.193288Z",
     "start_time": "2023-05-19T02:18:53.183721Z"
    }
   },
   "outputs": [
    {
     "data": {
      "text/html": [
       "<div>\n",
       "<style scoped>\n",
       "    .dataframe tbody tr th:only-of-type {\n",
       "        vertical-align: middle;\n",
       "    }\n",
       "\n",
       "    .dataframe tbody tr th {\n",
       "        vertical-align: top;\n",
       "    }\n",
       "\n",
       "    .dataframe thead th {\n",
       "        text-align: right;\n",
       "    }\n",
       "</style>\n",
       "<table border=\"1\" class=\"dataframe\">\n",
       "  <thead>\n",
       "    <tr style=\"text-align: right;\">\n",
       "      <th></th>\n",
       "      <th>word</th>\n",
       "      <th>value</th>\n",
       "    </tr>\n",
       "  </thead>\n",
       "  <tbody>\n",
       "    <tr>\n",
       "      <th>0</th>\n",
       "      <td>abandoned</td>\n",
       "      <td>1</td>\n",
       "    </tr>\n",
       "    <tr>\n",
       "      <th>1</th>\n",
       "      <td>abandonment</td>\n",
       "      <td>1</td>\n",
       "    </tr>\n",
       "    <tr>\n",
       "      <th>2</th>\n",
       "      <td>abhor</td>\n",
       "      <td>1</td>\n",
       "    </tr>\n",
       "    <tr>\n",
       "      <th>3</th>\n",
       "      <td>abhorrent</td>\n",
       "      <td>1</td>\n",
       "    </tr>\n",
       "    <tr>\n",
       "      <th>4</th>\n",
       "      <td>abolish</td>\n",
       "      <td>1</td>\n",
       "    </tr>\n",
       "  </tbody>\n",
       "</table>\n",
       "</div>"
      ],
      "text/plain": [
       "          word  value\n",
       "0    abandoned      1\n",
       "1  abandonment      1\n",
       "2        abhor      1\n",
       "3    abhorrent      1\n",
       "4      abolish      1"
      ]
     },
     "execution_count": 10,
     "metadata": {},
     "output_type": "execute_result"
    }
   ],
   "source": [
    "Anger.head()"
   ]
  },
  {
   "cell_type": "code",
   "execution_count": 11,
   "id": "4eb04686",
   "metadata": {
    "ExecuteTime": {
     "end_time": "2023-05-19T02:27:35.524386Z",
     "start_time": "2023-05-19T02:27:35.502472Z"
    }
   },
   "outputs": [
    {
     "data": {
      "text/html": [
       "<div>\n",
       "<style scoped>\n",
       "    .dataframe tbody tr th:only-of-type {\n",
       "        vertical-align: middle;\n",
       "    }\n",
       "\n",
       "    .dataframe tbody tr th {\n",
       "        vertical-align: top;\n",
       "    }\n",
       "\n",
       "    .dataframe thead th {\n",
       "        text-align: right;\n",
       "    }\n",
       "</style>\n",
       "<table border=\"1\" class=\"dataframe\">\n",
       "  <thead>\n",
       "    <tr style=\"text-align: right;\">\n",
       "      <th></th>\n",
       "      <th>word</th>\n",
       "      <th>value</th>\n",
       "    </tr>\n",
       "  </thead>\n",
       "  <tbody>\n",
       "    <tr>\n",
       "      <th>0</th>\n",
       "      <td>abacus</td>\n",
       "      <td>1</td>\n",
       "    </tr>\n",
       "    <tr>\n",
       "      <th>1</th>\n",
       "      <td>abbot</td>\n",
       "      <td>1</td>\n",
       "    </tr>\n",
       "    <tr>\n",
       "      <th>2</th>\n",
       "      <td>absolution</td>\n",
       "      <td>1</td>\n",
       "    </tr>\n",
       "    <tr>\n",
       "      <th>3</th>\n",
       "      <td>abundance</td>\n",
       "      <td>1</td>\n",
       "    </tr>\n",
       "    <tr>\n",
       "      <th>4</th>\n",
       "      <td>academic</td>\n",
       "      <td>1</td>\n",
       "    </tr>\n",
       "  </tbody>\n",
       "</table>\n",
       "</div>"
      ],
      "text/plain": [
       "         word  value\n",
       "0      abacus      1\n",
       "1       abbot      1\n",
       "2  absolution      1\n",
       "3   abundance      1\n",
       "4    academic      1"
      ]
     },
     "execution_count": 11,
     "metadata": {},
     "output_type": "execute_result"
    }
   ],
   "source": [
    "Trust.head()"
   ]
  },
  {
   "cell_type": "code",
   "execution_count": 12,
   "id": "7ce3da40",
   "metadata": {
    "ExecuteTime": {
     "end_time": "2023-05-19T02:28:03.980284Z",
     "start_time": "2023-05-19T02:27:37.765798Z"
    }
   },
   "outputs": [],
   "source": [
    "data = pd.read_csv(\"H:/课程/毕业论文/active_User_per_30_days_processed.csv\")"
   ]
  },
  {
   "cell_type": "code",
   "execution_count": 13,
   "id": "79476abb",
   "metadata": {
    "ExecuteTime": {
     "end_time": "2023-05-19T02:29:31.257260Z",
     "start_time": "2023-05-19T02:29:31.220302Z"
    }
   },
   "outputs": [
    {
     "data": {
      "text/html": [
       "<div>\n",
       "<style scoped>\n",
       "    .dataframe tbody tr th:only-of-type {\n",
       "        vertical-align: middle;\n",
       "    }\n",
       "\n",
       "    .dataframe tbody tr th {\n",
       "        vertical-align: top;\n",
       "    }\n",
       "\n",
       "    .dataframe thead th {\n",
       "        text-align: right;\n",
       "    }\n",
       "</style>\n",
       "<table border=\"1\" class=\"dataframe\">\n",
       "  <thead>\n",
       "    <tr style=\"text-align: right;\">\n",
       "      <th></th>\n",
       "      <th>Unnamed: 0</th>\n",
       "      <th>Datetime</th>\n",
       "      <th>Tweet_id</th>\n",
       "      <th>Tweet_content</th>\n",
       "      <th>Tweet_reply_count</th>\n",
       "      <th>Tweet_retweet_count</th>\n",
       "      <th>Tweet_like_count</th>\n",
       "      <th>Tweet_quote_count</th>\n",
       "      <th>Tweet_hashtags</th>\n",
       "      <th>Username</th>\n",
       "      <th>...</th>\n",
       "      <th>care_cat</th>\n",
       "      <th>fairness_cat</th>\n",
       "      <th>purity_cat</th>\n",
       "      <th>loyalty_cat</th>\n",
       "      <th>30day_cut</th>\n",
       "      <th>Tweet_content_clean</th>\n",
       "      <th>url_num</th>\n",
       "      <th>at_num</th>\n",
       "      <th>emoji_num</th>\n",
       "      <th>User_infuluence_score</th>\n",
       "    </tr>\n",
       "  </thead>\n",
       "  <tbody>\n",
       "    <tr>\n",
       "      <th>0</th>\n",
       "      <td>0</td>\n",
       "      <td>2022-02-22</td>\n",
       "      <td>1496098801152512002</td>\n",
       "      <td>putins war   ukraine russia crisis  ukraina  ...</td>\n",
       "      <td>0</td>\n",
       "      <td>0</td>\n",
       "      <td>1</td>\n",
       "      <td>0</td>\n",
       "      <td>['PutinsWar', 'UkraineRussiaCrisis', 'Ukraina'...</td>\n",
       "      <td>anyidea</td>\n",
       "      <td>...</td>\n",
       "      <td>Harm</td>\n",
       "      <td>Non</td>\n",
       "      <td>Non</td>\n",
       "      <td>Non</td>\n",
       "      <td>0</td>\n",
       "      <td>['putin', 'war', 'ukrain', 'russia', 'crisi', ...</td>\n",
       "      <td>1</td>\n",
       "      <td>0</td>\n",
       "      <td>0</td>\n",
       "      <td>1.155039</td>\n",
       "    </tr>\n",
       "    <tr>\n",
       "      <th>1</th>\n",
       "      <td>1</td>\n",
       "      <td>2022-02-22</td>\n",
       "      <td>1496099780912881665</td>\n",
       "      <td>Proud moment for  indiaTwo young shining stars...</td>\n",
       "      <td>0</td>\n",
       "      <td>0</td>\n",
       "      <td>1</td>\n",
       "      <td>0</td>\n",
       "      <td>['India', 'Kashmir', 'India', 'Dubai', 'COVID1...</td>\n",
       "      <td>AhmedFidous</td>\n",
       "      <td>...</td>\n",
       "      <td>Care</td>\n",
       "      <td>Non</td>\n",
       "      <td>Non</td>\n",
       "      <td>Non</td>\n",
       "      <td>0</td>\n",
       "      <td>['proud', 'moment', 'indiatwo', 'young', 'shin...</td>\n",
       "      <td>1</td>\n",
       "      <td>0</td>\n",
       "      <td>0</td>\n",
       "      <td>0.273474</td>\n",
       "    </tr>\n",
       "    <tr>\n",
       "      <th>2</th>\n",
       "      <td>2</td>\n",
       "      <td>2022-02-22</td>\n",
       "      <td>1496103001903501319</td>\n",
       "      <td>Russia vs Ukraine War Update: Germany halts No...</td>\n",
       "      <td>1</td>\n",
       "      <td>0</td>\n",
       "      <td>1</td>\n",
       "      <td>0</td>\n",
       "      <td>['Ukraine', 'UkraineRussiaCrisis', 'UkraineCon...</td>\n",
       "      <td>prime_scoop</td>\n",
       "      <td>...</td>\n",
       "      <td>Harm</td>\n",
       "      <td>Non</td>\n",
       "      <td>Non</td>\n",
       "      <td>Non</td>\n",
       "      <td>0</td>\n",
       "      <td>['russia', 'vs', 'ukrain', 'war', 'updat', '',...</td>\n",
       "      <td>1</td>\n",
       "      <td>0</td>\n",
       "      <td>0</td>\n",
       "      <td>7.575000</td>\n",
       "    </tr>\n",
       "    <tr>\n",
       "      <th>3</th>\n",
       "      <td>3</td>\n",
       "      <td>2022-02-22</td>\n",
       "      <td>1496107122718695424</td>\n",
       "      <td>putins war :Interesting details on other terr...</td>\n",
       "      <td>0</td>\n",
       "      <td>0</td>\n",
       "      <td>1</td>\n",
       "      <td>0</td>\n",
       "      <td>['PutinsWar', 'SatansSpeech', 'PutinSpeech', '...</td>\n",
       "      <td>anyidea</td>\n",
       "      <td>...</td>\n",
       "      <td>Harm</td>\n",
       "      <td>Non</td>\n",
       "      <td>Non</td>\n",
       "      <td>Non</td>\n",
       "      <td>0</td>\n",
       "      <td>['putin', 'war', '', 'interest', 'detail', 'te...</td>\n",
       "      <td>1</td>\n",
       "      <td>0</td>\n",
       "      <td>0</td>\n",
       "      <td>1.155039</td>\n",
       "    </tr>\n",
       "    <tr>\n",
       "      <th>4</th>\n",
       "      <td>4</td>\n",
       "      <td>2022-02-22</td>\n",
       "      <td>1496107229929476105</td>\n",
       "      <td>criminals in  russia,  iran, syria!are the w...</td>\n",
       "      <td>0</td>\n",
       "      <td>0</td>\n",
       "      <td>3</td>\n",
       "      <td>0</td>\n",
       "      <td>['criminals', 'Russia', 'Iran', 'Syria', 'Cowa...</td>\n",
       "      <td>Basel_Saneeb</td>\n",
       "      <td>...</td>\n",
       "      <td>Non</td>\n",
       "      <td>Non</td>\n",
       "      <td>Degradation</td>\n",
       "      <td>Mixed</td>\n",
       "      <td>0</td>\n",
       "      <td>['crimin', 'russia', '', 'iran', '', 'syria', ...</td>\n",
       "      <td>1</td>\n",
       "      <td>0</td>\n",
       "      <td>4</td>\n",
       "      <td>2.186667</td>\n",
       "    </tr>\n",
       "  </tbody>\n",
       "</table>\n",
       "<p>5 rows × 34 columns</p>\n",
       "</div>"
      ],
      "text/plain": [
       "   Unnamed: 0    Datetime             Tweet_id  \\\n",
       "0           0  2022-02-22  1496098801152512002   \n",
       "1           1  2022-02-22  1496099780912881665   \n",
       "2           2  2022-02-22  1496103001903501319   \n",
       "3           3  2022-02-22  1496107122718695424   \n",
       "4           4  2022-02-22  1496107229929476105   \n",
       "\n",
       "                                       Tweet_content  Tweet_reply_count  \\\n",
       "0   putins war   ukraine russia crisis  ukraina  ...                  0   \n",
       "1  Proud moment for  indiaTwo young shining stars...                  0   \n",
       "2  Russia vs Ukraine War Update: Germany halts No...                  1   \n",
       "3   putins war :Interesting details on other terr...                  0   \n",
       "4    criminals in  russia,  iran, syria!are the w...                  0   \n",
       "\n",
       "   Tweet_retweet_count  Tweet_like_count  Tweet_quote_count  \\\n",
       "0                    0                 1                  0   \n",
       "1                    0                 1                  0   \n",
       "2                    0                 1                  0   \n",
       "3                    0                 1                  0   \n",
       "4                    0                 3                  0   \n",
       "\n",
       "                                      Tweet_hashtags      Username  ...  \\\n",
       "0  ['PutinsWar', 'UkraineRussiaCrisis', 'Ukraina'...       anyidea  ...   \n",
       "1  ['India', 'Kashmir', 'India', 'Dubai', 'COVID1...   AhmedFidous  ...   \n",
       "2  ['Ukraine', 'UkraineRussiaCrisis', 'UkraineCon...   prime_scoop  ...   \n",
       "3  ['PutinsWar', 'SatansSpeech', 'PutinSpeech', '...       anyidea  ...   \n",
       "4  ['criminals', 'Russia', 'Iran', 'Syria', 'Cowa...  Basel_Saneeb  ...   \n",
       "\n",
       "   care_cat  fairness_cat   purity_cat  loyalty_cat  30day_cut  \\\n",
       "0      Harm           Non          Non          Non          0   \n",
       "1      Care           Non          Non          Non          0   \n",
       "2      Harm           Non          Non          Non          0   \n",
       "3      Harm           Non          Non          Non          0   \n",
       "4       Non           Non  Degradation        Mixed          0   \n",
       "\n",
       "                                 Tweet_content_clean  url_num  at_num  \\\n",
       "0  ['putin', 'war', 'ukrain', 'russia', 'crisi', ...        1       0   \n",
       "1  ['proud', 'moment', 'indiatwo', 'young', 'shin...        1       0   \n",
       "2  ['russia', 'vs', 'ukrain', 'war', 'updat', '',...        1       0   \n",
       "3  ['putin', 'war', '', 'interest', 'detail', 'te...        1       0   \n",
       "4  ['crimin', 'russia', '', 'iran', '', 'syria', ...        1       0   \n",
       "\n",
       "   emoji_num  User_infuluence_score  \n",
       "0          0               1.155039  \n",
       "1          0               0.273474  \n",
       "2          0               7.575000  \n",
       "3          0               1.155039  \n",
       "4          4               2.186667  \n",
       "\n",
       "[5 rows x 34 columns]"
      ]
     },
     "execution_count": 13,
     "metadata": {},
     "output_type": "execute_result"
    }
   ],
   "source": [
    "data.head()"
   ]
  },
  {
   "cell_type": "code",
   "execution_count": 14,
   "id": "10fb5a23",
   "metadata": {
    "ExecuteTime": {
     "end_time": "2023-05-19T02:29:38.357402Z",
     "start_time": "2023-05-19T02:29:38.339661Z"
    }
   },
   "outputs": [],
   "source": [
    "test_content = data.loc[0].Tweet_content_clean"
   ]
  },
  {
   "cell_type": "code",
   "execution_count": 15,
   "id": "e17c9977",
   "metadata": {
    "ExecuteTime": {
     "end_time": "2023-05-19T02:29:44.783366Z",
     "start_time": "2023-05-19T02:29:44.763875Z"
    }
   },
   "outputs": [
    {
     "data": {
      "text/plain": [
       "\"['putin', 'war', 'ukrain', 'russia', 'crisi', 'ukraina', 'ukrain', 'crisi', 'ukrain', 'volodymyr', 'zelenski', '', 'vladimir', 'putin', 'last', 'warn', '', '', 'url']\""
      ]
     },
     "execution_count": 15,
     "metadata": {},
     "output_type": "execute_result"
    }
   ],
   "source": [
    "test_content"
   ]
  },
  {
   "cell_type": "code",
   "execution_count": 16,
   "id": "03c7fa6a",
   "metadata": {
    "ExecuteTime": {
     "end_time": "2023-05-19T02:29:49.535331Z",
     "start_time": "2023-05-19T02:29:48.098663Z"
    }
   },
   "outputs": [],
   "source": [
    "import nltk\n",
    "from ast import literal_eval\n",
    "test_content = literal_eval(test_content)"
   ]
  },
  {
   "cell_type": "code",
   "execution_count": 17,
   "id": "b7e76147",
   "metadata": {
    "ExecuteTime": {
     "end_time": "2023-05-19T02:29:53.476819Z",
     "start_time": "2023-05-19T02:29:53.468833Z"
    }
   },
   "outputs": [
    {
     "data": {
      "text/plain": [
       "['putin',\n",
       " 'war',\n",
       " 'ukrain',\n",
       " 'russia',\n",
       " 'crisi',\n",
       " 'ukraina',\n",
       " 'ukrain',\n",
       " 'crisi',\n",
       " 'ukrain',\n",
       " 'volodymyr',\n",
       " 'zelenski',\n",
       " '',\n",
       " 'vladimir',\n",
       " 'putin',\n",
       " 'last',\n",
       " 'warn',\n",
       " '',\n",
       " '',\n",
       " 'url']"
      ]
     },
     "execution_count": 17,
     "metadata": {},
     "output_type": "execute_result"
    }
   ],
   "source": [
    "test_content"
   ]
  },
  {
   "cell_type": "markdown",
   "id": "6aa72f68",
   "metadata": {},
   "source": [
    "## 将感情词表转换为词干，并删除多余元素"
   ]
  },
  {
   "cell_type": "code",
   "execution_count": 18,
   "id": "85850f34",
   "metadata": {
    "ExecuteTime": {
     "end_time": "2023-05-19T02:30:00.691637Z",
     "start_time": "2023-05-19T02:30:00.683494Z"
    }
   },
   "outputs": [],
   "source": [
    "from nltk.stem.porter import PorterStemmer\n",
    "ps = PorterStemmer()"
   ]
  },
  {
   "cell_type": "code",
   "execution_count": 19,
   "id": "d0633290",
   "metadata": {
    "ExecuteTime": {
     "end_time": "2023-05-19T02:30:01.655951Z",
     "start_time": "2023-05-19T02:30:01.643229Z"
    }
   },
   "outputs": [
    {
     "data": {
      "text/html": [
       "<div>\n",
       "<style scoped>\n",
       "    .dataframe tbody tr th:only-of-type {\n",
       "        vertical-align: middle;\n",
       "    }\n",
       "\n",
       "    .dataframe tbody tr th {\n",
       "        vertical-align: top;\n",
       "    }\n",
       "\n",
       "    .dataframe thead th {\n",
       "        text-align: right;\n",
       "    }\n",
       "</style>\n",
       "<table border=\"1\" class=\"dataframe\">\n",
       "  <thead>\n",
       "    <tr style=\"text-align: right;\">\n",
       "      <th></th>\n",
       "      <th>word</th>\n",
       "      <th>value</th>\n",
       "    </tr>\n",
       "  </thead>\n",
       "  <tbody>\n",
       "    <tr>\n",
       "      <th>0</th>\n",
       "      <td>abba</td>\n",
       "      <td>1</td>\n",
       "    </tr>\n",
       "    <tr>\n",
       "      <th>1</th>\n",
       "      <td>ability</td>\n",
       "      <td>1</td>\n",
       "    </tr>\n",
       "    <tr>\n",
       "      <th>2</th>\n",
       "      <td>abovementioned</td>\n",
       "      <td>1</td>\n",
       "    </tr>\n",
       "    <tr>\n",
       "      <th>3</th>\n",
       "      <td>absolute</td>\n",
       "      <td>1</td>\n",
       "    </tr>\n",
       "    <tr>\n",
       "      <th>4</th>\n",
       "      <td>absolution</td>\n",
       "      <td>1</td>\n",
       "    </tr>\n",
       "  </tbody>\n",
       "</table>\n",
       "</div>"
      ],
      "text/plain": [
       "             word  value\n",
       "0            abba      1\n",
       "1         ability      1\n",
       "2  abovementioned      1\n",
       "3        absolute      1\n",
       "4      absolution      1"
      ]
     },
     "execution_count": 19,
     "metadata": {},
     "output_type": "execute_result"
    }
   ],
   "source": [
    "Positive.head()"
   ]
  },
  {
   "cell_type": "code",
   "execution_count": 20,
   "id": "f402cb4d",
   "metadata": {
    "ExecuteTime": {
     "end_time": "2023-05-19T02:30:02.722811Z",
     "start_time": "2023-05-19T02:30:02.715069Z"
    }
   },
   "outputs": [],
   "source": [
    "def word_stem(word):\n",
    "    return ps.stem(word)"
   ]
  },
  {
   "cell_type": "code",
   "execution_count": 21,
   "id": "39ebd9d6",
   "metadata": {
    "ExecuteTime": {
     "end_time": "2023-05-19T02:30:03.948944Z",
     "start_time": "2023-05-19T02:30:03.876432Z"
    }
   },
   "outputs": [],
   "source": [
    "Positive.word = Positive.word.apply(word_stem)"
   ]
  },
  {
   "cell_type": "code",
   "execution_count": 22,
   "id": "01364049",
   "metadata": {
    "ExecuteTime": {
     "end_time": "2023-05-19T02:30:04.944505Z",
     "start_time": "2023-05-19T02:30:04.924302Z"
    }
   },
   "outputs": [
    {
     "data": {
      "text/html": [
       "<div>\n",
       "<style scoped>\n",
       "    .dataframe tbody tr th:only-of-type {\n",
       "        vertical-align: middle;\n",
       "    }\n",
       "\n",
       "    .dataframe tbody tr th {\n",
       "        vertical-align: top;\n",
       "    }\n",
       "\n",
       "    .dataframe thead th {\n",
       "        text-align: right;\n",
       "    }\n",
       "</style>\n",
       "<table border=\"1\" class=\"dataframe\">\n",
       "  <thead>\n",
       "    <tr style=\"text-align: right;\">\n",
       "      <th></th>\n",
       "      <th>word</th>\n",
       "      <th>value</th>\n",
       "    </tr>\n",
       "  </thead>\n",
       "  <tbody>\n",
       "    <tr>\n",
       "      <th>0</th>\n",
       "      <td>abba</td>\n",
       "      <td>1</td>\n",
       "    </tr>\n",
       "    <tr>\n",
       "      <th>1</th>\n",
       "      <td>abil</td>\n",
       "      <td>1</td>\n",
       "    </tr>\n",
       "    <tr>\n",
       "      <th>2</th>\n",
       "      <td>abovement</td>\n",
       "      <td>1</td>\n",
       "    </tr>\n",
       "    <tr>\n",
       "      <th>3</th>\n",
       "      <td>absolut</td>\n",
       "      <td>1</td>\n",
       "    </tr>\n",
       "    <tr>\n",
       "      <th>4</th>\n",
       "      <td>absolut</td>\n",
       "      <td>1</td>\n",
       "    </tr>\n",
       "  </tbody>\n",
       "</table>\n",
       "</div>"
      ],
      "text/plain": [
       "        word  value\n",
       "0       abba      1\n",
       "1       abil      1\n",
       "2  abovement      1\n",
       "3    absolut      1\n",
       "4    absolut      1"
      ]
     },
     "execution_count": 22,
     "metadata": {},
     "output_type": "execute_result"
    }
   ],
   "source": [
    "Positive.head()"
   ]
  },
  {
   "cell_type": "code",
   "execution_count": 23,
   "id": "6f8cab20",
   "metadata": {
    "ExecuteTime": {
     "end_time": "2023-05-19T02:30:08.276050Z",
     "start_time": "2023-05-19T02:30:08.259463Z"
    }
   },
   "outputs": [],
   "source": [
    "Positive = Positive.drop_duplicates(subset='word', keep='last').reset_index(drop=True)"
   ]
  },
  {
   "cell_type": "code",
   "execution_count": 24,
   "id": "37c372d9",
   "metadata": {
    "ExecuteTime": {
     "end_time": "2023-05-19T02:30:09.549497Z",
     "start_time": "2023-05-19T02:30:09.531500Z"
    }
   },
   "outputs": [
    {
     "data": {
      "text/html": [
       "<div>\n",
       "<style scoped>\n",
       "    .dataframe tbody tr th:only-of-type {\n",
       "        vertical-align: middle;\n",
       "    }\n",
       "\n",
       "    .dataframe tbody tr th {\n",
       "        vertical-align: top;\n",
       "    }\n",
       "\n",
       "    .dataframe thead th {\n",
       "        text-align: right;\n",
       "    }\n",
       "</style>\n",
       "<table border=\"1\" class=\"dataframe\">\n",
       "  <thead>\n",
       "    <tr style=\"text-align: right;\">\n",
       "      <th></th>\n",
       "      <th>word</th>\n",
       "      <th>value</th>\n",
       "    </tr>\n",
       "  </thead>\n",
       "  <tbody>\n",
       "    <tr>\n",
       "      <th>0</th>\n",
       "      <td>abba</td>\n",
       "      <td>1</td>\n",
       "    </tr>\n",
       "    <tr>\n",
       "      <th>1</th>\n",
       "      <td>abil</td>\n",
       "      <td>1</td>\n",
       "    </tr>\n",
       "    <tr>\n",
       "      <th>2</th>\n",
       "      <td>abovement</td>\n",
       "      <td>1</td>\n",
       "    </tr>\n",
       "    <tr>\n",
       "      <th>3</th>\n",
       "      <td>absolut</td>\n",
       "      <td>1</td>\n",
       "    </tr>\n",
       "    <tr>\n",
       "      <th>4</th>\n",
       "      <td>absorb</td>\n",
       "      <td>1</td>\n",
       "    </tr>\n",
       "  </tbody>\n",
       "</table>\n",
       "</div>"
      ],
      "text/plain": [
       "        word  value\n",
       "0       abba      1\n",
       "1       abil      1\n",
       "2  abovement      1\n",
       "3    absolut      1\n",
       "4     absorb      1"
      ]
     },
     "execution_count": 24,
     "metadata": {},
     "output_type": "execute_result"
    }
   ],
   "source": [
    "Positive.head()"
   ]
  },
  {
   "cell_type": "code",
   "execution_count": 25,
   "id": "56e4c638",
   "metadata": {
    "ExecuteTime": {
     "end_time": "2023-05-19T02:30:11.263049Z",
     "start_time": "2023-05-19T02:30:11.004521Z"
    }
   },
   "outputs": [],
   "source": [
    "Negative.word = Negative.word.apply(word_stem)\n",
    "Anger.word = Anger.word.apply(word_stem)\n",
    "Anticipation.word = Anticipation.word.apply(word_stem)\n",
    "Disgust.word = Disgust.word.apply(word_stem)\n",
    "Fear.word = Fear.word.apply(word_stem)\n",
    "Joy.word = Joy.word.apply(word_stem)\n",
    "Sadness.word = Sadness.word.apply(word_stem)\n",
    "Surprise.word = Surprise.word.apply(word_stem)\n",
    "Trust.word = Trust.word.apply(word_stem)"
   ]
  },
  {
   "cell_type": "code",
   "execution_count": 26,
   "id": "32fee878",
   "metadata": {
    "ExecuteTime": {
     "end_time": "2023-05-19T02:30:12.645164Z",
     "start_time": "2023-05-19T02:30:12.611142Z"
    }
   },
   "outputs": [],
   "source": [
    "Negative=Negative.drop_duplicates(subset='word', keep='last').reset_index(drop=True)\n",
    "Anger= Anger.drop_duplicates(subset='word', keep='last').reset_index(drop=True)\n",
    "Anticipation= Anticipation.drop_duplicates(subset='word', keep='last').reset_index(drop=True)\n",
    "Disgust= Disgust.drop_duplicates(subset='word', keep='last').reset_index(drop=True)\n",
    "Fear= Fear.drop_duplicates(subset='word', keep='last').reset_index(drop=True)\n",
    "Joy= Joy.drop_duplicates(subset='word', keep='last').reset_index(drop=True)\n",
    "Sadness= Sadness.drop_duplicates(subset='word', keep='last').reset_index(drop=True)\n",
    "Surprise= Surprise.drop_duplicates(subset='word', keep='last').reset_index(drop=True)\n",
    "Trust= Trust.drop_duplicates(subset='word', keep='last').reset_index(drop=True)"
   ]
  },
  {
   "cell_type": "code",
   "execution_count": 27,
   "id": "fd8773aa",
   "metadata": {
    "ExecuteTime": {
     "end_time": "2023-05-19T02:30:14.105542Z",
     "start_time": "2023-05-19T02:30:14.082539Z"
    }
   },
   "outputs": [
    {
     "data": {
      "text/html": [
       "<div>\n",
       "<style scoped>\n",
       "    .dataframe tbody tr th:only-of-type {\n",
       "        vertical-align: middle;\n",
       "    }\n",
       "\n",
       "    .dataframe tbody tr th {\n",
       "        vertical-align: top;\n",
       "    }\n",
       "\n",
       "    .dataframe thead th {\n",
       "        text-align: right;\n",
       "    }\n",
       "</style>\n",
       "<table border=\"1\" class=\"dataframe\">\n",
       "  <thead>\n",
       "    <tr style=\"text-align: right;\">\n",
       "      <th></th>\n",
       "      <th>word</th>\n",
       "      <th>value</th>\n",
       "    </tr>\n",
       "  </thead>\n",
       "  <tbody>\n",
       "    <tr>\n",
       "      <th>0</th>\n",
       "      <td>abandon</td>\n",
       "      <td>1</td>\n",
       "    </tr>\n",
       "    <tr>\n",
       "      <th>1</th>\n",
       "      <td>abhor</td>\n",
       "      <td>1</td>\n",
       "    </tr>\n",
       "    <tr>\n",
       "      <th>2</th>\n",
       "      <td>abhorr</td>\n",
       "      <td>1</td>\n",
       "    </tr>\n",
       "    <tr>\n",
       "      <th>3</th>\n",
       "      <td>abolish</td>\n",
       "      <td>1</td>\n",
       "    </tr>\n",
       "    <tr>\n",
       "      <th>4</th>\n",
       "      <td>abomin</td>\n",
       "      <td>1</td>\n",
       "    </tr>\n",
       "  </tbody>\n",
       "</table>\n",
       "</div>"
      ],
      "text/plain": [
       "      word  value\n",
       "0  abandon      1\n",
       "1    abhor      1\n",
       "2   abhorr      1\n",
       "3  abolish      1\n",
       "4   abomin      1"
      ]
     },
     "execution_count": 27,
     "metadata": {},
     "output_type": "execute_result"
    }
   ],
   "source": [
    "Anger.head()"
   ]
  },
  {
   "cell_type": "code",
   "execution_count": 38,
   "id": "c18fd54c",
   "metadata": {
    "ExecuteTime": {
     "end_time": "2023-05-19T08:52:21.429585Z",
     "start_time": "2023-05-19T08:52:21.399700Z"
    }
   },
   "outputs": [],
   "source": [
    "def emotion_caculate(tweets):\n",
    "    positive, negative, anger, anticipation, disgust, fear, joy, sadness, surprise, trust = [0 for i in range(10)]\n",
    "    \n",
    "    wordlist = tweets\n",
    "    wordset = set(wordlist)\n",
    "    wordfreq = []\n",
    "    for word in wordset:\n",
    "        freq = wordlist.count(word)\n",
    "        if word in Positive:\n",
    "            positive+=freq\n",
    "        if word in Negative:\n",
    "            negative+=freq\n",
    "        if word in Anger:\n",
    "            anger+=freq  \n",
    "        if word in Anticipation:\n",
    "            anticipation+=freq\n",
    "        if word in Disgust:\n",
    "            disgust+=freq\n",
    "        if word in Fear:\n",
    "            fear+=freq\n",
    "        if word in Joy:\n",
    "            joy+=freq\n",
    "        if word in Sadness:\n",
    "            sadness+=freq\n",
    "        if word in Surprise:\n",
    "            surprise+=freq\n",
    "        if word in Trust:\n",
    "            trust+=freq\n",
    "            \n",
    "    emotion_info = {\n",
    "        'positive': positive,\n",
    "        'negative': negative,\n",
    "        'anger': anger,\n",
    "        'anticipation': anticipation,\n",
    "        'disgust': disgust,\n",
    "        'fear':fear,\n",
    "        'joy':joy,\n",
    "        'sadness':sadness,\n",
    "        'surprise':surprise,\n",
    "        'trust':trust,\n",
    "        'length':len(wordlist)\n",
    "    }\n",
    "    indexs = ['length', 'positive', 'negative', 'anger', 'anticipation','disgust','fear','joy','sadness','surprise','trust']\n",
    "    return emotion_info\n",
    "        "
   ]
  },
  {
   "cell_type": "code",
   "execution_count": 39,
   "id": "7c29b6fa",
   "metadata": {
    "ExecuteTime": {
     "end_time": "2023-05-19T08:52:23.439031Z",
     "start_time": "2023-05-19T08:52:23.426874Z"
    }
   },
   "outputs": [
    {
     "data": {
      "text/plain": [
       "{'positive': 0,\n",
       " 'negative': 0,\n",
       " 'anger': 0,\n",
       " 'anticipation': 0,\n",
       " 'disgust': 0,\n",
       " 'fear': 0,\n",
       " 'joy': 0,\n",
       " 'sadness': 0,\n",
       " 'surprise': 0,\n",
       " 'trust': 0,\n",
       " 'length': 19}"
      ]
     },
     "execution_count": 39,
     "metadata": {},
     "output_type": "execute_result"
    }
   ],
   "source": [
    "emotion_caculate(test_content)"
   ]
  },
  {
   "cell_type": "code",
   "execution_count": 30,
   "id": "cc532fe5",
   "metadata": {
    "ExecuteTime": {
     "end_time": "2023-05-19T02:33:03.199369Z",
     "start_time": "2023-05-19T02:30:47.165506Z"
    }
   },
   "outputs": [],
   "source": [
    "data.Tweet_content_clean = data.Tweet_content_clean.apply(literal_eval)"
   ]
  },
  {
   "cell_type": "code",
   "execution_count": 32,
   "id": "ea2d2f6e",
   "metadata": {
    "ExecuteTime": {
     "end_time": "2023-05-19T03:12:24.409388Z",
     "start_time": "2023-05-19T03:12:24.356458Z"
    }
   },
   "outputs": [
    {
     "data": {
      "text/html": [
       "<div>\n",
       "<style scoped>\n",
       "    .dataframe tbody tr th:only-of-type {\n",
       "        vertical-align: middle;\n",
       "    }\n",
       "\n",
       "    .dataframe tbody tr th {\n",
       "        vertical-align: top;\n",
       "    }\n",
       "\n",
       "    .dataframe thead th {\n",
       "        text-align: right;\n",
       "    }\n",
       "</style>\n",
       "<table border=\"1\" class=\"dataframe\">\n",
       "  <thead>\n",
       "    <tr style=\"text-align: right;\">\n",
       "      <th></th>\n",
       "      <th>Unnamed: 0</th>\n",
       "      <th>Datetime</th>\n",
       "      <th>Tweet_id</th>\n",
       "      <th>Tweet_content</th>\n",
       "      <th>Tweet_reply_count</th>\n",
       "      <th>Tweet_retweet_count</th>\n",
       "      <th>Tweet_like_count</th>\n",
       "      <th>Tweet_quote_count</th>\n",
       "      <th>Tweet_hashtags</th>\n",
       "      <th>Username</th>\n",
       "      <th>...</th>\n",
       "      <th>care_cat</th>\n",
       "      <th>fairness_cat</th>\n",
       "      <th>purity_cat</th>\n",
       "      <th>loyalty_cat</th>\n",
       "      <th>30day_cut</th>\n",
       "      <th>Tweet_content_clean</th>\n",
       "      <th>url_num</th>\n",
       "      <th>at_num</th>\n",
       "      <th>emoji_num</th>\n",
       "      <th>User_infuluence_score</th>\n",
       "    </tr>\n",
       "  </thead>\n",
       "  <tbody>\n",
       "    <tr>\n",
       "      <th>0</th>\n",
       "      <td>0</td>\n",
       "      <td>2022-02-22</td>\n",
       "      <td>1496098801152512002</td>\n",
       "      <td>putins war   ukraine russia crisis  ukraina  ...</td>\n",
       "      <td>0</td>\n",
       "      <td>0</td>\n",
       "      <td>1</td>\n",
       "      <td>0</td>\n",
       "      <td>['PutinsWar', 'UkraineRussiaCrisis', 'Ukraina'...</td>\n",
       "      <td>anyidea</td>\n",
       "      <td>...</td>\n",
       "      <td>Harm</td>\n",
       "      <td>Non</td>\n",
       "      <td>Non</td>\n",
       "      <td>Non</td>\n",
       "      <td>0</td>\n",
       "      <td>[putin, war, ukrain, russia, crisi, ukraina, u...</td>\n",
       "      <td>1</td>\n",
       "      <td>0</td>\n",
       "      <td>0</td>\n",
       "      <td>1.155039</td>\n",
       "    </tr>\n",
       "    <tr>\n",
       "      <th>1</th>\n",
       "      <td>1</td>\n",
       "      <td>2022-02-22</td>\n",
       "      <td>1496099780912881665</td>\n",
       "      <td>Proud moment for  indiaTwo young shining stars...</td>\n",
       "      <td>0</td>\n",
       "      <td>0</td>\n",
       "      <td>1</td>\n",
       "      <td>0</td>\n",
       "      <td>['India', 'Kashmir', 'India', 'Dubai', 'COVID1...</td>\n",
       "      <td>AhmedFidous</td>\n",
       "      <td>...</td>\n",
       "      <td>Care</td>\n",
       "      <td>Non</td>\n",
       "      <td>Non</td>\n",
       "      <td>Non</td>\n",
       "      <td>0</td>\n",
       "      <td>[proud, moment, indiatwo, young, shine, star, ...</td>\n",
       "      <td>1</td>\n",
       "      <td>0</td>\n",
       "      <td>0</td>\n",
       "      <td>0.273474</td>\n",
       "    </tr>\n",
       "    <tr>\n",
       "      <th>2</th>\n",
       "      <td>2</td>\n",
       "      <td>2022-02-22</td>\n",
       "      <td>1496103001903501319</td>\n",
       "      <td>Russia vs Ukraine War Update: Germany halts No...</td>\n",
       "      <td>1</td>\n",
       "      <td>0</td>\n",
       "      <td>1</td>\n",
       "      <td>0</td>\n",
       "      <td>['Ukraine', 'UkraineRussiaCrisis', 'UkraineCon...</td>\n",
       "      <td>prime_scoop</td>\n",
       "      <td>...</td>\n",
       "      <td>Harm</td>\n",
       "      <td>Non</td>\n",
       "      <td>Non</td>\n",
       "      <td>Non</td>\n",
       "      <td>0</td>\n",
       "      <td>[russia, vs, ukrain, war, updat, , germani, ha...</td>\n",
       "      <td>1</td>\n",
       "      <td>0</td>\n",
       "      <td>0</td>\n",
       "      <td>7.575000</td>\n",
       "    </tr>\n",
       "    <tr>\n",
       "      <th>3</th>\n",
       "      <td>3</td>\n",
       "      <td>2022-02-22</td>\n",
       "      <td>1496107122718695424</td>\n",
       "      <td>putins war :Interesting details on other terr...</td>\n",
       "      <td>0</td>\n",
       "      <td>0</td>\n",
       "      <td>1</td>\n",
       "      <td>0</td>\n",
       "      <td>['PutinsWar', 'SatansSpeech', 'PutinSpeech', '...</td>\n",
       "      <td>anyidea</td>\n",
       "      <td>...</td>\n",
       "      <td>Harm</td>\n",
       "      <td>Non</td>\n",
       "      <td>Non</td>\n",
       "      <td>Non</td>\n",
       "      <td>0</td>\n",
       "      <td>[putin, war, , interest, detail, territori, co...</td>\n",
       "      <td>1</td>\n",
       "      <td>0</td>\n",
       "      <td>0</td>\n",
       "      <td>1.155039</td>\n",
       "    </tr>\n",
       "    <tr>\n",
       "      <th>4</th>\n",
       "      <td>4</td>\n",
       "      <td>2022-02-22</td>\n",
       "      <td>1496107229929476105</td>\n",
       "      <td>criminals in  russia,  iran, syria!are the w...</td>\n",
       "      <td>0</td>\n",
       "      <td>0</td>\n",
       "      <td>3</td>\n",
       "      <td>0</td>\n",
       "      <td>['criminals', 'Russia', 'Iran', 'Syria', 'Cowa...</td>\n",
       "      <td>Basel_Saneeb</td>\n",
       "      <td>...</td>\n",
       "      <td>Non</td>\n",
       "      <td>Non</td>\n",
       "      <td>Degradation</td>\n",
       "      <td>Mixed</td>\n",
       "      <td>0</td>\n",
       "      <td>[crimin, russia, , iran, , syria, , world, s, ...</td>\n",
       "      <td>1</td>\n",
       "      <td>0</td>\n",
       "      <td>4</td>\n",
       "      <td>2.186667</td>\n",
       "    </tr>\n",
       "  </tbody>\n",
       "</table>\n",
       "<p>5 rows × 34 columns</p>\n",
       "</div>"
      ],
      "text/plain": [
       "   Unnamed: 0    Datetime             Tweet_id  \\\n",
       "0           0  2022-02-22  1496098801152512002   \n",
       "1           1  2022-02-22  1496099780912881665   \n",
       "2           2  2022-02-22  1496103001903501319   \n",
       "3           3  2022-02-22  1496107122718695424   \n",
       "4           4  2022-02-22  1496107229929476105   \n",
       "\n",
       "                                       Tweet_content  Tweet_reply_count  \\\n",
       "0   putins war   ukraine russia crisis  ukraina  ...                  0   \n",
       "1  Proud moment for  indiaTwo young shining stars...                  0   \n",
       "2  Russia vs Ukraine War Update: Germany halts No...                  1   \n",
       "3   putins war :Interesting details on other terr...                  0   \n",
       "4    criminals in  russia,  iran, syria!are the w...                  0   \n",
       "\n",
       "   Tweet_retweet_count  Tweet_like_count  Tweet_quote_count  \\\n",
       "0                    0                 1                  0   \n",
       "1                    0                 1                  0   \n",
       "2                    0                 1                  0   \n",
       "3                    0                 1                  0   \n",
       "4                    0                 3                  0   \n",
       "\n",
       "                                      Tweet_hashtags      Username  ...  \\\n",
       "0  ['PutinsWar', 'UkraineRussiaCrisis', 'Ukraina'...       anyidea  ...   \n",
       "1  ['India', 'Kashmir', 'India', 'Dubai', 'COVID1...   AhmedFidous  ...   \n",
       "2  ['Ukraine', 'UkraineRussiaCrisis', 'UkraineCon...   prime_scoop  ...   \n",
       "3  ['PutinsWar', 'SatansSpeech', 'PutinSpeech', '...       anyidea  ...   \n",
       "4  ['criminals', 'Russia', 'Iran', 'Syria', 'Cowa...  Basel_Saneeb  ...   \n",
       "\n",
       "   care_cat  fairness_cat   purity_cat  loyalty_cat  30day_cut  \\\n",
       "0      Harm           Non          Non          Non          0   \n",
       "1      Care           Non          Non          Non          0   \n",
       "2      Harm           Non          Non          Non          0   \n",
       "3      Harm           Non          Non          Non          0   \n",
       "4       Non           Non  Degradation        Mixed          0   \n",
       "\n",
       "                                 Tweet_content_clean  url_num  at_num  \\\n",
       "0  [putin, war, ukrain, russia, crisi, ukraina, u...        1       0   \n",
       "1  [proud, moment, indiatwo, young, shine, star, ...        1       0   \n",
       "2  [russia, vs, ukrain, war, updat, , germani, ha...        1       0   \n",
       "3  [putin, war, , interest, detail, territori, co...        1       0   \n",
       "4  [crimin, russia, , iran, , syria, , world, s, ...        1       0   \n",
       "\n",
       "   emoji_num  User_infuluence_score  \n",
       "0          0               1.155039  \n",
       "1          0               0.273474  \n",
       "2          0               7.575000  \n",
       "3          0               1.155039  \n",
       "4          4               2.186667  \n",
       "\n",
       "[5 rows x 34 columns]"
      ]
     },
     "execution_count": 32,
     "metadata": {},
     "output_type": "execute_result"
    }
   ],
   "source": [
    "data.head()"
   ]
  },
  {
   "cell_type": "code",
   "execution_count": 34,
   "id": "4126ec54",
   "metadata": {
    "ExecuteTime": {
     "end_time": "2023-05-19T08:50:10.934869Z",
     "start_time": "2023-05-19T08:50:10.922821Z"
    }
   },
   "outputs": [],
   "source": [
    "test_df = data[:10]"
   ]
  },
  {
   "cell_type": "code",
   "execution_count": 40,
   "id": "62838701",
   "metadata": {
    "ExecuteTime": {
     "end_time": "2023-05-19T08:52:33.587446Z",
     "start_time": "2023-05-19T08:52:33.575789Z"
    }
   },
   "outputs": [
    {
     "data": {
      "text/plain": [
       "{'positive': 0,\n",
       " 'negative': 0,\n",
       " 'anger': 0,\n",
       " 'anticipation': 0,\n",
       " 'disgust': 0,\n",
       " 'fear': 0,\n",
       " 'joy': 0,\n",
       " 'sadness': 0,\n",
       " 'surprise': 0,\n",
       " 'trust': 0,\n",
       " 'length': 19}"
      ]
     },
     "execution_count": 40,
     "metadata": {},
     "output_type": "execute_result"
    }
   ],
   "source": [
    "emotion_caculate(test_df.Tweet_content_clean[0])"
   ]
  },
  {
   "cell_type": "code",
   "execution_count": 41,
   "id": "913600b6",
   "metadata": {
    "ExecuteTime": {
     "end_time": "2023-05-19T08:52:40.077713Z",
     "start_time": "2023-05-19T08:52:40.064742Z"
    }
   },
   "outputs": [
    {
     "name": "stderr",
     "output_type": "stream",
     "text": [
      "C:\\Windows\\Temp\\ipykernel_6256\\255568455.py:1: SettingWithCopyWarning: \n",
      "A value is trying to be set on a copy of a slice from a DataFrame.\n",
      "Try using .loc[row_indexer,col_indexer] = value instead\n",
      "\n",
      "See the caveats in the documentation: https://pandas.pydata.org/pandas-docs/stable/user_guide/indexing.html#returning-a-view-versus-a-copy\n",
      "  test_df['emotions'] = test_df.Tweet_content_clean.apply(emotion_caculate)\n"
     ]
    }
   ],
   "source": [
    "test_df['emotions'] = test_df.Tweet_content_clean.apply(emotion_caculate)"
   ]
  },
  {
   "cell_type": "code",
   "execution_count": null,
   "id": "cae78c8c",
   "metadata": {},
   "outputs": [],
   "source": []
  },
  {
   "cell_type": "code",
   "execution_count": 31,
   "id": "25a7a8df",
   "metadata": {
    "ExecuteTime": {
     "end_time": "2023-05-19T03:08:25.260221Z",
     "start_time": "2023-05-19T02:33:05.864518Z"
    }
   },
   "outputs": [
    {
     "ename": "ValueError",
     "evalue": "Expected a 1D array, got an array with shape (2730753, 11)",
     "output_type": "error",
     "traceback": [
      "\u001b[1;31m---------------------------------------------------------------------------\u001b[0m",
      "\u001b[1;31mKeyError\u001b[0m                                  Traceback (most recent call last)",
      "File \u001b[1;32mD:\\Anaconda\\lib\\site-packages\\pandas\\core\\indexes\\base.py:3629\u001b[0m, in \u001b[0;36mIndex.get_loc\u001b[1;34m(self, key, method, tolerance)\u001b[0m\n\u001b[0;32m   3628\u001b[0m \u001b[38;5;28;01mtry\u001b[39;00m:\n\u001b[1;32m-> 3629\u001b[0m     \u001b[38;5;28;01mreturn\u001b[39;00m \u001b[38;5;28;43mself\u001b[39;49m\u001b[38;5;241;43m.\u001b[39;49m\u001b[43m_engine\u001b[49m\u001b[38;5;241;43m.\u001b[39;49m\u001b[43mget_loc\u001b[49m\u001b[43m(\u001b[49m\u001b[43mcasted_key\u001b[49m\u001b[43m)\u001b[49m\n\u001b[0;32m   3630\u001b[0m \u001b[38;5;28;01mexcept\u001b[39;00m \u001b[38;5;167;01mKeyError\u001b[39;00m \u001b[38;5;28;01mas\u001b[39;00m err:\n",
      "File \u001b[1;32mD:\\Anaconda\\lib\\site-packages\\pandas\\_libs\\index.pyx:136\u001b[0m, in \u001b[0;36mpandas._libs.index.IndexEngine.get_loc\u001b[1;34m()\u001b[0m\n",
      "File \u001b[1;32mD:\\Anaconda\\lib\\site-packages\\pandas\\_libs\\index.pyx:163\u001b[0m, in \u001b[0;36mpandas._libs.index.IndexEngine.get_loc\u001b[1;34m()\u001b[0m\n",
      "File \u001b[1;32mpandas\\_libs\\hashtable_class_helper.pxi:5198\u001b[0m, in \u001b[0;36mpandas._libs.hashtable.PyObjectHashTable.get_item\u001b[1;34m()\u001b[0m\n",
      "File \u001b[1;32mpandas\\_libs\\hashtable_class_helper.pxi:5206\u001b[0m, in \u001b[0;36mpandas._libs.hashtable.PyObjectHashTable.get_item\u001b[1;34m()\u001b[0m\n",
      "\u001b[1;31mKeyError\u001b[0m: 'emotions'",
      "\nThe above exception was the direct cause of the following exception:\n",
      "\u001b[1;31mKeyError\u001b[0m                                  Traceback (most recent call last)",
      "File \u001b[1;32mD:\\Anaconda\\lib\\site-packages\\pandas\\core\\frame.py:3799\u001b[0m, in \u001b[0;36mDataFrame._set_item_mgr\u001b[1;34m(self, key, value)\u001b[0m\n\u001b[0;32m   3798\u001b[0m \u001b[38;5;28;01mtry\u001b[39;00m:\n\u001b[1;32m-> 3799\u001b[0m     loc \u001b[38;5;241m=\u001b[39m \u001b[38;5;28;43mself\u001b[39;49m\u001b[38;5;241;43m.\u001b[39;49m\u001b[43m_info_axis\u001b[49m\u001b[38;5;241;43m.\u001b[39;49m\u001b[43mget_loc\u001b[49m\u001b[43m(\u001b[49m\u001b[43mkey\u001b[49m\u001b[43m)\u001b[49m\n\u001b[0;32m   3800\u001b[0m \u001b[38;5;28;01mexcept\u001b[39;00m \u001b[38;5;167;01mKeyError\u001b[39;00m:\n\u001b[0;32m   3801\u001b[0m     \u001b[38;5;66;03m# This item wasn't present, just insert at end\u001b[39;00m\n",
      "File \u001b[1;32mD:\\Anaconda\\lib\\site-packages\\pandas\\core\\indexes\\base.py:3631\u001b[0m, in \u001b[0;36mIndex.get_loc\u001b[1;34m(self, key, method, tolerance)\u001b[0m\n\u001b[0;32m   3630\u001b[0m \u001b[38;5;28;01mexcept\u001b[39;00m \u001b[38;5;167;01mKeyError\u001b[39;00m \u001b[38;5;28;01mas\u001b[39;00m err:\n\u001b[1;32m-> 3631\u001b[0m     \u001b[38;5;28;01mraise\u001b[39;00m \u001b[38;5;167;01mKeyError\u001b[39;00m(key) \u001b[38;5;28;01mfrom\u001b[39;00m \u001b[38;5;21;01merr\u001b[39;00m\n\u001b[0;32m   3632\u001b[0m \u001b[38;5;28;01mexcept\u001b[39;00m \u001b[38;5;167;01mTypeError\u001b[39;00m:\n\u001b[0;32m   3633\u001b[0m     \u001b[38;5;66;03m# If we have a listlike key, _check_indexing_error will raise\u001b[39;00m\n\u001b[0;32m   3634\u001b[0m     \u001b[38;5;66;03m#  InvalidIndexError. Otherwise we fall through and re-raise\u001b[39;00m\n\u001b[0;32m   3635\u001b[0m     \u001b[38;5;66;03m#  the TypeError.\u001b[39;00m\n",
      "\u001b[1;31mKeyError\u001b[0m: 'emotions'",
      "\nDuring handling of the above exception, another exception occurred:\n",
      "\u001b[1;31mValueError\u001b[0m                                Traceback (most recent call last)",
      "Input \u001b[1;32mIn [31]\u001b[0m, in \u001b[0;36m<cell line: 1>\u001b[1;34m()\u001b[0m\n\u001b[1;32m----> 1\u001b[0m data[\u001b[38;5;124m'\u001b[39m\u001b[38;5;124memotions\u001b[39m\u001b[38;5;124m'\u001b[39m] \u001b[38;5;241m=\u001b[39m data\u001b[38;5;241m.\u001b[39mTweet_content_clean\u001b[38;5;241m.\u001b[39mapply(emotion_caculate)\n",
      "File \u001b[1;32mD:\\Anaconda\\lib\\site-packages\\pandas\\core\\frame.py:3645\u001b[0m, in \u001b[0;36mDataFrame.__setitem__\u001b[1;34m(self, key, value)\u001b[0m\n\u001b[0;32m   3643\u001b[0m     \u001b[38;5;28mself\u001b[39m\u001b[38;5;241m.\u001b[39m_setitem_array(key, value)\n\u001b[0;32m   3644\u001b[0m \u001b[38;5;28;01melif\u001b[39;00m \u001b[38;5;28misinstance\u001b[39m(value, DataFrame):\n\u001b[1;32m-> 3645\u001b[0m     \u001b[38;5;28;43mself\u001b[39;49m\u001b[38;5;241;43m.\u001b[39;49m\u001b[43m_set_item_frame_value\u001b[49m\u001b[43m(\u001b[49m\u001b[43mkey\u001b[49m\u001b[43m,\u001b[49m\u001b[43m \u001b[49m\u001b[43mvalue\u001b[49m\u001b[43m)\u001b[49m\n\u001b[0;32m   3646\u001b[0m \u001b[38;5;28;01melif\u001b[39;00m (\n\u001b[0;32m   3647\u001b[0m     is_list_like(value)\n\u001b[0;32m   3648\u001b[0m     \u001b[38;5;129;01mand\u001b[39;00m \u001b[38;5;129;01mnot\u001b[39;00m \u001b[38;5;28mself\u001b[39m\u001b[38;5;241m.\u001b[39mcolumns\u001b[38;5;241m.\u001b[39mis_unique\n\u001b[0;32m   3649\u001b[0m     \u001b[38;5;129;01mand\u001b[39;00m \u001b[38;5;241m1\u001b[39m \u001b[38;5;241m<\u001b[39m \u001b[38;5;28mlen\u001b[39m(\u001b[38;5;28mself\u001b[39m\u001b[38;5;241m.\u001b[39mcolumns\u001b[38;5;241m.\u001b[39mget_indexer_for([key])) \u001b[38;5;241m==\u001b[39m \u001b[38;5;28mlen\u001b[39m(value)\n\u001b[0;32m   3650\u001b[0m ):\n\u001b[0;32m   3651\u001b[0m     \u001b[38;5;66;03m# Column to set is duplicated\u001b[39;00m\n\u001b[0;32m   3652\u001b[0m     \u001b[38;5;28mself\u001b[39m\u001b[38;5;241m.\u001b[39m_setitem_array([key], value)\n",
      "File \u001b[1;32mD:\\Anaconda\\lib\\site-packages\\pandas\\core\\frame.py:3788\u001b[0m, in \u001b[0;36mDataFrame._set_item_frame_value\u001b[1;34m(self, key, value)\u001b[0m\n\u001b[0;32m   3786\u001b[0m \u001b[38;5;66;03m# now align rows\u001b[39;00m\n\u001b[0;32m   3787\u001b[0m arraylike \u001b[38;5;241m=\u001b[39m _reindex_for_setitem(value, \u001b[38;5;28mself\u001b[39m\u001b[38;5;241m.\u001b[39mindex)\n\u001b[1;32m-> 3788\u001b[0m \u001b[38;5;28;43mself\u001b[39;49m\u001b[38;5;241;43m.\u001b[39;49m\u001b[43m_set_item_mgr\u001b[49m\u001b[43m(\u001b[49m\u001b[43mkey\u001b[49m\u001b[43m,\u001b[49m\u001b[43m \u001b[49m\u001b[43marraylike\u001b[49m\u001b[43m)\u001b[49m\n",
      "File \u001b[1;32mD:\\Anaconda\\lib\\site-packages\\pandas\\core\\frame.py:3802\u001b[0m, in \u001b[0;36mDataFrame._set_item_mgr\u001b[1;34m(self, key, value)\u001b[0m\n\u001b[0;32m   3799\u001b[0m     loc \u001b[38;5;241m=\u001b[39m \u001b[38;5;28mself\u001b[39m\u001b[38;5;241m.\u001b[39m_info_axis\u001b[38;5;241m.\u001b[39mget_loc(key)\n\u001b[0;32m   3800\u001b[0m \u001b[38;5;28;01mexcept\u001b[39;00m \u001b[38;5;167;01mKeyError\u001b[39;00m:\n\u001b[0;32m   3801\u001b[0m     \u001b[38;5;66;03m# This item wasn't present, just insert at end\u001b[39;00m\n\u001b[1;32m-> 3802\u001b[0m     \u001b[38;5;28;43mself\u001b[39;49m\u001b[38;5;241;43m.\u001b[39;49m\u001b[43m_mgr\u001b[49m\u001b[38;5;241;43m.\u001b[39;49m\u001b[43minsert\u001b[49m\u001b[43m(\u001b[49m\u001b[38;5;28;43mlen\u001b[39;49m\u001b[43m(\u001b[49m\u001b[38;5;28;43mself\u001b[39;49m\u001b[38;5;241;43m.\u001b[39;49m\u001b[43m_info_axis\u001b[49m\u001b[43m)\u001b[49m\u001b[43m,\u001b[49m\u001b[43m \u001b[49m\u001b[43mkey\u001b[49m\u001b[43m,\u001b[49m\u001b[43m \u001b[49m\u001b[43mvalue\u001b[49m\u001b[43m)\u001b[49m\n\u001b[0;32m   3803\u001b[0m \u001b[38;5;28;01melse\u001b[39;00m:\n\u001b[0;32m   3804\u001b[0m     \u001b[38;5;28mself\u001b[39m\u001b[38;5;241m.\u001b[39m_iset_item_mgr(loc, value)\n",
      "File \u001b[1;32mD:\\Anaconda\\lib\\site-packages\\pandas\\core\\internals\\managers.py:1245\u001b[0m, in \u001b[0;36mBlockManager.insert\u001b[1;34m(self, loc, item, value)\u001b[0m\n\u001b[0;32m   1243\u001b[0m     value \u001b[38;5;241m=\u001b[39m value\u001b[38;5;241m.\u001b[39mT\n\u001b[0;32m   1244\u001b[0m     \u001b[38;5;28;01mif\u001b[39;00m \u001b[38;5;28mlen\u001b[39m(value) \u001b[38;5;241m>\u001b[39m \u001b[38;5;241m1\u001b[39m:\n\u001b[1;32m-> 1245\u001b[0m         \u001b[38;5;28;01mraise\u001b[39;00m \u001b[38;5;167;01mValueError\u001b[39;00m(\n\u001b[0;32m   1246\u001b[0m             \u001b[38;5;124mf\u001b[39m\u001b[38;5;124m\"\u001b[39m\u001b[38;5;124mExpected a 1D array, got an array with shape \u001b[39m\u001b[38;5;132;01m{\u001b[39;00mvalue\u001b[38;5;241m.\u001b[39mT\u001b[38;5;241m.\u001b[39mshape\u001b[38;5;132;01m}\u001b[39;00m\u001b[38;5;124m\"\u001b[39m\n\u001b[0;32m   1247\u001b[0m         )\n\u001b[0;32m   1248\u001b[0m \u001b[38;5;28;01melse\u001b[39;00m:\n\u001b[0;32m   1249\u001b[0m     value \u001b[38;5;241m=\u001b[39m ensure_block_shape(value, ndim\u001b[38;5;241m=\u001b[39m\u001b[38;5;28mself\u001b[39m\u001b[38;5;241m.\u001b[39mndim)\n",
      "\u001b[1;31mValueError\u001b[0m: Expected a 1D array, got an array with shape (2730753, 11)"
     ]
    }
   ],
   "source": [
    "data['emotions'] = data.Tweet_content_clean.apply(emotion_caculate)"
   ]
  },
  {
   "cell_type": "code",
   "execution_count": null,
   "id": "50d729b1",
   "metadata": {},
   "outputs": [],
   "source": []
  }
 ],
 "metadata": {
  "kernelspec": {
   "display_name": "Python 3 (ipykernel)",
   "language": "python",
   "name": "python3"
  },
  "language_info": {
   "codemirror_mode": {
    "name": "ipython",
    "version": 3
   },
   "file_extension": ".py",
   "mimetype": "text/x-python",
   "name": "python",
   "nbconvert_exporter": "python",
   "pygments_lexer": "ipython3",
   "version": "3.8.13"
  },
  "varInspector": {
   "cols": {
    "lenName": 16,
    "lenType": 16,
    "lenVar": 40
   },
   "kernels_config": {
    "python": {
     "delete_cmd_postfix": "",
     "delete_cmd_prefix": "del ",
     "library": "var_list.py",
     "varRefreshCmd": "print(var_dic_list())"
    },
    "r": {
     "delete_cmd_postfix": ") ",
     "delete_cmd_prefix": "rm(",
     "library": "var_list.r",
     "varRefreshCmd": "cat(var_dic_list()) "
    }
   },
   "types_to_exclude": [
    "module",
    "function",
    "builtin_function_or_method",
    "instance",
    "_Feature"
   ],
   "window_display": false
  }
 },
 "nbformat": 4,
 "nbformat_minor": 5
}
