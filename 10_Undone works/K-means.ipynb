{
 "cells": [
  {
   "cell_type": "code",
   "execution_count": 1,
   "id": "8d605e32",
   "metadata": {
    "ExecuteTime": {
     "end_time": "2023-04-08T01:46:33.954053Z",
     "start_time": "2023-04-08T01:46:26.353883Z"
    }
   },
   "outputs": [],
   "source": [
    "import pandas as pd\n",
    "import numpy as np\n",
    "import matplotlib.pyplot as plt\n",
    "from sklearn.cluster import KMeans\n",
    "from sklearn.preprocessing import StandardScaler"
   ]
  },
  {
   "cell_type": "code",
   "execution_count": 2,
   "id": "bf33c5c2",
   "metadata": {
    "ExecuteTime": {
     "end_time": "2023-04-08T01:48:45.864805Z",
     "start_time": "2023-04-08T01:46:35.697897Z"
    }
   },
   "outputs": [],
   "source": [
    "# 读取数据集\n",
    "df = pd.read_csv(\"H:\\\\课程\\\\毕业论文\\\\data_ori_cleanded\\\\total_data.csv\")"
   ]
  },
  {
   "cell_type": "code",
   "execution_count": 3,
   "id": "0c7c0d67",
   "metadata": {
    "ExecuteTime": {
     "end_time": "2023-04-08T01:49:22.314100Z",
     "start_time": "2023-04-08T01:49:22.287062Z"
    }
   },
   "outputs": [
    {
     "data": {
      "text/plain": [
       "Index(['Unnamed: 0.1', 'Datetime', 'Tweet_id', 'Tweet_content',\n",
       "       'Tweet_reply_count', 'Tweet_retweet_count', 'Tweet_like_count',\n",
       "       'Tweet_quote_count', 'Tweet_language', 'Tweet_place', 'Tweet_hashtags',\n",
       "       'Username', 'User_id', 'User_followers_count', 'User_friends_count',\n",
       "       'User_statuses_count', 'User_favourites_count', 'User_listed_count',\n",
       "       'User_media_count', 'User_location', 'Tweet_isRT', 'results', 'hateful',\n",
       "       'aggressive', 'HorA', 'care', 'fairness', 'loyalty', 'authority',\n",
       "       'purity', 'Unnamed: 0'],\n",
       "      dtype='object')"
      ]
     },
     "execution_count": 3,
     "metadata": {},
     "output_type": "execute_result"
    }
   ],
   "source": [
    "df.columns"
   ]
  },
  {
   "cell_type": "code",
   "execution_count": 4,
   "id": "31c07bfa",
   "metadata": {
    "ExecuteTime": {
     "end_time": "2023-04-08T01:49:28.463659Z",
     "start_time": "2023-04-08T01:49:26.580552Z"
    }
   },
   "outputs": [],
   "source": [
    "df=df[[ 'Datetime', 'Tweet_id', 'Tweet_content',\n",
    "       'Tweet_reply_count', 'Tweet_retweet_count', 'Tweet_like_count',\n",
    "       'Tweet_quote_count', 'Tweet_hashtags',\n",
    "       'Username', 'User_id', 'User_followers_count', 'User_friends_count',\n",
    "       'User_statuses_count', 'User_favourites_count', 'User_listed_count',\n",
    "       'User_media_count','hateful', 'aggressive', 'HorA', 'care', 'fairness', 'loyalty', 'authority',\n",
    "       'purity']]"
   ]
  },
  {
   "cell_type": "code",
   "execution_count": 8,
   "id": "90c9140f",
   "metadata": {
    "ExecuteTime": {
     "end_time": "2023-03-26T02:13:50.724881Z",
     "start_time": "2023-03-26T02:11:11.596672Z"
    }
   },
   "outputs": [],
   "source": [
    "df.to_csv(\"H:\\\\课程\\\\毕业论文\\\\data_ori_cleanded\\\\total_data_1.csv\")"
   ]
  },
  {
   "cell_type": "code",
   "execution_count": 5,
   "id": "d3961a5c",
   "metadata": {
    "ExecuteTime": {
     "end_time": "2023-04-08T01:49:35.455395Z",
     "start_time": "2023-04-08T01:49:35.411402Z"
    }
   },
   "outputs": [
    {
     "data": {
      "text/html": [
       "<div>\n",
       "<style scoped>\n",
       "    .dataframe tbody tr th:only-of-type {\n",
       "        vertical-align: middle;\n",
       "    }\n",
       "\n",
       "    .dataframe tbody tr th {\n",
       "        vertical-align: top;\n",
       "    }\n",
       "\n",
       "    .dataframe thead th {\n",
       "        text-align: right;\n",
       "    }\n",
       "</style>\n",
       "<table border=\"1\" class=\"dataframe\">\n",
       "  <thead>\n",
       "    <tr style=\"text-align: right;\">\n",
       "      <th></th>\n",
       "      <th>Datetime</th>\n",
       "      <th>Tweet_id</th>\n",
       "      <th>Tweet_content</th>\n",
       "      <th>Tweet_reply_count</th>\n",
       "      <th>Tweet_retweet_count</th>\n",
       "      <th>Tweet_like_count</th>\n",
       "      <th>Tweet_quote_count</th>\n",
       "      <th>Tweet_hashtags</th>\n",
       "      <th>Username</th>\n",
       "      <th>User_id</th>\n",
       "      <th>...</th>\n",
       "      <th>User_listed_count</th>\n",
       "      <th>User_media_count</th>\n",
       "      <th>hateful</th>\n",
       "      <th>aggressive</th>\n",
       "      <th>HorA</th>\n",
       "      <th>care</th>\n",
       "      <th>fairness</th>\n",
       "      <th>loyalty</th>\n",
       "      <th>authority</th>\n",
       "      <th>purity</th>\n",
       "    </tr>\n",
       "  </thead>\n",
       "  <tbody>\n",
       "    <tr>\n",
       "      <th>0</th>\n",
       "      <td>2022-02-22</td>\n",
       "      <td>1496090169229058054</td>\n",
       "      <td>Russian troops enter eastern Ukraine russia  u...</td>\n",
       "      <td>0</td>\n",
       "      <td>0</td>\n",
       "      <td>0</td>\n",
       "      <td>0</td>\n",
       "      <td>['Russia', 'Ukraine', 'UkraineConflict', 'Ukra...</td>\n",
       "      <td>HimanRoy14</td>\n",
       "      <td>1319312054130389000</td>\n",
       "      <td>...</td>\n",
       "      <td>0</td>\n",
       "      <td>364</td>\n",
       "      <td>0</td>\n",
       "      <td>0</td>\n",
       "      <td>0</td>\n",
       "      <td>1.666667</td>\n",
       "      <td>NaN</td>\n",
       "      <td>NaN</td>\n",
       "      <td>4.75</td>\n",
       "      <td>NaN</td>\n",
       "    </tr>\n",
       "    <tr>\n",
       "      <th>1</th>\n",
       "      <td>2022-02-22</td>\n",
       "      <td>1496093418870951937</td>\n",
       "      <td>Iran urges restraint in Ukraine crisis, blames...</td>\n",
       "      <td>0</td>\n",
       "      <td>0</td>\n",
       "      <td>0</td>\n",
       "      <td>0</td>\n",
       "      <td>['Iran', 'UkraineRussiaCrisis', 'Ukraine', 'Uk...</td>\n",
       "      <td>theasialive</td>\n",
       "      <td>1206183985337925632</td>\n",
       "      <td>...</td>\n",
       "      <td>1</td>\n",
       "      <td>194</td>\n",
       "      <td>0</td>\n",
       "      <td>0</td>\n",
       "      <td>0</td>\n",
       "      <td>NaN</td>\n",
       "      <td>NaN</td>\n",
       "      <td>NaN</td>\n",
       "      <td>NaN</td>\n",
       "      <td>NaN</td>\n",
       "    </tr>\n",
       "    <tr>\n",
       "      <th>2</th>\n",
       "      <td>2022-02-22</td>\n",
       "      <td>1496094215000195073</td>\n",
       "      <td>Current Affairs  emoji cara revolviéndose de l...</td>\n",
       "      <td>22</td>\n",
       "      <td>225</td>\n",
       "      <td>913</td>\n",
       "      <td>21</td>\n",
       "      <td>['Ukraine', 'UkraineRussiaCrisis', 'UkraineCri...</td>\n",
       "      <td>SonaliS71687712</td>\n",
       "      <td>1358656011964276737</td>\n",
       "      <td>...</td>\n",
       "      <td>0</td>\n",
       "      <td>1072</td>\n",
       "      <td>0</td>\n",
       "      <td>0</td>\n",
       "      <td>0</td>\n",
       "      <td>1.666667</td>\n",
       "      <td>NaN</td>\n",
       "      <td>NaN</td>\n",
       "      <td>NaN</td>\n",
       "      <td>NaN</td>\n",
       "    </tr>\n",
       "    <tr>\n",
       "      <th>3</th>\n",
       "      <td>2022-02-22</td>\n",
       "      <td>1496094912215130116</td>\n",
       "      <td>russian President  vladimir putin has ordered...</td>\n",
       "      <td>1</td>\n",
       "      <td>0</td>\n",
       "      <td>0</td>\n",
       "      <td>0</td>\n",
       "      <td>['Russian', 'VladimirPutin', 'Ukraine', 'Ukrai...</td>\n",
       "      <td>TheHoardPlanet</td>\n",
       "      <td>1119787693267771392</td>\n",
       "      <td>...</td>\n",
       "      <td>1</td>\n",
       "      <td>196</td>\n",
       "      <td>0</td>\n",
       "      <td>0</td>\n",
       "      <td>0</td>\n",
       "      <td>1.666667</td>\n",
       "      <td>NaN</td>\n",
       "      <td>NaN</td>\n",
       "      <td>5.25</td>\n",
       "      <td>NaN</td>\n",
       "    </tr>\n",
       "    <tr>\n",
       "      <th>4</th>\n",
       "      <td>2022-02-22</td>\n",
       "      <td>1496097094352121866</td>\n",
       "      <td>Putin calls Ukrainian statehood a fiction. His...</td>\n",
       "      <td>0</td>\n",
       "      <td>0</td>\n",
       "      <td>1</td>\n",
       "      <td>0</td>\n",
       "      <td>['Russia', 'RussiaUkraineCrisis', 'RussiaUcrai...</td>\n",
       "      <td>theasialive</td>\n",
       "      <td>1206183985337925632</td>\n",
       "      <td>...</td>\n",
       "      <td>1</td>\n",
       "      <td>194</td>\n",
       "      <td>0</td>\n",
       "      <td>0</td>\n",
       "      <td>0</td>\n",
       "      <td>NaN</td>\n",
       "      <td>NaN</td>\n",
       "      <td>NaN</td>\n",
       "      <td>NaN</td>\n",
       "      <td>NaN</td>\n",
       "    </tr>\n",
       "  </tbody>\n",
       "</table>\n",
       "<p>5 rows × 24 columns</p>\n",
       "</div>"
      ],
      "text/plain": [
       "     Datetime             Tweet_id  \\\n",
       "0  2022-02-22  1496090169229058054   \n",
       "1  2022-02-22  1496093418870951937   \n",
       "2  2022-02-22  1496094215000195073   \n",
       "3  2022-02-22  1496094912215130116   \n",
       "4  2022-02-22  1496097094352121866   \n",
       "\n",
       "                                       Tweet_content  Tweet_reply_count  \\\n",
       "0  Russian troops enter eastern Ukraine russia  u...                  0   \n",
       "1  Iran urges restraint in Ukraine crisis, blames...                  0   \n",
       "2  Current Affairs  emoji cara revolviéndose de l...                 22   \n",
       "3   russian President  vladimir putin has ordered...                  1   \n",
       "4  Putin calls Ukrainian statehood a fiction. His...                  0   \n",
       "\n",
       "   Tweet_retweet_count  Tweet_like_count  Tweet_quote_count  \\\n",
       "0                    0                 0                  0   \n",
       "1                    0                 0                  0   \n",
       "2                  225               913                 21   \n",
       "3                    0                 0                  0   \n",
       "4                    0                 1                  0   \n",
       "\n",
       "                                      Tweet_hashtags         Username  \\\n",
       "0  ['Russia', 'Ukraine', 'UkraineConflict', 'Ukra...       HimanRoy14   \n",
       "1  ['Iran', 'UkraineRussiaCrisis', 'Ukraine', 'Uk...      theasialive   \n",
       "2  ['Ukraine', 'UkraineRussiaCrisis', 'UkraineCri...  SonaliS71687712   \n",
       "3  ['Russian', 'VladimirPutin', 'Ukraine', 'Ukrai...   TheHoardPlanet   \n",
       "4  ['Russia', 'RussiaUkraineCrisis', 'RussiaUcrai...      theasialive   \n",
       "\n",
       "               User_id  ...  User_listed_count  User_media_count  hateful  \\\n",
       "0  1319312054130389000  ...                  0               364        0   \n",
       "1  1206183985337925632  ...                  1               194        0   \n",
       "2  1358656011964276737  ...                  0              1072        0   \n",
       "3  1119787693267771392  ...                  1               196        0   \n",
       "4  1206183985337925632  ...                  1               194        0   \n",
       "\n",
       "   aggressive  HorA      care  fairness  loyalty  authority  purity  \n",
       "0           0     0  1.666667       NaN      NaN       4.75     NaN  \n",
       "1           0     0       NaN       NaN      NaN        NaN     NaN  \n",
       "2           0     0  1.666667       NaN      NaN        NaN     NaN  \n",
       "3           0     0  1.666667       NaN      NaN       5.25     NaN  \n",
       "4           0     0       NaN       NaN      NaN        NaN     NaN  \n",
       "\n",
       "[5 rows x 24 columns]"
      ]
     },
     "execution_count": 5,
     "metadata": {},
     "output_type": "execute_result"
    }
   ],
   "source": [
    "df.head()"
   ]
  },
  {
   "cell_type": "code",
   "execution_count": 6,
   "id": "50574eac",
   "metadata": {
    "ExecuteTime": {
     "end_time": "2023-04-08T01:49:41.782918Z",
     "start_time": "2023-04-08T01:49:40.757670Z"
    }
   },
   "outputs": [],
   "source": [
    "df[['care', 'fairness', 'loyalty', 'authority','purity']]=df[['care', 'fairness', 'loyalty', 'authority','purity']].fillna(0)"
   ]
  },
  {
   "cell_type": "code",
   "execution_count": 7,
   "id": "bbff883f",
   "metadata": {
    "ExecuteTime": {
     "end_time": "2023-04-08T01:50:20.936819Z",
     "start_time": "2023-04-08T01:50:20.928789Z"
    }
   },
   "outputs": [],
   "source": [
    "def normalize_data(data):\n",
    "    if data ==0:\n",
    "        return 0\n",
    "    else:\n",
    "        return (data-1)/4-1"
   ]
  },
  {
   "cell_type": "code",
   "execution_count": 8,
   "id": "71577c78",
   "metadata": {
    "ExecuteTime": {
     "end_time": "2023-04-08T01:51:10.095303Z",
     "start_time": "2023-04-08T01:50:33.869932Z"
    }
   },
   "outputs": [],
   "source": [
    "df.fairness = df.fairness.apply(normalize_data)\n",
    "df.loyalty = df.loyalty.apply(normalize_data)\n",
    "df.authority = df.authority.apply(normalize_data)\n",
    "df.purity = df.purity.apply(normalize_data)\n",
    "df.care = df.care.apply(normalize_data)"
   ]
  },
  {
   "cell_type": "code",
   "execution_count": 12,
   "id": "d42c71af",
   "metadata": {
    "ExecuteTime": {
     "end_time": "2023-04-08T02:25:55.511215Z",
     "start_time": "2023-04-08T02:18:08.128607Z"
    }
   },
   "outputs": [
    {
     "data": {
      "image/png": "[encoded data removed]",
      "text/plain": [
       "<Figure size 640x480 with 1 Axes>"
      ]
     },
     "metadata": {},
     "output_type": "display_data"
    }
   ],
   "source": [
    "X = df[['care', 'fairness', 'loyalty', 'authority','purity']].values\n",
    "\n",
    "wcss = []\n",
    "for i in range(1, 11):\n",
    "    kmeans = KMeans(n_clusters=i, init='k-means++', max_iter=300, n_init=10, random_state=0)\n",
    "    kmeans.fit(X)\n",
    "    wcss.append(kmeans.inertia_)\n",
    "plt.plot(range(1, 11), wcss)\n",
    "plt.title('Elbow Method')\n",
    "plt.xlabel('Number of clusters')\n",
    "plt.ylabel('WCSS')\n",
    "plt.savefig('Elbow_Method.png')\n",
    "plt.show()"
   ]
  },
  {
   "cell_type": "code",
   "execution_count": 10,
   "id": "6076e6d3",
   "metadata": {
    "ExecuteTime": {
     "end_time": "2023-04-08T02:17:01.746058Z",
     "start_time": "2023-04-08T02:16:35.695652Z"
    }
   },
   "outputs": [],
   "source": [
    "kmeans = KMeans(n_clusters=3, init='k-means++', max_iter=300, n_init=10, random_state=0)\n",
    "pred_y = kmeans.fit_predict(X)\n",
    "\n",
    "df['cluster'] = pd.Series(pred_y, index=df.index)"
   ]
  },
  {
   "cell_type": "code",
   "execution_count": 11,
   "id": "d3683bdf",
   "metadata": {
    "ExecuteTime": {
     "end_time": "2023-04-08T02:17:20.299683Z",
     "start_time": "2023-04-08T02:17:20.274683Z"
    }
   },
   "outputs": [
    {
     "data": {
      "text/html": [
       "<div>\n",
       "<style scoped>\n",
       "    .dataframe tbody tr th:only-of-type {\n",
       "        vertical-align: middle;\n",
       "    }\n",
       "\n",
       "    .dataframe tbody tr th {\n",
       "        vertical-align: top;\n",
       "    }\n",
       "\n",
       "    .dataframe thead th {\n",
       "        text-align: right;\n",
       "    }\n",
       "</style>\n",
       "<table border=\"1\" class=\"dataframe\">\n",
       "  <thead>\n",
       "    <tr style=\"text-align: right;\">\n",
       "      <th></th>\n",
       "      <th>Datetime</th>\n",
       "      <th>Tweet_id</th>\n",
       "      <th>Tweet_content</th>\n",
       "      <th>Tweet_reply_count</th>\n",
       "      <th>Tweet_retweet_count</th>\n",
       "      <th>Tweet_like_count</th>\n",
       "      <th>Tweet_quote_count</th>\n",
       "      <th>Tweet_hashtags</th>\n",
       "      <th>Username</th>\n",
       "      <th>User_id</th>\n",
       "      <th>...</th>\n",
       "      <th>User_media_count</th>\n",
       "      <th>hateful</th>\n",
       "      <th>aggressive</th>\n",
       "      <th>HorA</th>\n",
       "      <th>care</th>\n",
       "      <th>fairness</th>\n",
       "      <th>loyalty</th>\n",
       "      <th>authority</th>\n",
       "      <th>purity</th>\n",
       "      <th>cluster</th>\n",
       "    </tr>\n",
       "  </thead>\n",
       "  <tbody>\n",
       "    <tr>\n",
       "      <th>0</th>\n",
       "      <td>2022-02-22</td>\n",
       "      <td>1496090169229058054</td>\n",
       "      <td>Russian troops enter eastern Ukraine russia  u...</td>\n",
       "      <td>0</td>\n",
       "      <td>0</td>\n",
       "      <td>0</td>\n",
       "      <td>0</td>\n",
       "      <td>['Russia', 'Ukraine', 'UkraineConflict', 'Ukra...</td>\n",
       "      <td>HimanRoy14</td>\n",
       "      <td>1319312054130389000</td>\n",
       "      <td>...</td>\n",
       "      <td>364</td>\n",
       "      <td>0</td>\n",
       "      <td>0</td>\n",
       "      <td>0</td>\n",
       "      <td>-0.833333</td>\n",
       "      <td>0.0</td>\n",
       "      <td>0.0</td>\n",
       "      <td>-0.0625</td>\n",
       "      <td>0.0</td>\n",
       "      <td>1</td>\n",
       "    </tr>\n",
       "    <tr>\n",
       "      <th>1</th>\n",
       "      <td>2022-02-22</td>\n",
       "      <td>1496093418870951937</td>\n",
       "      <td>Iran urges restraint in Ukraine crisis, blames...</td>\n",
       "      <td>0</td>\n",
       "      <td>0</td>\n",
       "      <td>0</td>\n",
       "      <td>0</td>\n",
       "      <td>['Iran', 'UkraineRussiaCrisis', 'Ukraine', 'Uk...</td>\n",
       "      <td>theasialive</td>\n",
       "      <td>1206183985337925632</td>\n",
       "      <td>...</td>\n",
       "      <td>194</td>\n",
       "      <td>0</td>\n",
       "      <td>0</td>\n",
       "      <td>0</td>\n",
       "      <td>0.000000</td>\n",
       "      <td>0.0</td>\n",
       "      <td>0.0</td>\n",
       "      <td>0.0000</td>\n",
       "      <td>0.0</td>\n",
       "      <td>0</td>\n",
       "    </tr>\n",
       "    <tr>\n",
       "      <th>2</th>\n",
       "      <td>2022-02-22</td>\n",
       "      <td>1496094215000195073</td>\n",
       "      <td>Current Affairs  emoji cara revolviéndose de l...</td>\n",
       "      <td>22</td>\n",
       "      <td>225</td>\n",
       "      <td>913</td>\n",
       "      <td>21</td>\n",
       "      <td>['Ukraine', 'UkraineRussiaCrisis', 'UkraineCri...</td>\n",
       "      <td>SonaliS71687712</td>\n",
       "      <td>1358656011964276737</td>\n",
       "      <td>...</td>\n",
       "      <td>1072</td>\n",
       "      <td>0</td>\n",
       "      <td>0</td>\n",
       "      <td>0</td>\n",
       "      <td>-0.833333</td>\n",
       "      <td>0.0</td>\n",
       "      <td>0.0</td>\n",
       "      <td>0.0000</td>\n",
       "      <td>0.0</td>\n",
       "      <td>1</td>\n",
       "    </tr>\n",
       "    <tr>\n",
       "      <th>3</th>\n",
       "      <td>2022-02-22</td>\n",
       "      <td>1496094912215130116</td>\n",
       "      <td>russian President  vladimir putin has ordered...</td>\n",
       "      <td>1</td>\n",
       "      <td>0</td>\n",
       "      <td>0</td>\n",
       "      <td>0</td>\n",
       "      <td>['Russian', 'VladimirPutin', 'Ukraine', 'Ukrai...</td>\n",
       "      <td>TheHoardPlanet</td>\n",
       "      <td>1119787693267771392</td>\n",
       "      <td>...</td>\n",
       "      <td>196</td>\n",
       "      <td>0</td>\n",
       "      <td>0</td>\n",
       "      <td>0</td>\n",
       "      <td>-0.833333</td>\n",
       "      <td>0.0</td>\n",
       "      <td>0.0</td>\n",
       "      <td>0.0625</td>\n",
       "      <td>0.0</td>\n",
       "      <td>1</td>\n",
       "    </tr>\n",
       "    <tr>\n",
       "      <th>4</th>\n",
       "      <td>2022-02-22</td>\n",
       "      <td>1496097094352121866</td>\n",
       "      <td>Putin calls Ukrainian statehood a fiction. His...</td>\n",
       "      <td>0</td>\n",
       "      <td>0</td>\n",
       "      <td>1</td>\n",
       "      <td>0</td>\n",
       "      <td>['Russia', 'RussiaUkraineCrisis', 'RussiaUcrai...</td>\n",
       "      <td>theasialive</td>\n",
       "      <td>1206183985337925632</td>\n",
       "      <td>...</td>\n",
       "      <td>194</td>\n",
       "      <td>0</td>\n",
       "      <td>0</td>\n",
       "      <td>0</td>\n",
       "      <td>0.000000</td>\n",
       "      <td>0.0</td>\n",
       "      <td>0.0</td>\n",
       "      <td>0.0000</td>\n",
       "      <td>0.0</td>\n",
       "      <td>0</td>\n",
       "    </tr>\n",
       "  </tbody>\n",
       "</table>\n",
       "<p>5 rows × 25 columns</p>\n",
       "</div>"
      ],
      "text/plain": [
       "     Datetime             Tweet_id  \\\n",
       "0  2022-02-22  1496090169229058054   \n",
       "1  2022-02-22  1496093418870951937   \n",
       "2  2022-02-22  1496094215000195073   \n",
       "3  2022-02-22  1496094912215130116   \n",
       "4  2022-02-22  1496097094352121866   \n",
       "\n",
       "                                       Tweet_content  Tweet_reply_count  \\\n",
       "0  Russian troops enter eastern Ukraine russia  u...                  0   \n",
       "1  Iran urges restraint in Ukraine crisis, blames...                  0   \n",
       "2  Current Affairs  emoji cara revolviéndose de l...                 22   \n",
       "3   russian President  vladimir putin has ordered...                  1   \n",
       "4  Putin calls Ukrainian statehood a fiction. His...                  0   \n",
       "\n",
       "   Tweet_retweet_count  Tweet_like_count  Tweet_quote_count  \\\n",
       "0                    0                 0                  0   \n",
       "1                    0                 0                  0   \n",
       "2                  225               913                 21   \n",
       "3                    0                 0                  0   \n",
       "4                    0                 1                  0   \n",
       "\n",
       "                                      Tweet_hashtags         Username  \\\n",
       "0  ['Russia', 'Ukraine', 'UkraineConflict', 'Ukra...       HimanRoy14   \n",
       "1  ['Iran', 'UkraineRussiaCrisis', 'Ukraine', 'Uk...      theasialive   \n",
       "2  ['Ukraine', 'UkraineRussiaCrisis', 'UkraineCri...  SonaliS71687712   \n",
       "3  ['Russian', 'VladimirPutin', 'Ukraine', 'Ukrai...   TheHoardPlanet   \n",
       "4  ['Russia', 'RussiaUkraineCrisis', 'RussiaUcrai...      theasialive   \n",
       "\n",
       "               User_id  ...  User_media_count  hateful  aggressive  HorA  \\\n",
       "0  1319312054130389000  ...               364        0           0     0   \n",
       "1  1206183985337925632  ...               194        0           0     0   \n",
       "2  1358656011964276737  ...              1072        0           0     0   \n",
       "3  1119787693267771392  ...               196        0           0     0   \n",
       "4  1206183985337925632  ...               194        0           0     0   \n",
       "\n",
       "       care  fairness  loyalty  authority  purity  cluster  \n",
       "0 -0.833333       0.0      0.0    -0.0625     0.0        1  \n",
       "1  0.000000       0.0      0.0     0.0000     0.0        0  \n",
       "2 -0.833333       0.0      0.0     0.0000     0.0        1  \n",
       "3 -0.833333       0.0      0.0     0.0625     0.0        1  \n",
       "4  0.000000       0.0      0.0     0.0000     0.0        0  \n",
       "\n",
       "[5 rows x 25 columns]"
      ]
     },
     "execution_count": 11,
     "metadata": {},
     "output_type": "execute_result"
    }
   ],
   "source": [
    "df.head()"
   ]
  },
  {
   "cell_type": "code",
   "execution_count": 13,
   "id": "7c2a8215",
   "metadata": {
    "ExecuteTime": {
     "end_time": "2023-04-08T02:28:21.243806Z",
     "start_time": "2023-04-08T02:28:19.662468Z"
    }
   },
   "outputs": [
    {
     "name": "stderr",
     "output_type": "stream",
     "text": [
      "[nltk_data] Downloading package stopwords to\n",
      "[nltk_data]     C:\\Users\\范宏瑞\\AppData\\Roaming\\nltk_data...\n",
      "[nltk_data]   Package stopwords is already up-to-date!\n"
     ]
    }
   ],
   "source": [
    "import nltk\n",
    "from nltk.corpus import stopwords\n",
    "from nltk.stem import PorterStemmer\n",
    "\n",
    "nltk.download('stopwords')\n",
    "\n",
    "stop_words = set(stopwords.words('english'))\n",
    "ps = PorterStemmer()\n",
    "\n",
    "def preprocess_tweet(tweet):\n",
    "    tweet = tweet.lower()\n",
    "    tweet_words = tweet.split()\n",
    "    tweet_words = [word for word in tweet_words if word not in stop_words]\n",
    "    tweet_words = [ps.stem(word) for word in tweet_words]\n",
    "    return tweet_words"
   ]
  },
  {
   "cell_type": "code",
   "execution_count": 16,
   "id": "8b45a8a1",
   "metadata": {
    "ExecuteTime": {
     "end_time": "2023-04-08T05:58:54.984180Z",
     "start_time": "2023-04-08T03:55:24.548402Z"
    }
   },
   "outputs": [],
   "source": [
    "df.Tweet_content = df.Tweet_content.apply(preprocess_tweet)"
   ]
  },
  {
   "cell_type": "code",
   "execution_count": 17,
   "id": "f496e6bf",
   "metadata": {
    "ExecuteTime": {
     "end_time": "2023-04-08T07:36:05.451449Z",
     "start_time": "2023-04-08T07:36:05.306948Z"
    }
   },
   "outputs": [
    {
     "data": {
      "text/html": [
       "<div>\n",
       "<style scoped>\n",
       "    .dataframe tbody tr th:only-of-type {\n",
       "        vertical-align: middle;\n",
       "    }\n",
       "\n",
       "    .dataframe tbody tr th {\n",
       "        vertical-align: top;\n",
       "    }\n",
       "\n",
       "    .dataframe thead th {\n",
       "        text-align: right;\n",
       "    }\n",
       "</style>\n",
       "<table border=\"1\" class=\"dataframe\">\n",
       "  <thead>\n",
       "    <tr style=\"text-align: right;\">\n",
       "      <th></th>\n",
       "      <th>Datetime</th>\n",
       "      <th>Tweet_id</th>\n",
       "      <th>Tweet_content</th>\n",
       "      <th>Tweet_reply_count</th>\n",
       "      <th>Tweet_retweet_count</th>\n",
       "      <th>Tweet_like_count</th>\n",
       "      <th>Tweet_quote_count</th>\n",
       "      <th>Tweet_hashtags</th>\n",
       "      <th>Username</th>\n",
       "      <th>User_id</th>\n",
       "      <th>...</th>\n",
       "      <th>User_media_count</th>\n",
       "      <th>hateful</th>\n",
       "      <th>aggressive</th>\n",
       "      <th>HorA</th>\n",
       "      <th>care</th>\n",
       "      <th>fairness</th>\n",
       "      <th>loyalty</th>\n",
       "      <th>authority</th>\n",
       "      <th>purity</th>\n",
       "      <th>cluster</th>\n",
       "    </tr>\n",
       "  </thead>\n",
       "  <tbody>\n",
       "    <tr>\n",
       "      <th>0</th>\n",
       "      <td>2022-02-22</td>\n",
       "      <td>1496090169229058054</td>\n",
       "      <td>[russian, troop, enter, eastern, ukrain, russi...</td>\n",
       "      <td>0</td>\n",
       "      <td>0</td>\n",
       "      <td>0</td>\n",
       "      <td>0</td>\n",
       "      <td>['Russia', 'Ukraine', 'UkraineConflict', 'Ukra...</td>\n",
       "      <td>HimanRoy14</td>\n",
       "      <td>1319312054130389000</td>\n",
       "      <td>...</td>\n",
       "      <td>364</td>\n",
       "      <td>0</td>\n",
       "      <td>0</td>\n",
       "      <td>0</td>\n",
       "      <td>-0.833333</td>\n",
       "      <td>0.0</td>\n",
       "      <td>0.0</td>\n",
       "      <td>-0.0625</td>\n",
       "      <td>0.0</td>\n",
       "      <td>1</td>\n",
       "    </tr>\n",
       "    <tr>\n",
       "      <th>1</th>\n",
       "      <td>2022-02-22</td>\n",
       "      <td>1496093418870951937</td>\n",
       "      <td>[iran, urg, restraint, ukrain, crisis,, blame,...</td>\n",
       "      <td>0</td>\n",
       "      <td>0</td>\n",
       "      <td>0</td>\n",
       "      <td>0</td>\n",
       "      <td>['Iran', 'UkraineRussiaCrisis', 'Ukraine', 'Uk...</td>\n",
       "      <td>theasialive</td>\n",
       "      <td>1206183985337925632</td>\n",
       "      <td>...</td>\n",
       "      <td>194</td>\n",
       "      <td>0</td>\n",
       "      <td>0</td>\n",
       "      <td>0</td>\n",
       "      <td>0.000000</td>\n",
       "      <td>0.0</td>\n",
       "      <td>0.0</td>\n",
       "      <td>0.0000</td>\n",
       "      <td>0.0</td>\n",
       "      <td>0</td>\n",
       "    </tr>\n",
       "    <tr>\n",
       "      <th>2</th>\n",
       "      <td>2022-02-22</td>\n",
       "      <td>1496094215000195073</td>\n",
       "      <td>[current, affair, emoji, cara, revolviéndos, d...</td>\n",
       "      <td>22</td>\n",
       "      <td>225</td>\n",
       "      <td>913</td>\n",
       "      <td>21</td>\n",
       "      <td>['Ukraine', 'UkraineRussiaCrisis', 'UkraineCri...</td>\n",
       "      <td>SonaliS71687712</td>\n",
       "      <td>1358656011964276737</td>\n",
       "      <td>...</td>\n",
       "      <td>1072</td>\n",
       "      <td>0</td>\n",
       "      <td>0</td>\n",
       "      <td>0</td>\n",
       "      <td>-0.833333</td>\n",
       "      <td>0.0</td>\n",
       "      <td>0.0</td>\n",
       "      <td>0.0000</td>\n",
       "      <td>0.0</td>\n",
       "      <td>1</td>\n",
       "    </tr>\n",
       "    <tr>\n",
       "      <th>3</th>\n",
       "      <td>2022-02-22</td>\n",
       "      <td>1496094912215130116</td>\n",
       "      <td>[russian, presid, vladimir, putin, order, troo...</td>\n",
       "      <td>1</td>\n",
       "      <td>0</td>\n",
       "      <td>0</td>\n",
       "      <td>0</td>\n",
       "      <td>['Russian', 'VladimirPutin', 'Ukraine', 'Ukrai...</td>\n",
       "      <td>TheHoardPlanet</td>\n",
       "      <td>1119787693267771392</td>\n",
       "      <td>...</td>\n",
       "      <td>196</td>\n",
       "      <td>0</td>\n",
       "      <td>0</td>\n",
       "      <td>0</td>\n",
       "      <td>-0.833333</td>\n",
       "      <td>0.0</td>\n",
       "      <td>0.0</td>\n",
       "      <td>0.0625</td>\n",
       "      <td>0.0</td>\n",
       "      <td>1</td>\n",
       "    </tr>\n",
       "    <tr>\n",
       "      <th>4</th>\n",
       "      <td>2022-02-22</td>\n",
       "      <td>1496097094352121866</td>\n",
       "      <td>[putin, call, ukrainian, statehood, fiction., ...</td>\n",
       "      <td>0</td>\n",
       "      <td>0</td>\n",
       "      <td>1</td>\n",
       "      <td>0</td>\n",
       "      <td>['Russia', 'RussiaUkraineCrisis', 'RussiaUcrai...</td>\n",
       "      <td>theasialive</td>\n",
       "      <td>1206183985337925632</td>\n",
       "      <td>...</td>\n",
       "      <td>194</td>\n",
       "      <td>0</td>\n",
       "      <td>0</td>\n",
       "      <td>0</td>\n",
       "      <td>0.000000</td>\n",
       "      <td>0.0</td>\n",
       "      <td>0.0</td>\n",
       "      <td>0.0000</td>\n",
       "      <td>0.0</td>\n",
       "      <td>0</td>\n",
       "    </tr>\n",
       "  </tbody>\n",
       "</table>\n",
       "<p>5 rows × 25 columns</p>\n",
       "</div>"
      ],
      "text/plain": [
       "     Datetime             Tweet_id  \\\n",
       "0  2022-02-22  1496090169229058054   \n",
       "1  2022-02-22  1496093418870951937   \n",
       "2  2022-02-22  1496094215000195073   \n",
       "3  2022-02-22  1496094912215130116   \n",
       "4  2022-02-22  1496097094352121866   \n",
       "\n",
       "                                       Tweet_content  Tweet_reply_count  \\\n",
       "0  [russian, troop, enter, eastern, ukrain, russi...                  0   \n",
       "1  [iran, urg, restraint, ukrain, crisis,, blame,...                  0   \n",
       "2  [current, affair, emoji, cara, revolviéndos, d...                 22   \n",
       "3  [russian, presid, vladimir, putin, order, troo...                  1   \n",
       "4  [putin, call, ukrainian, statehood, fiction., ...                  0   \n",
       "\n",
       "   Tweet_retweet_count  Tweet_like_count  Tweet_quote_count  \\\n",
       "0                    0                 0                  0   \n",
       "1                    0                 0                  0   \n",
       "2                  225               913                 21   \n",
       "3                    0                 0                  0   \n",
       "4                    0                 1                  0   \n",
       "\n",
       "                                      Tweet_hashtags         Username  \\\n",
       "0  ['Russia', 'Ukraine', 'UkraineConflict', 'Ukra...       HimanRoy14   \n",
       "1  ['Iran', 'UkraineRussiaCrisis', 'Ukraine', 'Uk...      theasialive   \n",
       "2  ['Ukraine', 'UkraineRussiaCrisis', 'UkraineCri...  SonaliS71687712   \n",
       "3  ['Russian', 'VladimirPutin', 'Ukraine', 'Ukrai...   TheHoardPlanet   \n",
       "4  ['Russia', 'RussiaUkraineCrisis', 'RussiaUcrai...      theasialive   \n",
       "\n",
       "               User_id  ...  User_media_count  hateful  aggressive  HorA  \\\n",
       "0  1319312054130389000  ...               364        0           0     0   \n",
       "1  1206183985337925632  ...               194        0           0     0   \n",
       "2  1358656011964276737  ...              1072        0           0     0   \n",
       "3  1119787693267771392  ...               196        0           0     0   \n",
       "4  1206183985337925632  ...               194        0           0     0   \n",
       "\n",
       "       care  fairness  loyalty  authority  purity  cluster  \n",
       "0 -0.833333       0.0      0.0    -0.0625     0.0        1  \n",
       "1  0.000000       0.0      0.0     0.0000     0.0        0  \n",
       "2 -0.833333       0.0      0.0     0.0000     0.0        1  \n",
       "3 -0.833333       0.0      0.0     0.0625     0.0        1  \n",
       "4  0.000000       0.0      0.0     0.0000     0.0        0  \n",
       "\n",
       "[5 rows x 25 columns]"
      ]
     },
     "execution_count": 17,
     "metadata": {},
     "output_type": "execute_result"
    }
   ],
   "source": [
    "df.head()"
   ]
  },
  {
   "cell_type": "code",
   "execution_count": 18,
   "id": "0a292678",
   "metadata": {
    "ExecuteTime": {
     "end_time": "2023-04-08T08:04:50.416597Z",
     "start_time": "2023-04-08T07:50:00.790671Z"
    }
   },
   "outputs": [],
   "source": [
    "df.to_csv(\"H:\\\\课程\\\\毕业论文\\\\data_ori_cleanded\\\\total_data_cluster3.csv\")"
   ]
  },
  {
   "cell_type": "code",
   "execution_count": null,
   "id": "1692e6c5",
   "metadata": {},
   "outputs": [],
   "source": []
  },
  {
   "cell_type": "code",
   "execution_count": null,
   "id": "e6c467b9",
   "metadata": {},
   "outputs": [],
   "source": []
  },
  {
   "cell_type": "code",
   "execution_count": null,
   "id": "448ed8e2",
   "metadata": {},
   "outputs": [],
   "source": []
  },
  {
   "cell_type": "code",
   "execution_count": null,
   "id": "bc45465c",
   "metadata": {},
   "outputs": [],
   "source": []
  },
  {
   "cell_type": "code",
   "execution_count": null,
   "id": "ec525db1",
   "metadata": {},
   "outputs": [],
   "source": []
  },
  {
   "cell_type": "code",
   "execution_count": null,
   "id": "23923dea",
   "metadata": {},
   "outputs": [],
   "source": []
  },
  {
   "cell_type": "code",
   "execution_count": null,
   "id": "339ebd01",
   "metadata": {},
   "outputs": [],
   "source": []
  },
  {
   "cell_type": "code",
   "execution_count": null,
   "id": "acc53ecf",
   "metadata": {},
   "outputs": [],
   "source": []
  },
  {
   "cell_type": "code",
   "execution_count": null,
   "id": "45ea649a",
   "metadata": {},
   "outputs": [],
   "source": []
  },
  {
   "cell_type": "code",
   "execution_count": null,
   "id": "f4819633",
   "metadata": {},
   "outputs": [],
   "source": []
  },
  {
   "cell_type": "code",
   "execution_count": null,
   "id": "31dc2e75",
   "metadata": {},
   "outputs": [],
   "source": []
  },
  {
   "cell_type": "code",
   "execution_count": null,
   "id": "d4379a15",
   "metadata": {},
   "outputs": [],
   "source": []
  },
  {
   "cell_type": "code",
   "execution_count": null,
   "id": "33329a1f",
   "metadata": {},
   "outputs": [],
   "source": []
  },
  {
   "cell_type": "code",
   "execution_count": null,
   "id": "c0409982",
   "metadata": {},
   "outputs": [],
   "source": []
  },
  {
   "cell_type": "code",
   "execution_count": null,
   "id": "ef170dd7",
   "metadata": {},
   "outputs": [],
   "source": []
  },
  {
   "cell_type": "code",
   "execution_count": null,
   "id": "b8366325",
   "metadata": {},
   "outputs": [],
   "source": []
  },
  {
   "cell_type": "code",
   "execution_count": null,
   "id": "b529b650",
   "metadata": {},
   "outputs": [],
   "source": []
  },
  {
   "cell_type": "code",
   "execution_count": null,
   "id": "6a4799a1",
   "metadata": {},
   "outputs": [],
   "source": []
  },
  {
   "cell_type": "code",
   "execution_count": null,
   "id": "993a04d4",
   "metadata": {},
   "outputs": [],
   "source": []
  },
  {
   "cell_type": "code",
   "execution_count": null,
   "id": "7e26ea29",
   "metadata": {},
   "outputs": [],
   "source": []
  },
  {
   "cell_type": "code",
   "execution_count": null,
   "id": "65b0c782",
   "metadata": {},
   "outputs": [],
   "source": []
  },
  {
   "cell_type": "code",
   "execution_count": null,
   "id": "0ab518b0",
   "metadata": {},
   "outputs": [],
   "source": []
  },
  {
   "cell_type": "code",
   "execution_count": null,
   "id": "89d3c100",
   "metadata": {},
   "outputs": [],
   "source": []
  },
  {
   "cell_type": "code",
   "execution_count": null,
   "id": "c7e63c27",
   "metadata": {},
   "outputs": [],
   "source": []
  },
  {
   "cell_type": "code",
   "execution_count": null,
   "id": "05756e22",
   "metadata": {},
   "outputs": [],
   "source": []
  },
  {
   "cell_type": "code",
   "execution_count": null,
   "id": "b0624bee",
   "metadata": {},
   "outputs": [],
   "source": []
  },
  {
   "cell_type": "code",
   "execution_count": null,
   "id": "61e00008",
   "metadata": {},
   "outputs": [],
   "source": []
  },
  {
   "cell_type": "code",
   "execution_count": null,
   "id": "3a915ab2",
   "metadata": {},
   "outputs": [],
   "source": []
  },
  {
   "cell_type": "code",
   "execution_count": null,
   "id": "9f3cd95e",
   "metadata": {},
   "outputs": [],
   "source": []
  },
  {
   "cell_type": "code",
   "execution_count": null,
   "id": "fcc6a636",
   "metadata": {},
   "outputs": [],
   "source": []
  },
  {
   "cell_type": "code",
   "execution_count": null,
   "id": "7caef4b3",
   "metadata": {},
   "outputs": [],
   "source": []
  },
  {
   "cell_type": "code",
   "execution_count": null,
   "id": "4d04c8d9",
   "metadata": {},
   "outputs": [],
   "source": []
  },
  {
   "cell_type": "code",
   "execution_count": null,
   "id": "475afc6f",
   "metadata": {},
   "outputs": [],
   "source": []
  },
  {
   "cell_type": "code",
   "execution_count": null,
   "id": "20e458b0",
   "metadata": {},
   "outputs": [],
   "source": []
  },
  {
   "cell_type": "code",
   "execution_count": null,
   "id": "e6636cfd",
   "metadata": {},
   "outputs": [],
   "source": []
  },
  {
   "cell_type": "code",
   "execution_count": null,
   "id": "35df102f",
   "metadata": {},
   "outputs": [],
   "source": []
  },
  {
   "cell_type": "code",
   "execution_count": null,
   "id": "8dd18c62",
   "metadata": {},
   "outputs": [],
   "source": []
  },
  {
   "cell_type": "code",
   "execution_count": null,
   "id": "94bfe089",
   "metadata": {},
   "outputs": [],
   "source": []
  },
  {
   "cell_type": "code",
   "execution_count": null,
   "id": "43a5fdaa",
   "metadata": {},
   "outputs": [],
   "source": []
  },
  {
   "cell_type": "code",
   "execution_count": null,
   "id": "4686e054",
   "metadata": {},
   "outputs": [],
   "source": []
  },
  {
   "cell_type": "code",
   "execution_count": null,
   "id": "dbae1d01",
   "metadata": {},
   "outputs": [],
   "source": [
    "_"
   ]
  }
 ],
 "metadata": {
  "kernelspec": {
   "display_name": "Python 3 (ipykernel)",
   "language": "python",
   "name": "python3"
  },
  "language_info": {
   "codemirror_mode": {
    "name": "ipython",
    "version": 3
   },
   "file_extension": ".py",
   "mimetype": "text/x-python",
   "name": "python",
   "nbconvert_exporter": "python",
   "pygments_lexer": "ipython3",
   "version": "3.8.13"
  },
  "varInspector": {
   "cols": {
    "lenName": 16,
    "lenType": 16,
    "lenVar": 40
   },
   "kernels_config": {
    "python": {
     "delete_cmd_postfix": "",
     "delete_cmd_prefix": "del ",
     "library": "var_list.py",
     "varRefreshCmd": "print(var_dic_list())"
    },
    "r": {
     "delete_cmd_postfix": ") ",
     "delete_cmd_prefix": "rm(",
     "library": "var_list.r",
     "varRefreshCmd": "cat(var_dic_list()) "
    }
   },
   "types_to_exclude": [
    "module",
    "function",
    "builtin_function_or_method",
    "instance",
    "_Feature"
   ],
   "window_display": false
  }
 },
 "nbformat": 4,
 "nbformat_minor": 5
}
