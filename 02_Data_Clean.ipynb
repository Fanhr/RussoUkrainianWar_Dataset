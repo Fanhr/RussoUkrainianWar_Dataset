{
 "cells": [
  {
   "cell_type": "markdown",
   "id": "c8ee8b16",
   "metadata": {
    "ExecuteTime": {
     "end_time": "2023-06-10T01:30:46.164681Z",
     "start_time": "2023-06-10T01:30:46.149127Z"
    }
   },
   "source": [
    "# 推文清洗"
   ]
  },
  {
   "cell_type": "code",
   "execution_count": 7,
   "id": "ba4084d2",
   "metadata": {
    "ExecuteTime": {
     "end_time": "2023-02-19T02:11:35.475050Z",
     "start_time": "2023-02-19T02:11:34.573543Z"
    }
   },
   "outputs": [],
   "source": [
    "import pandas as pd\n",
    "import numpy as np\n",
    "import os\n",
    "import sys\n",
    "import nltk\n",
    "from nltk import word_tokenize\n",
    "import time\n",
    "from IPython.display import clear_output as clear"
   ]
  },
  {
   "cell_type": "code",
   "execution_count": 15,
   "id": "e73636e1",
   "metadata": {
    "ExecuteTime": {
     "end_time": "2023-02-19T13:34:05.111713Z",
     "start_time": "2023-02-19T13:34:05.037755Z"
    }
   },
   "outputs": [],
   "source": [
    "#\"F:\\Russia_Ukraine_Tweets\\3.1-3.31(finished)\"\n",
    "dates = []\n",
    "for filepath, dirnames, filenames in os.walk(r'F:/Russia_Ukraine_Tweets/2.22-2.28(finished)'):\n",
    "    for filename in filenames:\n",
    "        date = os.path.join(filepath, filename)\n",
    "        dates.append(date)"
   ]
  },
  {
   "cell_type": "code",
   "execution_count": 16,
   "id": "69847b68",
   "metadata": {
    "ExecuteTime": {
     "end_time": "2023-02-19T13:34:06.911136Z",
     "start_time": "2023-02-19T13:34:06.850172Z"
    }
   },
   "outputs": [
    {
     "data": {
      "text/plain": [
       "['F:/Russia_Ukraine_Tweets/2.22-2.28(finished)\\\\tweet_ids_day_2022-2-22.txt_tweets.csv',\n",
       " 'F:/Russia_Ukraine_Tweets/2.22-2.28(finished)\\\\tweet_ids_day_2022-2-23.txt_tweets.csv',\n",
       " 'F:/Russia_Ukraine_Tweets/2.22-2.28(finished)\\\\tweet_ids_day_2022-2-24.txt_tweets.csv',\n",
       " 'F:/Russia_Ukraine_Tweets/2.22-2.28(finished)\\\\tweet_ids_day_2022-2-25.txt_tweets_1.csv',\n",
       " 'F:/Russia_Ukraine_Tweets/2.22-2.28(finished)\\\\tweet_ids_day_2022-2-25.txt_tweets_2.csv',\n",
       " 'F:/Russia_Ukraine_Tweets/2.22-2.28(finished)\\\\tweet_ids_day_2022-2-25.txt_tweets_3.csv',\n",
       " 'F:/Russia_Ukraine_Tweets/2.22-2.28(finished)\\\\tweet_ids_day_2022-2-25.txt_tweets_4.csv',\n",
       " 'F:/Russia_Ukraine_Tweets/2.22-2.28(finished)\\\\tweet_ids_day_2022-2-25.txt_tweets_5.csv',\n",
       " 'F:/Russia_Ukraine_Tweets/2.22-2.28(finished)\\\\tweet_ids_day_2022-2-25.txt_tweets_6.csv',\n",
       " 'F:/Russia_Ukraine_Tweets/2.22-2.28(finished)\\\\tweet_ids_day_2022-2-25.txt_tweets_7.csv',\n",
       " 'F:/Russia_Ukraine_Tweets/2.22-2.28(finished)\\\\tweet_ids_day_2022-2-25.txt_tweets_8.csv',\n",
       " 'F:/Russia_Ukraine_Tweets/2.22-2.28(finished)\\\\tweet_ids_day_2022-2-26.txt_tweets_1.csv',\n",
       " 'F:/Russia_Ukraine_Tweets/2.22-2.28(finished)\\\\tweet_ids_day_2022-2-26.txt_tweets_2.csv',\n",
       " 'F:/Russia_Ukraine_Tweets/2.22-2.28(finished)\\\\tweet_ids_day_2022-2-26.txt_tweets_3.csv',\n",
       " 'F:/Russia_Ukraine_Tweets/2.22-2.28(finished)\\\\tweet_ids_day_2022-2-26.txt_tweets_4.csv',\n",
       " 'F:/Russia_Ukraine_Tweets/2.22-2.28(finished)\\\\tweet_ids_day_2022-2-26.txt_tweets_5.csv',\n",
       " 'F:/Russia_Ukraine_Tweets/2.22-2.28(finished)\\\\tweet_ids_day_2022-2-26.txt_tweets_6.csv',\n",
       " 'F:/Russia_Ukraine_Tweets/2.22-2.28(finished)\\\\tweet_ids_day_2022-2-26.txt_tweets_7.csv',\n",
       " 'F:/Russia_Ukraine_Tweets/2.22-2.28(finished)\\\\tweet_ids_day_2022-2-26.txt_tweets_8.csv',\n",
       " 'F:/Russia_Ukraine_Tweets/2.22-2.28(finished)\\\\tweet_ids_day_2022-2-26.txt_tweets_9.csv',\n",
       " 'F:/Russia_Ukraine_Tweets/2.22-2.28(finished)\\\\tweet_ids_day_2022-2-27.txt_tweets_1.csv',\n",
       " 'F:/Russia_Ukraine_Tweets/2.22-2.28(finished)\\\\tweet_ids_day_2022-2-27.txt_tweets_2.csv',\n",
       " 'F:/Russia_Ukraine_Tweets/2.22-2.28(finished)\\\\tweet_ids_day_2022-2-27.txt_tweets_3.csv',\n",
       " 'F:/Russia_Ukraine_Tweets/2.22-2.28(finished)\\\\tweet_ids_day_2022-2-27.txt_tweets_4.csv',\n",
       " 'F:/Russia_Ukraine_Tweets/2.22-2.28(finished)\\\\tweet_ids_day_2022-2-27.txt_tweets_5.csv',\n",
       " 'F:/Russia_Ukraine_Tweets/2.22-2.28(finished)\\\\tweet_ids_day_2022-2-27.txt_tweets_6.csv',\n",
       " 'F:/Russia_Ukraine_Tweets/2.22-2.28(finished)\\\\tweet_ids_day_2022-2-27.txt_tweets_7.csv',\n",
       " 'F:/Russia_Ukraine_Tweets/2.22-2.28(finished)\\\\tweet_ids_day_2022-2-27.txt_tweets_8.csv',\n",
       " 'F:/Russia_Ukraine_Tweets/2.22-2.28(finished)\\\\tweet_ids_day_2022-2-28.txt_tweets_1.csv',\n",
       " 'F:/Russia_Ukraine_Tweets/2.22-2.28(finished)\\\\tweet_ids_day_2022-2-28.txt_tweets_2.csv',\n",
       " 'F:/Russia_Ukraine_Tweets/2.22-2.28(finished)\\\\tweet_ids_day_2022-2-28.txt_tweets_3.csv',\n",
       " 'F:/Russia_Ukraine_Tweets/2.22-2.28(finished)\\\\tweet_ids_day_2022-2-28.txt_tweets_4.csv',\n",
       " 'F:/Russia_Ukraine_Tweets/2.22-2.28(finished)\\\\tweet_ids_day_2022-2-28.txt_tweets_5.csv',\n",
       " 'F:/Russia_Ukraine_Tweets/2.22-2.28(finished)\\\\tweet_ids_day_2022-2-28.txt_tweets_6.csv',\n",
       " 'F:/Russia_Ukraine_Tweets/2.22-2.28(finished)\\\\tweet_ids_day_2022-2-28.txt_tweets_7.csv']"
      ]
     },
     "execution_count": 16,
     "metadata": {},
     "output_type": "execute_result"
    }
   ],
   "source": [
    "dates"
   ]
  },
  {
   "cell_type": "code",
   "execution_count": 10,
   "id": "c8f8695c",
   "metadata": {
    "ExecuteTime": {
     "end_time": "2023-02-19T02:11:37.717654Z",
     "start_time": "2023-02-19T02:11:37.708659Z"
    }
   },
   "outputs": [
    {
     "data": {
      "text/plain": [
       "'hello 李john 12，34'"
      ]
     },
     "execution_count": 10,
     "metadata": {},
     "output_type": "execute_result"
    }
   ],
   "source": [
    "import re\n",
    "#写一个清洗函数\n",
    "\n",
    "def clean_text(text):\n",
    "    # 用空字符串替换文本中所有以\"http\"开头的连续字符串，并将文本转换为小写\n",
    "    text = re.sub(\"http\\S+\", \"\", text).lower()\n",
    "    # 使用列表推导式将文本拆分为单词列表，并过滤掉所有以@开头的单词\n",
    "    text = \" \".join([w for w in text.split() if w[0]!='@'])\n",
    "    # 用空格替换文本中的所有非字母和数字字符，但不替换标点符号，并将剩余的文本转换为小写\n",
    "    text = re.sub(\"[^a-zA-Z0-9\\u4e00-\\u9fa5,，.。？?！!;；:]+\", \" \", text).lower()\n",
    "    return text\n",
    "\n",
    "test_text = 'hello @Apple, https://apple.com 李John 12，34'\n",
    "clean_text(text=test_text)\n"
   ]
  },
  {
   "cell_type": "code",
   "execution_count": 11,
   "id": "40b872f2",
   "metadata": {
    "ExecuteTime": {
     "end_time": "2023-02-19T02:11:38.385771Z",
     "start_time": "2023-02-19T02:11:38.379776Z"
    }
   },
   "outputs": [],
   "source": [
    "\n",
    "def word_more_than(text,num):#写一个检测text中单词数量是否大于num的函数\n",
    "    # 检测一段文本中的英文单词\n",
    "    tokens = nltk.word_tokenize(text)\n",
    "    # 过滤掉标点符号\n",
    "    words = [token for token in tokens if token.isalpha()]\n",
    "    if len(words)>num:\n",
    "        return 1\n",
    "    else:\n",
    "        return 0\n"
   ]
  },
  {
   "cell_type": "code",
   "execution_count": 12,
   "id": "54b2ea59",
   "metadata": {
    "ExecuteTime": {
     "end_time": "2023-02-19T02:11:39.627501Z",
     "start_time": "2023-02-19T02:11:39.612510Z"
    }
   },
   "outputs": [
    {
     "data": {
      "text/plain": [
       "'F:/Russia_Ukraine_Tweets/3.1-3.31(finished)/tweet_ids_day_2022-3-11.txt_tweets_1'"
      ]
     },
     "execution_count": 12,
     "metadata": {},
     "output_type": "execute_result"
    }
   ],
   "source": [
    "dates[10][:-4]"
   ]
  },
  {
   "cell_type": "code",
   "execution_count": 17,
   "id": "02aaba3e",
   "metadata": {
    "ExecuteTime": {
     "end_time": "2023-02-19T18:05:58.913072Z",
     "start_time": "2023-02-19T13:34:18.729816Z"
    }
   },
   "outputs": [
    {
     "name": "stdout",
     "output_type": "stream",
     "text": [
      "F:/Russia_Ukraine_Tweets/2.22-2.28(finished)\\tweet_ids_day_2022-2-28.txt_tweets_7_clean.csv  generated\n"
     ]
    }
   ],
   "source": [
    "for date in dates:\n",
    "    name = date[:-4] + '_clean.csv'\n",
    "    if os.path.exists(name):#如果已经洗过了，就跳过\n",
    "        clear(wait=True)\n",
    "        print(name,' generated', flush = True)\n",
    "        continue\n",
    "        \n",
    "    else:\n",
    "        print(name,' generating...')\n",
    "        data = pd.read_csv(date, index_col=0, dtype={'Tweet_place':str, 'Tweet_hashtags':str, 'Username':str })\n",
    "        data = data[data['Tweet_language'] == 'en']#过滤英文推特\n",
    "        data = data.reset_index(drop=True)\n",
    "        data['Tweet_isRT']=0\n",
    "        for i in range(len(data)):\n",
    "            if data.loc[i].Tweet_content[:2]=='RT':\n",
    "                data.loc[i, 'Tweet_isRT'] = 1\n",
    "                data.loc[i, 'Tweet_content'] = data.loc[i, 'Tweet_content'][3:]#删除文本中的RT标识\n",
    "\n",
    "        data['Tweet_content'] = data['Tweet_content'].apply(clean_text)#去除url、@\n",
    "        data.dropna(subset=['Tweet_content'])\n",
    "\n",
    "        #删除小于等于3个单词的推文\n",
    "        for index, row in data.iterrows():\n",
    "            text = row['Tweet_content']\n",
    "            if not word_more_than(text, 2):\n",
    "                data.drop(index, inplace=True)\n",
    "                \n",
    "        clear(wait=True)\n",
    "        print(name,' generated', flush = True)\n",
    "        data.to_csv(name)"
   ]
  },
  {
   "cell_type": "code",
   "execution_count": null,
   "id": "06239b3d",
   "metadata": {
    "ExecuteTime": {
     "end_time": "2023-02-19T02:00:26.410245Z",
     "start_time": "2023-02-19T02:00:26.399251Z"
    }
   },
   "outputs": [],
   "source": []
  },
  {
   "cell_type": "code",
   "execution_count": null,
   "id": "84a91180",
   "metadata": {},
   "outputs": [],
   "source": []
  }
 ],
 "metadata": {
  "kernelspec": {
   "display_name": "Python 3 (ipykernel)",
   "language": "python",
   "name": "python3"
  },
  "language_info": {
   "codemirror_mode": {
    "name": "ipython",
    "version": 3
   },
   "file_extension": ".py",
   "mimetype": "text/x-python",
   "name": "python",
   "nbconvert_exporter": "python",
   "pygments_lexer": "ipython3",
   "version": "3.8.13"
  },
  "varInspector": {
   "cols": {
    "lenName": 16,
    "lenType": 16,
    "lenVar": 40
   },
   "kernels_config": {
    "python": {
     "delete_cmd_postfix": "",
     "delete_cmd_prefix": "del ",
     "library": "var_list.py",
     "varRefreshCmd": "print(var_dic_list())"
    },
    "r": {
     "delete_cmd_postfix": ") ",
     "delete_cmd_prefix": "rm(",
     "library": "var_list.r",
     "varRefreshCmd": "cat(var_dic_list()) "
    }
   },
   "types_to_exclude": [
    "module",
    "function",
    "builtin_function_or_method",
    "instance",
    "_Feature"
   ],
   "window_display": false
  }
 },
 "nbformat": 4,
 "nbformat_minor": 5
}
