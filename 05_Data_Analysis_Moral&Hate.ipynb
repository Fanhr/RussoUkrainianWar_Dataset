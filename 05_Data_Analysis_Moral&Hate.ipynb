{
 "cells": [
  {
   "cell_type": "code",
   "execution_count": 1,
   "id": "568c27bc",
   "metadata": {
    "ExecuteTime": {
     "end_time": "2023-05-26T08:49:17.397351Z",
     "start_time": "2023-05-26T08:49:12.931109Z"
    }
   },
   "outputs": [],
   "source": [
    "import pandas as pd\n",
    "import numpy as np\n",
    "import matplotlib.pyplot as plt\n",
    "import seaborn as sns\n",
    "import os"
   ]
  },
  {
   "cell_type": "code",
   "execution_count": 2,
   "id": "77757f8f",
   "metadata": {
    "ExecuteTime": {
     "end_time": "2023-05-26T08:51:06.159815Z",
     "start_time": "2023-05-26T08:49:17.400312Z"
    }
   },
   "outputs": [],
   "source": [
    "df = pd.read_csv('H://课程//毕业论文//data_ori_cleanded/total_data_1.csv')"
   ]
  },
  {
   "cell_type": "code",
   "execution_count": 3,
   "id": "22cb9946",
   "metadata": {
    "ExecuteTime": {
     "end_time": "2023-05-26T08:51:15.406599Z",
     "start_time": "2023-05-26T08:51:15.333057Z"
    }
   },
   "outputs": [
    {
     "data": {
      "text/html": [
       "<div>\n",
       "<style scoped>\n",
       "    .dataframe tbody tr th:only-of-type {\n",
       "        vertical-align: middle;\n",
       "    }\n",
       "\n",
       "    .dataframe tbody tr th {\n",
       "        vertical-align: top;\n",
       "    }\n",
       "\n",
       "    .dataframe thead th {\n",
       "        text-align: right;\n",
       "    }\n",
       "</style>\n",
       "<table border=\"1\" class=\"dataframe\">\n",
       "  <thead>\n",
       "    <tr style=\"text-align: right;\">\n",
       "      <th></th>\n",
       "      <th>Unnamed: 0</th>\n",
       "      <th>Datetime</th>\n",
       "      <th>Tweet_id</th>\n",
       "      <th>Tweet_content</th>\n",
       "      <th>Tweet_reply_count</th>\n",
       "      <th>Tweet_retweet_count</th>\n",
       "      <th>Tweet_like_count</th>\n",
       "      <th>Tweet_quote_count</th>\n",
       "      <th>Tweet_hashtags</th>\n",
       "      <th>Username</th>\n",
       "      <th>...</th>\n",
       "      <th>User_listed_count</th>\n",
       "      <th>User_media_count</th>\n",
       "      <th>hateful</th>\n",
       "      <th>aggressive</th>\n",
       "      <th>HorA</th>\n",
       "      <th>care</th>\n",
       "      <th>fairness</th>\n",
       "      <th>loyalty</th>\n",
       "      <th>authority</th>\n",
       "      <th>purity</th>\n",
       "    </tr>\n",
       "  </thead>\n",
       "  <tbody>\n",
       "    <tr>\n",
       "      <th>0</th>\n",
       "      <td>0</td>\n",
       "      <td>2022-02-22</td>\n",
       "      <td>1496090169229058054</td>\n",
       "      <td>Russian troops enter eastern Ukraine russia  u...</td>\n",
       "      <td>0</td>\n",
       "      <td>0</td>\n",
       "      <td>0</td>\n",
       "      <td>0</td>\n",
       "      <td>['Russia', 'Ukraine', 'UkraineConflict', 'Ukra...</td>\n",
       "      <td>HimanRoy14</td>\n",
       "      <td>...</td>\n",
       "      <td>0</td>\n",
       "      <td>364</td>\n",
       "      <td>0</td>\n",
       "      <td>0</td>\n",
       "      <td>0</td>\n",
       "      <td>1.666667</td>\n",
       "      <td>NaN</td>\n",
       "      <td>NaN</td>\n",
       "      <td>4.75</td>\n",
       "      <td>NaN</td>\n",
       "    </tr>\n",
       "    <tr>\n",
       "      <th>1</th>\n",
       "      <td>1</td>\n",
       "      <td>2022-02-22</td>\n",
       "      <td>1496093418870951937</td>\n",
       "      <td>Iran urges restraint in Ukraine crisis, blames...</td>\n",
       "      <td>0</td>\n",
       "      <td>0</td>\n",
       "      <td>0</td>\n",
       "      <td>0</td>\n",
       "      <td>['Iran', 'UkraineRussiaCrisis', 'Ukraine', 'Uk...</td>\n",
       "      <td>theasialive</td>\n",
       "      <td>...</td>\n",
       "      <td>1</td>\n",
       "      <td>194</td>\n",
       "      <td>0</td>\n",
       "      <td>0</td>\n",
       "      <td>0</td>\n",
       "      <td>NaN</td>\n",
       "      <td>NaN</td>\n",
       "      <td>NaN</td>\n",
       "      <td>NaN</td>\n",
       "      <td>NaN</td>\n",
       "    </tr>\n",
       "    <tr>\n",
       "      <th>2</th>\n",
       "      <td>2</td>\n",
       "      <td>2022-02-22</td>\n",
       "      <td>1496094215000195073</td>\n",
       "      <td>Current Affairs  emoji cara revolviéndose de l...</td>\n",
       "      <td>22</td>\n",
       "      <td>225</td>\n",
       "      <td>913</td>\n",
       "      <td>21</td>\n",
       "      <td>['Ukraine', 'UkraineRussiaCrisis', 'UkraineCri...</td>\n",
       "      <td>SonaliS71687712</td>\n",
       "      <td>...</td>\n",
       "      <td>0</td>\n",
       "      <td>1072</td>\n",
       "      <td>0</td>\n",
       "      <td>0</td>\n",
       "      <td>0</td>\n",
       "      <td>1.666667</td>\n",
       "      <td>NaN</td>\n",
       "      <td>NaN</td>\n",
       "      <td>NaN</td>\n",
       "      <td>NaN</td>\n",
       "    </tr>\n",
       "    <tr>\n",
       "      <th>3</th>\n",
       "      <td>3</td>\n",
       "      <td>2022-02-22</td>\n",
       "      <td>1496094912215130116</td>\n",
       "      <td>russian President  vladimir putin has ordered...</td>\n",
       "      <td>1</td>\n",
       "      <td>0</td>\n",
       "      <td>0</td>\n",
       "      <td>0</td>\n",
       "      <td>['Russian', 'VladimirPutin', 'Ukraine', 'Ukrai...</td>\n",
       "      <td>TheHoardPlanet</td>\n",
       "      <td>...</td>\n",
       "      <td>1</td>\n",
       "      <td>196</td>\n",
       "      <td>0</td>\n",
       "      <td>0</td>\n",
       "      <td>0</td>\n",
       "      <td>1.666667</td>\n",
       "      <td>NaN</td>\n",
       "      <td>NaN</td>\n",
       "      <td>5.25</td>\n",
       "      <td>NaN</td>\n",
       "    </tr>\n",
       "    <tr>\n",
       "      <th>4</th>\n",
       "      <td>4</td>\n",
       "      <td>2022-02-22</td>\n",
       "      <td>1496097094352121866</td>\n",
       "      <td>Putin calls Ukrainian statehood a fiction. His...</td>\n",
       "      <td>0</td>\n",
       "      <td>0</td>\n",
       "      <td>1</td>\n",
       "      <td>0</td>\n",
       "      <td>['Russia', 'RussiaUkraineCrisis', 'RussiaUcrai...</td>\n",
       "      <td>theasialive</td>\n",
       "      <td>...</td>\n",
       "      <td>1</td>\n",
       "      <td>194</td>\n",
       "      <td>0</td>\n",
       "      <td>0</td>\n",
       "      <td>0</td>\n",
       "      <td>NaN</td>\n",
       "      <td>NaN</td>\n",
       "      <td>NaN</td>\n",
       "      <td>NaN</td>\n",
       "      <td>NaN</td>\n",
       "    </tr>\n",
       "  </tbody>\n",
       "</table>\n",
       "<p>5 rows × 25 columns</p>\n",
       "</div>"
      ],
      "text/plain": [
       "   Unnamed: 0    Datetime             Tweet_id  \\\n",
       "0           0  2022-02-22  1496090169229058054   \n",
       "1           1  2022-02-22  1496093418870951937   \n",
       "2           2  2022-02-22  1496094215000195073   \n",
       "3           3  2022-02-22  1496094912215130116   \n",
       "4           4  2022-02-22  1496097094352121866   \n",
       "\n",
       "                                       Tweet_content  Tweet_reply_count  \\\n",
       "0  Russian troops enter eastern Ukraine russia  u...                  0   \n",
       "1  Iran urges restraint in Ukraine crisis, blames...                  0   \n",
       "2  Current Affairs  emoji cara revolviéndose de l...                 22   \n",
       "3   russian President  vladimir putin has ordered...                  1   \n",
       "4  Putin calls Ukrainian statehood a fiction. His...                  0   \n",
       "\n",
       "   Tweet_retweet_count  Tweet_like_count  Tweet_quote_count  \\\n",
       "0                    0                 0                  0   \n",
       "1                    0                 0                  0   \n",
       "2                  225               913                 21   \n",
       "3                    0                 0                  0   \n",
       "4                    0                 1                  0   \n",
       "\n",
       "                                      Tweet_hashtags         Username  ...  \\\n",
       "0  ['Russia', 'Ukraine', 'UkraineConflict', 'Ukra...       HimanRoy14  ...   \n",
       "1  ['Iran', 'UkraineRussiaCrisis', 'Ukraine', 'Uk...      theasialive  ...   \n",
       "2  ['Ukraine', 'UkraineRussiaCrisis', 'UkraineCri...  SonaliS71687712  ...   \n",
       "3  ['Russian', 'VladimirPutin', 'Ukraine', 'Ukrai...   TheHoardPlanet  ...   \n",
       "4  ['Russia', 'RussiaUkraineCrisis', 'RussiaUcrai...      theasialive  ...   \n",
       "\n",
       "   User_listed_count  User_media_count  hateful  aggressive  HorA      care  \\\n",
       "0                  0               364        0           0     0  1.666667   \n",
       "1                  1               194        0           0     0       NaN   \n",
       "2                  0              1072        0           0     0  1.666667   \n",
       "3                  1               196        0           0     0  1.666667   \n",
       "4                  1               194        0           0     0       NaN   \n",
       "\n",
       "   fairness  loyalty  authority  purity  \n",
       "0       NaN      NaN       4.75     NaN  \n",
       "1       NaN      NaN        NaN     NaN  \n",
       "2       NaN      NaN        NaN     NaN  \n",
       "3       NaN      NaN       5.25     NaN  \n",
       "4       NaN      NaN        NaN     NaN  \n",
       "\n",
       "[5 rows x 25 columns]"
      ]
     },
     "execution_count": 3,
     "metadata": {},
     "output_type": "execute_result"
    }
   ],
   "source": [
    "df.head()"
   ]
  },
  {
   "cell_type": "code",
   "execution_count": 4,
   "id": "ec8d85dc",
   "metadata": {
    "ExecuteTime": {
     "end_time": "2023-05-26T08:51:34.974826Z",
     "start_time": "2023-05-26T08:51:33.928418Z"
    }
   },
   "outputs": [],
   "source": [
    "df[['care','fairness','loyalty','authority','purity']] = df[['care','fairness','loyalty','authority','purity']].fillna(0)"
   ]
  },
  {
   "cell_type": "code",
   "execution_count": 5,
   "id": "36521c3b",
   "metadata": {
    "ExecuteTime": {
     "end_time": "2023-05-26T08:51:39.738311Z",
     "start_time": "2023-05-26T08:51:39.719275Z"
    }
   },
   "outputs": [],
   "source": [
    "def normalize_data(data):\n",
    "    if data ==0:\n",
    "        return 0\n",
    "    else:\n",
    "        return (data-1)/4-1"
   ]
  },
  {
   "cell_type": "code",
   "execution_count": 6,
   "id": "1fa8895a",
   "metadata": {
    "ExecuteTime": {
     "end_time": "2023-05-26T08:52:13.864258Z",
     "start_time": "2023-05-26T08:51:43.834035Z"
    }
   },
   "outputs": [],
   "source": [
    "df.fairness = df.fairness.apply(normalize_data)\n",
    "df.loyalty = df.loyalty.apply(normalize_data)\n",
    "df.authority = df.authority.apply(normalize_data)\n",
    "df.purity = df.purity.apply(normalize_data)\n",
    "df.care = df.care.apply(normalize_data)"
   ]
  },
  {
   "cell_type": "code",
   "execution_count": 7,
   "id": "feaded9c",
   "metadata": {
    "ExecuteTime": {
     "end_time": "2023-05-16T05:46:27.121655Z",
     "start_time": "2023-05-16T05:46:24.231817Z"
    }
   },
   "outputs": [
    {
     "data": {
      "text/html": [
       "<div>\n",
       "<style scoped>\n",
       "    .dataframe tbody tr th:only-of-type {\n",
       "        vertical-align: middle;\n",
       "    }\n",
       "\n",
       "    .dataframe tbody tr th {\n",
       "        vertical-align: top;\n",
       "    }\n",
       "\n",
       "    .dataframe thead th {\n",
       "        text-align: right;\n",
       "    }\n",
       "</style>\n",
       "<table border=\"1\" class=\"dataframe\">\n",
       "  <thead>\n",
       "    <tr style=\"text-align: right;\">\n",
       "      <th></th>\n",
       "      <th>Tweet_reply_count</th>\n",
       "      <th>Tweet_retweet_count</th>\n",
       "      <th>Tweet_like_count</th>\n",
       "      <th>care</th>\n",
       "      <th>fairness</th>\n",
       "      <th>loyalty</th>\n",
       "      <th>authority</th>\n",
       "      <th>purity</th>\n",
       "    </tr>\n",
       "  </thead>\n",
       "  <tbody>\n",
       "    <tr>\n",
       "      <th>count</th>\n",
       "      <td>9842648.000</td>\n",
       "      <td>9842648.000</td>\n",
       "      <td>9842648.000</td>\n",
       "      <td>9842648.000</td>\n",
       "      <td>9842648.000</td>\n",
       "      <td>9842648.000</td>\n",
       "      <td>9842648.000</td>\n",
       "      <td>9842648.000</td>\n",
       "    </tr>\n",
       "    <tr>\n",
       "      <th>mean</th>\n",
       "      <td>0.876</td>\n",
       "      <td>5.320</td>\n",
       "      <td>15.775</td>\n",
       "      <td>-0.182</td>\n",
       "      <td>0.020</td>\n",
       "      <td>0.030</td>\n",
       "      <td>0.023</td>\n",
       "      <td>0.048</td>\n",
       "    </tr>\n",
       "    <tr>\n",
       "      <th>std</th>\n",
       "      <td>38.658</td>\n",
       "      <td>248.049</td>\n",
       "      <td>445.013</td>\n",
       "      <td>0.479</td>\n",
       "      <td>0.139</td>\n",
       "      <td>0.209</td>\n",
       "      <td>0.176</td>\n",
       "      <td>0.242</td>\n",
       "    </tr>\n",
       "    <tr>\n",
       "      <th>min</th>\n",
       "      <td>0.000</td>\n",
       "      <td>0.000</td>\n",
       "      <td>0.000</td>\n",
       "      <td>-1.000</td>\n",
       "      <td>-0.700</td>\n",
       "      <td>-1.000</td>\n",
       "      <td>-0.950</td>\n",
       "      <td>-0.917</td>\n",
       "    </tr>\n",
       "    <tr>\n",
       "      <th>25%</th>\n",
       "      <td>0.000</td>\n",
       "      <td>0.000</td>\n",
       "      <td>0.000</td>\n",
       "      <td>-0.750</td>\n",
       "      <td>0.000</td>\n",
       "      <td>0.000</td>\n",
       "      <td>0.000</td>\n",
       "      <td>0.000</td>\n",
       "    </tr>\n",
       "    <tr>\n",
       "      <th>50%</th>\n",
       "      <td>0.000</td>\n",
       "      <td>0.000</td>\n",
       "      <td>0.000</td>\n",
       "      <td>0.000</td>\n",
       "      <td>0.000</td>\n",
       "      <td>0.000</td>\n",
       "      <td>0.000</td>\n",
       "      <td>0.000</td>\n",
       "    </tr>\n",
       "    <tr>\n",
       "      <th>75%</th>\n",
       "      <td>0.000</td>\n",
       "      <td>0.000</td>\n",
       "      <td>2.000</td>\n",
       "      <td>0.000</td>\n",
       "      <td>0.000</td>\n",
       "      <td>0.000</td>\n",
       "      <td>0.000</td>\n",
       "      <td>0.000</td>\n",
       "    </tr>\n",
       "    <tr>\n",
       "      <th>max</th>\n",
       "      <td>94566.000</td>\n",
       "      <td>139611.000</td>\n",
       "      <td>347254.000</td>\n",
       "      <td>0.950</td>\n",
       "      <td>1.000</td>\n",
       "      <td>0.975</td>\n",
       "      <td>0.950</td>\n",
       "      <td>1.000</td>\n",
       "    </tr>\n",
       "  </tbody>\n",
       "</table>\n",
       "</div>"
      ],
      "text/plain": [
       "       Tweet_reply_count  Tweet_retweet_count  Tweet_like_count        care  \\\n",
       "count        9842648.000          9842648.000       9842648.000 9842648.000   \n",
       "mean               0.876                5.320            15.775      -0.182   \n",
       "std               38.658              248.049           445.013       0.479   \n",
       "min                0.000                0.000             0.000      -1.000   \n",
       "25%                0.000                0.000             0.000      -0.750   \n",
       "50%                0.000                0.000             0.000       0.000   \n",
       "75%                0.000                0.000             2.000       0.000   \n",
       "max            94566.000           139611.000        347254.000       0.950   \n",
       "\n",
       "         fairness     loyalty   authority      purity  \n",
       "count 9842648.000 9842648.000 9842648.000 9842648.000  \n",
       "mean        0.020       0.030       0.023       0.048  \n",
       "std         0.139       0.209       0.176       0.242  \n",
       "min        -0.700      -1.000      -0.950      -0.917  \n",
       "25%         0.000       0.000       0.000       0.000  \n",
       "50%         0.000       0.000       0.000       0.000  \n",
       "75%         0.000       0.000       0.000       0.000  \n",
       "max         1.000       0.975       0.950       1.000  "
      ]
     },
     "execution_count": 7,
     "metadata": {},
     "output_type": "execute_result"
    }
   ],
   "source": [
    "pd.set_option('display.float_format', lambda x: '%.3f' % x)\n",
    "df[['Tweet_reply_count', 'Tweet_retweet_count', 'Tweet_like_count', 'care', 'fairness', 'loyalty',\n",
    "       'authority', 'purity']].describe()"
   ]
  },
  {
   "cell_type": "code",
   "execution_count": 8,
   "id": "d7047c52",
   "metadata": {
    "ExecuteTime": {
     "end_time": "2023-05-16T05:46:35.984782Z",
     "start_time": "2023-05-16T05:46:33.469796Z"
    }
   },
   "outputs": [
    {
     "data": {
      "text/plain": [
       "count   1431796.000\n",
       "mean          6.874\n",
       "std          90.370\n",
       "min           1.000\n",
       "25%           1.000\n",
       "50%           1.000\n",
       "75%           3.000\n",
       "max       49280.000\n",
       "dtype: float64"
      ]
     },
     "execution_count": 8,
     "metadata": {},
     "output_type": "execute_result"
    }
   ],
   "source": [
    "df[['User_id']].value_counts().describe()"
   ]
  },
  {
   "cell_type": "code",
   "execution_count": 6,
   "id": "436fb8b5",
   "metadata": {
    "ExecuteTime": {
     "end_time": "2023-04-18T01:36:32.184749Z",
     "start_time": "2023-04-18T01:36:32.159468Z"
    }
   },
   "outputs": [
    {
     "data": {
      "text/plain": [
       "Unnamed: 0                 int64\n",
       "Datetime                  object\n",
       "Tweet_id                   int64\n",
       "Tweet_content             object\n",
       "Tweet_reply_count          int64\n",
       "Tweet_retweet_count        int64\n",
       "Tweet_like_count           int64\n",
       "Tweet_quote_count          int64\n",
       "Tweet_hashtags            object\n",
       "Username                  object\n",
       "User_id                    int64\n",
       "User_followers_count       int64\n",
       "User_friends_count         int64\n",
       "User_statuses_count        int64\n",
       "User_favourites_count      int64\n",
       "User_listed_count          int64\n",
       "User_media_count           int64\n",
       "hateful                    int64\n",
       "aggressive                 int64\n",
       "HorA                       int64\n",
       "care                     float64\n",
       "fairness                 float64\n",
       "loyalty                  float64\n",
       "authority                float64\n",
       "purity                   float64\n",
       "dtype: object"
      ]
     },
     "execution_count": 6,
     "metadata": {},
     "output_type": "execute_result"
    }
   ],
   "source": [
    "df.dtypes"
   ]
  },
  {
   "cell_type": "code",
   "execution_count": 7,
   "id": "33f65f6a",
   "metadata": {
    "ExecuteTime": {
     "end_time": "2023-04-18T01:37:45.662413Z",
     "start_time": "2023-04-18T01:37:45.654884Z"
    }
   },
   "outputs": [
    {
     "data": {
      "text/plain": [
       "Index(['Unnamed: 0', 'Datetime', 'Tweet_id', 'Tweet_content',\n",
       "       'Tweet_reply_count', 'Tweet_retweet_count', 'Tweet_like_count',\n",
       "       'Tweet_quote_count', 'Tweet_hashtags', 'Username', 'User_id',\n",
       "       'User_followers_count', 'User_friends_count', 'User_statuses_count',\n",
       "       'User_favourites_count', 'User_listed_count', 'User_media_count',\n",
       "       'hateful', 'aggressive', 'HorA', 'care', 'fairness', 'loyalty',\n",
       "       'authority', 'purity'],\n",
       "      dtype='object')"
      ]
     },
     "execution_count": 7,
     "metadata": {},
     "output_type": "execute_result"
    }
   ],
   "source": [
    "df.columns"
   ]
  },
  {
   "cell_type": "code",
   "execution_count": 8,
   "id": "72d99284",
   "metadata": {
    "ExecuteTime": {
     "end_time": "2023-04-18T01:37:52.758420Z",
     "start_time": "2023-04-18T01:37:52.635348Z"
    }
   },
   "outputs": [
    {
     "data": {
      "text/plain": [
       "0    9004363\n",
       "1     838285\n",
       "Name: HorA, dtype: int64"
      ]
     },
     "execution_count": 8,
     "metadata": {},
     "output_type": "execute_result"
    }
   ],
   "source": [
    "df['HorA'].value_counts()"
   ]
  },
  {
   "cell_type": "code",
   "execution_count": 8,
   "id": "1e54ef29",
   "metadata": {
    "ExecuteTime": {
     "end_time": "2023-04-17T03:27:43.841991Z",
     "start_time": "2023-04-17T03:27:41.297017Z"
    }
   },
   "outputs": [
    {
     "data": {
      "text/plain": [
       "array([<AxesSubplot:xlabel='Datetime'>, <AxesSubplot:xlabel='Datetime'>,\n",
       "       <AxesSubplot:xlabel='Datetime'>, <AxesSubplot:xlabel='Datetime'>,\n",
       "       <AxesSubplot:xlabel='Datetime'>], dtype=object)"
      ]
     },
     "execution_count": 8,
     "metadata": {},
     "output_type": "execute_result"
    },
    {
     "data": {
      "image/png": "[encoded data removed]",
      "text/plain": [
       "<Figure size 640x480 with 5 Axes>"
      ]
     },
     "metadata": {},
     "output_type": "display_data"
    }
   ],
   "source": [
    "df.pivot_table(index = 'Datetime', values=['authority','care','fairness','loyalty','purity'],\n",
    "               aggfunc={'authority':np.mean,'care':np.mean,'fairness':np.mean,'loyalty':np.mean,'purity':np.mean,}).plot.line(subplots=True)"
   ]
  },
  {
   "cell_type": "code",
   "execution_count": 47,
   "id": "0ed1bce0",
   "metadata": {
    "ExecuteTime": {
     "end_time": "2023-04-04T06:40:07.556042Z",
     "start_time": "2023-04-04T06:40:05.457913Z"
    }
   },
   "outputs": [
    {
     "data": {
      "text/plain": [
       "Unnamed: 0               838285\n",
       "Datetime                 838285\n",
       "Tweet_id                 838285\n",
       "Tweet_content            838285\n",
       "Tweet_reply_count        838285\n",
       "Tweet_retweet_count      838285\n",
       "Tweet_like_count         838285\n",
       "Tweet_quote_count        838285\n",
       "Tweet_hashtags           785576\n",
       "Username                 838285\n",
       "User_id                  838285\n",
       "User_followers_count     838285\n",
       "User_friends_count       838285\n",
       "User_statuses_count      838285\n",
       "User_favourites_count    838285\n",
       "User_listed_count        838285\n",
       "User_media_count         838285\n",
       "hateful                  838285\n",
       "aggressive               838285\n",
       "HorA                     838285\n",
       "care                     579657\n",
       "fairness                 222698\n",
       "loyalty                  113814\n",
       "authority                 84730\n",
       "purity                    90362\n",
       "dtype: int64"
      ]
     },
     "execution_count": 47,
     "metadata": {},
     "output_type": "execute_result"
    }
   ],
   "source": [
    "df[df['HorA']==1].count()"
   ]
  },
  {
   "cell_type": "code",
   "execution_count": 48,
   "id": "1e236bc4",
   "metadata": {
    "ExecuteTime": {
     "end_time": "2023-04-04T06:40:34.430133Z",
     "start_time": "2023-04-04T06:40:26.288385Z"
    }
   },
   "outputs": [
    {
     "data": {
      "text/plain": [
       "Unnamed: 0               9004363\n",
       "Datetime                 9004363\n",
       "Tweet_id                 9004363\n",
       "Tweet_content            9004363\n",
       "Tweet_reply_count        9004363\n",
       "Tweet_retweet_count      9004363\n",
       "Tweet_like_count         9004363\n",
       "Tweet_quote_count        9004363\n",
       "Tweet_hashtags           7737597\n",
       "Username                 9004362\n",
       "User_id                  9004363\n",
       "User_followers_count     9004363\n",
       "User_friends_count       9004363\n",
       "User_statuses_count      9004363\n",
       "User_favourites_count    9004363\n",
       "User_listed_count        9004363\n",
       "User_media_count         9004363\n",
       "hateful                  9004363\n",
       "aggressive               9004363\n",
       "HorA                     9004363\n",
       "care                     4007993\n",
       "fairness                  456904\n",
       "loyalty                  1162366\n",
       "authority                 938897\n",
       "purity                    980587\n",
       "dtype: int64"
      ]
     },
     "execution_count": 48,
     "metadata": {},
     "output_type": "execute_result"
    }
   ],
   "source": [
    "df[df['HorA']==0].count()"
   ]
  },
  {
   "cell_type": "code",
   "execution_count": 12,
   "id": "44da58da",
   "metadata": {
    "ExecuteTime": {
     "end_time": "2023-04-04T02:23:50.191424Z",
     "start_time": "2023-04-04T02:23:43.971354Z"
    }
   },
   "outputs": [],
   "source": [
    "nonhate_des = df[df['HorA']==0].describe()\n",
    "hate_des = df[df['HorA']==1].describe()"
   ]
  },
  {
   "cell_type": "code",
   "execution_count": 13,
   "id": "439352af",
   "metadata": {
    "ExecuteTime": {
     "end_time": "2023-04-04T02:23:55.547470Z",
     "start_time": "2023-04-04T02:23:55.489207Z"
    }
   },
   "outputs": [
    {
     "data": {
      "text/html": [
       "<div>\n",
       "<style scoped>\n",
       "    .dataframe tbody tr th:only-of-type {\n",
       "        vertical-align: middle;\n",
       "    }\n",
       "\n",
       "    .dataframe tbody tr th {\n",
       "        vertical-align: top;\n",
       "    }\n",
       "\n",
       "    .dataframe thead th {\n",
       "        text-align: right;\n",
       "    }\n",
       "</style>\n",
       "<table border=\"1\" class=\"dataframe\">\n",
       "  <thead>\n",
       "    <tr style=\"text-align: right;\">\n",
       "      <th></th>\n",
       "      <th>Unnamed: 0</th>\n",
       "      <th>Tweet_id</th>\n",
       "      <th>Tweet_reply_count</th>\n",
       "      <th>Tweet_retweet_count</th>\n",
       "      <th>Tweet_like_count</th>\n",
       "      <th>Tweet_quote_count</th>\n",
       "      <th>User_id</th>\n",
       "      <th>User_followers_count</th>\n",
       "      <th>User_friends_count</th>\n",
       "      <th>User_statuses_count</th>\n",
       "      <th>...</th>\n",
       "      <th>User_listed_count</th>\n",
       "      <th>User_media_count</th>\n",
       "      <th>hateful</th>\n",
       "      <th>aggressive</th>\n",
       "      <th>HorA</th>\n",
       "      <th>care</th>\n",
       "      <th>fairness</th>\n",
       "      <th>loyalty</th>\n",
       "      <th>authority</th>\n",
       "      <th>purity</th>\n",
       "    </tr>\n",
       "  </thead>\n",
       "  <tbody>\n",
       "    <tr>\n",
       "      <th>count</th>\n",
       "      <td>9.004363e+06</td>\n",
       "      <td>9.004363e+06</td>\n",
       "      <td>9.004363e+06</td>\n",
       "      <td>9.004363e+06</td>\n",
       "      <td>9.004363e+06</td>\n",
       "      <td>9.004363e+06</td>\n",
       "      <td>9.004363e+06</td>\n",
       "      <td>9.004363e+06</td>\n",
       "      <td>9.004363e+06</td>\n",
       "      <td>9.004363e+06</td>\n",
       "      <td>...</td>\n",
       "      <td>9.004363e+06</td>\n",
       "      <td>9.004363e+06</td>\n",
       "      <td>9004363.0</td>\n",
       "      <td>9004363.0</td>\n",
       "      <td>9004363.0</td>\n",
       "      <td>4.007993e+06</td>\n",
       "      <td>456904.000000</td>\n",
       "      <td>1.162366e+06</td>\n",
       "      <td>938897.000000</td>\n",
       "      <td>980587.000000</td>\n",
       "    </tr>\n",
       "    <tr>\n",
       "      <th>mean</th>\n",
       "      <td>5.005010e+06</td>\n",
       "      <td>1.516508e+18</td>\n",
       "      <td>9.183890e-01</td>\n",
       "      <td>5.671463e+00</td>\n",
       "      <td>1.677814e+01</td>\n",
       "      <td>3.462508e-01</td>\n",
       "      <td>6.667145e+17</td>\n",
       "      <td>3.356482e+04</td>\n",
       "      <td>1.849388e+03</td>\n",
       "      <td>4.850136e+04</td>\n",
       "      <td>...</td>\n",
       "      <td>1.485094e+02</td>\n",
       "      <td>6.791150e+03</td>\n",
       "      <td>0.0</td>\n",
       "      <td>0.0</td>\n",
       "      <td>0.0</td>\n",
       "      <td>-4.226502e-01</td>\n",
       "      <td>0.453621</td>\n",
       "      <td>2.536022e-01</td>\n",
       "      <td>0.222323</td>\n",
       "      <td>0.467513</td>\n",
       "    </tr>\n",
       "    <tr>\n",
       "      <th>std</th>\n",
       "      <td>2.836691e+06</td>\n",
       "      <td>2.126943e+16</td>\n",
       "      <td>3.958406e+01</td>\n",
       "      <td>2.588550e+02</td>\n",
       "      <td>4.620938e+02</td>\n",
       "      <td>1.666695e+01</td>\n",
       "      <td>6.609697e+17</td>\n",
       "      <td>4.888568e+05</td>\n",
       "      <td>6.878255e+03</td>\n",
       "      <td>1.428872e+05</td>\n",
       "      <td>...</td>\n",
       "      <td>9.174889e+02</td>\n",
       "      <td>6.209483e+04</td>\n",
       "      <td>0.0</td>\n",
       "      <td>0.0</td>\n",
       "      <td>0.0</td>\n",
       "      <td>6.164473e-01</td>\n",
       "      <td>0.399315</td>\n",
       "      <td>5.307752e-01</td>\n",
       "      <td>0.505450</td>\n",
       "      <td>0.587591</td>\n",
       "    </tr>\n",
       "    <tr>\n",
       "      <th>min</th>\n",
       "      <td>0.000000e+00</td>\n",
       "      <td>1.496090e+18</td>\n",
       "      <td>0.000000e+00</td>\n",
       "      <td>0.000000e+00</td>\n",
       "      <td>0.000000e+00</td>\n",
       "      <td>0.000000e+00</td>\n",
       "      <td>1.550000e+02</td>\n",
       "      <td>0.000000e+00</td>\n",
       "      <td>0.000000e+00</td>\n",
       "      <td>1.000000e+00</td>\n",
       "      <td>...</td>\n",
       "      <td>0.000000e+00</td>\n",
       "      <td>0.000000e+00</td>\n",
       "      <td>0.0</td>\n",
       "      <td>0.0</td>\n",
       "      <td>0.0</td>\n",
       "      <td>-1.000000e+00</td>\n",
       "      <td>-0.700000</td>\n",
       "      <td>-1.000000e+00</td>\n",
       "      <td>-0.950000</td>\n",
       "      <td>-0.916667</td>\n",
       "    </tr>\n",
       "    <tr>\n",
       "      <th>25%</th>\n",
       "      <td>2.597592e+06</td>\n",
       "      <td>1.499846e+18</td>\n",
       "      <td>0.000000e+00</td>\n",
       "      <td>0.000000e+00</td>\n",
       "      <td>0.000000e+00</td>\n",
       "      <td>0.000000e+00</td>\n",
       "      <td>3.597270e+08</td>\n",
       "      <td>8.900000e+01</td>\n",
       "      <td>1.040000e+02</td>\n",
       "      <td>2.222000e+03</td>\n",
       "      <td>...</td>\n",
       "      <td>0.000000e+00</td>\n",
       "      <td>1.070000e+02</td>\n",
       "      <td>0.0</td>\n",
       "      <td>0.0</td>\n",
       "      <td>0.0</td>\n",
       "      <td>-8.333333e-01</td>\n",
       "      <td>0.075000</td>\n",
       "      <td>-1.250000e-01</td>\n",
       "      <td>-0.200000</td>\n",
       "      <td>0.458333</td>\n",
       "    </tr>\n",
       "    <tr>\n",
       "      <th>50%</th>\n",
       "      <td>5.037987e+06</td>\n",
       "      <td>1.506989e+18</td>\n",
       "      <td>0.000000e+00</td>\n",
       "      <td>0.000000e+00</td>\n",
       "      <td>0.000000e+00</td>\n",
       "      <td>0.000000e+00</td>\n",
       "      <td>7.758810e+17</td>\n",
       "      <td>5.390000e+02</td>\n",
       "      <td>4.970000e+02</td>\n",
       "      <td>1.032600e+04</td>\n",
       "      <td>...</td>\n",
       "      <td>5.000000e+00</td>\n",
       "      <td>7.020000e+02</td>\n",
       "      <td>0.0</td>\n",
       "      <td>0.0</td>\n",
       "      <td>0.0</td>\n",
       "      <td>-8.333333e-01</td>\n",
       "      <td>0.650000</td>\n",
       "      <td>3.333333e-01</td>\n",
       "      <td>0.291667</td>\n",
       "      <td>0.750000</td>\n",
       "    </tr>\n",
       "    <tr>\n",
       "      <th>75%</th>\n",
       "      <td>7.464256e+06</td>\n",
       "      <td>1.527206e+18</td>\n",
       "      <td>0.000000e+00</td>\n",
       "      <td>1.000000e+00</td>\n",
       "      <td>2.000000e+00</td>\n",
       "      <td>0.000000e+00</td>\n",
       "      <td>1.374219e+18</td>\n",
       "      <td>2.568000e+03</td>\n",
       "      <td>1.762000e+03</td>\n",
       "      <td>3.939400e+04</td>\n",
       "      <td>...</td>\n",
       "      <td>3.400000e+01</td>\n",
       "      <td>2.888000e+03</td>\n",
       "      <td>0.0</td>\n",
       "      <td>0.0</td>\n",
       "      <td>0.0</td>\n",
       "      <td>-1.500000e-01</td>\n",
       "      <td>0.791667</td>\n",
       "      <td>7.500000e-01</td>\n",
       "      <td>0.666667</td>\n",
       "      <td>0.850000</td>\n",
       "    </tr>\n",
       "    <tr>\n",
       "      <th>max</th>\n",
       "      <td>9.842647e+06</td>\n",
       "      <td>1.572585e+18</td>\n",
       "      <td>9.456600e+04</td>\n",
       "      <td>1.396110e+05</td>\n",
       "      <td>3.472540e+05</td>\n",
       "      <td>2.904700e+04</td>\n",
       "      <td>1.572574e+18</td>\n",
       "      <td>6.102560e+07</td>\n",
       "      <td>1.437501e+06</td>\n",
       "      <td>4.202891e+06</td>\n",
       "      <td>...</td>\n",
       "      <td>1.568670e+05</td>\n",
       "      <td>2.972651e+06</td>\n",
       "      <td>0.0</td>\n",
       "      <td>0.0</td>\n",
       "      <td>0.0</td>\n",
       "      <td>9.500000e-01</td>\n",
       "      <td>1.000000</td>\n",
       "      <td>9.750000e-01</td>\n",
       "      <td>0.950000</td>\n",
       "      <td>1.000000</td>\n",
       "    </tr>\n",
       "  </tbody>\n",
       "</table>\n",
       "<p>8 rows × 21 columns</p>\n",
       "</div>"
      ],
      "text/plain": [
       "         Unnamed: 0      Tweet_id  Tweet_reply_count  Tweet_retweet_count  \\\n",
       "count  9.004363e+06  9.004363e+06       9.004363e+06         9.004363e+06   \n",
       "mean   5.005010e+06  1.516508e+18       9.183890e-01         5.671463e+00   \n",
       "std    2.836691e+06  2.126943e+16       3.958406e+01         2.588550e+02   \n",
       "min    0.000000e+00  1.496090e+18       0.000000e+00         0.000000e+00   \n",
       "25%    2.597592e+06  1.499846e+18       0.000000e+00         0.000000e+00   \n",
       "50%    5.037987e+06  1.506989e+18       0.000000e+00         0.000000e+00   \n",
       "75%    7.464256e+06  1.527206e+18       0.000000e+00         1.000000e+00   \n",
       "max    9.842647e+06  1.572585e+18       9.456600e+04         1.396110e+05   \n",
       "\n",
       "       Tweet_like_count  Tweet_quote_count       User_id  \\\n",
       "count      9.004363e+06       9.004363e+06  9.004363e+06   \n",
       "mean       1.677814e+01       3.462508e-01  6.667145e+17   \n",
       "std        4.620938e+02       1.666695e+01  6.609697e+17   \n",
       "min        0.000000e+00       0.000000e+00  1.550000e+02   \n",
       "25%        0.000000e+00       0.000000e+00  3.597270e+08   \n",
       "50%        0.000000e+00       0.000000e+00  7.758810e+17   \n",
       "75%        2.000000e+00       0.000000e+00  1.374219e+18   \n",
       "max        3.472540e+05       2.904700e+04  1.572574e+18   \n",
       "\n",
       "       User_followers_count  User_friends_count  User_statuses_count  ...  \\\n",
       "count          9.004363e+06        9.004363e+06         9.004363e+06  ...   \n",
       "mean           3.356482e+04        1.849388e+03         4.850136e+04  ...   \n",
       "std            4.888568e+05        6.878255e+03         1.428872e+05  ...   \n",
       "min            0.000000e+00        0.000000e+00         1.000000e+00  ...   \n",
       "25%            8.900000e+01        1.040000e+02         2.222000e+03  ...   \n",
       "50%            5.390000e+02        4.970000e+02         1.032600e+04  ...   \n",
       "75%            2.568000e+03        1.762000e+03         3.939400e+04  ...   \n",
       "max            6.102560e+07        1.437501e+06         4.202891e+06  ...   \n",
       "\n",
       "       User_listed_count  User_media_count    hateful  aggressive       HorA  \\\n",
       "count       9.004363e+06      9.004363e+06  9004363.0   9004363.0  9004363.0   \n",
       "mean        1.485094e+02      6.791150e+03        0.0         0.0        0.0   \n",
       "std         9.174889e+02      6.209483e+04        0.0         0.0        0.0   \n",
       "min         0.000000e+00      0.000000e+00        0.0         0.0        0.0   \n",
       "25%         0.000000e+00      1.070000e+02        0.0         0.0        0.0   \n",
       "50%         5.000000e+00      7.020000e+02        0.0         0.0        0.0   \n",
       "75%         3.400000e+01      2.888000e+03        0.0         0.0        0.0   \n",
       "max         1.568670e+05      2.972651e+06        0.0         0.0        0.0   \n",
       "\n",
       "               care       fairness       loyalty      authority         purity  \n",
       "count  4.007993e+06  456904.000000  1.162366e+06  938897.000000  980587.000000  \n",
       "mean  -4.226502e-01       0.453621  2.536022e-01       0.222323       0.467513  \n",
       "std    6.164473e-01       0.399315  5.307752e-01       0.505450       0.587591  \n",
       "min   -1.000000e+00      -0.700000 -1.000000e+00      -0.950000      -0.916667  \n",
       "25%   -8.333333e-01       0.075000 -1.250000e-01      -0.200000       0.458333  \n",
       "50%   -8.333333e-01       0.650000  3.333333e-01       0.291667       0.750000  \n",
       "75%   -1.500000e-01       0.791667  7.500000e-01       0.666667       0.850000  \n",
       "max    9.500000e-01       1.000000  9.750000e-01       0.950000       1.000000  \n",
       "\n",
       "[8 rows x 21 columns]"
      ]
     },
     "execution_count": 13,
     "metadata": {},
     "output_type": "execute_result"
    }
   ],
   "source": [
    "nonhate_des"
   ]
  },
  {
   "cell_type": "code",
   "execution_count": 14,
   "id": "5acdd9e3",
   "metadata": {
    "ExecuteTime": {
     "end_time": "2023-04-04T02:24:00.769484Z",
     "start_time": "2023-04-04T02:24:00.709879Z"
    }
   },
   "outputs": [
    {
     "data": {
      "text/html": [
       "<div>\n",
       "<style scoped>\n",
       "    .dataframe tbody tr th:only-of-type {\n",
       "        vertical-align: middle;\n",
       "    }\n",
       "\n",
       "    .dataframe tbody tr th {\n",
       "        vertical-align: top;\n",
       "    }\n",
       "\n",
       "    .dataframe thead th {\n",
       "        text-align: right;\n",
       "    }\n",
       "</style>\n",
       "<table border=\"1\" class=\"dataframe\">\n",
       "  <thead>\n",
       "    <tr style=\"text-align: right;\">\n",
       "      <th></th>\n",
       "      <th>Unnamed: 0</th>\n",
       "      <th>Tweet_id</th>\n",
       "      <th>Tweet_reply_count</th>\n",
       "      <th>Tweet_retweet_count</th>\n",
       "      <th>Tweet_like_count</th>\n",
       "      <th>Tweet_quote_count</th>\n",
       "      <th>User_id</th>\n",
       "      <th>User_followers_count</th>\n",
       "      <th>User_friends_count</th>\n",
       "      <th>User_statuses_count</th>\n",
       "      <th>...</th>\n",
       "      <th>User_listed_count</th>\n",
       "      <th>User_media_count</th>\n",
       "      <th>hateful</th>\n",
       "      <th>aggressive</th>\n",
       "      <th>HorA</th>\n",
       "      <th>care</th>\n",
       "      <th>fairness</th>\n",
       "      <th>loyalty</th>\n",
       "      <th>authority</th>\n",
       "      <th>purity</th>\n",
       "    </tr>\n",
       "  </thead>\n",
       "  <tbody>\n",
       "    <tr>\n",
       "      <th>count</th>\n",
       "      <td>8.382850e+05</td>\n",
       "      <td>8.382850e+05</td>\n",
       "      <td>838285.000000</td>\n",
       "      <td>838285.000000</td>\n",
       "      <td>838285.000000</td>\n",
       "      <td>838285.000000</td>\n",
       "      <td>8.382850e+05</td>\n",
       "      <td>8.382850e+05</td>\n",
       "      <td>838285.000000</td>\n",
       "      <td>8.382850e+05</td>\n",
       "      <td>...</td>\n",
       "      <td>838285.000000</td>\n",
       "      <td>8.382850e+05</td>\n",
       "      <td>838285.000000</td>\n",
       "      <td>838285.000000</td>\n",
       "      <td>838285.0</td>\n",
       "      <td>579657.000000</td>\n",
       "      <td>222698.000000</td>\n",
       "      <td>113814.000000</td>\n",
       "      <td>84730.000000</td>\n",
       "      <td>90362.000000</td>\n",
       "    </tr>\n",
       "    <tr>\n",
       "      <th>mean</th>\n",
       "      <td>4.022415e+06</td>\n",
       "      <td>1.510258e+18</td>\n",
       "      <td>0.422282</td>\n",
       "      <td>1.544561</td>\n",
       "      <td>4.995968</td>\n",
       "      <td>0.147641</td>\n",
       "      <td>8.166480e+17</td>\n",
       "      <td>2.802261e+03</td>\n",
       "      <td>1153.056967</td>\n",
       "      <td>2.539288e+04</td>\n",
       "      <td>...</td>\n",
       "      <td>28.472195</td>\n",
       "      <td>2.824397e+03</td>\n",
       "      <td>0.999390</td>\n",
       "      <td>0.410748</td>\n",
       "      <td>1.0</td>\n",
       "      <td>-0.165029</td>\n",
       "      <td>-0.051206</td>\n",
       "      <td>-0.013827</td>\n",
       "      <td>0.173127</td>\n",
       "      <td>0.189617</td>\n",
       "    </tr>\n",
       "    <tr>\n",
       "      <th>std</th>\n",
       "      <td>2.733627e+06</td>\n",
       "      <td>1.840651e+16</td>\n",
       "      <td>26.754749</td>\n",
       "      <td>51.717976</td>\n",
       "      <td>177.416112</td>\n",
       "      <td>6.561883</td>\n",
       "      <td>6.512179e+17</td>\n",
       "      <td>7.903889e+04</td>\n",
       "      <td>6134.437886</td>\n",
       "      <td>7.637615e+04</td>\n",
       "      <td>...</td>\n",
       "      <td>278.126526</td>\n",
       "      <td>2.537972e+04</td>\n",
       "      <td>0.024682</td>\n",
       "      <td>0.491970</td>\n",
       "      <td>0.0</td>\n",
       "      <td>0.752203</td>\n",
       "      <td>0.336993</td>\n",
       "      <td>0.555875</td>\n",
       "      <td>0.503605</td>\n",
       "      <td>0.696559</td>\n",
       "    </tr>\n",
       "    <tr>\n",
       "      <th>min</th>\n",
       "      <td>2.700000e+01</td>\n",
       "      <td>1.496107e+18</td>\n",
       "      <td>0.000000</td>\n",
       "      <td>0.000000</td>\n",
       "      <td>0.000000</td>\n",
       "      <td>0.000000</td>\n",
       "      <td>2.240000e+02</td>\n",
       "      <td>0.000000e+00</td>\n",
       "      <td>0.000000</td>\n",
       "      <td>1.000000e+00</td>\n",
       "      <td>...</td>\n",
       "      <td>0.000000</td>\n",
       "      <td>0.000000e+00</td>\n",
       "      <td>0.000000</td>\n",
       "      <td>0.000000</td>\n",
       "      <td>1.0</td>\n",
       "      <td>-1.000000</td>\n",
       "      <td>-0.571429</td>\n",
       "      <td>-1.000000</td>\n",
       "      <td>-0.950000</td>\n",
       "      <td>-0.916667</td>\n",
       "    </tr>\n",
       "    <tr>\n",
       "      <th>25%</th>\n",
       "      <td>1.495092e+06</td>\n",
       "      <td>1.498629e+18</td>\n",
       "      <td>0.000000</td>\n",
       "      <td>0.000000</td>\n",
       "      <td>0.000000</td>\n",
       "      <td>0.000000</td>\n",
       "      <td>1.531104e+09</td>\n",
       "      <td>7.000000e+00</td>\n",
       "      <td>36.000000</td>\n",
       "      <td>5.500000e+02</td>\n",
       "      <td>...</td>\n",
       "      <td>0.000000</td>\n",
       "      <td>2.000000e+01</td>\n",
       "      <td>1.000000</td>\n",
       "      <td>0.000000</td>\n",
       "      <td>1.0</td>\n",
       "      <td>-0.833333</td>\n",
       "      <td>-0.200000</td>\n",
       "      <td>-0.437500</td>\n",
       "      <td>-0.285714</td>\n",
       "      <td>-0.571429</td>\n",
       "    </tr>\n",
       "    <tr>\n",
       "      <th>50%</th>\n",
       "      <td>3.419830e+06</td>\n",
       "      <td>1.501564e+18</td>\n",
       "      <td>0.000000</td>\n",
       "      <td>0.000000</td>\n",
       "      <td>0.000000</td>\n",
       "      <td>0.000000</td>\n",
       "      <td>1.055140e+18</td>\n",
       "      <td>8.800000e+01</td>\n",
       "      <td>173.000000</td>\n",
       "      <td>3.658000e+03</td>\n",
       "      <td>...</td>\n",
       "      <td>1.000000</td>\n",
       "      <td>2.280000e+02</td>\n",
       "      <td>1.000000</td>\n",
       "      <td>0.000000</td>\n",
       "      <td>1.0</td>\n",
       "      <td>-0.583333</td>\n",
       "      <td>-0.200000</td>\n",
       "      <td>-0.285714</td>\n",
       "      <td>0.287500</td>\n",
       "      <td>0.687500</td>\n",
       "    </tr>\n",
       "    <tr>\n",
       "      <th>75%</th>\n",
       "      <td>6.164581e+06</td>\n",
       "      <td>1.512557e+18</td>\n",
       "      <td>0.000000</td>\n",
       "      <td>0.000000</td>\n",
       "      <td>1.000000</td>\n",
       "      <td>0.000000</td>\n",
       "      <td>1.467537e+18</td>\n",
       "      <td>6.080000e+02</td>\n",
       "      <td>844.000000</td>\n",
       "      <td>1.871600e+04</td>\n",
       "      <td>...</td>\n",
       "      <td>6.000000</td>\n",
       "      <td>1.354000e+03</td>\n",
       "      <td>1.000000</td>\n",
       "      <td>1.000000</td>\n",
       "      <td>1.0</td>\n",
       "      <td>0.800000</td>\n",
       "      <td>-0.200000</td>\n",
       "      <td>0.535714</td>\n",
       "      <td>0.666667</td>\n",
       "      <td>0.850000</td>\n",
       "    </tr>\n",
       "    <tr>\n",
       "      <th>max</th>\n",
       "      <td>9.842636e+06</td>\n",
       "      <td>1.572585e+18</td>\n",
       "      <td>20388.000000</td>\n",
       "      <td>23857.000000</td>\n",
       "      <td>58766.000000</td>\n",
       "      <td>2404.000000</td>\n",
       "      <td>1.572473e+18</td>\n",
       "      <td>1.868667e+07</td>\n",
       "      <td>599766.000000</td>\n",
       "      <td>4.161935e+06</td>\n",
       "      <td>...</td>\n",
       "      <td>63557.000000</td>\n",
       "      <td>2.972634e+06</td>\n",
       "      <td>1.000000</td>\n",
       "      <td>1.000000</td>\n",
       "      <td>1.0</td>\n",
       "      <td>0.950000</td>\n",
       "      <td>1.000000</td>\n",
       "      <td>0.975000</td>\n",
       "      <td>0.950000</td>\n",
       "      <td>1.000000</td>\n",
       "    </tr>\n",
       "  </tbody>\n",
       "</table>\n",
       "<p>8 rows × 21 columns</p>\n",
       "</div>"
      ],
      "text/plain": [
       "         Unnamed: 0      Tweet_id  Tweet_reply_count  Tweet_retweet_count  \\\n",
       "count  8.382850e+05  8.382850e+05      838285.000000        838285.000000   \n",
       "mean   4.022415e+06  1.510258e+18           0.422282             1.544561   \n",
       "std    2.733627e+06  1.840651e+16          26.754749            51.717976   \n",
       "min    2.700000e+01  1.496107e+18           0.000000             0.000000   \n",
       "25%    1.495092e+06  1.498629e+18           0.000000             0.000000   \n",
       "50%    3.419830e+06  1.501564e+18           0.000000             0.000000   \n",
       "75%    6.164581e+06  1.512557e+18           0.000000             0.000000   \n",
       "max    9.842636e+06  1.572585e+18       20388.000000         23857.000000   \n",
       "\n",
       "       Tweet_like_count  Tweet_quote_count       User_id  \\\n",
       "count     838285.000000      838285.000000  8.382850e+05   \n",
       "mean           4.995968           0.147641  8.166480e+17   \n",
       "std          177.416112           6.561883  6.512179e+17   \n",
       "min            0.000000           0.000000  2.240000e+02   \n",
       "25%            0.000000           0.000000  1.531104e+09   \n",
       "50%            0.000000           0.000000  1.055140e+18   \n",
       "75%            1.000000           0.000000  1.467537e+18   \n",
       "max        58766.000000        2404.000000  1.572473e+18   \n",
       "\n",
       "       User_followers_count  User_friends_count  User_statuses_count  ...  \\\n",
       "count          8.382850e+05       838285.000000         8.382850e+05  ...   \n",
       "mean           2.802261e+03         1153.056967         2.539288e+04  ...   \n",
       "std            7.903889e+04         6134.437886         7.637615e+04  ...   \n",
       "min            0.000000e+00            0.000000         1.000000e+00  ...   \n",
       "25%            7.000000e+00           36.000000         5.500000e+02  ...   \n",
       "50%            8.800000e+01          173.000000         3.658000e+03  ...   \n",
       "75%            6.080000e+02          844.000000         1.871600e+04  ...   \n",
       "max            1.868667e+07       599766.000000         4.161935e+06  ...   \n",
       "\n",
       "       User_listed_count  User_media_count        hateful     aggressive  \\\n",
       "count      838285.000000      8.382850e+05  838285.000000  838285.000000   \n",
       "mean           28.472195      2.824397e+03       0.999390       0.410748   \n",
       "std           278.126526      2.537972e+04       0.024682       0.491970   \n",
       "min             0.000000      0.000000e+00       0.000000       0.000000   \n",
       "25%             0.000000      2.000000e+01       1.000000       0.000000   \n",
       "50%             1.000000      2.280000e+02       1.000000       0.000000   \n",
       "75%             6.000000      1.354000e+03       1.000000       1.000000   \n",
       "max         63557.000000      2.972634e+06       1.000000       1.000000   \n",
       "\n",
       "           HorA           care       fairness        loyalty     authority  \\\n",
       "count  838285.0  579657.000000  222698.000000  113814.000000  84730.000000   \n",
       "mean        1.0      -0.165029      -0.051206      -0.013827      0.173127   \n",
       "std         0.0       0.752203       0.336993       0.555875      0.503605   \n",
       "min         1.0      -1.000000      -0.571429      -1.000000     -0.950000   \n",
       "25%         1.0      -0.833333      -0.200000      -0.437500     -0.285714   \n",
       "50%         1.0      -0.583333      -0.200000      -0.285714      0.287500   \n",
       "75%         1.0       0.800000      -0.200000       0.535714      0.666667   \n",
       "max         1.0       0.950000       1.000000       0.975000      0.950000   \n",
       "\n",
       "             purity  \n",
       "count  90362.000000  \n",
       "mean       0.189617  \n",
       "std        0.696559  \n",
       "min       -0.916667  \n",
       "25%       -0.571429  \n",
       "50%        0.687500  \n",
       "75%        0.850000  \n",
       "max        1.000000  \n",
       "\n",
       "[8 rows x 21 columns]"
      ]
     },
     "execution_count": 14,
     "metadata": {},
     "output_type": "execute_result"
    }
   ],
   "source": [
    "hate_des"
   ]
  },
  {
   "cell_type": "code",
   "execution_count": 18,
   "id": "2c00d8ed",
   "metadata": {
    "ExecuteTime": {
     "end_time": "2023-04-04T02:24:27.257472Z",
     "start_time": "2023-04-04T02:24:27.235265Z"
    }
   },
   "outputs": [
    {
     "data": {
      "text/plain": [
       "care        -0.165029\n",
       "fairness    -0.051206\n",
       "loyalty     -0.013827\n",
       "authority    0.173127\n",
       "purity       0.189617\n",
       "Name: mean, dtype: float64"
      ]
     },
     "execution_count": 18,
     "metadata": {},
     "output_type": "execute_result"
    }
   ],
   "source": [
    "hate_des.loc['mean'][16:22]"
   ]
  },
  {
   "cell_type": "code",
   "execution_count": 23,
   "id": "584f5b6b",
   "metadata": {
    "ExecuteTime": {
     "end_time": "2023-04-04T02:27:06.254255Z",
     "start_time": "2023-04-04T02:27:06.238645Z"
    }
   },
   "outputs": [
    {
     "data": {
      "text/plain": [
       "care        -0.422650\n",
       "fairness     0.453621\n",
       "loyalty      0.253602\n",
       "authority    0.222323\n",
       "purity       0.467513\n",
       "Name: mean, dtype: float64"
      ]
     },
     "execution_count": 23,
     "metadata": {},
     "output_type": "execute_result"
    }
   ],
   "source": [
    "nonhate_des.loc['mean'][16:22]"
   ]
  },
  {
   "cell_type": "code",
   "execution_count": 11,
   "id": "352e5dbe",
   "metadata": {
    "ExecuteTime": {
     "end_time": "2023-04-18T01:40:12.522482Z",
     "start_time": "2023-04-18T01:38:47.912046Z"
    }
   },
   "outputs": [
    {
     "data": {
      "text/plain": [
       "array([[<AxesSubplot:title={'center':'authority'}, xlabel='[HorA]'>,\n",
       "        <AxesSubplot:title={'center':'care'}, xlabel='[HorA]'>],\n",
       "       [<AxesSubplot:title={'center':'fairness'}, xlabel='[HorA]'>,\n",
       "        <AxesSubplot:title={'center':'loyalty'}, xlabel='[HorA]'>],\n",
       "       [<AxesSubplot:title={'center':'purity'}, xlabel='[HorA]'>,\n",
       "        <AxesSubplot:>]], dtype=object)"
      ]
     },
     "execution_count": 11,
     "metadata": {},
     "output_type": "execute_result"
    },
    {
     "data": {
      "image/png": "[encoded data removed]",
      "text/plain": [
       "<Figure size 640x480 with 6 Axes>"
      ]
     },
     "metadata": {},
     "output_type": "display_data"
    }
   ],
   "source": [
    "bplot = df[['care', 'fairness', 'loyalty', 'authority','purity','HorA']]\n",
    "bplot.boxplot(by=\"HorA\")"
   ]
  },
  {
   "cell_type": "code",
   "execution_count": 12,
   "id": "6c955f77",
   "metadata": {
    "ExecuteTime": {
     "end_time": "2023-04-18T01:58:38.911390Z",
     "start_time": "2023-04-18T01:58:35.230470Z"
    }
   },
   "outputs": [
    {
     "data": {
      "text/plain": [
       "array([[<AxesSubplot:title={'center':'care'}>,\n",
       "        <AxesSubplot:title={'center':'fairness'}>],\n",
       "       [<AxesSubplot:title={'center':'loyalty'}>,\n",
       "        <AxesSubplot:title={'center':'authority'}>],\n",
       "       [<AxesSubplot:title={'center':'purity'}>,\n",
       "        <AxesSubplot:title={'center':'HorA'}>]], dtype=object)"
      ]
     },
     "execution_count": 12,
     "metadata": {},
     "output_type": "execute_result"
    },
    {
     "data": {
      "image/png": "[encoded data removed]",
      "text/plain": [
       "<Figure size 1000x800 with 6 Axes>"
      ]
     },
     "metadata": {},
     "output_type": "display_data"
    }
   ],
   "source": [
    "bplot[bplot['HorA']==0].hist(bins=10,alpha=0.5,figsize = (10,8))"
   ]
  },
  {
   "cell_type": "code",
   "execution_count": 13,
   "id": "1fa617b5",
   "metadata": {
    "ExecuteTime": {
     "end_time": "2023-04-18T01:58:53.022051Z",
     "start_time": "2023-04-18T01:58:51.341962Z"
    }
   },
   "outputs": [
    {
     "data": {
      "text/plain": [
       "array([[<AxesSubplot:title={'center':'care'}>,\n",
       "        <AxesSubplot:title={'center':'fairness'}>],\n",
       "       [<AxesSubplot:title={'center':'loyalty'}>,\n",
       "        <AxesSubplot:title={'center':'authority'}>],\n",
       "       [<AxesSubplot:title={'center':'purity'}>,\n",
       "        <AxesSubplot:title={'center':'HorA'}>]], dtype=object)"
      ]
     },
     "execution_count": 13,
     "metadata": {},
     "output_type": "execute_result"
    },
    {
     "data": {
      "image/png": "[encoded data removed]",
      "text/plain": [
       "<Figure size 1000x800 with 6 Axes>"
      ]
     },
     "metadata": {},
     "output_type": "display_data"
    }
   ],
   "source": [
    "bplot[bplot['HorA']==1].hist(bins=10,alpha=0.5,figsize = (10,8))"
   ]
  },
  {
   "cell_type": "code",
   "execution_count": 14,
   "id": "8c8f90a1",
   "metadata": {
    "ExecuteTime": {
     "end_time": "2023-04-18T01:59:14.498097Z",
     "start_time": "2023-04-18T01:59:01.647416Z"
    }
   },
   "outputs": [
    {
     "data": {
      "image/png": "[encoded data removed]",
      "text/plain": [
       "<Figure size 1000x800 with 2 Axes>"
      ]
     },
     "metadata": {},
     "output_type": "display_data"
    }
   ],
   "source": [
    "ax = bplot.plot.hist(by='HorA',bins=5,alpha=0.5,figsize = (10,8),title='Hate_Tweets(0/1) and Moral Hist Fig', subplots=True)"
   ]
  },
  {
   "cell_type": "markdown",
   "id": "c791dcf8",
   "metadata": {},
   "source": [
    "\n",
    "1=Subversion, 9=Authority for AUTHORITY\n",
    "\n",
    "1=Harm, 9=Care for CARE\n",
    "\n",
    "1=Proportionality, 9=Fairness for FAIRNESS\n",
    "\n",
    "1=Disloyalty, 9=Loyalty for LOYALTY\n",
    "\n",
    "1=Degradation, 9=Purity for PURITY\n",
    "\n",
    "从直方图可以看出，对于仇恨言论，loyalty和fairness集中在左侧（背叛、欺骗）\n"
   ]
  },
  {
   "cell_type": "code",
   "execution_count": 18,
   "id": "1144e152",
   "metadata": {
    "ExecuteTime": {
     "end_time": "2023-03-15T04:27:44.451485Z",
     "start_time": "2023-03-15T04:27:34.212942Z"
    }
   },
   "outputs": [
    {
     "data": {
      "text/plain": [
       "<AxesSubplot:>"
      ]
     },
     "execution_count": 18,
     "metadata": {},
     "output_type": "execute_result"
    },
    {
     "data": {
      "image/png": "[encoded data removed]",
      "text/plain": [
       "<Figure size 640x480 with 1 Axes>"
      ]
     },
     "metadata": {},
     "output_type": "display_data"
    }
   ],
   "source": [
    "df.count().plot.bar()"
   ]
  },
  {
   "cell_type": "code",
   "execution_count": 28,
   "id": "60fd74ae",
   "metadata": {
    "ExecuteTime": {
     "end_time": "2023-04-04T02:29:11.560693Z",
     "start_time": "2023-04-04T02:29:11.542715Z"
    }
   },
   "outputs": [
    {
     "data": {
      "text/plain": [
       "'2022-02-22'"
      ]
     },
     "execution_count": 28,
     "metadata": {},
     "output_type": "execute_result"
    }
   ],
   "source": [
    "df.loc[0].Datetime"
   ]
  },
  {
   "cell_type": "code",
   "execution_count": 29,
   "id": "2426ec5c",
   "metadata": {
    "ExecuteTime": {
     "end_time": "2023-04-04T02:29:23.880926Z",
     "start_time": "2023-04-04T02:29:23.861799Z"
    }
   },
   "outputs": [
    {
     "data": {
      "text/plain": [
       "dtype('O')"
      ]
     },
     "execution_count": 29,
     "metadata": {},
     "output_type": "execute_result"
    }
   ],
   "source": [
    "df.Datetime.dtype"
   ]
  },
  {
   "cell_type": "code",
   "execution_count": 30,
   "id": "965bfeea",
   "metadata": {
    "ExecuteTime": {
     "end_time": "2023-04-04T02:29:30.472461Z",
     "start_time": "2023-04-04T02:29:29.097620Z"
    }
   },
   "outputs": [],
   "source": [
    "df.Datetime = pd.to_datetime(df.Datetime,format='%Y-%m-%d')"
   ]
  },
  {
   "cell_type": "code",
   "execution_count": 31,
   "id": "713dd197",
   "metadata": {
    "ExecuteTime": {
     "end_time": "2023-04-04T02:29:35.730240Z",
     "start_time": "2023-04-04T02:29:35.705212Z"
    }
   },
   "outputs": [
    {
     "data": {
      "text/plain": [
       "dtype('<M8[ns]')"
      ]
     },
     "execution_count": 31,
     "metadata": {},
     "output_type": "execute_result"
    }
   ],
   "source": [
    "df.Datetime.dtype"
   ]
  },
  {
   "cell_type": "code",
   "execution_count": 32,
   "id": "f700b69b",
   "metadata": {
    "ExecuteTime": {
     "end_time": "2023-04-04T02:29:40.933901Z",
     "start_time": "2023-04-04T02:29:40.900574Z"
    }
   },
   "outputs": [
    {
     "data": {
      "text/plain": [
       "Timestamp('2022-02-23 00:00:00')"
      ]
     },
     "execution_count": 32,
     "metadata": {},
     "output_type": "execute_result"
    }
   ],
   "source": [
    "from datetime import timedelta\n",
    "df.loc[0].Datetime+timedelta(days = 1)"
   ]
  },
  {
   "cell_type": "code",
   "execution_count": 33,
   "id": "3cd4a132",
   "metadata": {
    "ExecuteTime": {
     "end_time": "2023-04-04T02:29:46.010576Z",
     "start_time": "2023-04-04T02:29:45.997873Z"
    }
   },
   "outputs": [
    {
     "data": {
      "text/plain": [
       "Timestamp('2022-02-22 00:00:00')"
      ]
     },
     "execution_count": 33,
     "metadata": {},
     "output_type": "execute_result"
    }
   ],
   "source": [
    "df.loc[0].Datetime"
   ]
  },
  {
   "cell_type": "code",
   "execution_count": 34,
   "id": "212688de",
   "metadata": {
    "ExecuteTime": {
     "end_time": "2023-04-04T02:29:52.167238Z",
     "start_time": "2023-04-04T02:29:51.138400Z"
    }
   },
   "outputs": [
    {
     "data": {
      "text/plain": [
       "<AxesSubplot:ylabel='Density'>"
      ]
     },
     "execution_count": 34,
     "metadata": {},
     "output_type": "execute_result"
    },
    {
     "data": {
      "image/png": "[encoded data removed]",
      "text/plain": [
       "<Figure size 640x480 with 1 Axes>"
      ]
     },
     "metadata": {},
     "output_type": "display_data"
    }
   ],
   "source": [
    "df.pivot_table(index = 'Datetime', values=['HorA','authority','care','fairness','loyalty','purity','Tweet_id'],\n",
    "               aggfunc={'HorA':np.sum, 'Tweet_id':len }).plot.density()"
   ]
  },
  {
   "cell_type": "code",
   "execution_count": 35,
   "id": "d898876d",
   "metadata": {
    "ExecuteTime": {
     "end_time": "2023-04-04T02:29:58.567371Z",
     "start_time": "2023-04-04T02:29:57.265843Z"
    }
   },
   "outputs": [
    {
     "data": {
      "text/plain": [
       "array([<AxesSubplot:xlabel='Datetime'>, <AxesSubplot:xlabel='Datetime'>],\n",
       "      dtype=object)"
      ]
     },
     "execution_count": 35,
     "metadata": {},
     "output_type": "execute_result"
    },
    {
     "data": {
      "image/png": "[encoded data removed]",
      "text/plain": [
       "<Figure size 640x480 with 2 Axes>"
      ]
     },
     "metadata": {},
     "output_type": "display_data"
    }
   ],
   "source": [
    "df.pivot_table(index = 'Datetime', values=['HorA','authority','care','fairness','loyalty','purity','Tweet_id'],\n",
    "               aggfunc={'HorA':np.sum, 'Tweet_id':len }).plot.line(subplots=True)"
   ]
  },
  {
   "cell_type": "code",
   "execution_count": 36,
   "id": "60fa3e75",
   "metadata": {
    "ExecuteTime": {
     "end_time": "2023-04-04T02:30:07.755800Z",
     "start_time": "2023-04-04T02:30:06.759813Z"
    }
   },
   "outputs": [
    {
     "data": {
      "text/plain": [
       "array([<AxesSubplot:xlabel='Datetime'>, <AxesSubplot:xlabel='Datetime'>,\n",
       "       <AxesSubplot:xlabel='Datetime'>], dtype=object)"
      ]
     },
     "execution_count": 36,
     "metadata": {},
     "output_type": "execute_result"
    },
    {
     "data": {
      "image/png": "[encoded data removed]",
      "text/plain": [
       "<Figure size 640x480 with 3 Axes>"
      ]
     },
     "metadata": {},
     "output_type": "display_data"
    }
   ],
   "source": [
    "#加入仇恨推文占总推文的比例历时图\n",
    "ptable = df.pivot_table(index = 'Datetime', values=['HorA','Tweet_id'],\n",
    "               aggfunc={'HorA':np.sum, 'Tweet_id':len })\n",
    "ptable['Hate%'] = ptable.apply(lambda x: x['HorA'] / x['Tweet_id'], axis=1)\n",
    "ptable.plot.line(subplots=True)"
   ]
  },
  {
   "cell_type": "code",
   "execution_count": 43,
   "id": "be0be87e",
   "metadata": {
    "ExecuteTime": {
     "end_time": "2023-04-04T02:44:15.969786Z",
     "start_time": "2023-04-04T02:44:15.483466Z"
    }
   },
   "outputs": [
    {
     "data": {
      "image/png": "[encoded data removed]",
      "text/plain": [
       "<Figure size 640x480 with 1 Axes>"
      ]
     },
     "metadata": {},
     "output_type": "display_data"
    }
   ],
   "source": [
    "import matplotlib.pyplot as plt\n",
    "\n",
    "plt.plot(ptable.index, ptable['Hate%'])\n",
    "plt.xticks(pd.date_range(ptable.index[0],ptable.index[-1],freq = 'M'),rotation = 45)\n",
    "plt.xlabel('Date')\n",
    "plt.ylabel('Proportion')\n",
    "plt.title('Hate Tweets Proportion Over Time')\n",
    "plt.savefig('Hate_Tweets_Proportion_Over_Time.png',dpi=300, bbox_inches='tight')\n",
    "plt.show()"
   ]
  },
  {
   "cell_type": "code",
   "execution_count": 49,
   "id": "fb52d1d6",
   "metadata": {
    "ExecuteTime": {
     "end_time": "2023-04-04T06:43:29.524687Z",
     "start_time": "2023-04-04T06:43:29.473091Z"
    }
   },
   "outputs": [
    {
     "data": {
      "text/html": [
       "<div>\n",
       "<style scoped>\n",
       "    .dataframe tbody tr th:only-of-type {\n",
       "        vertical-align: middle;\n",
       "    }\n",
       "\n",
       "    .dataframe tbody tr th {\n",
       "        vertical-align: top;\n",
       "    }\n",
       "\n",
       "    .dataframe thead th {\n",
       "        text-align: right;\n",
       "    }\n",
       "</style>\n",
       "<table border=\"1\" class=\"dataframe\">\n",
       "  <thead>\n",
       "    <tr style=\"text-align: right;\">\n",
       "      <th></th>\n",
       "      <th>HorA</th>\n",
       "      <th>Tweet_id</th>\n",
       "      <th>Hate%</th>\n",
       "    </tr>\n",
       "  </thead>\n",
       "  <tbody>\n",
       "    <tr>\n",
       "      <th>count</th>\n",
       "      <td>212.000000</td>\n",
       "      <td>212.000000</td>\n",
       "      <td>212.000000</td>\n",
       "    </tr>\n",
       "    <tr>\n",
       "      <th>mean</th>\n",
       "      <td>3954.174528</td>\n",
       "      <td>46427.584906</td>\n",
       "      <td>0.061780</td>\n",
       "    </tr>\n",
       "    <tr>\n",
       "      <th>std</th>\n",
       "      <td>10486.292299</td>\n",
       "      <td>63619.664569</td>\n",
       "      <td>0.028572</td>\n",
       "    </tr>\n",
       "    <tr>\n",
       "      <th>min</th>\n",
       "      <td>26.000000</td>\n",
       "      <td>387.000000</td>\n",
       "      <td>0.030125</td>\n",
       "    </tr>\n",
       "    <tr>\n",
       "      <th>25%</th>\n",
       "      <td>925.000000</td>\n",
       "      <td>16975.000000</td>\n",
       "      <td>0.048637</td>\n",
       "    </tr>\n",
       "    <tr>\n",
       "      <th>50%</th>\n",
       "      <td>1215.000000</td>\n",
       "      <td>22779.500000</td>\n",
       "      <td>0.055513</td>\n",
       "    </tr>\n",
       "    <tr>\n",
       "      <th>75%</th>\n",
       "      <td>2523.500000</td>\n",
       "      <td>41488.000000</td>\n",
       "      <td>0.067595</td>\n",
       "    </tr>\n",
       "    <tr>\n",
       "      <th>max</th>\n",
       "      <td>105609.000000</td>\n",
       "      <td>395145.000000</td>\n",
       "      <td>0.315452</td>\n",
       "    </tr>\n",
       "  </tbody>\n",
       "</table>\n",
       "</div>"
      ],
      "text/plain": [
       "                HorA       Tweet_id       Hate%\n",
       "count     212.000000     212.000000  212.000000\n",
       "mean     3954.174528   46427.584906    0.061780\n",
       "std     10486.292299   63619.664569    0.028572\n",
       "min        26.000000     387.000000    0.030125\n",
       "25%       925.000000   16975.000000    0.048637\n",
       "50%      1215.000000   22779.500000    0.055513\n",
       "75%      2523.500000   41488.000000    0.067595\n",
       "max    105609.000000  395145.000000    0.315452"
      ]
     },
     "execution_count": 49,
     "metadata": {},
     "output_type": "execute_result"
    }
   ],
   "source": [
    "ptable.describe()"
   ]
  },
  {
   "cell_type": "code",
   "execution_count": 50,
   "id": "74f784fe",
   "metadata": {
    "ExecuteTime": {
     "end_time": "2023-04-04T06:44:44.157804Z",
     "start_time": "2023-04-04T06:44:44.128727Z"
    }
   },
   "outputs": [
    {
     "data": {
      "text/html": [
       "<div>\n",
       "<style scoped>\n",
       "    .dataframe tbody tr th:only-of-type {\n",
       "        vertical-align: middle;\n",
       "    }\n",
       "\n",
       "    .dataframe tbody tr th {\n",
       "        vertical-align: top;\n",
       "    }\n",
       "\n",
       "    .dataframe thead th {\n",
       "        text-align: right;\n",
       "    }\n",
       "</style>\n",
       "<table border=\"1\" class=\"dataframe\">\n",
       "  <thead>\n",
       "    <tr style=\"text-align: right;\">\n",
       "      <th></th>\n",
       "      <th>HorA</th>\n",
       "      <th>Tweet_id</th>\n",
       "      <th>Hate%</th>\n",
       "    </tr>\n",
       "    <tr>\n",
       "      <th>Datetime</th>\n",
       "      <th></th>\n",
       "      <th></th>\n",
       "      <th></th>\n",
       "    </tr>\n",
       "  </thead>\n",
       "  <tbody>\n",
       "    <tr>\n",
       "      <th>2022-03-01</th>\n",
       "      <td>105609</td>\n",
       "      <td>334786</td>\n",
       "      <td>0.315452</td>\n",
       "    </tr>\n",
       "    <tr>\n",
       "      <th>2022-02-28</th>\n",
       "      <td>92134</td>\n",
       "      <td>339623</td>\n",
       "      <td>0.271283</td>\n",
       "    </tr>\n",
       "    <tr>\n",
       "      <th>2022-03-09</th>\n",
       "      <td>21246</td>\n",
       "      <td>155389</td>\n",
       "      <td>0.136728</td>\n",
       "    </tr>\n",
       "    <tr>\n",
       "      <th>2022-03-02</th>\n",
       "      <td>25819</td>\n",
       "      <td>216732</td>\n",
       "      <td>0.119129</td>\n",
       "    </tr>\n",
       "    <tr>\n",
       "      <th>2022-04-03</th>\n",
       "      <td>8460</td>\n",
       "      <td>72582</td>\n",
       "      <td>0.116558</td>\n",
       "    </tr>\n",
       "    <tr>\n",
       "      <th>...</th>\n",
       "      <td>...</td>\n",
       "      <td>...</td>\n",
       "      <td>...</td>\n",
       "    </tr>\n",
       "    <tr>\n",
       "      <th>2022-09-10</th>\n",
       "      <td>887</td>\n",
       "      <td>24335</td>\n",
       "      <td>0.036450</td>\n",
       "    </tr>\n",
       "    <tr>\n",
       "      <th>2022-09-07</th>\n",
       "      <td>757</td>\n",
       "      <td>21439</td>\n",
       "      <td>0.035309</td>\n",
       "    </tr>\n",
       "    <tr>\n",
       "      <th>2022-05-14</th>\n",
       "      <td>1348</td>\n",
       "      <td>38591</td>\n",
       "      <td>0.034930</td>\n",
       "    </tr>\n",
       "    <tr>\n",
       "      <th>2022-05-09</th>\n",
       "      <td>1347</td>\n",
       "      <td>40493</td>\n",
       "      <td>0.033265</td>\n",
       "    </tr>\n",
       "    <tr>\n",
       "      <th>2022-02-23</th>\n",
       "      <td>82</td>\n",
       "      <td>2722</td>\n",
       "      <td>0.030125</td>\n",
       "    </tr>\n",
       "  </tbody>\n",
       "</table>\n",
       "<p>212 rows × 3 columns</p>\n",
       "</div>"
      ],
      "text/plain": [
       "              HorA  Tweet_id     Hate%\n",
       "Datetime                              \n",
       "2022-03-01  105609    334786  0.315452\n",
       "2022-02-28   92134    339623  0.271283\n",
       "2022-03-09   21246    155389  0.136728\n",
       "2022-03-02   25819    216732  0.119129\n",
       "2022-04-03    8460     72582  0.116558\n",
       "...            ...       ...       ...\n",
       "2022-09-10     887     24335  0.036450\n",
       "2022-09-07     757     21439  0.035309\n",
       "2022-05-14    1348     38591  0.034930\n",
       "2022-05-09    1347     40493  0.033265\n",
       "2022-02-23      82      2722  0.030125\n",
       "\n",
       "[212 rows x 3 columns]"
      ]
     },
     "execution_count": 50,
     "metadata": {},
     "output_type": "execute_result"
    }
   ],
   "source": [
    "ptable.sort_values(by='Hate%',ascending=False)"
   ]
  },
  {
   "cell_type": "code",
   "execution_count": 44,
   "id": "24db6660",
   "metadata": {
    "ExecuteTime": {
     "end_time": "2023-04-04T02:48:45.155051Z",
     "start_time": "2023-04-04T02:48:45.133086Z"
    }
   },
   "outputs": [],
   "source": [
    "ptable.to_csv('Hate_Tweet_Distribution.csv')"
   ]
  },
  {
   "cell_type": "code",
   "execution_count": 37,
   "id": "a170bb19",
   "metadata": {
    "ExecuteTime": {
     "end_time": "2023-04-04T02:30:25.349512Z",
     "start_time": "2023-04-04T02:30:24.629649Z"
    }
   },
   "outputs": [
    {
     "data": {
      "text/plain": [
       "<AxesSubplot:ylabel='Density'>"
      ]
     },
     "execution_count": 37,
     "metadata": {},
     "output_type": "execute_result"
    },
    {
     "data": {
      "image/png": "[encoded data removed]",
      "text/plain": [
       "<Figure size 640x480 with 1 Axes>"
      ]
     },
     "metadata": {},
     "output_type": "display_data"
    }
   ],
   "source": [
    "df.pivot_table(index = 'Datetime', values=['authority','care','fairness','loyalty','purity'],\n",
    "               aggfunc={'authority':np.mean,'care':np.mean,'fairness':np.mean,'loyalty':np.mean,'purity':np.mean,}).plot.density()"
   ]
  },
  {
   "cell_type": "code",
   "execution_count": 45,
   "id": "47243dcf",
   "metadata": {
    "ExecuteTime": {
     "end_time": "2023-04-04T02:49:08.839673Z",
     "start_time": "2023-04-04T02:49:08.147039Z"
    }
   },
   "outputs": [],
   "source": [
    "ptable2 = df.pivot_table(index = 'Datetime', values=['authority','care','fairness','loyalty','purity'],\n",
    "               aggfunc={'authority':np.mean,'care':np.mean,'fairness':np.mean,'loyalty':np.mean,'purity':np.mean,})"
   ]
  },
  {
   "cell_type": "code",
   "execution_count": 46,
   "id": "b69ead8b",
   "metadata": {
    "ExecuteTime": {
     "end_time": "2023-04-04T02:49:26.683297Z",
     "start_time": "2023-04-04T02:49:26.671258Z"
    }
   },
   "outputs": [],
   "source": [
    "ptable2.to_csv('Moral_Tweets_Distribution.csv')"
   ]
  },
  {
   "cell_type": "code",
   "execution_count": 61,
   "id": "fe7e309c",
   "metadata": {
    "ExecuteTime": {
     "end_time": "2023-03-15T05:46:30.497014Z",
     "start_time": "2023-03-15T05:46:29.224924Z"
    }
   },
   "outputs": [],
   "source": [
    "import statsmodels.api as sm\n",
    "from statsmodels.formula.api import ols"
   ]
  },
  {
   "cell_type": "code",
   "execution_count": 96,
   "id": "3a0bddb9",
   "metadata": {
    "ExecuteTime": {
     "end_time": "2023-03-15T06:46:34.321145Z",
     "start_time": "2023-03-15T06:46:33.699458Z"
    }
   },
   "outputs": [],
   "source": [
    "df['authority']=df['authority'].fillna(0)\n",
    "df['care']=df['care'].fillna(0)\n",
    "df['fairness']=df['fairness'].fillna(0)\n",
    "df['loyalty']=df['loyalty'].fillna(0)\n",
    "df['purity']=df['purity'].fillna(0)"
   ]
  },
  {
   "cell_type": "code",
   "execution_count": 154,
   "id": "f4946f50",
   "metadata": {
    "ExecuteTime": {
     "end_time": "2023-03-15T08:35:11.593966Z",
     "start_time": "2023-03-15T08:35:10.514092Z"
    }
   },
   "outputs": [
    {
     "data": {
      "text/plain": [
       "array([<AxesSubplot:>, <AxesSubplot:>, <AxesSubplot:>, <AxesSubplot:>],\n",
       "      dtype=object)"
      ]
     },
     "execution_count": 154,
     "metadata": {},
     "output_type": "execute_result"
    },
    {
     "data": {
      "image/png": "[encoded data removed]",
      "text/plain": [
       "<Figure size 640x480 with 4 Axes>"
      ]
     },
     "metadata": {},
     "output_type": "display_data"
    }
   ],
   "source": [
    "ptable[['HorA','Tweet_id','Hate%','daily_personnel']].plot.line(subplots=True)"
   ]
  },
  {
   "cell_type": "markdown",
   "id": "337e4a0a",
   "metadata": {},
   "source": [
    "## 构建活跃用户panel data"
   ]
  },
  {
   "cell_type": "code",
   "execution_count": 14,
   "id": "9906d88a",
   "metadata": {
    "ExecuteTime": {
     "end_time": "2023-03-28T12:19:05.546032Z",
     "start_time": "2023-03-28T12:19:05.515349Z"
    }
   },
   "outputs": [
    {
     "data": {
      "text/html": [
       "<div>\n",
       "<style scoped>\n",
       "    .dataframe tbody tr th:only-of-type {\n",
       "        vertical-align: middle;\n",
       "    }\n",
       "\n",
       "    .dataframe tbody tr th {\n",
       "        vertical-align: top;\n",
       "    }\n",
       "\n",
       "    .dataframe thead th {\n",
       "        text-align: right;\n",
       "    }\n",
       "</style>\n",
       "<table border=\"1\" class=\"dataframe\">\n",
       "  <thead>\n",
       "    <tr style=\"text-align: right;\">\n",
       "      <th></th>\n",
       "      <th>Unnamed: 0</th>\n",
       "      <th>Datetime</th>\n",
       "      <th>Tweet_id</th>\n",
       "      <th>Tweet_content</th>\n",
       "      <th>Tweet_reply_count</th>\n",
       "      <th>Tweet_retweet_count</th>\n",
       "      <th>Tweet_like_count</th>\n",
       "      <th>Tweet_quote_count</th>\n",
       "      <th>Tweet_hashtags</th>\n",
       "      <th>Username</th>\n",
       "      <th>...</th>\n",
       "      <th>User_listed_count</th>\n",
       "      <th>User_media_count</th>\n",
       "      <th>hateful</th>\n",
       "      <th>aggressive</th>\n",
       "      <th>HorA</th>\n",
       "      <th>care</th>\n",
       "      <th>fairness</th>\n",
       "      <th>loyalty</th>\n",
       "      <th>authority</th>\n",
       "      <th>purity</th>\n",
       "    </tr>\n",
       "  </thead>\n",
       "  <tbody>\n",
       "    <tr>\n",
       "      <th>0</th>\n",
       "      <td>0</td>\n",
       "      <td>2022-02-22</td>\n",
       "      <td>1496090169229058054</td>\n",
       "      <td>Russian troops enter eastern Ukraine russia  u...</td>\n",
       "      <td>0</td>\n",
       "      <td>0</td>\n",
       "      <td>0</td>\n",
       "      <td>0</td>\n",
       "      <td>['Russia', 'Ukraine', 'UkraineConflict', 'Ukra...</td>\n",
       "      <td>HimanRoy14</td>\n",
       "      <td>...</td>\n",
       "      <td>0</td>\n",
       "      <td>364</td>\n",
       "      <td>0</td>\n",
       "      <td>0</td>\n",
       "      <td>0</td>\n",
       "      <td>1.666667</td>\n",
       "      <td>NaN</td>\n",
       "      <td>NaN</td>\n",
       "      <td>4.75</td>\n",
       "      <td>NaN</td>\n",
       "    </tr>\n",
       "    <tr>\n",
       "      <th>1</th>\n",
       "      <td>1</td>\n",
       "      <td>2022-02-22</td>\n",
       "      <td>1496093418870951937</td>\n",
       "      <td>Iran urges restraint in Ukraine crisis, blames...</td>\n",
       "      <td>0</td>\n",
       "      <td>0</td>\n",
       "      <td>0</td>\n",
       "      <td>0</td>\n",
       "      <td>['Iran', 'UkraineRussiaCrisis', 'Ukraine', 'Uk...</td>\n",
       "      <td>theasialive</td>\n",
       "      <td>...</td>\n",
       "      <td>1</td>\n",
       "      <td>194</td>\n",
       "      <td>0</td>\n",
       "      <td>0</td>\n",
       "      <td>0</td>\n",
       "      <td>NaN</td>\n",
       "      <td>NaN</td>\n",
       "      <td>NaN</td>\n",
       "      <td>NaN</td>\n",
       "      <td>NaN</td>\n",
       "    </tr>\n",
       "    <tr>\n",
       "      <th>2</th>\n",
       "      <td>2</td>\n",
       "      <td>2022-02-22</td>\n",
       "      <td>1496094215000195073</td>\n",
       "      <td>Current Affairs  emoji cara revolviéndose de l...</td>\n",
       "      <td>22</td>\n",
       "      <td>225</td>\n",
       "      <td>913</td>\n",
       "      <td>21</td>\n",
       "      <td>['Ukraine', 'UkraineRussiaCrisis', 'UkraineCri...</td>\n",
       "      <td>SonaliS71687712</td>\n",
       "      <td>...</td>\n",
       "      <td>0</td>\n",
       "      <td>1072</td>\n",
       "      <td>0</td>\n",
       "      <td>0</td>\n",
       "      <td>0</td>\n",
       "      <td>1.666667</td>\n",
       "      <td>NaN</td>\n",
       "      <td>NaN</td>\n",
       "      <td>NaN</td>\n",
       "      <td>NaN</td>\n",
       "    </tr>\n",
       "    <tr>\n",
       "      <th>3</th>\n",
       "      <td>3</td>\n",
       "      <td>2022-02-22</td>\n",
       "      <td>1496094912215130116</td>\n",
       "      <td>russian President  vladimir putin has ordered...</td>\n",
       "      <td>1</td>\n",
       "      <td>0</td>\n",
       "      <td>0</td>\n",
       "      <td>0</td>\n",
       "      <td>['Russian', 'VladimirPutin', 'Ukraine', 'Ukrai...</td>\n",
       "      <td>TheHoardPlanet</td>\n",
       "      <td>...</td>\n",
       "      <td>1</td>\n",
       "      <td>196</td>\n",
       "      <td>0</td>\n",
       "      <td>0</td>\n",
       "      <td>0</td>\n",
       "      <td>1.666667</td>\n",
       "      <td>NaN</td>\n",
       "      <td>NaN</td>\n",
       "      <td>5.25</td>\n",
       "      <td>NaN</td>\n",
       "    </tr>\n",
       "    <tr>\n",
       "      <th>4</th>\n",
       "      <td>4</td>\n",
       "      <td>2022-02-22</td>\n",
       "      <td>1496097094352121866</td>\n",
       "      <td>Putin calls Ukrainian statehood a fiction. His...</td>\n",
       "      <td>0</td>\n",
       "      <td>0</td>\n",
       "      <td>1</td>\n",
       "      <td>0</td>\n",
       "      <td>['Russia', 'RussiaUkraineCrisis', 'RussiaUcrai...</td>\n",
       "      <td>theasialive</td>\n",
       "      <td>...</td>\n",
       "      <td>1</td>\n",
       "      <td>194</td>\n",
       "      <td>0</td>\n",
       "      <td>0</td>\n",
       "      <td>0</td>\n",
       "      <td>NaN</td>\n",
       "      <td>NaN</td>\n",
       "      <td>NaN</td>\n",
       "      <td>NaN</td>\n",
       "      <td>NaN</td>\n",
       "    </tr>\n",
       "  </tbody>\n",
       "</table>\n",
       "<p>5 rows × 25 columns</p>\n",
       "</div>"
      ],
      "text/plain": [
       "   Unnamed: 0   Datetime             Tweet_id  \\\n",
       "0           0 2022-02-22  1496090169229058054   \n",
       "1           1 2022-02-22  1496093418870951937   \n",
       "2           2 2022-02-22  1496094215000195073   \n",
       "3           3 2022-02-22  1496094912215130116   \n",
       "4           4 2022-02-22  1496097094352121866   \n",
       "\n",
       "                                       Tweet_content  Tweet_reply_count  \\\n",
       "0  Russian troops enter eastern Ukraine russia  u...                  0   \n",
       "1  Iran urges restraint in Ukraine crisis, blames...                  0   \n",
       "2  Current Affairs  emoji cara revolviéndose de l...                 22   \n",
       "3   russian President  vladimir putin has ordered...                  1   \n",
       "4  Putin calls Ukrainian statehood a fiction. His...                  0   \n",
       "\n",
       "   Tweet_retweet_count  Tweet_like_count  Tweet_quote_count  \\\n",
       "0                    0                 0                  0   \n",
       "1                    0                 0                  0   \n",
       "2                  225               913                 21   \n",
       "3                    0                 0                  0   \n",
       "4                    0                 1                  0   \n",
       "\n",
       "                                      Tweet_hashtags         Username  ...  \\\n",
       "0  ['Russia', 'Ukraine', 'UkraineConflict', 'Ukra...       HimanRoy14  ...   \n",
       "1  ['Iran', 'UkraineRussiaCrisis', 'Ukraine', 'Uk...      theasialive  ...   \n",
       "2  ['Ukraine', 'UkraineRussiaCrisis', 'UkraineCri...  SonaliS71687712  ...   \n",
       "3  ['Russian', 'VladimirPutin', 'Ukraine', 'Ukrai...   TheHoardPlanet  ...   \n",
       "4  ['Russia', 'RussiaUkraineCrisis', 'RussiaUcrai...      theasialive  ...   \n",
       "\n",
       "   User_listed_count  User_media_count  hateful  aggressive  HorA      care  \\\n",
       "0                  0               364        0           0     0  1.666667   \n",
       "1                  1               194        0           0     0       NaN   \n",
       "2                  0              1072        0           0     0  1.666667   \n",
       "3                  1               196        0           0     0  1.666667   \n",
       "4                  1               194        0           0     0       NaN   \n",
       "\n",
       "   fairness  loyalty  authority  purity  \n",
       "0       NaN      NaN       4.75     NaN  \n",
       "1       NaN      NaN        NaN     NaN  \n",
       "2       NaN      NaN        NaN     NaN  \n",
       "3       NaN      NaN       5.25     NaN  \n",
       "4       NaN      NaN        NaN     NaN  \n",
       "\n",
       "[5 rows x 25 columns]"
      ]
     },
     "execution_count": 14,
     "metadata": {},
     "output_type": "execute_result"
    }
   ],
   "source": [
    "df.head()"
   ]
  },
  {
   "cell_type": "code",
   "execution_count": 157,
   "id": "89062ff3",
   "metadata": {
    "ExecuteTime": {
     "end_time": "2023-03-15T09:55:05.441110Z",
     "start_time": "2023-03-15T09:55:05.435051Z"
    }
   },
   "outputs": [],
   "source": [
    "from datetime import timedelta\n",
    "end_time = df.loc[0].Datetime+timedelta(days = 7)"
   ]
  },
  {
   "cell_type": "code",
   "execution_count": 161,
   "id": "bdb43a3f",
   "metadata": {
    "ExecuteTime": {
     "end_time": "2023-03-15T09:58:41.430471Z",
     "start_time": "2023-03-15T09:58:41.407496Z"
    }
   },
   "outputs": [
    {
     "data": {
      "text/plain": [
       "Timedelta('199 days 00:00:00')"
      ]
     },
     "execution_count": 161,
     "metadata": {},
     "output_type": "execute_result"
    }
   ],
   "source": [
    "df.iloc[-1].Datetime - df.iloc[0].Datetime"
   ]
  },
  {
   "cell_type": "code",
   "execution_count": 188,
   "id": "8ab1ac98",
   "metadata": {
    "ExecuteTime": {
     "end_time": "2023-03-15T10:18:59.379743Z",
     "start_time": "2023-03-15T10:18:59.366224Z"
    }
   },
   "outputs": [],
   "source": [
    "#cut time series by 7 days\n",
    "ini_time = df.iloc[0].Datetime\n",
    "end_time = df.iloc[-1].Datetime\n",
    "time_series_7day = []\n",
    "\n",
    "while ini_time < end_time:\n",
    "    time_series_7day.append(ini_time)\n",
    "    ini_time = ini_time+timedelta(days=7)\n",
    "    \n",
    "time_series_7day.append(end_time+timedelta(days=1))"
   ]
  },
  {
   "cell_type": "code",
   "execution_count": 189,
   "id": "b0126f8f",
   "metadata": {
    "ExecuteTime": {
     "end_time": "2023-03-15T10:19:09.538326Z",
     "start_time": "2023-03-15T10:19:09.527353Z"
    }
   },
   "outputs": [
    {
     "data": {
      "text/plain": [
       "[Timestamp('2022-02-22 00:00:00'),\n",
       " Timestamp('2022-03-01 00:00:00'),\n",
       " Timestamp('2022-03-08 00:00:00'),\n",
       " Timestamp('2022-03-15 00:00:00'),\n",
       " Timestamp('2022-03-22 00:00:00'),\n",
       " Timestamp('2022-03-29 00:00:00'),\n",
       " Timestamp('2022-04-05 00:00:00'),\n",
       " Timestamp('2022-04-12 00:00:00'),\n",
       " Timestamp('2022-04-19 00:00:00'),\n",
       " Timestamp('2022-04-26 00:00:00'),\n",
       " Timestamp('2022-05-03 00:00:00'),\n",
       " Timestamp('2022-05-10 00:00:00'),\n",
       " Timestamp('2022-05-17 00:00:00'),\n",
       " Timestamp('2022-05-24 00:00:00'),\n",
       " Timestamp('2022-05-31 00:00:00'),\n",
       " Timestamp('2022-06-07 00:00:00'),\n",
       " Timestamp('2022-06-14 00:00:00'),\n",
       " Timestamp('2022-06-21 00:00:00'),\n",
       " Timestamp('2022-06-28 00:00:00'),\n",
       " Timestamp('2022-07-05 00:00:00'),\n",
       " Timestamp('2022-07-12 00:00:00'),\n",
       " Timestamp('2022-07-19 00:00:00'),\n",
       " Timestamp('2022-07-26 00:00:00'),\n",
       " Timestamp('2022-08-02 00:00:00'),\n",
       " Timestamp('2022-08-09 00:00:00'),\n",
       " Timestamp('2022-08-16 00:00:00'),\n",
       " Timestamp('2022-08-23 00:00:00'),\n",
       " Timestamp('2022-08-30 00:00:00'),\n",
       " Timestamp('2022-09-06 00:00:00'),\n",
       " Timestamp('2022-09-10 00:00:00')]"
      ]
     },
     "execution_count": 189,
     "metadata": {},
     "output_type": "execute_result"
    }
   ],
   "source": [
    "time_series_7day"
   ]
  },
  {
   "cell_type": "code",
   "execution_count": 190,
   "id": "960dd788",
   "metadata": {
    "ExecuteTime": {
     "end_time": "2023-03-15T10:19:21.950140Z",
     "start_time": "2023-03-15T10:19:21.361673Z"
    }
   },
   "outputs": [],
   "source": [
    "df['7day_cut'] = pd.cut(df['Datetime'], bins=time_series_7day, include_lowest=True, right=False)     "
   ]
  },
  {
   "cell_type": "code",
   "execution_count": 191,
   "id": "d7397da8",
   "metadata": {
    "ExecuteTime": {
     "end_time": "2023-03-15T10:19:32.589181Z",
     "start_time": "2023-03-15T10:19:32.562733Z"
    }
   },
   "outputs": [
    {
     "data": {
      "text/plain": [
       "0          [2022-02-22, 2022-03-01)\n",
       "1          [2022-02-22, 2022-03-01)\n",
       "2          [2022-02-22, 2022-03-01)\n",
       "3          [2022-02-22, 2022-03-01)\n",
       "4          [2022-02-22, 2022-03-01)\n",
       "                     ...           \n",
       "9842643    [2022-09-06, 2022-09-10)\n",
       "9842644    [2022-09-06, 2022-09-10)\n",
       "9842645    [2022-09-06, 2022-09-10)\n",
       "9842646    [2022-09-06, 2022-09-10)\n",
       "9842647    [2022-09-06, 2022-09-10)\n",
       "Name: 7day_cut, Length: 9842648, dtype: category\n",
       "Categories (29, interval[datetime64[ns], left]): [[2022-02-22, 2022-03-01) < [2022-03-01, 2022-03-08) < [2022-03-08, 2022-03-15) < [2022-03-15, 2022-03-22) ... [2022-08-16, 2022-08-23) < [2022-08-23, 2022-08-30) < [2022-08-30, 2022-09-06) < [2022-09-06, 2022-09-10)]"
      ]
     },
     "execution_count": 191,
     "metadata": {},
     "output_type": "execute_result"
    }
   ],
   "source": [
    "df['7day_cut']"
   ]
  },
  {
   "cell_type": "code",
   "execution_count": 195,
   "id": "ca9e8929",
   "metadata": {
    "ExecuteTime": {
     "end_time": "2023-03-15T10:23:01.534415Z",
     "start_time": "2023-03-15T10:23:01.426977Z"
    }
   },
   "outputs": [
    {
     "data": {
      "text/plain": [
       "Interval('2022-02-22', '2022-03-01', closed='left')"
      ]
     },
     "execution_count": 195,
     "metadata": {},
     "output_type": "execute_result"
    }
   ],
   "source": [
    "label_7day = df['7day_cut'].unique()\n",
    "label_7day[0]"
   ]
  },
  {
   "cell_type": "code",
   "execution_count": 197,
   "id": "77e53056",
   "metadata": {
    "ExecuteTime": {
     "end_time": "2023-03-15T10:23:48.676963Z",
     "start_time": "2023-03-15T10:23:48.318300Z"
    }
   },
   "outputs": [
    {
     "data": {
      "text/html": [
       "<div>\n",
       "<style scoped>\n",
       "    .dataframe tbody tr th:only-of-type {\n",
       "        vertical-align: middle;\n",
       "    }\n",
       "\n",
       "    .dataframe tbody tr th {\n",
       "        vertical-align: top;\n",
       "    }\n",
       "\n",
       "    .dataframe thead th {\n",
       "        text-align: right;\n",
       "    }\n",
       "</style>\n",
       "<table border=\"1\" class=\"dataframe\">\n",
       "  <thead>\n",
       "    <tr style=\"text-align: right;\">\n",
       "      <th></th>\n",
       "      <th>Unnamed: 0.1</th>\n",
       "      <th>Datetime</th>\n",
       "      <th>Tweet_id</th>\n",
       "      <th>Tweet_content</th>\n",
       "      <th>Tweet_reply_count</th>\n",
       "      <th>Tweet_retweet_count</th>\n",
       "      <th>Tweet_like_count</th>\n",
       "      <th>Tweet_quote_count</th>\n",
       "      <th>Tweet_language</th>\n",
       "      <th>Tweet_place</th>\n",
       "      <th>...</th>\n",
       "      <th>loyalty</th>\n",
       "      <th>authority</th>\n",
       "      <th>purity</th>\n",
       "      <th>Unnamed: 0</th>\n",
       "      <th>authority_cat</th>\n",
       "      <th>care_cat</th>\n",
       "      <th>fairness_cat</th>\n",
       "      <th>purity_cat</th>\n",
       "      <th>loyalty_cat</th>\n",
       "      <th>7day_cut</th>\n",
       "    </tr>\n",
       "  </thead>\n",
       "  <tbody>\n",
       "    <tr>\n",
       "      <th>0</th>\n",
       "      <td>0</td>\n",
       "      <td>2022-02-22</td>\n",
       "      <td>1496090169229058054</td>\n",
       "      <td>Russian troops enter eastern Ukraine russia  u...</td>\n",
       "      <td>0</td>\n",
       "      <td>0</td>\n",
       "      <td>0</td>\n",
       "      <td>0</td>\n",
       "      <td>en</td>\n",
       "      <td>NaN</td>\n",
       "      <td>...</td>\n",
       "      <td>0.0</td>\n",
       "      <td>4.75</td>\n",
       "      <td>0.0</td>\n",
       "      <td>NaN</td>\n",
       "      <td>Mixed</td>\n",
       "      <td>Harm</td>\n",
       "      <td>Non</td>\n",
       "      <td>Non</td>\n",
       "      <td>Non</td>\n",
       "      <td>[2022-02-22, 2022-03-01)</td>\n",
       "    </tr>\n",
       "    <tr>\n",
       "      <th>1</th>\n",
       "      <td>1</td>\n",
       "      <td>2022-02-22</td>\n",
       "      <td>1496093418870951937</td>\n",
       "      <td>Iran urges restraint in Ukraine crisis, blames...</td>\n",
       "      <td>0</td>\n",
       "      <td>0</td>\n",
       "      <td>0</td>\n",
       "      <td>0</td>\n",
       "      <td>en</td>\n",
       "      <td>NaN</td>\n",
       "      <td>...</td>\n",
       "      <td>0.0</td>\n",
       "      <td>0.00</td>\n",
       "      <td>0.0</td>\n",
       "      <td>NaN</td>\n",
       "      <td>Non</td>\n",
       "      <td>Non</td>\n",
       "      <td>Non</td>\n",
       "      <td>Non</td>\n",
       "      <td>Non</td>\n",
       "      <td>[2022-02-22, 2022-03-01)</td>\n",
       "    </tr>\n",
       "    <tr>\n",
       "      <th>2</th>\n",
       "      <td>2</td>\n",
       "      <td>2022-02-22</td>\n",
       "      <td>1496094215000195073</td>\n",
       "      <td>Current Affairs  emoji cara revolviéndose de l...</td>\n",
       "      <td>22</td>\n",
       "      <td>225</td>\n",
       "      <td>913</td>\n",
       "      <td>21</td>\n",
       "      <td>en</td>\n",
       "      <td>NaN</td>\n",
       "      <td>...</td>\n",
       "      <td>0.0</td>\n",
       "      <td>0.00</td>\n",
       "      <td>0.0</td>\n",
       "      <td>NaN</td>\n",
       "      <td>Non</td>\n",
       "      <td>Harm</td>\n",
       "      <td>Non</td>\n",
       "      <td>Non</td>\n",
       "      <td>Non</td>\n",
       "      <td>[2022-02-22, 2022-03-01)</td>\n",
       "    </tr>\n",
       "    <tr>\n",
       "      <th>3</th>\n",
       "      <td>3</td>\n",
       "      <td>2022-02-22</td>\n",
       "      <td>1496094912215130116</td>\n",
       "      <td>russian President  vladimir putin has ordered...</td>\n",
       "      <td>1</td>\n",
       "      <td>0</td>\n",
       "      <td>0</td>\n",
       "      <td>0</td>\n",
       "      <td>en</td>\n",
       "      <td>NaN</td>\n",
       "      <td>...</td>\n",
       "      <td>0.0</td>\n",
       "      <td>5.25</td>\n",
       "      <td>0.0</td>\n",
       "      <td>NaN</td>\n",
       "      <td>Mixed</td>\n",
       "      <td>Harm</td>\n",
       "      <td>Non</td>\n",
       "      <td>Non</td>\n",
       "      <td>Non</td>\n",
       "      <td>[2022-02-22, 2022-03-01)</td>\n",
       "    </tr>\n",
       "    <tr>\n",
       "      <th>4</th>\n",
       "      <td>4</td>\n",
       "      <td>2022-02-22</td>\n",
       "      <td>1496097094352121866</td>\n",
       "      <td>Putin calls Ukrainian statehood a fiction. His...</td>\n",
       "      <td>0</td>\n",
       "      <td>0</td>\n",
       "      <td>1</td>\n",
       "      <td>0</td>\n",
       "      <td>en</td>\n",
       "      <td>NaN</td>\n",
       "      <td>...</td>\n",
       "      <td>0.0</td>\n",
       "      <td>0.00</td>\n",
       "      <td>0.0</td>\n",
       "      <td>NaN</td>\n",
       "      <td>Non</td>\n",
       "      <td>Non</td>\n",
       "      <td>Non</td>\n",
       "      <td>Non</td>\n",
       "      <td>Non</td>\n",
       "      <td>[2022-02-22, 2022-03-01)</td>\n",
       "    </tr>\n",
       "  </tbody>\n",
       "</table>\n",
       "<p>5 rows × 37 columns</p>\n",
       "</div>"
      ],
      "text/plain": [
       "   Unnamed: 0.1   Datetime             Tweet_id  \\\n",
       "0             0 2022-02-22  1496090169229058054   \n",
       "1             1 2022-02-22  1496093418870951937   \n",
       "2             2 2022-02-22  1496094215000195073   \n",
       "3             3 2022-02-22  1496094912215130116   \n",
       "4             4 2022-02-22  1496097094352121866   \n",
       "\n",
       "                                       Tweet_content  Tweet_reply_count  \\\n",
       "0  Russian troops enter eastern Ukraine russia  u...                  0   \n",
       "1  Iran urges restraint in Ukraine crisis, blames...                  0   \n",
       "2  Current Affairs  emoji cara revolviéndose de l...                 22   \n",
       "3   russian President  vladimir putin has ordered...                  1   \n",
       "4  Putin calls Ukrainian statehood a fiction. His...                  0   \n",
       "\n",
       "   Tweet_retweet_count  Tweet_like_count  Tweet_quote_count Tweet_language  \\\n",
       "0                    0                 0                  0             en   \n",
       "1                    0                 0                  0             en   \n",
       "2                  225               913                 21             en   \n",
       "3                    0                 0                  0             en   \n",
       "4                    0                 1                  0             en   \n",
       "\n",
       "  Tweet_place  ... loyalty authority  purity  Unnamed: 0  authority_cat  \\\n",
       "0         NaN  ...     0.0      4.75     0.0         NaN          Mixed   \n",
       "1         NaN  ...     0.0      0.00     0.0         NaN            Non   \n",
       "2         NaN  ...     0.0      0.00     0.0         NaN            Non   \n",
       "3         NaN  ...     0.0      5.25     0.0         NaN          Mixed   \n",
       "4         NaN  ...     0.0      0.00     0.0         NaN            Non   \n",
       "\n",
       "   care_cat  fairness_cat  purity_cat  loyalty_cat                  7day_cut  \n",
       "0      Harm           Non         Non          Non  [2022-02-22, 2022-03-01)  \n",
       "1       Non           Non         Non          Non  [2022-02-22, 2022-03-01)  \n",
       "2      Harm           Non         Non          Non  [2022-02-22, 2022-03-01)  \n",
       "3      Harm           Non         Non          Non  [2022-02-22, 2022-03-01)  \n",
       "4       Non           Non         Non          Non  [2022-02-22, 2022-03-01)  \n",
       "\n",
       "[5 rows x 37 columns]"
      ]
     },
     "execution_count": 197,
     "metadata": {},
     "output_type": "execute_result"
    }
   ],
   "source": [
    "df[df['7day_cut']==label_7day[0]].head()"
   ]
  },
  {
   "cell_type": "code",
   "execution_count": 199,
   "id": "4460e9cc",
   "metadata": {
    "ExecuteTime": {
     "end_time": "2023-03-15T10:28:16.721912Z",
     "start_time": "2023-03-15T10:28:06.086605Z"
    }
   },
   "outputs": [],
   "source": [
    "user_list = df[df['7day_cut']==label_7day[0]].User_id.tolist()\n",
    "for i in label_7day:\n",
    "    user_list2 = df[df['7day_cut']==i].User_id.tolist()\n",
    "    user_list = list(set(user_list) & set(user_list2))\n",
    "    "
   ]
  },
  {
   "cell_type": "code",
   "execution_count": 200,
   "id": "c0e6fa41",
   "metadata": {
    "ExecuteTime": {
     "end_time": "2023-03-15T10:28:33.195556Z",
     "start_time": "2023-03-15T10:28:33.182586Z"
    }
   },
   "outputs": [
    {
     "data": {
      "text/plain": [
       "[]"
      ]
     },
     "execution_count": 200,
     "metadata": {},
     "output_type": "execute_result"
    }
   ],
   "source": [
    "user_list"
   ]
  },
  {
   "cell_type": "code",
   "execution_count": 211,
   "id": "ae9f3faa",
   "metadata": {
    "ExecuteTime": {
     "end_time": "2023-03-15T10:54:36.699126Z",
     "start_time": "2023-03-15T10:54:28.989138Z"
    }
   },
   "outputs": [
    {
     "data": {
      "text/plain": [
       "0"
      ]
     },
     "execution_count": 211,
     "metadata": {},
     "output_type": "execute_result"
    }
   ],
   "source": [
    "#cut time series by 14 days\n",
    "ini_time = df.iloc[0].Datetime\n",
    "end_time = df.iloc[-1].Datetime\n",
    "time_series_14day = []\n",
    "\n",
    "while ini_time < end_time:\n",
    "    time_series_14day.append(ini_time)\n",
    "    ini_time = ini_time+timedelta(days=14)\n",
    "    \n",
    "time_series_14day.append(end_time+timedelta(days=1))\n",
    "\n",
    "df['14day_cut'] = pd.cut(df['Datetime'], bins=time_series_14day, include_lowest=True, right=False)\n",
    "\n",
    "label_14day = df['14day_cut'].unique()\n",
    "\n",
    "user_list_14 = df[df['14day_cut']==label_14day[0]].User_id.tolist()\n",
    "for i in label_14day[:-1]:\n",
    "    user_list2 = df[df['14day_cut']==i].User_id.tolist()\n",
    "    user_list_14 = list(set(user_list_14) & set(user_list2))\n",
    "    \n",
    "len(user_list_14)"
   ]
  },
  {
   "cell_type": "code",
   "execution_count": 213,
   "id": "90009acd",
   "metadata": {
    "ExecuteTime": {
     "end_time": "2023-03-15T10:55:21.931120Z",
     "start_time": "2023-03-15T10:55:12.403752Z"
    }
   },
   "outputs": [
    {
     "data": {
      "text/plain": [
       "13496"
      ]
     },
     "execution_count": 213,
     "metadata": {},
     "output_type": "execute_result"
    }
   ],
   "source": [
    "#cut time series by 30 days\n",
    "ini_time = df.iloc[0].Datetime\n",
    "end_time = df.iloc[-1].Datetime\n",
    "time_series_30day = []\n",
    "\n",
    "while ini_time < end_time:\n",
    "    time_series_30day.append(ini_time)\n",
    "    ini_time = ini_time+timedelta(days=30)\n",
    "    \n",
    "time_series_30day.append(end_time+timedelta(days=1))\n",
    "\n",
    "df['30day_cut'] = pd.cut(df['Datetime'], bins=time_series_30day, include_lowest=True, right=False)\n",
    "\n",
    "label_30day = df['30day_cut'].unique()\n",
    "\n",
    "user_list_30 = df[df['30day_cut']==label_30day[0]].User_id.tolist()\n",
    "for i in label_30day[:-1]:\n",
    "    user_list2 = df[df['30day_cut']==i].User_id.tolist()\n",
    "    user_list_30 = list(set(user_list_30) & set(user_list2))\n",
    "    \n",
    "len(user_list_30)"
   ]
  },
  {
   "cell_type": "code",
   "execution_count": 214,
   "id": "471e2da8",
   "metadata": {
    "ExecuteTime": {
     "end_time": "2023-03-15T10:55:44.256520Z",
     "start_time": "2023-03-15T10:55:33.117637Z"
    }
   },
   "outputs": [
    {
     "data": {
      "text/plain": [
       "27599"
      ]
     },
     "execution_count": 214,
     "metadata": {},
     "output_type": "execute_result"
    }
   ],
   "source": [
    "#cut time series by 60 days\n",
    "ini_time = df.iloc[0].Datetime\n",
    "end_time = df.iloc[-1].Datetime\n",
    "time_series_60day = []\n",
    "\n",
    "while ini_time < end_time:\n",
    "    time_series_60day.append(ini_time)\n",
    "    ini_time = ini_time+timedelta(days=60)\n",
    "    \n",
    "time_series_60day.append(end_time+timedelta(days=1))\n",
    "\n",
    "df['60day_cut'] = pd.cut(df['Datetime'], bins=time_series_60day, include_lowest=True, right=False)\n",
    "\n",
    "label_60day = df['60day_cut'].unique()\n",
    "\n",
    "user_list_60 = df[df['60day_cut']==label_60day[0]].User_id.tolist()\n",
    "for i in label_60day[:-1]:\n",
    "    user_list2 = df[df['60day_cut']==i].User_id.tolist()\n",
    "    user_list_60 = list(set(user_list_60) & set(user_list2))\n",
    "    \n",
    "len(user_list_60)"
   ]
  },
  {
   "cell_type": "code",
   "execution_count": 216,
   "id": "f9b72f7c",
   "metadata": {
    "ExecuteTime": {
     "end_time": "2023-03-15T10:58:05.978682Z",
     "start_time": "2023-03-15T10:58:04.760354Z"
    }
   },
   "outputs": [],
   "source": [
    "df_active30 = df[df['User_id'].isin(user_list_30)]"
   ]
  },
  {
   "cell_type": "code",
   "execution_count": 217,
   "id": "45ed2cf5",
   "metadata": {
    "ExecuteTime": {
     "end_time": "2023-03-15T10:58:22.532524Z",
     "start_time": "2023-03-15T10:58:22.472374Z"
    }
   },
   "outputs": [
    {
     "data": {
      "text/html": [
       "<div>\n",
       "<style scoped>\n",
       "    .dataframe tbody tr th:only-of-type {\n",
       "        vertical-align: middle;\n",
       "    }\n",
       "\n",
       "    .dataframe tbody tr th {\n",
       "        vertical-align: top;\n",
       "    }\n",
       "\n",
       "    .dataframe thead th {\n",
       "        text-align: right;\n",
       "    }\n",
       "</style>\n",
       "<table border=\"1\" class=\"dataframe\">\n",
       "  <thead>\n",
       "    <tr style=\"text-align: right;\">\n",
       "      <th></th>\n",
       "      <th>Unnamed: 0.1</th>\n",
       "      <th>Datetime</th>\n",
       "      <th>Tweet_id</th>\n",
       "      <th>Tweet_content</th>\n",
       "      <th>Tweet_reply_count</th>\n",
       "      <th>Tweet_retweet_count</th>\n",
       "      <th>Tweet_like_count</th>\n",
       "      <th>Tweet_quote_count</th>\n",
       "      <th>Tweet_language</th>\n",
       "      <th>Tweet_place</th>\n",
       "      <th>...</th>\n",
       "      <th>authority_cat</th>\n",
       "      <th>care_cat</th>\n",
       "      <th>fairness_cat</th>\n",
       "      <th>purity_cat</th>\n",
       "      <th>loyalty_cat</th>\n",
       "      <th>7day_cut</th>\n",
       "      <th>14day_cut</th>\n",
       "      <th>30day_cut</th>\n",
       "      <th>60day_cut</th>\n",
       "      <th>90day_cut</th>\n",
       "    </tr>\n",
       "  </thead>\n",
       "  <tbody>\n",
       "    <tr>\n",
       "      <th>6</th>\n",
       "      <td>6</td>\n",
       "      <td>2022-02-22</td>\n",
       "      <td>1496098801152512002</td>\n",
       "      <td>putins war   ukraine russia crisis  ukraina  ...</td>\n",
       "      <td>0</td>\n",
       "      <td>0</td>\n",
       "      <td>1</td>\n",
       "      <td>0</td>\n",
       "      <td>en</td>\n",
       "      <td>NaN</td>\n",
       "      <td>...</td>\n",
       "      <td>Non</td>\n",
       "      <td>Harm</td>\n",
       "      <td>Non</td>\n",
       "      <td>Non</td>\n",
       "      <td>Non</td>\n",
       "      <td>[2022-02-22, 2022-03-01)</td>\n",
       "      <td>[2022-02-22, 2022-03-08)</td>\n",
       "      <td>[2022-02-22, 2022-03-24)</td>\n",
       "      <td>[2022-02-22, 2022-04-23)</td>\n",
       "      <td>[2022-02-22, 2022-05-23)</td>\n",
       "    </tr>\n",
       "    <tr>\n",
       "      <th>7</th>\n",
       "      <td>7</td>\n",
       "      <td>2022-02-22</td>\n",
       "      <td>1496099780912881665</td>\n",
       "      <td>Proud moment for  indiaTwo young shining stars...</td>\n",
       "      <td>0</td>\n",
       "      <td>0</td>\n",
       "      <td>1</td>\n",
       "      <td>0</td>\n",
       "      <td>en</td>\n",
       "      <td>NaN</td>\n",
       "      <td>...</td>\n",
       "      <td>Non</td>\n",
       "      <td>Care</td>\n",
       "      <td>Non</td>\n",
       "      <td>Non</td>\n",
       "      <td>Non</td>\n",
       "      <td>[2022-02-22, 2022-03-01)</td>\n",
       "      <td>[2022-02-22, 2022-03-08)</td>\n",
       "      <td>[2022-02-22, 2022-03-24)</td>\n",
       "      <td>[2022-02-22, 2022-04-23)</td>\n",
       "      <td>[2022-02-22, 2022-05-23)</td>\n",
       "    </tr>\n",
       "    <tr>\n",
       "      <th>12</th>\n",
       "      <td>12</td>\n",
       "      <td>2022-02-22</td>\n",
       "      <td>1496103001903501319</td>\n",
       "      <td>Russia vs Ukraine War Update: Germany halts No...</td>\n",
       "      <td>1</td>\n",
       "      <td>0</td>\n",
       "      <td>1</td>\n",
       "      <td>0</td>\n",
       "      <td>en</td>\n",
       "      <td>NaN</td>\n",
       "      <td>...</td>\n",
       "      <td>Non</td>\n",
       "      <td>Harm</td>\n",
       "      <td>Non</td>\n",
       "      <td>Non</td>\n",
       "      <td>Non</td>\n",
       "      <td>[2022-02-22, 2022-03-01)</td>\n",
       "      <td>[2022-02-22, 2022-03-08)</td>\n",
       "      <td>[2022-02-22, 2022-03-24)</td>\n",
       "      <td>[2022-02-22, 2022-04-23)</td>\n",
       "      <td>[2022-02-22, 2022-05-23)</td>\n",
       "    </tr>\n",
       "    <tr>\n",
       "      <th>26</th>\n",
       "      <td>26</td>\n",
       "      <td>2022-02-22</td>\n",
       "      <td>1496107122718695424</td>\n",
       "      <td>putins war :Interesting details on other terr...</td>\n",
       "      <td>0</td>\n",
       "      <td>0</td>\n",
       "      <td>1</td>\n",
       "      <td>0</td>\n",
       "      <td>en</td>\n",
       "      <td>NaN</td>\n",
       "      <td>...</td>\n",
       "      <td>Non</td>\n",
       "      <td>Harm</td>\n",
       "      <td>Non</td>\n",
       "      <td>Non</td>\n",
       "      <td>Non</td>\n",
       "      <td>[2022-02-22, 2022-03-01)</td>\n",
       "      <td>[2022-02-22, 2022-03-08)</td>\n",
       "      <td>[2022-02-22, 2022-03-24)</td>\n",
       "      <td>[2022-02-22, 2022-04-23)</td>\n",
       "      <td>[2022-02-22, 2022-05-23)</td>\n",
       "    </tr>\n",
       "    <tr>\n",
       "      <th>27</th>\n",
       "      <td>27</td>\n",
       "      <td>2022-02-22</td>\n",
       "      <td>1496107229929476105</td>\n",
       "      <td>criminals in  russia,  iran, syria!are the w...</td>\n",
       "      <td>0</td>\n",
       "      <td>0</td>\n",
       "      <td>3</td>\n",
       "      <td>0</td>\n",
       "      <td>en</td>\n",
       "      <td>NaN</td>\n",
       "      <td>...</td>\n",
       "      <td>Non</td>\n",
       "      <td>Non</td>\n",
       "      <td>Non</td>\n",
       "      <td>Degradation</td>\n",
       "      <td>Mixed</td>\n",
       "      <td>[2022-02-22, 2022-03-01)</td>\n",
       "      <td>[2022-02-22, 2022-03-08)</td>\n",
       "      <td>[2022-02-22, 2022-03-24)</td>\n",
       "      <td>[2022-02-22, 2022-04-23)</td>\n",
       "      <td>[2022-02-22, 2022-05-23)</td>\n",
       "    </tr>\n",
       "  </tbody>\n",
       "</table>\n",
       "<p>5 rows × 41 columns</p>\n",
       "</div>"
      ],
      "text/plain": [
       "    Unnamed: 0.1   Datetime             Tweet_id  \\\n",
       "6              6 2022-02-22  1496098801152512002   \n",
       "7              7 2022-02-22  1496099780912881665   \n",
       "12            12 2022-02-22  1496103001903501319   \n",
       "26            26 2022-02-22  1496107122718695424   \n",
       "27            27 2022-02-22  1496107229929476105   \n",
       "\n",
       "                                        Tweet_content  Tweet_reply_count  \\\n",
       "6    putins war   ukraine russia crisis  ukraina  ...                  0   \n",
       "7   Proud moment for  indiaTwo young shining stars...                  0   \n",
       "12  Russia vs Ukraine War Update: Germany halts No...                  1   \n",
       "26   putins war :Interesting details on other terr...                  0   \n",
       "27    criminals in  russia,  iran, syria!are the w...                  0   \n",
       "\n",
       "    Tweet_retweet_count  Tweet_like_count  Tweet_quote_count Tweet_language  \\\n",
       "6                     0                 1                  0             en   \n",
       "7                     0                 1                  0             en   \n",
       "12                    0                 1                  0             en   \n",
       "26                    0                 1                  0             en   \n",
       "27                    0                 3                  0             en   \n",
       "\n",
       "   Tweet_place  ... authority_cat care_cat  fairness_cat   purity_cat  \\\n",
       "6          NaN  ...           Non     Harm           Non          Non   \n",
       "7          NaN  ...           Non     Care           Non          Non   \n",
       "12         NaN  ...           Non     Harm           Non          Non   \n",
       "26         NaN  ...           Non     Harm           Non          Non   \n",
       "27         NaN  ...           Non      Non           Non  Degradation   \n",
       "\n",
       "    loyalty_cat                  7day_cut                 14day_cut  \\\n",
       "6           Non  [2022-02-22, 2022-03-01)  [2022-02-22, 2022-03-08)   \n",
       "7           Non  [2022-02-22, 2022-03-01)  [2022-02-22, 2022-03-08)   \n",
       "12          Non  [2022-02-22, 2022-03-01)  [2022-02-22, 2022-03-08)   \n",
       "26          Non  [2022-02-22, 2022-03-01)  [2022-02-22, 2022-03-08)   \n",
       "27        Mixed  [2022-02-22, 2022-03-01)  [2022-02-22, 2022-03-08)   \n",
       "\n",
       "                   30day_cut                 60day_cut  \\\n",
       "6   [2022-02-22, 2022-03-24)  [2022-02-22, 2022-04-23)   \n",
       "7   [2022-02-22, 2022-03-24)  [2022-02-22, 2022-04-23)   \n",
       "12  [2022-02-22, 2022-03-24)  [2022-02-22, 2022-04-23)   \n",
       "26  [2022-02-22, 2022-03-24)  [2022-02-22, 2022-04-23)   \n",
       "27  [2022-02-22, 2022-03-24)  [2022-02-22, 2022-04-23)   \n",
       "\n",
       "                   90day_cut  \n",
       "6   [2022-02-22, 2022-05-23)  \n",
       "7   [2022-02-22, 2022-05-23)  \n",
       "12  [2022-02-22, 2022-05-23)  \n",
       "26  [2022-02-22, 2022-05-23)  \n",
       "27  [2022-02-22, 2022-05-23)  \n",
       "\n",
       "[5 rows x 41 columns]"
      ]
     },
     "execution_count": 217,
     "metadata": {},
     "output_type": "execute_result"
    }
   ],
   "source": [
    "df_active30.head()"
   ]
  },
  {
   "cell_type": "code",
   "execution_count": 220,
   "id": "deffb9d5",
   "metadata": {
    "ExecuteTime": {
     "end_time": "2023-03-15T11:03:53.856594Z",
     "start_time": "2023-03-15T11:03:53.833561Z"
    }
   },
   "outputs": [
    {
     "data": {
      "text/plain": [
       "2730753"
      ]
     },
     "execution_count": 220,
     "metadata": {},
     "output_type": "execute_result"
    }
   ],
   "source": [
    "len(df_active30)"
   ]
  },
  {
   "cell_type": "markdown",
   "id": "d7a2ccfa",
   "metadata": {},
   "source": [
    "13496名活跃用户每月都发关于俄乌战争的推特，共发了2730753条，这些用户中极可能有大量水军和新闻账号"
   ]
  },
  {
   "cell_type": "code",
   "execution_count": 223,
   "id": "4235f9d0",
   "metadata": {
    "ExecuteTime": {
     "end_time": "2023-03-15T11:07:22.843792Z",
     "start_time": "2023-03-15T11:05:03.785365Z"
    }
   },
   "outputs": [],
   "source": [
    "df_active30.to_csv(\"active_User_per_30_days.csv\")"
   ]
  },
  {
   "cell_type": "code",
   "execution_count": 7,
   "id": "e950501f",
   "metadata": {
    "ExecuteTime": {
     "end_time": "2023-04-19T02:07:12.441805Z",
     "start_time": "2023-04-19T02:06:29.221362Z"
    }
   },
   "outputs": [
    {
     "name": "stdout",
     "output_type": "stream",
     "text": [
      "Optimization terminated successfully.\n",
      "         Current function value: 0.283562\n",
      "         Iterations 8\n",
      "                           Logit Regression Results                           \n",
      "==============================================================================\n",
      "Dep. Variable:                   HorA   No. Observations:              9842648\n",
      "Model:                          Logit   Df Residuals:                  9842642\n",
      "Method:                           MLE   Df Model:                            5\n",
      "Date:                Wed, 19 Apr 2023   Pseudo R-squ.:                 0.02628\n",
      "Time:                        10:07:12   Log-Likelihood:            -2.7910e+06\n",
      "converged:                       True   LL-Null:                   -2.8663e+06\n",
      "Covariance Type:            nonrobust   LLR p-value:                     0.000\n",
      "==============================================================================\n",
      "                 coef    std err          z      P>|z|      [0.025      0.975]\n",
      "------------------------------------------------------------------------------\n",
      "const         -2.2878      0.001  -1828.310      0.000      -2.290      -2.285\n",
      "care           0.3118      0.003    122.532      0.000       0.307       0.317\n",
      "fairness      -4.6040      0.020   -227.301      0.000      -4.644      -4.564\n",
      "authority     -0.0788      0.007    -11.709      0.000      -0.092      -0.066\n",
      "purity        -0.7143      0.005   -135.155      0.000      -0.725      -0.704\n",
      "loyalty       -0.9100      0.006   -146.264      0.000      -0.922      -0.898\n",
      "==============================================================================\n"
     ]
    }
   ],
   "source": [
    "#logit regression\n",
    "import statsmodels.api as sm\n",
    "\n",
    "# 读取数据\n",
    "data = df[['HorA','care','authority','fairness','loyalty','purity']]\n",
    "\n",
    "# 拆分数据集\n",
    "X = data[['care', 'fairness', 'authority', 'purity', 'loyalty']]\n",
    "y = data['HorA']\n",
    "\n",
    "# 添加截距项\n",
    "X = sm.add_constant(X)\n",
    "\n",
    "# 拟合线性回归模型\n",
    "linear_model = sm.Logit(y, X)\n",
    "result = linear_model.fit()\n",
    "\n",
    "# 打印结果\n",
    "print(result.summary())"
   ]
  },
  {
   "cell_type": "code",
   "execution_count": 10,
   "id": "5078765d",
   "metadata": {
    "ExecuteTime": {
     "end_time": "2023-04-17T03:29:03.417700Z",
     "start_time": "2023-04-17T03:28:51.347123Z"
    }
   },
   "outputs": [
    {
     "name": "stdout",
     "output_type": "stream",
     "text": [
      "   VIF Factor   features\n",
      "0    1.047730       care\n",
      "1    1.013607   fairness\n",
      "2    1.011358  authority\n",
      "3    1.033003     purity\n",
      "4    1.010556    loyalty\n"
     ]
    }
   ],
   "source": [
    "#自变量之间的共线性检验\n",
    "from statsmodels.stats.outliers_influence import variance_inflation_factor\n",
    "\n",
    "# 将需要检测的变量放入一个列表中\n",
    "variables = ['care', 'fairness', 'authority', 'purity', 'loyalty']\n",
    "\n",
    "# 创建一个新的DataFrame，只包含需要检测的变量\n",
    "new_df = df[variables]\n",
    "\n",
    "# 计算VIF值\n",
    "vif = pd.DataFrame()\n",
    "vif[\"VIF Factor\"] = [variance_inflation_factor(new_df.values, i) for i in range(new_df.shape[1])]\n",
    "vif[\"features\"] = new_df.columns\n",
    "\n",
    "# 输出结果\n",
    "print(vif)"
   ]
  },
  {
   "cell_type": "markdown",
   "id": "4cc213da",
   "metadata": {},
   "source": [
    "## 衡量道德叙事与仇恨言论的传播"
   ]
  },
  {
   "cell_type": "code",
   "execution_count": 7,
   "id": "6fb5dd9a",
   "metadata": {
    "ExecuteTime": {
     "end_time": "2023-05-26T08:52:41.524061Z",
     "start_time": "2023-05-26T08:52:41.484066Z"
    }
   },
   "outputs": [
    {
     "data": {
      "text/html": [
       "<div>\n",
       "<style scoped>\n",
       "    .dataframe tbody tr th:only-of-type {\n",
       "        vertical-align: middle;\n",
       "    }\n",
       "\n",
       "    .dataframe tbody tr th {\n",
       "        vertical-align: top;\n",
       "    }\n",
       "\n",
       "    .dataframe thead th {\n",
       "        text-align: right;\n",
       "    }\n",
       "</style>\n",
       "<table border=\"1\" class=\"dataframe\">\n",
       "  <thead>\n",
       "    <tr style=\"text-align: right;\">\n",
       "      <th></th>\n",
       "      <th>Unnamed: 0</th>\n",
       "      <th>Datetime</th>\n",
       "      <th>Tweet_id</th>\n",
       "      <th>Tweet_content</th>\n",
       "      <th>Tweet_reply_count</th>\n",
       "      <th>Tweet_retweet_count</th>\n",
       "      <th>Tweet_like_count</th>\n",
       "      <th>Tweet_quote_count</th>\n",
       "      <th>Tweet_hashtags</th>\n",
       "      <th>Username</th>\n",
       "      <th>...</th>\n",
       "      <th>User_listed_count</th>\n",
       "      <th>User_media_count</th>\n",
       "      <th>hateful</th>\n",
       "      <th>aggressive</th>\n",
       "      <th>HorA</th>\n",
       "      <th>care</th>\n",
       "      <th>fairness</th>\n",
       "      <th>loyalty</th>\n",
       "      <th>authority</th>\n",
       "      <th>purity</th>\n",
       "    </tr>\n",
       "  </thead>\n",
       "  <tbody>\n",
       "    <tr>\n",
       "      <th>0</th>\n",
       "      <td>0</td>\n",
       "      <td>2022-02-22</td>\n",
       "      <td>1496090169229058054</td>\n",
       "      <td>Russian troops enter eastern Ukraine russia  u...</td>\n",
       "      <td>0</td>\n",
       "      <td>0</td>\n",
       "      <td>0</td>\n",
       "      <td>0</td>\n",
       "      <td>['Russia', 'Ukraine', 'UkraineConflict', 'Ukra...</td>\n",
       "      <td>HimanRoy14</td>\n",
       "      <td>...</td>\n",
       "      <td>0</td>\n",
       "      <td>364</td>\n",
       "      <td>0</td>\n",
       "      <td>0</td>\n",
       "      <td>0</td>\n",
       "      <td>-0.833333</td>\n",
       "      <td>0.0</td>\n",
       "      <td>0.0</td>\n",
       "      <td>-0.0625</td>\n",
       "      <td>0.0</td>\n",
       "    </tr>\n",
       "    <tr>\n",
       "      <th>1</th>\n",
       "      <td>1</td>\n",
       "      <td>2022-02-22</td>\n",
       "      <td>1496093418870951937</td>\n",
       "      <td>Iran urges restraint in Ukraine crisis, blames...</td>\n",
       "      <td>0</td>\n",
       "      <td>0</td>\n",
       "      <td>0</td>\n",
       "      <td>0</td>\n",
       "      <td>['Iran', 'UkraineRussiaCrisis', 'Ukraine', 'Uk...</td>\n",
       "      <td>theasialive</td>\n",
       "      <td>...</td>\n",
       "      <td>1</td>\n",
       "      <td>194</td>\n",
       "      <td>0</td>\n",
       "      <td>0</td>\n",
       "      <td>0</td>\n",
       "      <td>0.000000</td>\n",
       "      <td>0.0</td>\n",
       "      <td>0.0</td>\n",
       "      <td>0.0000</td>\n",
       "      <td>0.0</td>\n",
       "    </tr>\n",
       "    <tr>\n",
       "      <th>2</th>\n",
       "      <td>2</td>\n",
       "      <td>2022-02-22</td>\n",
       "      <td>1496094215000195073</td>\n",
       "      <td>Current Affairs  emoji cara revolviéndose de l...</td>\n",
       "      <td>22</td>\n",
       "      <td>225</td>\n",
       "      <td>913</td>\n",
       "      <td>21</td>\n",
       "      <td>['Ukraine', 'UkraineRussiaCrisis', 'UkraineCri...</td>\n",
       "      <td>SonaliS71687712</td>\n",
       "      <td>...</td>\n",
       "      <td>0</td>\n",
       "      <td>1072</td>\n",
       "      <td>0</td>\n",
       "      <td>0</td>\n",
       "      <td>0</td>\n",
       "      <td>-0.833333</td>\n",
       "      <td>0.0</td>\n",
       "      <td>0.0</td>\n",
       "      <td>0.0000</td>\n",
       "      <td>0.0</td>\n",
       "    </tr>\n",
       "    <tr>\n",
       "      <th>3</th>\n",
       "      <td>3</td>\n",
       "      <td>2022-02-22</td>\n",
       "      <td>1496094912215130116</td>\n",
       "      <td>russian President  vladimir putin has ordered...</td>\n",
       "      <td>1</td>\n",
       "      <td>0</td>\n",
       "      <td>0</td>\n",
       "      <td>0</td>\n",
       "      <td>['Russian', 'VladimirPutin', 'Ukraine', 'Ukrai...</td>\n",
       "      <td>TheHoardPlanet</td>\n",
       "      <td>...</td>\n",
       "      <td>1</td>\n",
       "      <td>196</td>\n",
       "      <td>0</td>\n",
       "      <td>0</td>\n",
       "      <td>0</td>\n",
       "      <td>-0.833333</td>\n",
       "      <td>0.0</td>\n",
       "      <td>0.0</td>\n",
       "      <td>0.0625</td>\n",
       "      <td>0.0</td>\n",
       "    </tr>\n",
       "    <tr>\n",
       "      <th>4</th>\n",
       "      <td>4</td>\n",
       "      <td>2022-02-22</td>\n",
       "      <td>1496097094352121866</td>\n",
       "      <td>Putin calls Ukrainian statehood a fiction. His...</td>\n",
       "      <td>0</td>\n",
       "      <td>0</td>\n",
       "      <td>1</td>\n",
       "      <td>0</td>\n",
       "      <td>['Russia', 'RussiaUkraineCrisis', 'RussiaUcrai...</td>\n",
       "      <td>theasialive</td>\n",
       "      <td>...</td>\n",
       "      <td>1</td>\n",
       "      <td>194</td>\n",
       "      <td>0</td>\n",
       "      <td>0</td>\n",
       "      <td>0</td>\n",
       "      <td>0.000000</td>\n",
       "      <td>0.0</td>\n",
       "      <td>0.0</td>\n",
       "      <td>0.0000</td>\n",
       "      <td>0.0</td>\n",
       "    </tr>\n",
       "  </tbody>\n",
       "</table>\n",
       "<p>5 rows × 25 columns</p>\n",
       "</div>"
      ],
      "text/plain": [
       "   Unnamed: 0    Datetime             Tweet_id  \\\n",
       "0           0  2022-02-22  1496090169229058054   \n",
       "1           1  2022-02-22  1496093418870951937   \n",
       "2           2  2022-02-22  1496094215000195073   \n",
       "3           3  2022-02-22  1496094912215130116   \n",
       "4           4  2022-02-22  1496097094352121866   \n",
       "\n",
       "                                       Tweet_content  Tweet_reply_count  \\\n",
       "0  Russian troops enter eastern Ukraine russia  u...                  0   \n",
       "1  Iran urges restraint in Ukraine crisis, blames...                  0   \n",
       "2  Current Affairs  emoji cara revolviéndose de l...                 22   \n",
       "3   russian President  vladimir putin has ordered...                  1   \n",
       "4  Putin calls Ukrainian statehood a fiction. His...                  0   \n",
       "\n",
       "   Tweet_retweet_count  Tweet_like_count  Tweet_quote_count  \\\n",
       "0                    0                 0                  0   \n",
       "1                    0                 0                  0   \n",
       "2                  225               913                 21   \n",
       "3                    0                 0                  0   \n",
       "4                    0                 1                  0   \n",
       "\n",
       "                                      Tweet_hashtags         Username  ...  \\\n",
       "0  ['Russia', 'Ukraine', 'UkraineConflict', 'Ukra...       HimanRoy14  ...   \n",
       "1  ['Iran', 'UkraineRussiaCrisis', 'Ukraine', 'Uk...      theasialive  ...   \n",
       "2  ['Ukraine', 'UkraineRussiaCrisis', 'UkraineCri...  SonaliS71687712  ...   \n",
       "3  ['Russian', 'VladimirPutin', 'Ukraine', 'Ukrai...   TheHoardPlanet  ...   \n",
       "4  ['Russia', 'RussiaUkraineCrisis', 'RussiaUcrai...      theasialive  ...   \n",
       "\n",
       "   User_listed_count  User_media_count  hateful  aggressive  HorA      care  \\\n",
       "0                  0               364        0           0     0 -0.833333   \n",
       "1                  1               194        0           0     0  0.000000   \n",
       "2                  0              1072        0           0     0 -0.833333   \n",
       "3                  1               196        0           0     0 -0.833333   \n",
       "4                  1               194        0           0     0  0.000000   \n",
       "\n",
       "   fairness  loyalty  authority  purity  \n",
       "0       0.0      0.0    -0.0625     0.0  \n",
       "1       0.0      0.0     0.0000     0.0  \n",
       "2       0.0      0.0     0.0000     0.0  \n",
       "3       0.0      0.0     0.0625     0.0  \n",
       "4       0.0      0.0     0.0000     0.0  \n",
       "\n",
       "[5 rows x 25 columns]"
      ]
     },
     "execution_count": 7,
     "metadata": {},
     "output_type": "execute_result"
    }
   ],
   "source": [
    "df.head()"
   ]
  },
  {
   "cell_type": "code",
   "execution_count": 8,
   "id": "22c1a212",
   "metadata": {
    "ExecuteTime": {
     "end_time": "2023-05-26T08:52:45.405563Z",
     "start_time": "2023-05-26T08:52:45.379819Z"
    }
   },
   "outputs": [
    {
     "data": {
      "text/plain": [
       "Index(['Unnamed: 0', 'Datetime', 'Tweet_id', 'Tweet_content',\n",
       "       'Tweet_reply_count', 'Tweet_retweet_count', 'Tweet_like_count',\n",
       "       'Tweet_quote_count', 'Tweet_hashtags', 'Username', 'User_id',\n",
       "       'User_followers_count', 'User_friends_count', 'User_statuses_count',\n",
       "       'User_favourites_count', 'User_listed_count', 'User_media_count',\n",
       "       'hateful', 'aggressive', 'HorA', 'care', 'fairness', 'loyalty',\n",
       "       'authority', 'purity'],\n",
       "      dtype='object')"
      ]
     },
     "execution_count": 8,
     "metadata": {},
     "output_type": "execute_result"
    }
   ],
   "source": [
    "df.columns"
   ]
  },
  {
   "cell_type": "code",
   "execution_count": 20,
   "id": "14b28212",
   "metadata": {
    "ExecuteTime": {
     "end_time": "2023-04-18T02:05:17.691017Z",
     "start_time": "2023-04-18T02:05:05.007715Z"
    }
   },
   "outputs": [
    {
     "name": "stdout",
     "output_type": "stream",
     "text": [
      "                            OLS Regression Results                            \n",
      "==============================================================================\n",
      "Dep. Variable:      Tweet_reply_count   R-squared:                       0.001\n",
      "Model:                            OLS   Adj. R-squared:                  0.001\n",
      "Method:                 Least Squares   F-statistic:                     899.7\n",
      "Date:                Tue, 18 Apr 2023   Prob (F-statistic):               0.00\n",
      "Time:                        10:05:17   Log-Likelihood:            -4.9935e+07\n",
      "No. Observations:             9842648   AIC:                         9.987e+07\n",
      "Df Residuals:                 9842639   BIC:                         9.987e+07\n",
      "Df Model:                           8                                         \n",
      "Covariance Type:            nonrobust                                         \n",
      "========================================================================================\n",
      "                           coef    std err          t      P>|t|      [0.025      0.975]\n",
      "----------------------------------------------------------------------------------------\n",
      "const                    0.7848      0.015     52.096      0.000       0.755       0.814\n",
      "care                    -0.0039      0.027     -0.147      0.883      -0.056       0.048\n",
      "fairness                 0.3019      0.089      3.379      0.001       0.127       0.477\n",
      "authority                0.3491      0.070      4.976      0.000       0.212       0.487\n",
      "purity                  -0.3555      0.053     -6.728      0.000      -0.459      -0.252\n",
      "loyalty                  0.3873      0.059      6.535      0.000       0.271       0.503\n",
      "HorA                    -0.3949      0.044     -8.893      0.000      -0.482      -0.308\n",
      "User_followers_count  2.146e-06   2.63e-08     81.548      0.000    2.09e-06     2.2e-06\n",
      "User_friends_count     2.77e-05   1.81e-06     15.320      0.000    2.42e-05    3.12e-05\n",
      "===================================================================================\n",
      "Omnibus:                 81740604.574   Durbin-Watson:                        2.000\n",
      "Prob(Omnibus):                  0.000   Jarque-Bera (JB):   5755749428320766976.000\n",
      "Skew:                        1636.523   Prob(JB):                              0.00\n",
      "Kurtosis:                 3746284.587   Cond. No.                          3.41e+06\n",
      "===================================================================================\n",
      "\n",
      "Notes:\n",
      "[1] Standard Errors assume that the covariance matrix of the errors is correctly specified.\n",
      "[2] The condition number is large, 3.41e+06. This might indicate that there are\n",
      "strong multicollinearity or other numerical problems.\n"
     ]
    }
   ],
   "source": [
    "#linear regression for reply\n",
    "import statsmodels.api as sm\n",
    "# 读取数据\n",
    "data = df[['HorA','care','authority','fairness','loyalty','purity','Tweet_reply_count','Tweet_retweet_count','Tweet_quote_count','Tweet_like_count','User_followers_count', 'User_friends_count']]\n",
    "\n",
    "# 拆分数据集\n",
    "X = data[['care', 'fairness', 'authority', 'purity', 'loyalty','HorA','User_followers_count', 'User_friends_count']]\n",
    "y = data['Tweet_reply_count']\n",
    "\n",
    "# 添加截距项\n",
    "X = sm.add_constant(X)\n",
    "\n",
    "# 拟合线性回归模型\n",
    "linear_model = sm.OLS(y, X)\n",
    "result = linear_model.fit()\n",
    "\n",
    "# 打印结果\n",
    "print(result.summary())"
   ]
  },
  {
   "cell_type": "code",
   "execution_count": 37,
   "id": "2958c8e8",
   "metadata": {
    "ExecuteTime": {
     "end_time": "2023-04-18T02:50:50.314274Z",
     "start_time": "2023-04-18T02:50:33.689008Z"
    }
   },
   "outputs": [
    {
     "data": {
      "text/html": [
       "<table class=\"simpletable\">\n",
       "<caption>OLS Regression Results</caption>\n",
       "<tr>\n",
       "  <th>Dep. Variable:</th>    <td>Tweet_reply_count</td> <th>  R-squared:         </th>  <td>   0.001</td>  \n",
       "</tr>\n",
       "<tr>\n",
       "  <th>Model:</th>                   <td>OLS</td>        <th>  Adj. R-squared:    </th>  <td>   0.001</td>  \n",
       "</tr>\n",
       "<tr>\n",
       "  <th>Method:</th>             <td>Least Squares</td>   <th>  F-statistic:       </th>  <td>   1022.</td>  \n",
       "</tr>\n",
       "<tr>\n",
       "  <th>Date:</th>             <td>Tue, 18 Apr 2023</td>  <th>  Prob (F-statistic):</th>   <td>  0.00</td>   \n",
       "</tr>\n",
       "<tr>\n",
       "  <th>Time:</th>                 <td>10:50:50</td>      <th>  Log-Likelihood:    </th> <td>-1.3963e+07</td>\n",
       "</tr>\n",
       "<tr>\n",
       "  <th>No. Observations:</th>      <td>9842648</td>      <th>  AIC:               </th>  <td>2.793e+07</td> \n",
       "</tr>\n",
       "<tr>\n",
       "  <th>Df Residuals:</th>          <td>9842640</td>      <th>  BIC:               </th>  <td>2.793e+07</td> \n",
       "</tr>\n",
       "<tr>\n",
       "  <th>Df Model:</th>              <td>     7</td>       <th>                     </th>      <td> </td>     \n",
       "</tr>\n",
       "<tr>\n",
       "  <th>Covariance Type:</th>      <td>nonrobust</td>     <th>                     </th>      <td> </td>     \n",
       "</tr>\n",
       "</table>\n",
       "<table class=\"simpletable\">\n",
       "<tr>\n",
       "            <td></td>              <th>coef</th>     <th>std err</th>      <th>t</th>      <th>P>|t|</th>  <th>[0.025</th>    <th>0.975]</th>  \n",
       "</tr>\n",
       "<tr>\n",
       "  <th>Intercept</th>            <td>-1.406e-15</td> <td>    0.000</td> <td>-4.41e-12</td> <td> 1.000</td> <td>   -0.001</td> <td>    0.001</td>\n",
       "</tr>\n",
       "<tr>\n",
       "  <th>care</th>                 <td>-8.569e-06</td> <td>    0.000</td> <td>   -0.026</td> <td> 0.979</td> <td>   -0.001</td> <td>    0.001</td>\n",
       "</tr>\n",
       "<tr>\n",
       "  <th>authority</th>            <td>    0.0017</td> <td>    0.000</td> <td>    5.474</td> <td> 0.000</td> <td>    0.001</td> <td>    0.002</td>\n",
       "</tr>\n",
       "<tr>\n",
       "  <th>fairness</th>             <td>    0.0011</td> <td>    0.000</td> <td>    3.396</td> <td> 0.001</td> <td>    0.000</td> <td>    0.002</td>\n",
       "</tr>\n",
       "<tr>\n",
       "  <th>purity</th>               <td>   -0.0023</td> <td>    0.000</td> <td>   -6.801</td> <td> 0.000</td> <td>   -0.003</td> <td>   -0.002</td>\n",
       "</tr>\n",
       "<tr>\n",
       "  <th>User_followers_count</th> <td>    0.0260</td> <td>    0.000</td> <td>   81.569</td> <td> 0.000</td> <td>    0.025</td> <td>    0.027</td>\n",
       "</tr>\n",
       "<tr>\n",
       "  <th>User_friends_count</th>   <td>    0.0049</td> <td>    0.000</td> <td>   15.376</td> <td> 0.000</td> <td>    0.004</td> <td>    0.006</td>\n",
       "</tr>\n",
       "<tr>\n",
       "  <th>HorA</th>                 <td>   -0.0029</td> <td>    0.000</td> <td>   -9.205</td> <td> 0.000</td> <td>   -0.004</td> <td>   -0.002</td>\n",
       "</tr>\n",
       "</table>\n",
       "<table class=\"simpletable\">\n",
       "<tr>\n",
       "  <th>Omnibus:</th>       <td>81740482.955</td> <th>  Durbin-Watson:     </th>        <td>   2.000</td>        \n",
       "</tr>\n",
       "<tr>\n",
       "  <th>Prob(Omnibus):</th>    <td> 0.000</td>    <th>  Jarque-Bera (JB):  </th> <td>5755644063850225664.000</td>\n",
       "</tr>\n",
       "<tr>\n",
       "  <th>Skew:</th>            <td>1636.512</td>   <th>  Prob(JB):          </th>        <td>    0.00</td>        \n",
       "</tr>\n",
       "<tr>\n",
       "  <th>Kurtosis:</th>       <td>3746250.297</td> <th>  Cond. No.          </th>        <td>    1.33</td>        \n",
       "</tr>\n",
       "</table><br/><br/>Notes:<br/>[1] Standard Errors assume that the covariance matrix of the errors is correctly specified."
      ],
      "text/plain": [
       "<class 'statsmodels.iolib.summary.Summary'>\n",
       "\"\"\"\n",
       "                            OLS Regression Results                            \n",
       "==============================================================================\n",
       "Dep. Variable:      Tweet_reply_count   R-squared:                       0.001\n",
       "Model:                            OLS   Adj. R-squared:                  0.001\n",
       "Method:                 Least Squares   F-statistic:                     1022.\n",
       "Date:                Tue, 18 Apr 2023   Prob (F-statistic):               0.00\n",
       "Time:                        10:50:50   Log-Likelihood:            -1.3963e+07\n",
       "No. Observations:             9842648   AIC:                         2.793e+07\n",
       "Df Residuals:                 9842640   BIC:                         2.793e+07\n",
       "Df Model:                           7                                         \n",
       "Covariance Type:            nonrobust                                         \n",
       "========================================================================================\n",
       "                           coef    std err          t      P>|t|      [0.025      0.975]\n",
       "----------------------------------------------------------------------------------------\n",
       "Intercept            -1.406e-15      0.000  -4.41e-12      1.000      -0.001       0.001\n",
       "care                 -8.569e-06      0.000     -0.026      0.979      -0.001       0.001\n",
       "authority                0.0017      0.000      5.474      0.000       0.001       0.002\n",
       "fairness                 0.0011      0.000      3.396      0.001       0.000       0.002\n",
       "purity                  -0.0023      0.000     -6.801      0.000      -0.003      -0.002\n",
       "User_followers_count     0.0260      0.000     81.569      0.000       0.025       0.027\n",
       "User_friends_count       0.0049      0.000     15.376      0.000       0.004       0.006\n",
       "HorA                    -0.0029      0.000     -9.205      0.000      -0.004      -0.002\n",
       "===================================================================================\n",
       "Omnibus:                 81740482.955   Durbin-Watson:                        2.000\n",
       "Prob(Omnibus):                  0.000   Jarque-Bera (JB):   5755644063850225664.000\n",
       "Skew:                        1636.512   Prob(JB):                              0.00\n",
       "Kurtosis:                 3746250.297   Cond. No.                              1.33\n",
       "===================================================================================\n",
       "\n",
       "Notes:\n",
       "[1] Standard Errors assume that the covariance matrix of the errors is correctly specified.\n",
       "\"\"\""
      ]
     },
     "execution_count": 37,
     "metadata": {},
     "output_type": "execute_result"
    }
   ],
   "source": [
    "#会不会是量纲的问题？\n",
    "# 读取数据\n",
    "data = df[['HorA','care','authority','fairness','loyalty','purity','Tweet_reply_count','Tweet_retweet_count','Tweet_quote_count','Tweet_like_count','User_followers_count', 'User_friends_count']]\n",
    "from scipy import stats\n",
    "import statsmodels.formula.api as smf\n",
    "\n",
    "# standardizing dataframe\n",
    "data_z = data.select_dtypes(include=[np.number]).dropna().apply(stats.zscore)\n",
    "\n",
    "# fitting regression\n",
    "formula = 'Tweet_reply_count ~ care + authority + fairness + purity+ User_followers_count + User_friends_count + HorA'\n",
    "result = smf.ols(formula, data=data_z).fit()\n",
    "\n",
    "# checking results\n",
    "result.summary()"
   ]
  },
  {
   "cell_type": "code",
   "execution_count": 38,
   "id": "21af1db9",
   "metadata": {
    "ExecuteTime": {
     "end_time": "2023-04-18T02:52:26.397275Z",
     "start_time": "2023-04-18T02:52:06.293894Z"
    }
   },
   "outputs": [
    {
     "data": {
      "text/html": [
       "<table class=\"simpletable\">\n",
       "<caption>OLS Regression Results</caption>\n",
       "<tr>\n",
       "  <th>Dep. Variable:</th>    <td>Tweet_retweet_count</td> <th>  R-squared:         </th>  <td>   0.000</td>  \n",
       "</tr>\n",
       "<tr>\n",
       "  <th>Model:</th>                    <td>OLS</td>         <th>  Adj. R-squared:    </th>  <td>   0.000</td>  \n",
       "</tr>\n",
       "<tr>\n",
       "  <th>Method:</th>              <td>Least Squares</td>    <th>  F-statistic:       </th>  <td>   294.7</td>  \n",
       "</tr>\n",
       "<tr>\n",
       "  <th>Date:</th>              <td>Tue, 18 Apr 2023</td>   <th>  Prob (F-statistic):</th>   <td>  0.00</td>   \n",
       "</tr>\n",
       "<tr>\n",
       "  <th>Time:</th>                  <td>10:52:26</td>       <th>  Log-Likelihood:    </th> <td>-1.3965e+07</td>\n",
       "</tr>\n",
       "<tr>\n",
       "  <th>No. Observations:</th>       <td>9842648</td>       <th>  AIC:               </th>  <td>2.793e+07</td> \n",
       "</tr>\n",
       "<tr>\n",
       "  <th>Df Residuals:</th>           <td>9842640</td>       <th>  BIC:               </th>  <td>2.793e+07</td> \n",
       "</tr>\n",
       "<tr>\n",
       "  <th>Df Model:</th>               <td>     7</td>        <th>                     </th>      <td> </td>     \n",
       "</tr>\n",
       "<tr>\n",
       "  <th>Covariance Type:</th>       <td>nonrobust</td>      <th>                     </th>      <td> </td>     \n",
       "</tr>\n",
       "</table>\n",
       "<table class=\"simpletable\">\n",
       "<tr>\n",
       "            <td></td>              <th>coef</th>     <th>std err</th>      <th>t</th>      <th>P>|t|</th>  <th>[0.025</th>    <th>0.975]</th>  \n",
       "</tr>\n",
       "<tr>\n",
       "  <th>Intercept</th>            <td>  2.97e-15</td> <td>    0.000</td> <td> 9.32e-12</td> <td> 1.000</td> <td>   -0.001</td> <td>    0.001</td>\n",
       "</tr>\n",
       "<tr>\n",
       "  <th>care</th>                 <td>    0.0025</td> <td>    0.000</td> <td>    7.620</td> <td> 0.000</td> <td>    0.002</td> <td>    0.003</td>\n",
       "</tr>\n",
       "<tr>\n",
       "  <th>authority</th>            <td>   -0.0003</td> <td>    0.000</td> <td>   -0.971</td> <td> 0.331</td> <td>   -0.001</td> <td>    0.000</td>\n",
       "</tr>\n",
       "<tr>\n",
       "  <th>fairness</th>             <td>   -0.0007</td> <td>    0.000</td> <td>   -2.312</td> <td> 0.021</td> <td>   -0.001</td> <td>   -0.000</td>\n",
       "</tr>\n",
       "<tr>\n",
       "  <th>purity</th>               <td>   -0.0040</td> <td>    0.000</td> <td>  -12.057</td> <td> 0.000</td> <td>   -0.005</td> <td>   -0.003</td>\n",
       "</tr>\n",
       "<tr>\n",
       "  <th>User_followers_count</th> <td>    0.0128</td> <td>    0.000</td> <td>   40.129</td> <td> 0.000</td> <td>    0.012</td> <td>    0.013</td>\n",
       "</tr>\n",
       "<tr>\n",
       "  <th>User_friends_count</th>   <td>    0.0023</td> <td>    0.000</td> <td>    7.151</td> <td> 0.000</td> <td>    0.002</td> <td>    0.003</td>\n",
       "</tr>\n",
       "<tr>\n",
       "  <th>HorA</th>                 <td>   -0.0047</td> <td>    0.000</td> <td>  -14.516</td> <td> 0.000</td> <td>   -0.005</td> <td>   -0.004</td>\n",
       "</tr>\n",
       "</table>\n",
       "<table class=\"simpletable\">\n",
       "<tr>\n",
       "  <th>Omnibus:</th>       <td>51746539.518</td> <th>  Durbin-Watson:     </th>       <td>   1.994</td>      \n",
       "</tr>\n",
       "<tr>\n",
       "  <th>Prob(Omnibus):</th>    <td> 0.000</td>    <th>  Jarque-Bera (JB):  </th> <td>4317287781398395.000</td>\n",
       "</tr>\n",
       "<tr>\n",
       "  <th>Skew:</th>             <td>258.150</td>   <th>  Prob(JB):          </th>       <td>    0.00</td>      \n",
       "</tr>\n",
       "<tr>\n",
       "  <th>Kurtosis:</th>       <td>102603.540</td>  <th>  Cond. No.          </th>       <td>    1.33</td>      \n",
       "</tr>\n",
       "</table><br/><br/>Notes:<br/>[1] Standard Errors assume that the covariance matrix of the errors is correctly specified."
      ],
      "text/plain": [
       "<class 'statsmodels.iolib.summary.Summary'>\n",
       "\"\"\"\n",
       "                             OLS Regression Results                            \n",
       "===============================================================================\n",
       "Dep. Variable:     Tweet_retweet_count   R-squared:                       0.000\n",
       "Model:                             OLS   Adj. R-squared:                  0.000\n",
       "Method:                  Least Squares   F-statistic:                     294.7\n",
       "Date:                 Tue, 18 Apr 2023   Prob (F-statistic):               0.00\n",
       "Time:                         10:52:26   Log-Likelihood:            -1.3965e+07\n",
       "No. Observations:              9842648   AIC:                         2.793e+07\n",
       "Df Residuals:                  9842640   BIC:                         2.793e+07\n",
       "Df Model:                            7                                         \n",
       "Covariance Type:             nonrobust                                         \n",
       "========================================================================================\n",
       "                           coef    std err          t      P>|t|      [0.025      0.975]\n",
       "----------------------------------------------------------------------------------------\n",
       "Intercept              2.97e-15      0.000   9.32e-12      1.000      -0.001       0.001\n",
       "care                     0.0025      0.000      7.620      0.000       0.002       0.003\n",
       "authority               -0.0003      0.000     -0.971      0.331      -0.001       0.000\n",
       "fairness                -0.0007      0.000     -2.312      0.021      -0.001      -0.000\n",
       "purity                  -0.0040      0.000    -12.057      0.000      -0.005      -0.003\n",
       "User_followers_count     0.0128      0.000     40.129      0.000       0.012       0.013\n",
       "User_friends_count       0.0023      0.000      7.151      0.000       0.002       0.003\n",
       "HorA                    -0.0047      0.000    -14.516      0.000      -0.005      -0.004\n",
       "================================================================================\n",
       "Omnibus:                 51746539.518   Durbin-Watson:                     1.994\n",
       "Prob(Omnibus):                  0.000   Jarque-Bera (JB):   4317287781398395.000\n",
       "Skew:                         258.150   Prob(JB):                           0.00\n",
       "Kurtosis:                  102603.540   Cond. No.                           1.33\n",
       "================================================================================\n",
       "\n",
       "Notes:\n",
       "[1] Standard Errors assume that the covariance matrix of the errors is correctly specified.\n",
       "\"\"\""
      ]
     },
     "execution_count": 38,
     "metadata": {},
     "output_type": "execute_result"
    }
   ],
   "source": [
    "#会不会是量纲的问题？\n",
    "# 读取数据\n",
    "data = df[['HorA','care','authority','fairness','loyalty','purity','Tweet_reply_count','Tweet_retweet_count','Tweet_quote_count','Tweet_like_count','User_followers_count', 'User_friends_count']]\n",
    "from scipy import stats\n",
    "import statsmodels.formula.api as smf\n",
    "\n",
    "# standardizing dataframe\n",
    "data_z = data.select_dtypes(include=[np.number]).dropna().apply(stats.zscore)\n",
    "\n",
    "# fitting regression\n",
    "formula = 'Tweet_retweet_count ~ care + authority + fairness + purity+ User_followers_count + User_friends_count + HorA'\n",
    "result = smf.ols(formula, data=data_z).fit()\n",
    "\n",
    "# checking results\n",
    "result.summary()"
   ]
  },
  {
   "cell_type": "code",
   "execution_count": 9,
   "id": "f0669526",
   "metadata": {
    "ExecuteTime": {
     "end_time": "2023-05-26T08:52:58.888312Z",
     "start_time": "2023-05-26T08:52:58.091132Z"
    }
   },
   "outputs": [
    {
     "data": {
      "text/plain": [
       "(array([ 850383.,  956162., 1961784., 2711682., 2178612.,  844388.,\n",
       "         240980.,   69082.,   22573.,    7002.]),\n",
       " array([ 0.        ,  1.79268041,  3.58536082,  5.37804123,  7.17072164,\n",
       "         8.96340205, 10.75608246, 12.54876287, 14.34144328, 16.13412369,\n",
       "        17.9268041 ]),\n",
       " <BarContainer object of 10 artists>)"
      ]
     },
     "execution_count": 9,
     "metadata": {},
     "output_type": "execute_result"
    },
    {
     "data": {
      "image/png": "[encoded data removed]",
      "text/plain": [
       "<Figure size 640x480 with 1 Axes>"
      ]
     },
     "metadata": {},
     "output_type": "display_data"
    }
   ],
   "source": [
    "plt.hist(np.log(df['User_followers_count']+1))"
   ]
  },
  {
   "cell_type": "code",
   "execution_count": 10,
   "id": "8b3888a3",
   "metadata": {
    "ExecuteTime": {
     "end_time": "2023-05-26T08:53:05.312872Z",
     "start_time": "2023-05-26T08:53:05.006589Z"
    }
   },
   "outputs": [],
   "source": [
    "df['User_followers_count_log']=np.log(df['User_followers_count']+1)\n",
    "df['User_friends_count_log']=np.log(df['User_friends_count']+1)"
   ]
  },
  {
   "cell_type": "code",
   "execution_count": 57,
   "id": "463c8d5e",
   "metadata": {
    "ExecuteTime": {
     "end_time": "2023-04-18T03:15:29.841182Z",
     "start_time": "2023-04-18T03:15:10.626601Z"
    }
   },
   "outputs": [
    {
     "data": {
      "text/html": [
       "<table class=\"simpletable\">\n",
       "<caption>OLS Regression Results</caption>\n",
       "<tr>\n",
       "  <th>Dep. Variable:</th>    <td>Tweet_retweet_count</td> <th>  R-squared:         </th>  <td>   0.005</td>  \n",
       "</tr>\n",
       "<tr>\n",
       "  <th>Model:</th>                    <td>OLS</td>         <th>  Adj. R-squared:    </th>  <td>   0.005</td>  \n",
       "</tr>\n",
       "<tr>\n",
       "  <th>Method:</th>              <td>Least Squares</td>    <th>  F-statistic:       </th>  <td>   647.2</td>  \n",
       "</tr>\n",
       "<tr>\n",
       "  <th>Date:</th>              <td>Tue, 18 Apr 2023</td>   <th>  Prob (F-statistic):</th>   <td>  0.00</td>   \n",
       "</tr>\n",
       "<tr>\n",
       "  <th>Time:</th>                  <td>11:15:29</td>       <th>  Log-Likelihood:    </th> <td>-4.4952e+06</td>\n",
       "</tr>\n",
       "<tr>\n",
       "  <th>No. Observations:</th>       <td>838285</td>        <th>  AIC:               </th>  <td>8.991e+06</td> \n",
       "</tr>\n",
       "<tr>\n",
       "  <th>Df Residuals:</th>           <td>838278</td>        <th>  BIC:               </th>  <td>8.991e+06</td> \n",
       "</tr>\n",
       "<tr>\n",
       "  <th>Df Model:</th>               <td>     6</td>        <th>                     </th>      <td> </td>     \n",
       "</tr>\n",
       "<tr>\n",
       "  <th>Covariance Type:</th>       <td>nonrobust</td>      <th>                     </th>      <td> </td>     \n",
       "</tr>\n",
       "</table>\n",
       "<table class=\"simpletable\">\n",
       "<tr>\n",
       "              <td></td>                <th>coef</th>     <th>std err</th>      <th>t</th>      <th>P>|t|</th>  <th>[0.025</th>    <th>0.975]</th>  \n",
       "</tr>\n",
       "<tr>\n",
       "  <th>Intercept</th>                <td>   -4.1856</td> <td>    0.110</td> <td>  -38.138</td> <td> 0.000</td> <td>   -4.401</td> <td>   -3.971</td>\n",
       "</tr>\n",
       "<tr>\n",
       "  <th>care</th>                     <td>    0.4073</td> <td>    0.099</td> <td>    4.116</td> <td> 0.000</td> <td>    0.213</td> <td>    0.601</td>\n",
       "</tr>\n",
       "<tr>\n",
       "  <th>authority</th>                <td>   -0.1171</td> <td>    0.337</td> <td>   -0.347</td> <td> 0.728</td> <td>   -0.778</td> <td>    0.544</td>\n",
       "</tr>\n",
       "<tr>\n",
       "  <th>fairness</th>                 <td>   -1.3806</td> <td>    0.348</td> <td>   -3.962</td> <td> 0.000</td> <td>   -2.064</td> <td>   -0.698</td>\n",
       "</tr>\n",
       "<tr>\n",
       "  <th>purity</th>                   <td>    0.2965</td> <td>    0.239</td> <td>    1.239</td> <td> 0.215</td> <td>   -0.173</td> <td>    0.766</td>\n",
       "</tr>\n",
       "<tr>\n",
       "  <th>loyalty</th>                  <td>    1.0104</td> <td>    0.277</td> <td>    3.650</td> <td> 0.000</td> <td>    0.468</td> <td>    1.553</td>\n",
       "</tr>\n",
       "<tr>\n",
       "  <th>User_followers_count_log</th> <td>    1.3224</td> <td>    0.022</td> <td>   60.802</td> <td> 0.000</td> <td>    1.280</td> <td>    1.365</td>\n",
       "</tr>\n",
       "</table>\n",
       "<table class=\"simpletable\">\n",
       "<tr>\n",
       "  <th>Omnibus:</th>       <td>4309884.416</td> <th>  Durbin-Watson:     </th>      <td>   1.999</td>      \n",
       "</tr>\n",
       "<tr>\n",
       "  <th>Prob(Omnibus):</th>   <td> 0.000</td>    <th>  Jarque-Bera (JB):  </th> <td>270556987169949.531</td>\n",
       "</tr>\n",
       "<tr>\n",
       "  <th>Skew:</th>            <td>238.177</td>   <th>  Prob(JB):          </th>      <td>    0.00</td>      \n",
       "</tr>\n",
       "<tr>\n",
       "  <th>Kurtosis:</th>       <td>88013.156</td>  <th>  Cond. No.          </th>      <td>    32.5</td>      \n",
       "</tr>\n",
       "</table><br/><br/>Notes:<br/>[1] Standard Errors assume that the covariance matrix of the errors is correctly specified."
      ],
      "text/plain": [
       "<class 'statsmodels.iolib.summary.Summary'>\n",
       "\"\"\"\n",
       "                             OLS Regression Results                            \n",
       "===============================================================================\n",
       "Dep. Variable:     Tweet_retweet_count   R-squared:                       0.005\n",
       "Model:                             OLS   Adj. R-squared:                  0.005\n",
       "Method:                  Least Squares   F-statistic:                     647.2\n",
       "Date:                 Tue, 18 Apr 2023   Prob (F-statistic):               0.00\n",
       "Time:                         11:15:29   Log-Likelihood:            -4.4952e+06\n",
       "No. Observations:               838285   AIC:                         8.991e+06\n",
       "Df Residuals:                   838278   BIC:                         8.991e+06\n",
       "Df Model:                            6                                         \n",
       "Covariance Type:             nonrobust                                         \n",
       "============================================================================================\n",
       "                               coef    std err          t      P>|t|      [0.025      0.975]\n",
       "--------------------------------------------------------------------------------------------\n",
       "Intercept                   -4.1856      0.110    -38.138      0.000      -4.401      -3.971\n",
       "care                         0.4073      0.099      4.116      0.000       0.213       0.601\n",
       "authority                   -0.1171      0.337     -0.347      0.728      -0.778       0.544\n",
       "fairness                    -1.3806      0.348     -3.962      0.000      -2.064      -0.698\n",
       "purity                       0.2965      0.239      1.239      0.215      -0.173       0.766\n",
       "loyalty                      1.0104      0.277      3.650      0.000       0.468       1.553\n",
       "User_followers_count_log     1.3224      0.022     60.802      0.000       1.280       1.365\n",
       "===============================================================================\n",
       "Omnibus:                  4309884.416   Durbin-Watson:                    1.999\n",
       "Prob(Omnibus):                  0.000   Jarque-Bera (JB):   270556987169949.531\n",
       "Skew:                         238.177   Prob(JB):                          0.00\n",
       "Kurtosis:                   88013.156   Cond. No.                          32.5\n",
       "===============================================================================\n",
       "\n",
       "Notes:\n",
       "[1] Standard Errors assume that the covariance matrix of the errors is correctly specified.\n",
       "\"\"\""
      ]
     },
     "execution_count": 57,
     "metadata": {},
     "output_type": "execute_result"
    }
   ],
   "source": [
    "#仇恨言论中的道德叙事如何影响它的传播？\n",
    "# 读取数据\n",
    "data_hate = df[df['HorA']==1]\n",
    "from scipy import stats\n",
    "import statsmodels.formula.api as smf\n",
    "\n",
    "# fitting regression\n",
    "formula = 'Tweet_retweet_count ~ care + authority + fairness + purity + loyalty + User_followers_count_log'\n",
    "result = smf.ols(formula, data=data_hate).fit()\n",
    "\n",
    "# checking results\n",
    "result.summary()"
   ]
  },
  {
   "cell_type": "code",
   "execution_count": 60,
   "id": "cac7c6ee",
   "metadata": {
    "ExecuteTime": {
     "end_time": "2023-04-18T03:18:51.031788Z",
     "start_time": "2023-04-18T03:18:36.120313Z"
    }
   },
   "outputs": [
    {
     "data": {
      "text/html": [
       "<table class=\"simpletable\">\n",
       "<caption>OLS Regression Results</caption>\n",
       "<tr>\n",
       "  <th>Dep. Variable:</th>    <td>Tweet_retweet_count</td> <th>  R-squared:         </th>  <td>   0.001</td>  \n",
       "</tr>\n",
       "<tr>\n",
       "  <th>Model:</th>                    <td>OLS</td>         <th>  Adj. R-squared:    </th>  <td>   0.001</td>  \n",
       "</tr>\n",
       "<tr>\n",
       "  <th>Method:</th>              <td>Least Squares</td>    <th>  F-statistic:       </th>  <td>   834.0</td>  \n",
       "</tr>\n",
       "<tr>\n",
       "  <th>Date:</th>              <td>Tue, 18 Apr 2023</td>   <th>  Prob (F-statistic):</th>   <td>  0.00</td>   \n",
       "</tr>\n",
       "<tr>\n",
       "  <th>Time:</th>                  <td>11:18:50</td>       <th>  Log-Likelihood:    </th> <td>-6.2805e+07</td>\n",
       "</tr>\n",
       "<tr>\n",
       "  <th>No. Observations:</th>       <td>9004363</td>       <th>  AIC:               </th>  <td>1.256e+08</td> \n",
       "</tr>\n",
       "<tr>\n",
       "  <th>Df Residuals:</th>           <td>9004356</td>       <th>  BIC:               </th>  <td>1.256e+08</td> \n",
       "</tr>\n",
       "<tr>\n",
       "  <th>Df Model:</th>               <td>     6</td>        <th>                     </th>      <td> </td>     \n",
       "</tr>\n",
       "<tr>\n",
       "  <th>Covariance Type:</th>       <td>nonrobust</td>      <th>                     </th>      <td> </td>     \n",
       "</tr>\n",
       "</table>\n",
       "<table class=\"simpletable\">\n",
       "<tr>\n",
       "              <td></td>                <th>coef</th>     <th>std err</th>      <th>t</th>      <th>P>|t|</th>  <th>[0.025</th>    <th>0.975]</th>  \n",
       "</tr>\n",
       "<tr>\n",
       "  <th>Intercept</th>                <td>   -8.0076</td> <td>    0.230</td> <td>  -34.795</td> <td> 0.000</td> <td>   -8.459</td> <td>   -7.557</td>\n",
       "</tr>\n",
       "<tr>\n",
       "  <th>care</th>                     <td>    2.4374</td> <td>    0.196</td> <td>   12.438</td> <td> 0.000</td> <td>    2.053</td> <td>    2.822</td>\n",
       "</tr>\n",
       "<tr>\n",
       "  <th>authority</th>                <td>   -0.9730</td> <td>    0.489</td> <td>   -1.989</td> <td> 0.047</td> <td>   -1.932</td> <td>   -0.014</td>\n",
       "</tr>\n",
       "<tr>\n",
       "  <th>fairness</th>                 <td>   -2.0085</td> <td>    0.643</td> <td>   -3.124</td> <td> 0.002</td> <td>   -3.269</td> <td>   -0.749</td>\n",
       "</tr>\n",
       "<tr>\n",
       "  <th>purity</th>                   <td>    1.3729</td> <td>    0.384</td> <td>    3.578</td> <td> 0.000</td> <td>    0.621</td> <td>    2.125</td>\n",
       "</tr>\n",
       "<tr>\n",
       "  <th>loyalty</th>                  <td>   -0.8426</td> <td>    0.414</td> <td>   -2.033</td> <td> 0.042</td> <td>   -1.655</td> <td>   -0.030</td>\n",
       "</tr>\n",
       "<tr>\n",
       "  <th>User_followers_count_log</th> <td>    2.3075</td> <td>    0.033</td> <td>   69.199</td> <td> 0.000</td> <td>    2.242</td> <td>    2.373</td>\n",
       "</tr>\n",
       "</table>\n",
       "<table class=\"simpletable\">\n",
       "<tr>\n",
       "  <th>Omnibus:</th>       <td>46829370.157</td> <th>  Durbin-Watson:     </th>       <td>   1.994</td>      \n",
       "</tr>\n",
       "<tr>\n",
       "  <th>Prob(Omnibus):</th>    <td> 0.000</td>    <th>  Jarque-Bera (JB):  </th> <td>3359455483091771.000</td>\n",
       "</tr>\n",
       "<tr>\n",
       "  <th>Skew:</th>             <td>248.262</td>   <th>  Prob(JB):          </th>       <td>    0.00</td>      \n",
       "</tr>\n",
       "<tr>\n",
       "  <th>Kurtosis:</th>        <td>94628.370</td>  <th>  Cond. No.          </th>       <td>    50.5</td>      \n",
       "</tr>\n",
       "</table><br/><br/>Notes:<br/>[1] Standard Errors assume that the covariance matrix of the errors is correctly specified."
      ],
      "text/plain": [
       "<class 'statsmodels.iolib.summary.Summary'>\n",
       "\"\"\"\n",
       "                             OLS Regression Results                            \n",
       "===============================================================================\n",
       "Dep. Variable:     Tweet_retweet_count   R-squared:                       0.001\n",
       "Model:                             OLS   Adj. R-squared:                  0.001\n",
       "Method:                  Least Squares   F-statistic:                     834.0\n",
       "Date:                 Tue, 18 Apr 2023   Prob (F-statistic):               0.00\n",
       "Time:                         11:18:50   Log-Likelihood:            -6.2805e+07\n",
       "No. Observations:              9004363   AIC:                         1.256e+08\n",
       "Df Residuals:                  9004356   BIC:                         1.256e+08\n",
       "Df Model:                            6                                         \n",
       "Covariance Type:             nonrobust                                         \n",
       "============================================================================================\n",
       "                               coef    std err          t      P>|t|      [0.025      0.975]\n",
       "--------------------------------------------------------------------------------------------\n",
       "Intercept                   -8.0076      0.230    -34.795      0.000      -8.459      -7.557\n",
       "care                         2.4374      0.196     12.438      0.000       2.053       2.822\n",
       "authority                   -0.9730      0.489     -1.989      0.047      -1.932      -0.014\n",
       "fairness                    -2.0085      0.643     -3.124      0.002      -3.269      -0.749\n",
       "purity                       1.3729      0.384      3.578      0.000       0.621       2.125\n",
       "loyalty                     -0.8426      0.414     -2.033      0.042      -1.655      -0.030\n",
       "User_followers_count_log     2.3075      0.033     69.199      0.000       2.242       2.373\n",
       "================================================================================\n",
       "Omnibus:                 46829370.157   Durbin-Watson:                     1.994\n",
       "Prob(Omnibus):                  0.000   Jarque-Bera (JB):   3359455483091771.000\n",
       "Skew:                         248.262   Prob(JB):                           0.00\n",
       "Kurtosis:                   94628.370   Cond. No.                           50.5\n",
       "================================================================================\n",
       "\n",
       "Notes:\n",
       "[1] Standard Errors assume that the covariance matrix of the errors is correctly specified.\n",
       "\"\"\""
      ]
     },
     "execution_count": 60,
     "metadata": {},
     "output_type": "execute_result"
    }
   ],
   "source": [
    "#非仇恨言论中的道德叙事如何影响它的传播？\n",
    "# 读取数据\n",
    "data_nonhate = df[df['HorA']==0]\n",
    "from scipy import stats\n",
    "import statsmodels.formula.api as smf\n",
    "\n",
    "# fitting regression\n",
    "formula = 'Tweet_retweet_count ~ care + authority + fairness + purity + loyalty + User_followers_count_log'\n",
    "result = smf.ols(formula, data=data_nonhate).fit()\n",
    "\n",
    "# checking results\n",
    "result.summary()"
   ]
  },
  {
   "cell_type": "code",
   "execution_count": 12,
   "id": "bfc6f8c0",
   "metadata": {
    "ExecuteTime": {
     "end_time": "2023-05-16T05:48:14.469209Z",
     "start_time": "2023-05-16T05:48:14.043139Z"
    }
   },
   "outputs": [
    {
     "data": {
      "text/plain": [
       "(array([5644., 2879., 1486.,  748.,  399.,  221.,  394.,   29.,   17.,\n",
       "          22.]),\n",
       " array([ 6.2146081 ,  6.77780881,  7.34100953,  7.90421025,  8.46741096,\n",
       "         9.03061168,  9.5938124 , 10.15701311, 10.72021383, 11.28341455,\n",
       "        11.84661526]),\n",
       " <BarContainer object of 10 artists>)"
      ]
     },
     "execution_count": 12,
     "metadata": {},
     "output_type": "execute_result"
    },
    {
     "data": {
      "image/png": "[encoded data removed]",
      "text/plain": [
       "<Figure size 640x480 with 1 Axes>"
      ]
     },
     "metadata": {},
     "output_type": "display_data"
    }
   ],
   "source": [
    "plt.hist(np.log(df.Tweet_retweet_count[df.Tweet_retweet_count>=500]))"
   ]
  },
  {
   "cell_type": "code",
   "execution_count": 10,
   "id": "0b816dde",
   "metadata": {
    "ExecuteTime": {
     "end_time": "2023-04-19T02:09:48.359259Z",
     "start_time": "2023-04-19T02:09:34.765819Z"
    }
   },
   "outputs": [
    {
     "data": {
      "text/html": [
       "<table class=\"simpletable\">\n",
       "<caption>OLS Regression Results</caption>\n",
       "<tr>\n",
       "  <th>Dep. Variable:</th>    <td>Tweet_retweet_count</td> <th>  R-squared:         </th>  <td>   0.001</td>  \n",
       "</tr>\n",
       "<tr>\n",
       "  <th>Model:</th>                    <td>OLS</td>         <th>  Adj. R-squared:    </th>  <td>   0.001</td>  \n",
       "</tr>\n",
       "<tr>\n",
       "  <th>Method:</th>              <td>Least Squares</td>    <th>  F-statistic:       </th>  <td>   448.5</td>  \n",
       "</tr>\n",
       "<tr>\n",
       "  <th>Date:</th>              <td>Wed, 19 Apr 2023</td>   <th>  Prob (F-statistic):</th>   <td>  0.00</td>   \n",
       "</tr>\n",
       "<tr>\n",
       "  <th>Time:</th>                  <td>10:09:48</td>       <th>  Log-Likelihood:    </th> <td>-6.8232e+07</td>\n",
       "</tr>\n",
       "<tr>\n",
       "  <th>No. Observations:</th>       <td>9842648</td>       <th>  AIC:               </th>  <td>1.365e+08</td> \n",
       "</tr>\n",
       "<tr>\n",
       "  <th>Df Residuals:</th>           <td>9842634</td>       <th>  BIC:               </th>  <td>1.365e+08</td> \n",
       "</tr>\n",
       "<tr>\n",
       "  <th>Df Model:</th>               <td>    13</td>        <th>                     </th>      <td> </td>     \n",
       "</tr>\n",
       "<tr>\n",
       "  <th>Covariance Type:</th>       <td>nonrobust</td>      <th>                     </th>      <td> </td>     \n",
       "</tr>\n",
       "</table>\n",
       "<table class=\"simpletable\">\n",
       "<tr>\n",
       "                <td></td>                   <th>coef</th>     <th>std err</th>      <th>t</th>      <th>P>|t|</th>  <th>[0.025</th>    <th>0.975]</th>  \n",
       "</tr>\n",
       "<tr>\n",
       "  <th>Intercept</th>                     <td>   -8.0076</td> <td>    0.221</td> <td>  -36.311</td> <td> 0.000</td> <td>   -8.440</td> <td>   -7.575</td>\n",
       "</tr>\n",
       "<tr>\n",
       "  <th>HorA</th>                          <td>    3.8220</td> <td>    0.572</td> <td>    6.685</td> <td> 0.000</td> <td>    2.701</td> <td>    4.942</td>\n",
       "</tr>\n",
       "<tr>\n",
       "  <th>care</th>                          <td>    2.4374</td> <td>    0.188</td> <td>   12.980</td> <td> 0.000</td> <td>    2.069</td> <td>    2.805</td>\n",
       "</tr>\n",
       "<tr>\n",
       "  <th>HorA:care</th>                     <td>   -2.0301</td> <td>    0.511</td> <td>   -3.970</td> <td> 0.000</td> <td>   -3.032</td> <td>   -1.028</td>\n",
       "</tr>\n",
       "<tr>\n",
       "  <th>authority</th>                     <td>   -0.9730</td> <td>    0.469</td> <td>   -2.076</td> <td> 0.038</td> <td>   -1.892</td> <td>   -0.054</td>\n",
       "</tr>\n",
       "<tr>\n",
       "  <th>HorA:authority</th>                <td>    0.8559</td> <td>    1.687</td> <td>    0.507</td> <td> 0.612</td> <td>   -2.451</td> <td>    4.163</td>\n",
       "</tr>\n",
       "<tr>\n",
       "  <th>fairness</th>                      <td>   -2.0085</td> <td>    0.616</td> <td>   -3.260</td> <td> 0.001</td> <td>   -3.216</td> <td>   -0.801</td>\n",
       "</tr>\n",
       "<tr>\n",
       "  <th>HorA:fairness</th>                 <td>    0.6279</td> <td>    1.784</td> <td>    0.352</td> <td> 0.725</td> <td>   -2.869</td> <td>    4.125</td>\n",
       "</tr>\n",
       "<tr>\n",
       "  <th>purity</th>                        <td>    1.3729</td> <td>    0.368</td> <td>    3.734</td> <td> 0.000</td> <td>    0.652</td> <td>    2.094</td>\n",
       "</tr>\n",
       "<tr>\n",
       "  <th>HorA:purity</th>                   <td>   -1.0764</td> <td>    1.208</td> <td>   -0.891</td> <td> 0.373</td> <td>   -3.443</td> <td>    1.290</td>\n",
       "</tr>\n",
       "<tr>\n",
       "  <th>loyalty</th>                       <td>   -0.8426</td> <td>    0.397</td> <td>   -2.122</td> <td> 0.034</td> <td>   -1.621</td> <td>   -0.064</td>\n",
       "</tr>\n",
       "<tr>\n",
       "  <th>HorA:loyalty</th>                  <td>    1.8530</td> <td>    1.388</td> <td>    1.335</td> <td> 0.182</td> <td>   -0.868</td> <td>    4.574</td>\n",
       "</tr>\n",
       "<tr>\n",
       "  <th>User_followers_count_log</th>      <td>    2.3075</td> <td>    0.032</td> <td>   72.215</td> <td> 0.000</td> <td>    2.245</td> <td>    2.370</td>\n",
       "</tr>\n",
       "<tr>\n",
       "  <th>HorA:User_followers_count_log</th> <td>   -0.9851</td> <td>    0.109</td> <td>   -9.013</td> <td> 0.000</td> <td>   -1.199</td> <td>   -0.771</td>\n",
       "</tr>\n",
       "</table>\n",
       "<table class=\"simpletable\">\n",
       "<tr>\n",
       "  <th>Omnibus:</th>       <td>51755368.282</td> <th>  Durbin-Watson:     </th>       <td>   1.994</td>      \n",
       "</tr>\n",
       "<tr>\n",
       "  <th>Prob(Omnibus):</th>    <td> 0.000</td>    <th>  Jarque-Bera (JB):  </th> <td>4324621089443008.500</td>\n",
       "</tr>\n",
       "<tr>\n",
       "  <th>Skew:</th>             <td>258.310</td>   <th>  Prob(JB):          </th>       <td>    0.00</td>      \n",
       "</tr>\n",
       "<tr>\n",
       "  <th>Kurtosis:</th>       <td>102690.641</td>  <th>  Cond. No.          </th>       <td>    152.</td>      \n",
       "</tr>\n",
       "</table><br/><br/>Notes:<br/>[1] Standard Errors assume that the covariance matrix of the errors is correctly specified."
      ],
      "text/plain": [
       "<class 'statsmodels.iolib.summary.Summary'>\n",
       "\"\"\"\n",
       "                             OLS Regression Results                            \n",
       "===============================================================================\n",
       "Dep. Variable:     Tweet_retweet_count   R-squared:                       0.001\n",
       "Model:                             OLS   Adj. R-squared:                  0.001\n",
       "Method:                  Least Squares   F-statistic:                     448.5\n",
       "Date:                 Wed, 19 Apr 2023   Prob (F-statistic):               0.00\n",
       "Time:                         10:09:48   Log-Likelihood:            -6.8232e+07\n",
       "No. Observations:              9842648   AIC:                         1.365e+08\n",
       "Df Residuals:                  9842634   BIC:                         1.365e+08\n",
       "Df Model:                           13                                         \n",
       "Covariance Type:             nonrobust                                         \n",
       "=================================================================================================\n",
       "                                    coef    std err          t      P>|t|      [0.025      0.975]\n",
       "-------------------------------------------------------------------------------------------------\n",
       "Intercept                        -8.0076      0.221    -36.311      0.000      -8.440      -7.575\n",
       "HorA                              3.8220      0.572      6.685      0.000       2.701       4.942\n",
       "care                              2.4374      0.188     12.980      0.000       2.069       2.805\n",
       "HorA:care                        -2.0301      0.511     -3.970      0.000      -3.032      -1.028\n",
       "authority                        -0.9730      0.469     -2.076      0.038      -1.892      -0.054\n",
       "HorA:authority                    0.8559      1.687      0.507      0.612      -2.451       4.163\n",
       "fairness                         -2.0085      0.616     -3.260      0.001      -3.216      -0.801\n",
       "HorA:fairness                     0.6279      1.784      0.352      0.725      -2.869       4.125\n",
       "purity                            1.3729      0.368      3.734      0.000       0.652       2.094\n",
       "HorA:purity                      -1.0764      1.208     -0.891      0.373      -3.443       1.290\n",
       "loyalty                          -0.8426      0.397     -2.122      0.034      -1.621      -0.064\n",
       "HorA:loyalty                      1.8530      1.388      1.335      0.182      -0.868       4.574\n",
       "User_followers_count_log          2.3075      0.032     72.215      0.000       2.245       2.370\n",
       "HorA:User_followers_count_log    -0.9851      0.109     -9.013      0.000      -1.199      -0.771\n",
       "================================================================================\n",
       "Omnibus:                 51755368.282   Durbin-Watson:                     1.994\n",
       "Prob(Omnibus):                  0.000   Jarque-Bera (JB):   4324621089443008.500\n",
       "Skew:                         258.310   Prob(JB):                           0.00\n",
       "Kurtosis:                  102690.641   Cond. No.                           152.\n",
       "================================================================================\n",
       "\n",
       "Notes:\n",
       "[1] Standard Errors assume that the covariance matrix of the errors is correctly specified.\n",
       "\"\"\""
      ]
     },
     "execution_count": 10,
     "metadata": {},
     "output_type": "execute_result"
    }
   ],
   "source": [
    "#道德叙事如何影响它的传播？\n",
    "# 读取数据\n",
    "from scipy import stats\n",
    "import statsmodels.formula.api as smf\n",
    "\n",
    "# fitting regression\n",
    "# 将仇恨言论与否视为完全交互项进行分层分析\n",
    "formula = 'Tweet_retweet_count ~ HorA*care + HorA*authority + HorA*fairness + HorA*purity + HorA*loyalty + HorA*User_followers_count_log'\n",
    "result = smf.ols(formula, data=df).fit()\n",
    "\n",
    "# checking results\n",
    "result.summary()"
   ]
  },
  {
   "cell_type": "markdown",
   "id": "7b037096",
   "metadata": {},
   "source": [
    "https://www.lianxh.cn/news/2144066aaa0b4.html"
   ]
  },
  {
   "cell_type": "code",
   "execution_count": null,
   "id": "bed6ecd9",
   "metadata": {
    "ExecuteTime": {
     "start_time": "2023-04-19T04:31:41.795Z"
    }
   },
   "outputs": [
    {
     "name": "stderr",
     "output_type": "stream",
     "text": [
      "D:\\Anaconda\\lib\\site-packages\\statsmodels\\base\\model.py:604: ConvergenceWarning: Maximum Likelihood optimization failed to converge. Check mle_retvals\n",
      "  warnings.warn(\"Maximum Likelihood optimization failed to \"\n",
      "D:\\Anaconda\\lib\\site-packages\\statsmodels\\discrete\\count_model.py:522: RuntimeWarning: overflow encountered in exp\n",
      "  coeff = (1 + w[zero_idx] * (np.exp(mu[zero_idx]) - 1))\n",
      "D:\\Anaconda\\lib\\site-packages\\statsmodels\\discrete\\count_model.py:530: RuntimeWarning: overflow encountered in exp\n",
      "  w[zero_idx] * mu[zero_idx] * np.exp(mu[zero_idx]) /\n",
      "D:\\Anaconda\\lib\\site-packages\\statsmodels\\discrete\\count_model.py:531: RuntimeWarning: overflow encountered in square\n",
      "  coeff**2)).sum() - (mu[nonzero_idx] * self.exog[nonzero_idx, i] *\n",
      "D:\\Anaconda\\lib\\site-packages\\statsmodels\\discrete\\count_model.py:530: RuntimeWarning: invalid value encountered in true_divide\n",
      "  w[zero_idx] * mu[zero_idx] * np.exp(mu[zero_idx]) /\n",
      "D:\\Anaconda\\lib\\site-packages\\statsmodels\\base\\model.py:592: HessianInversionWarning: Inverting hessian failed, no bse or cov_params available\n",
      "  warnings.warn('Inverting hessian failed, no bse or cov_params '\n"
     ]
    }
   ],
   "source": [
    "#使用零膨胀泊松回归\n",
    "import statsmodels.api as sm\n",
    "from statsmodels.discrete.count_model import ZeroInflatedPoisson\n",
    "\n",
    "formula = 'Tweet_retweet_count ~ HorA*care + HorA*authority + HorA*fairness + HorA*purity + HorA*loyalty + HorA*User_followers_count_log'\n",
    "results = ZeroInflatedPoisson.from_formula(formula, df).fit(maxiter=1000, method='lbfgs')\n",
    "print(results.summary())"
   ]
  },
  {
   "cell_type": "code",
   "execution_count": 13,
   "id": "e5283923",
   "metadata": {
    "ExecuteTime": {
     "end_time": "2023-04-19T02:41:52.250256Z",
     "start_time": "2023-04-19T02:41:51.679813Z"
    }
   },
   "outputs": [
    {
     "data": {
      "text/html": [
       "<div>\n",
       "<style scoped>\n",
       "    .dataframe tbody tr th:only-of-type {\n",
       "        vertical-align: middle;\n",
       "    }\n",
       "\n",
       "    .dataframe tbody tr th {\n",
       "        vertical-align: top;\n",
       "    }\n",
       "\n",
       "    .dataframe thead th {\n",
       "        text-align: right;\n",
       "    }\n",
       "</style>\n",
       "<table border=\"1\" class=\"dataframe\">\n",
       "  <thead>\n",
       "    <tr style=\"text-align: right;\">\n",
       "      <th></th>\n",
       "      <th>Tweet_retweet_count</th>\n",
       "    </tr>\n",
       "  </thead>\n",
       "  <tbody>\n",
       "    <tr>\n",
       "      <th>count</th>\n",
       "      <td>9.842648e+06</td>\n",
       "    </tr>\n",
       "    <tr>\n",
       "      <th>mean</th>\n",
       "      <td>5.319980e+00</td>\n",
       "    </tr>\n",
       "    <tr>\n",
       "      <th>std</th>\n",
       "      <td>2.480489e+02</td>\n",
       "    </tr>\n",
       "    <tr>\n",
       "      <th>min</th>\n",
       "      <td>0.000000e+00</td>\n",
       "    </tr>\n",
       "    <tr>\n",
       "      <th>25%</th>\n",
       "      <td>0.000000e+00</td>\n",
       "    </tr>\n",
       "    <tr>\n",
       "      <th>50%</th>\n",
       "      <td>0.000000e+00</td>\n",
       "    </tr>\n",
       "    <tr>\n",
       "      <th>75%</th>\n",
       "      <td>0.000000e+00</td>\n",
       "    </tr>\n",
       "    <tr>\n",
       "      <th>max</th>\n",
       "      <td>1.396110e+05</td>\n",
       "    </tr>\n",
       "  </tbody>\n",
       "</table>\n",
       "</div>"
      ],
      "text/plain": [
       "       Tweet_retweet_count\n",
       "count         9.842648e+06\n",
       "mean          5.319980e+00\n",
       "std           2.480489e+02\n",
       "min           0.000000e+00\n",
       "25%           0.000000e+00\n",
       "50%           0.000000e+00\n",
       "75%           0.000000e+00\n",
       "max           1.396110e+05"
      ]
     },
     "execution_count": 13,
     "metadata": {},
     "output_type": "execute_result"
    }
   ],
   "source": [
    "df[['Tweet_retweet_count']].describe()"
   ]
  },
  {
   "cell_type": "code",
   "execution_count": 21,
   "id": "871afbc3",
   "metadata": {
    "ExecuteTime": {
     "end_time": "2023-04-19T06:17:01.363689Z",
     "start_time": "2023-04-19T06:17:00.510717Z"
    }
   },
   "outputs": [
    {
     "data": {
      "text/html": [
       "<div>\n",
       "<style scoped>\n",
       "    .dataframe tbody tr th:only-of-type {\n",
       "        vertical-align: middle;\n",
       "    }\n",
       "\n",
       "    .dataframe tbody tr th {\n",
       "        vertical-align: top;\n",
       "    }\n",
       "\n",
       "    .dataframe thead th {\n",
       "        text-align: right;\n",
       "    }\n",
       "</style>\n",
       "<table border=\"1\" class=\"dataframe\">\n",
       "  <thead>\n",
       "    <tr style=\"text-align: right;\">\n",
       "      <th></th>\n",
       "      <th>Tweet_retweet_count</th>\n",
       "    </tr>\n",
       "  </thead>\n",
       "  <tbody>\n",
       "    <tr>\n",
       "      <th>132654</th>\n",
       "      <td>139611</td>\n",
       "    </tr>\n",
       "    <tr>\n",
       "      <th>206990</th>\n",
       "      <td>139527</td>\n",
       "    </tr>\n",
       "    <tr>\n",
       "      <th>350934</th>\n",
       "      <td>139522</td>\n",
       "    </tr>\n",
       "    <tr>\n",
       "      <th>337397</th>\n",
       "      <td>139519</td>\n",
       "    </tr>\n",
       "    <tr>\n",
       "      <th>3641325</th>\n",
       "      <td>138226</td>\n",
       "    </tr>\n",
       "    <tr>\n",
       "      <th>...</th>\n",
       "      <td>...</td>\n",
       "    </tr>\n",
       "    <tr>\n",
       "      <th>3787926</th>\n",
       "      <td>0</td>\n",
       "    </tr>\n",
       "    <tr>\n",
       "      <th>3787924</th>\n",
       "      <td>0</td>\n",
       "    </tr>\n",
       "    <tr>\n",
       "      <th>3787920</th>\n",
       "      <td>0</td>\n",
       "    </tr>\n",
       "    <tr>\n",
       "      <th>3787919</th>\n",
       "      <td>0</td>\n",
       "    </tr>\n",
       "    <tr>\n",
       "      <th>9842647</th>\n",
       "      <td>0</td>\n",
       "    </tr>\n",
       "  </tbody>\n",
       "</table>\n",
       "<p>9842648 rows × 1 columns</p>\n",
       "</div>"
      ],
      "text/plain": [
       "         Tweet_retweet_count\n",
       "132654                139611\n",
       "206990                139527\n",
       "350934                139522\n",
       "337397                139519\n",
       "3641325               138226\n",
       "...                      ...\n",
       "3787926                    0\n",
       "3787924                    0\n",
       "3787920                    0\n",
       "3787919                    0\n",
       "9842647                    0\n",
       "\n",
       "[9842648 rows x 1 columns]"
      ]
     },
     "execution_count": 21,
     "metadata": {},
     "output_type": "execute_result"
    }
   ],
   "source": [
    "df[['Tweet_retweet_count']].sort_values(by='Tweet_retweet_count',ascending=False)"
   ]
  },
  {
   "cell_type": "code",
   "execution_count": 11,
   "id": "53a1ecaa",
   "metadata": {
    "ExecuteTime": {
     "end_time": "2023-05-26T08:53:45.054699Z",
     "start_time": "2023-05-26T08:53:22.267461Z"
    }
   },
   "outputs": [],
   "source": [
    "#因为转发越多越困难，所以即便做了对数处理也不会接近正态分布，考虑将是否被转发作为二分变量，看仇恨言论、道德叙事会不会影响一条推特被转发的概率\n",
    "df['Tweet_be_retweet'] = df.Tweet_retweet_count.apply(lambda x: (x>0)+0)\n",
    "df['Tweet_be_retweet_50'] = df.Tweet_retweet_count.apply(lambda x: (x>=50)+0)\n",
    "df['Tweet_be_retweet_100'] = df.Tweet_retweet_count.apply(lambda x: (x>=100)+0)\n",
    "df['Tweet_be_retweet_500'] = df.Tweet_retweet_count.apply(lambda x: (x>=500)+0)\n",
    "df['Tweet_be_retweet_1000'] = df.Tweet_retweet_count.apply(lambda x: (x>=1000)+0)"
   ]
  },
  {
   "cell_type": "code",
   "execution_count": 16,
   "id": "5baf7c68",
   "metadata": {
    "ExecuteTime": {
     "end_time": "2023-05-16T05:50:05.279176Z",
     "start_time": "2023-05-16T05:50:05.157778Z"
    }
   },
   "outputs": [
    {
     "data": {
      "text/plain": [
       "0    9837329\n",
       "1       5319\n",
       "Name: Tweet_be_retweet_1000, dtype: int64"
      ]
     },
     "execution_count": 16,
     "metadata": {},
     "output_type": "execute_result"
    }
   ],
   "source": [
    "df.Tweet_be_retweet_1000.value_counts()"
   ]
  },
  {
   "cell_type": "code",
   "execution_count": 12,
   "id": "3066e8bd",
   "metadata": {
    "ExecuteTime": {
     "end_time": "2023-05-26T08:54:03.498212Z",
     "start_time": "2023-05-26T08:54:03.475213Z"
    }
   },
   "outputs": [
    {
     "data": {
      "text/html": [
       "<div>\n",
       "<style scoped>\n",
       "    .dataframe tbody tr th:only-of-type {\n",
       "        vertical-align: middle;\n",
       "    }\n",
       "\n",
       "    .dataframe tbody tr th {\n",
       "        vertical-align: top;\n",
       "    }\n",
       "\n",
       "    .dataframe thead th {\n",
       "        text-align: right;\n",
       "    }\n",
       "</style>\n",
       "<table border=\"1\" class=\"dataframe\">\n",
       "  <thead>\n",
       "    <tr style=\"text-align: right;\">\n",
       "      <th></th>\n",
       "      <th>Unnamed: 0</th>\n",
       "      <th>Datetime</th>\n",
       "      <th>Tweet_id</th>\n",
       "      <th>Tweet_content</th>\n",
       "      <th>Tweet_reply_count</th>\n",
       "      <th>Tweet_retweet_count</th>\n",
       "      <th>Tweet_like_count</th>\n",
       "      <th>Tweet_quote_count</th>\n",
       "      <th>Tweet_hashtags</th>\n",
       "      <th>Username</th>\n",
       "      <th>...</th>\n",
       "      <th>loyalty</th>\n",
       "      <th>authority</th>\n",
       "      <th>purity</th>\n",
       "      <th>User_followers_count_log</th>\n",
       "      <th>User_friends_count_log</th>\n",
       "      <th>Tweet_be_retweet</th>\n",
       "      <th>Tweet_be_retweet_50</th>\n",
       "      <th>Tweet_be_retweet_100</th>\n",
       "      <th>Tweet_be_retweet_500</th>\n",
       "      <th>Tweet_be_retweet_1000</th>\n",
       "    </tr>\n",
       "  </thead>\n",
       "  <tbody>\n",
       "    <tr>\n",
       "      <th>0</th>\n",
       "      <td>0</td>\n",
       "      <td>2022-02-22</td>\n",
       "      <td>1496090169229058054</td>\n",
       "      <td>Russian troops enter eastern Ukraine russia  u...</td>\n",
       "      <td>0</td>\n",
       "      <td>0</td>\n",
       "      <td>0</td>\n",
       "      <td>0</td>\n",
       "      <td>['Russia', 'Ukraine', 'UkraineConflict', 'Ukra...</td>\n",
       "      <td>HimanRoy14</td>\n",
       "      <td>...</td>\n",
       "      <td>0.0</td>\n",
       "      <td>-0.0625</td>\n",
       "      <td>0.0</td>\n",
       "      <td>3.178054</td>\n",
       "      <td>5.407172</td>\n",
       "      <td>0</td>\n",
       "      <td>0</td>\n",
       "      <td>0</td>\n",
       "      <td>0</td>\n",
       "      <td>0</td>\n",
       "    </tr>\n",
       "    <tr>\n",
       "      <th>1</th>\n",
       "      <td>1</td>\n",
       "      <td>2022-02-22</td>\n",
       "      <td>1496093418870951937</td>\n",
       "      <td>Iran urges restraint in Ukraine crisis, blames...</td>\n",
       "      <td>0</td>\n",
       "      <td>0</td>\n",
       "      <td>0</td>\n",
       "      <td>0</td>\n",
       "      <td>['Iran', 'UkraineRussiaCrisis', 'Ukraine', 'Uk...</td>\n",
       "      <td>theasialive</td>\n",
       "      <td>...</td>\n",
       "      <td>0.0</td>\n",
       "      <td>0.0000</td>\n",
       "      <td>0.0</td>\n",
       "      <td>4.564348</td>\n",
       "      <td>2.484907</td>\n",
       "      <td>0</td>\n",
       "      <td>0</td>\n",
       "      <td>0</td>\n",
       "      <td>0</td>\n",
       "      <td>0</td>\n",
       "    </tr>\n",
       "    <tr>\n",
       "      <th>2</th>\n",
       "      <td>2</td>\n",
       "      <td>2022-02-22</td>\n",
       "      <td>1496094215000195073</td>\n",
       "      <td>Current Affairs  emoji cara revolviéndose de l...</td>\n",
       "      <td>22</td>\n",
       "      <td>225</td>\n",
       "      <td>913</td>\n",
       "      <td>21</td>\n",
       "      <td>['Ukraine', 'UkraineRussiaCrisis', 'UkraineCri...</td>\n",
       "      <td>SonaliS71687712</td>\n",
       "      <td>...</td>\n",
       "      <td>0.0</td>\n",
       "      <td>0.0000</td>\n",
       "      <td>0.0</td>\n",
       "      <td>7.740664</td>\n",
       "      <td>7.954021</td>\n",
       "      <td>1</td>\n",
       "      <td>1</td>\n",
       "      <td>1</td>\n",
       "      <td>0</td>\n",
       "      <td>0</td>\n",
       "    </tr>\n",
       "    <tr>\n",
       "      <th>3</th>\n",
       "      <td>3</td>\n",
       "      <td>2022-02-22</td>\n",
       "      <td>1496094912215130116</td>\n",
       "      <td>russian President  vladimir putin has ordered...</td>\n",
       "      <td>1</td>\n",
       "      <td>0</td>\n",
       "      <td>0</td>\n",
       "      <td>0</td>\n",
       "      <td>['Russian', 'VladimirPutin', 'Ukraine', 'Ukrai...</td>\n",
       "      <td>TheHoardPlanet</td>\n",
       "      <td>...</td>\n",
       "      <td>0.0</td>\n",
       "      <td>0.0625</td>\n",
       "      <td>0.0</td>\n",
       "      <td>3.761200</td>\n",
       "      <td>2.397895</td>\n",
       "      <td>0</td>\n",
       "      <td>0</td>\n",
       "      <td>0</td>\n",
       "      <td>0</td>\n",
       "      <td>0</td>\n",
       "    </tr>\n",
       "    <tr>\n",
       "      <th>4</th>\n",
       "      <td>4</td>\n",
       "      <td>2022-02-22</td>\n",
       "      <td>1496097094352121866</td>\n",
       "      <td>Putin calls Ukrainian statehood a fiction. His...</td>\n",
       "      <td>0</td>\n",
       "      <td>0</td>\n",
       "      <td>1</td>\n",
       "      <td>0</td>\n",
       "      <td>['Russia', 'RussiaUkraineCrisis', 'RussiaUcrai...</td>\n",
       "      <td>theasialive</td>\n",
       "      <td>...</td>\n",
       "      <td>0.0</td>\n",
       "      <td>0.0000</td>\n",
       "      <td>0.0</td>\n",
       "      <td>4.564348</td>\n",
       "      <td>2.484907</td>\n",
       "      <td>0</td>\n",
       "      <td>0</td>\n",
       "      <td>0</td>\n",
       "      <td>0</td>\n",
       "      <td>0</td>\n",
       "    </tr>\n",
       "  </tbody>\n",
       "</table>\n",
       "<p>5 rows × 32 columns</p>\n",
       "</div>"
      ],
      "text/plain": [
       "   Unnamed: 0    Datetime             Tweet_id  \\\n",
       "0           0  2022-02-22  1496090169229058054   \n",
       "1           1  2022-02-22  1496093418870951937   \n",
       "2           2  2022-02-22  1496094215000195073   \n",
       "3           3  2022-02-22  1496094912215130116   \n",
       "4           4  2022-02-22  1496097094352121866   \n",
       "\n",
       "                                       Tweet_content  Tweet_reply_count  \\\n",
       "0  Russian troops enter eastern Ukraine russia  u...                  0   \n",
       "1  Iran urges restraint in Ukraine crisis, blames...                  0   \n",
       "2  Current Affairs  emoji cara revolviéndose de l...                 22   \n",
       "3   russian President  vladimir putin has ordered...                  1   \n",
       "4  Putin calls Ukrainian statehood a fiction. His...                  0   \n",
       "\n",
       "   Tweet_retweet_count  Tweet_like_count  Tweet_quote_count  \\\n",
       "0                    0                 0                  0   \n",
       "1                    0                 0                  0   \n",
       "2                  225               913                 21   \n",
       "3                    0                 0                  0   \n",
       "4                    0                 1                  0   \n",
       "\n",
       "                                      Tweet_hashtags         Username  ...  \\\n",
       "0  ['Russia', 'Ukraine', 'UkraineConflict', 'Ukra...       HimanRoy14  ...   \n",
       "1  ['Iran', 'UkraineRussiaCrisis', 'Ukraine', 'Uk...      theasialive  ...   \n",
       "2  ['Ukraine', 'UkraineRussiaCrisis', 'UkraineCri...  SonaliS71687712  ...   \n",
       "3  ['Russian', 'VladimirPutin', 'Ukraine', 'Ukrai...   TheHoardPlanet  ...   \n",
       "4  ['Russia', 'RussiaUkraineCrisis', 'RussiaUcrai...      theasialive  ...   \n",
       "\n",
       "   loyalty  authority  purity  User_followers_count_log  \\\n",
       "0      0.0    -0.0625     0.0                  3.178054   \n",
       "1      0.0     0.0000     0.0                  4.564348   \n",
       "2      0.0     0.0000     0.0                  7.740664   \n",
       "3      0.0     0.0625     0.0                  3.761200   \n",
       "4      0.0     0.0000     0.0                  4.564348   \n",
       "\n",
       "   User_friends_count_log  Tweet_be_retweet  Tweet_be_retweet_50  \\\n",
       "0                5.407172                 0                    0   \n",
       "1                2.484907                 0                    0   \n",
       "2                7.954021                 1                    1   \n",
       "3                2.397895                 0                    0   \n",
       "4                2.484907                 0                    0   \n",
       "\n",
       "   Tweet_be_retweet_100  Tweet_be_retweet_500  Tweet_be_retweet_1000  \n",
       "0                     0                     0                      0  \n",
       "1                     0                     0                      0  \n",
       "2                     1                     0                      0  \n",
       "3                     0                     0                      0  \n",
       "4                     0                     0                      0  \n",
       "\n",
       "[5 rows x 32 columns]"
      ]
     },
     "execution_count": 12,
     "metadata": {},
     "output_type": "execute_result"
    }
   ],
   "source": [
    "df.head()"
   ]
  },
  {
   "cell_type": "code",
   "execution_count": 13,
   "id": "4f2245ed",
   "metadata": {
    "ExecuteTime": {
     "end_time": "2023-05-26T08:55:35.484956Z",
     "start_time": "2023-05-26T08:54:29.192639Z"
    }
   },
   "outputs": [
    {
     "name": "stdout",
     "output_type": "stream",
     "text": [
      "Optimization terminated successfully.\n",
      "         Current function value: 0.475351\n",
      "         Iterations 6\n"
     ]
    },
    {
     "data": {
      "text/html": [
       "<table class=\"simpletable\">\n",
       "<caption>Logit Regression Results</caption>\n",
       "<tr>\n",
       "  <th>Dep. Variable:</th>   <td>Tweet_be_retweet</td> <th>  No. Observations:  </th>   <td>9842648</td>  \n",
       "</tr>\n",
       "<tr>\n",
       "  <th>Model:</th>                 <td>Logit</td>      <th>  Df Residuals:      </th>   <td>9842640</td>  \n",
       "</tr>\n",
       "<tr>\n",
       "  <th>Method:</th>                 <td>MLE</td>       <th>  Df Model:          </th>   <td>     7</td>   \n",
       "</tr>\n",
       "<tr>\n",
       "  <th>Date:</th>            <td>Fri, 26 May 2023</td> <th>  Pseudo R-squ.:     </th>   <td>0.1496</td>   \n",
       "</tr>\n",
       "<tr>\n",
       "  <th>Time:</th>                <td>16:55:34</td>     <th>  Log-Likelihood:    </th> <td>-4.6787e+06</td>\n",
       "</tr>\n",
       "<tr>\n",
       "  <th>converged:</th>             <td>True</td>       <th>  LL-Null:           </th> <td>-5.5020e+06</td>\n",
       "</tr>\n",
       "<tr>\n",
       "  <th>Covariance Type:</th>     <td>nonrobust</td>    <th>  LLR p-value:       </th>   <td> 0.000</td>   \n",
       "</tr>\n",
       "</table>\n",
       "<table class=\"simpletable\">\n",
       "<tr>\n",
       "              <td></td>                <th>coef</th>     <th>std err</th>      <th>z</th>      <th>P>|z|</th>  <th>[0.025</th>    <th>0.975]</th>  \n",
       "</tr>\n",
       "<tr>\n",
       "  <th>Intercept</th>                <td>   -3.8275</td> <td>    0.003</td> <td>-1317.503</td> <td> 0.000</td> <td>   -3.833</td> <td>   -3.822</td>\n",
       "</tr>\n",
       "<tr>\n",
       "  <th>HorA</th>                     <td>   -0.2698</td> <td>    0.004</td> <td>  -75.527</td> <td> 0.000</td> <td>   -0.277</td> <td>   -0.263</td>\n",
       "</tr>\n",
       "<tr>\n",
       "  <th>care</th>                     <td>   -0.3004</td> <td>    0.002</td> <td> -162.276</td> <td> 0.000</td> <td>   -0.304</td> <td>   -0.297</td>\n",
       "</tr>\n",
       "<tr>\n",
       "  <th>authority</th>                <td>    0.1180</td> <td>    0.004</td> <td>   26.657</td> <td> 0.000</td> <td>    0.109</td> <td>    0.127</td>\n",
       "</tr>\n",
       "<tr>\n",
       "  <th>fairness</th>                 <td>    0.0710</td> <td>    0.006</td> <td>   12.128</td> <td> 0.000</td> <td>    0.060</td> <td>    0.082</td>\n",
       "</tr>\n",
       "<tr>\n",
       "  <th>purity</th>                   <td>   -0.1182</td> <td>    0.004</td> <td>  -28.638</td> <td> 0.000</td> <td>   -0.126</td> <td>   -0.110</td>\n",
       "</tr>\n",
       "<tr>\n",
       "  <th>loyalty</th>                  <td>    0.2926</td> <td>    0.004</td> <td>   78.525</td> <td> 0.000</td> <td>    0.285</td> <td>    0.300</td>\n",
       "</tr>\n",
       "<tr>\n",
       "  <th>User_followers_count_log</th> <td>    0.4002</td> <td>    0.000</td> <td> 1051.628</td> <td> 0.000</td> <td>    0.399</td> <td>    0.401</td>\n",
       "</tr>\n",
       "</table>"
      ],
      "text/plain": [
       "<class 'statsmodels.iolib.summary.Summary'>\n",
       "\"\"\"\n",
       "                           Logit Regression Results                           \n",
       "==============================================================================\n",
       "Dep. Variable:       Tweet_be_retweet   No. Observations:              9842648\n",
       "Model:                          Logit   Df Residuals:                  9842640\n",
       "Method:                           MLE   Df Model:                            7\n",
       "Date:                Fri, 26 May 2023   Pseudo R-squ.:                  0.1496\n",
       "Time:                        16:55:34   Log-Likelihood:            -4.6787e+06\n",
       "converged:                       True   LL-Null:                   -5.5020e+06\n",
       "Covariance Type:            nonrobust   LLR p-value:                     0.000\n",
       "============================================================================================\n",
       "                               coef    std err          z      P>|z|      [0.025      0.975]\n",
       "--------------------------------------------------------------------------------------------\n",
       "Intercept                   -3.8275      0.003  -1317.503      0.000      -3.833      -3.822\n",
       "HorA                        -0.2698      0.004    -75.527      0.000      -0.277      -0.263\n",
       "care                        -0.3004      0.002   -162.276      0.000      -0.304      -0.297\n",
       "authority                    0.1180      0.004     26.657      0.000       0.109       0.127\n",
       "fairness                     0.0710      0.006     12.128      0.000       0.060       0.082\n",
       "purity                      -0.1182      0.004    -28.638      0.000      -0.126      -0.110\n",
       "loyalty                      0.2926      0.004     78.525      0.000       0.285       0.300\n",
       "User_followers_count_log     0.4002      0.000   1051.628      0.000       0.399       0.401\n",
       "============================================================================================\n",
       "\"\"\""
      ]
     },
     "execution_count": 13,
     "metadata": {},
     "output_type": "execute_result"
    }
   ],
   "source": [
    "#道德叙事如何影响它的传播？\n",
    "# 读取数据\n",
    "from scipy import stats\n",
    "import statsmodels.formula.api as smf\n",
    "\n",
    "# fitting regression\n",
    "formula = 'Tweet_be_retweet ~ HorA+ care + authority + fairness + purity + loyalty + User_followers_count_log'\n",
    "result = smf.logit(formula, data=df).fit()\n",
    "\n",
    "# checking results\n",
    "result.summary()"
   ]
  },
  {
   "cell_type": "code",
   "execution_count": 18,
   "id": "e8a3e1c6",
   "metadata": {
    "ExecuteTime": {
     "end_time": "2023-05-16T05:52:35.535801Z",
     "start_time": "2023-05-16T05:51:13.459211Z"
    }
   },
   "outputs": [
    {
     "name": "stdout",
     "output_type": "stream",
     "text": [
      "Optimization terminated successfully.\n",
      "         Current function value: 0.475216\n",
      "         Iterations 7\n"
     ]
    },
    {
     "data": {
      "text/html": [
       "<table class=\"simpletable\">\n",
       "<caption>Logit Regression Results</caption>\n",
       "<tr>\n",
       "  <th>Dep. Variable:</th>   <td>Tweet_be_retweet</td> <th>  No. Observations:  </th>   <td>9842648</td>  \n",
       "</tr>\n",
       "<tr>\n",
       "  <th>Model:</th>                 <td>Logit</td>      <th>  Df Residuals:      </th>   <td>9842634</td>  \n",
       "</tr>\n",
       "<tr>\n",
       "  <th>Method:</th>                 <td>MLE</td>       <th>  Df Model:          </th>   <td>    13</td>   \n",
       "</tr>\n",
       "<tr>\n",
       "  <th>Date:</th>            <td>Tue, 16 May 2023</td> <th>  Pseudo R-squ.:     </th>   <td>0.1499</td>   \n",
       "</tr>\n",
       "<tr>\n",
       "  <th>Time:</th>                <td>13:52:35</td>     <th>  Log-Likelihood:    </th> <td>-4.6774e+06</td>\n",
       "</tr>\n",
       "<tr>\n",
       "  <th>converged:</th>             <td>True</td>       <th>  LL-Null:           </th> <td>-5.5020e+06</td>\n",
       "</tr>\n",
       "<tr>\n",
       "  <th>Covariance Type:</th>     <td>nonrobust</td>    <th>  LLR p-value:       </th>   <td> 0.000</td>   \n",
       "</tr>\n",
       "</table>\n",
       "<table class=\"simpletable\">\n",
       "<tr>\n",
       "                <td></td>                   <th>coef</th>     <th>std err</th>      <th>z</th>      <th>P>|z|</th>  <th>[0.025</th>    <th>0.975]</th>  \n",
       "</tr>\n",
       "<tr>\n",
       "  <th>Intercept</th>                     <td>   -3.8157</td> <td>    0.003</td> <td>-1272.881</td> <td> 0.000</td> <td>   -3.822</td> <td>   -3.810</td>\n",
       "</tr>\n",
       "<tr>\n",
       "  <th>HorA</th>                          <td>   -0.3559</td> <td>    0.011</td> <td>  -32.921</td> <td> 0.000</td> <td>   -0.377</td> <td>   -0.335</td>\n",
       "</tr>\n",
       "<tr>\n",
       "  <th>care</th>                          <td>   -0.2781</td> <td>    0.002</td> <td> -143.476</td> <td> 0.000</td> <td>   -0.282</td> <td>   -0.274</td>\n",
       "</tr>\n",
       "<tr>\n",
       "  <th>HorA:care</th>                     <td>   -0.2313</td> <td>    0.007</td> <td>  -33.427</td> <td> 0.000</td> <td>   -0.245</td> <td>   -0.218</td>\n",
       "</tr>\n",
       "<tr>\n",
       "  <th>authority</th>                     <td>    0.1241</td> <td>    0.005</td> <td>   27.165</td> <td> 0.000</td> <td>    0.115</td> <td>    0.133</td>\n",
       "</tr>\n",
       "<tr>\n",
       "  <th>HorA:authority</th>                <td>   -0.1096</td> <td>    0.018</td> <td>   -5.970</td> <td> 0.000</td> <td>   -0.146</td> <td>   -0.074</td>\n",
       "</tr>\n",
       "<tr>\n",
       "  <th>fairness</th>                      <td>    0.0026</td> <td>    0.006</td> <td>    0.423</td> <td> 0.672</td> <td>   -0.010</td> <td>    0.015</td>\n",
       "</tr>\n",
       "<tr>\n",
       "  <th>HorA:fairness</th>                 <td>    0.5898</td> <td>    0.019</td> <td>   30.339</td> <td> 0.000</td> <td>    0.552</td> <td>    0.628</td>\n",
       "</tr>\n",
       "<tr>\n",
       "  <th>purity</th>                        <td>   -0.1273</td> <td>    0.004</td> <td>  -29.508</td> <td> 0.000</td> <td>   -0.136</td> <td>   -0.119</td>\n",
       "</tr>\n",
       "<tr>\n",
       "  <th>HorA:purity</th>                   <td>    0.0502</td> <td>    0.015</td> <td>    3.434</td> <td> 0.001</td> <td>    0.022</td> <td>    0.079</td>\n",
       "</tr>\n",
       "<tr>\n",
       "  <th>loyalty</th>                       <td>    0.3045</td> <td>    0.004</td> <td>   79.303</td> <td> 0.000</td> <td>    0.297</td> <td>    0.312</td>\n",
       "</tr>\n",
       "<tr>\n",
       "  <th>HorA:loyalty</th>                  <td>   -0.2201</td> <td>    0.016</td> <td>  -13.989</td> <td> 0.000</td> <td>   -0.251</td> <td>   -0.189</td>\n",
       "</tr>\n",
       "<tr>\n",
       "  <th>User_followers_count_log</th>      <td>    0.3995</td> <td>    0.000</td> <td> 1016.858</td> <td> 0.000</td> <td>    0.399</td> <td>    0.400</td>\n",
       "</tr>\n",
       "<tr>\n",
       "  <th>HorA:User_followers_count_log</th> <td>    0.0008</td> <td>    0.002</td> <td>    0.517</td> <td> 0.605</td> <td>   -0.002</td> <td>    0.004</td>\n",
       "</tr>\n",
       "</table>"
      ],
      "text/plain": [
       "<class 'statsmodels.iolib.summary.Summary'>\n",
       "\"\"\"\n",
       "                           Logit Regression Results                           \n",
       "==============================================================================\n",
       "Dep. Variable:       Tweet_be_retweet   No. Observations:              9842648\n",
       "Model:                          Logit   Df Residuals:                  9842634\n",
       "Method:                           MLE   Df Model:                           13\n",
       "Date:                Tue, 16 May 2023   Pseudo R-squ.:                  0.1499\n",
       "Time:                        13:52:35   Log-Likelihood:            -4.6774e+06\n",
       "converged:                       True   LL-Null:                   -5.5020e+06\n",
       "Covariance Type:            nonrobust   LLR p-value:                     0.000\n",
       "=================================================================================================\n",
       "                                    coef    std err          z      P>|z|      [0.025      0.975]\n",
       "-------------------------------------------------------------------------------------------------\n",
       "Intercept                        -3.8157      0.003  -1272.881      0.000      -3.822      -3.810\n",
       "HorA                             -0.3559      0.011    -32.921      0.000      -0.377      -0.335\n",
       "care                             -0.2781      0.002   -143.476      0.000      -0.282      -0.274\n",
       "HorA:care                        -0.2313      0.007    -33.427      0.000      -0.245      -0.218\n",
       "authority                         0.1241      0.005     27.165      0.000       0.115       0.133\n",
       "HorA:authority                   -0.1096      0.018     -5.970      0.000      -0.146      -0.074\n",
       "fairness                          0.0026      0.006      0.423      0.672      -0.010       0.015\n",
       "HorA:fairness                     0.5898      0.019     30.339      0.000       0.552       0.628\n",
       "purity                           -0.1273      0.004    -29.508      0.000      -0.136      -0.119\n",
       "HorA:purity                       0.0502      0.015      3.434      0.001       0.022       0.079\n",
       "loyalty                           0.3045      0.004     79.303      0.000       0.297       0.312\n",
       "HorA:loyalty                     -0.2201      0.016    -13.989      0.000      -0.251      -0.189\n",
       "User_followers_count_log          0.3995      0.000   1016.858      0.000       0.399       0.400\n",
       "HorA:User_followers_count_log     0.0008      0.002      0.517      0.605      -0.002       0.004\n",
       "=================================================================================================\n",
       "\"\"\""
      ]
     },
     "execution_count": 18,
     "metadata": {},
     "output_type": "execute_result"
    }
   ],
   "source": [
    "#道德叙事如何影响它的传播？\n",
    "# 读取数据\n",
    "from scipy import stats\n",
    "import statsmodels.formula.api as smf\n",
    "\n",
    "# fitting regression\n",
    "# 将仇恨言论与否视为完全交互项进行分层分析\n",
    "formula = 'Tweet_be_retweet ~ HorA*care + HorA*authority + HorA*fairness + HorA*purity + HorA*loyalty + HorA*User_followers_count_log'\n",
    "result = smf.logit(formula, data=df).fit()\n",
    "\n",
    "# checking results\n",
    "result.summary()"
   ]
  },
  {
   "cell_type": "markdown",
   "id": "04756966",
   "metadata": {},
   "source": [
    "从主效应来看，当一条推特属于仇恨言论时，会减少它被转发的概率。但在仇恨言论中，如果使用的“神圣/堕落”叙事出现了更多的美德词，“关心/伤害”、“权威/颠覆”、“忠诚/背叛”叙事出现了更多的恶习词，则会增加它被转发的概率。在所有的道德叙事中，除了“公平/欺骗”外，其他叙事的主效应对推特转发概率的影响都显著，其中“关心/伤害”“神圣/堕落”叙事的正面强度越高（美德词越多或恶习词越少），被转发的概率越低；“权威/颠覆”和“忠诚/背叛”叙事的正面程度越高，被转发的概率越高。"
   ]
  },
  {
   "cell_type": "code",
   "execution_count": 19,
   "id": "333b46a9",
   "metadata": {
    "ExecuteTime": {
     "end_time": "2023-05-16T05:55:03.472923Z",
     "start_time": "2023-05-16T05:53:03.599010Z"
    }
   },
   "outputs": [
    {
     "name": "stdout",
     "output_type": "stream",
     "text": [
      "Optimization terminated successfully.\n",
      "         Current function value: 0.041711\n",
      "         Iterations 12\n"
     ]
    },
    {
     "data": {
      "text/html": [
       "<table class=\"simpletable\">\n",
       "<caption>Logit Regression Results</caption>\n",
       "<tr>\n",
       "  <th>Dep. Variable:</th>   <td>Tweet_be_retweet_50</td> <th>  No. Observations:  </th>   <td>9842648</td>  \n",
       "</tr>\n",
       "<tr>\n",
       "  <th>Model:</th>                  <td>Logit</td>        <th>  Df Residuals:      </th>   <td>9842634</td>  \n",
       "</tr>\n",
       "<tr>\n",
       "  <th>Method:</th>                  <td>MLE</td>         <th>  Df Model:          </th>   <td>    13</td>   \n",
       "</tr>\n",
       "<tr>\n",
       "  <th>Date:</th>             <td>Tue, 16 May 2023</td>   <th>  Pseudo R-squ.:     </th>   <td>0.2624</td>   \n",
       "</tr>\n",
       "<tr>\n",
       "  <th>Time:</th>                 <td>13:55:02</td>       <th>  Log-Likelihood:    </th> <td>-4.1055e+05</td>\n",
       "</tr>\n",
       "<tr>\n",
       "  <th>converged:</th>              <td>True</td>         <th>  LL-Null:           </th> <td>-5.5658e+05</td>\n",
       "</tr>\n",
       "<tr>\n",
       "  <th>Covariance Type:</th>      <td>nonrobust</td>      <th>  LLR p-value:       </th>   <td> 0.000</td>   \n",
       "</tr>\n",
       "</table>\n",
       "<table class=\"simpletable\">\n",
       "<tr>\n",
       "                <td></td>                   <th>coef</th>     <th>std err</th>      <th>z</th>      <th>P>|z|</th>  <th>[0.025</th>    <th>0.975]</th>  \n",
       "</tr>\n",
       "<tr>\n",
       "  <th>Intercept</th>                     <td>   -9.5705</td> <td>    0.013</td> <td> -725.367</td> <td> 0.000</td> <td>   -9.596</td> <td>   -9.545</td>\n",
       "</tr>\n",
       "<tr>\n",
       "  <th>HorA</th>                          <td>   -4.0158</td> <td>    0.101</td> <td>  -39.672</td> <td> 0.000</td> <td>   -4.214</td> <td>   -3.817</td>\n",
       "</tr>\n",
       "<tr>\n",
       "  <th>care</th>                          <td>   -0.0487</td> <td>    0.008</td> <td>   -6.044</td> <td> 0.000</td> <td>   -0.064</td> <td>   -0.033</td>\n",
       "</tr>\n",
       "<tr>\n",
       "  <th>HorA:care</th>                     <td>   -0.1621</td> <td>    0.041</td> <td>   -3.980</td> <td> 0.000</td> <td>   -0.242</td> <td>   -0.082</td>\n",
       "</tr>\n",
       "<tr>\n",
       "  <th>authority</th>                     <td>   -0.0224</td> <td>    0.018</td> <td>   -1.220</td> <td> 0.222</td> <td>   -0.058</td> <td>    0.014</td>\n",
       "</tr>\n",
       "<tr>\n",
       "  <th>HorA:authority</th>                <td>   -0.0242</td> <td>    0.093</td> <td>   -0.260</td> <td> 0.795</td> <td>   -0.207</td> <td>    0.159</td>\n",
       "</tr>\n",
       "<tr>\n",
       "  <th>fairness</th>                      <td>    0.2543</td> <td>    0.026</td> <td>    9.854</td> <td> 0.000</td> <td>    0.204</td> <td>    0.305</td>\n",
       "</tr>\n",
       "<tr>\n",
       "  <th>HorA:fairness</th>                 <td>    0.3161</td> <td>    0.101</td> <td>    3.121</td> <td> 0.002</td> <td>    0.118</td> <td>    0.515</td>\n",
       "</tr>\n",
       "<tr>\n",
       "  <th>purity</th>                        <td>    0.2251</td> <td>    0.020</td> <td>   11.272</td> <td> 0.000</td> <td>    0.186</td> <td>    0.264</td>\n",
       "</tr>\n",
       "<tr>\n",
       "  <th>HorA:purity</th>                   <td>   -0.3300</td> <td>    0.079</td> <td>   -4.166</td> <td> 0.000</td> <td>   -0.485</td> <td>   -0.175</td>\n",
       "</tr>\n",
       "<tr>\n",
       "  <th>loyalty</th>                       <td>    0.1269</td> <td>    0.015</td> <td>    8.219</td> <td> 0.000</td> <td>    0.097</td> <td>    0.157</td>\n",
       "</tr>\n",
       "<tr>\n",
       "  <th>HorA:loyalty</th>                  <td>    0.1908</td> <td>    0.083</td> <td>    2.303</td> <td> 0.021</td> <td>    0.028</td> <td>    0.353</td>\n",
       "</tr>\n",
       "<tr>\n",
       "  <th>User_followers_count_log</th>      <td>    0.6080</td> <td>    0.001</td> <td>  492.115</td> <td> 0.000</td> <td>    0.606</td> <td>    0.610</td>\n",
       "</tr>\n",
       "<tr>\n",
       "  <th>HorA:User_followers_count_log</th> <td>    0.4430</td> <td>    0.010</td> <td>   44.486</td> <td> 0.000</td> <td>    0.424</td> <td>    0.463</td>\n",
       "</tr>\n",
       "</table>"
      ],
      "text/plain": [
       "<class 'statsmodels.iolib.summary.Summary'>\n",
       "\"\"\"\n",
       "                            Logit Regression Results                           \n",
       "===============================================================================\n",
       "Dep. Variable:     Tweet_be_retweet_50   No. Observations:              9842648\n",
       "Model:                           Logit   Df Residuals:                  9842634\n",
       "Method:                            MLE   Df Model:                           13\n",
       "Date:                 Tue, 16 May 2023   Pseudo R-squ.:                  0.2624\n",
       "Time:                         13:55:02   Log-Likelihood:            -4.1055e+05\n",
       "converged:                        True   LL-Null:                   -5.5658e+05\n",
       "Covariance Type:             nonrobust   LLR p-value:                     0.000\n",
       "=================================================================================================\n",
       "                                    coef    std err          z      P>|z|      [0.025      0.975]\n",
       "-------------------------------------------------------------------------------------------------\n",
       "Intercept                        -9.5705      0.013   -725.367      0.000      -9.596      -9.545\n",
       "HorA                             -4.0158      0.101    -39.672      0.000      -4.214      -3.817\n",
       "care                             -0.0487      0.008     -6.044      0.000      -0.064      -0.033\n",
       "HorA:care                        -0.1621      0.041     -3.980      0.000      -0.242      -0.082\n",
       "authority                        -0.0224      0.018     -1.220      0.222      -0.058       0.014\n",
       "HorA:authority                   -0.0242      0.093     -0.260      0.795      -0.207       0.159\n",
       "fairness                          0.2543      0.026      9.854      0.000       0.204       0.305\n",
       "HorA:fairness                     0.3161      0.101      3.121      0.002       0.118       0.515\n",
       "purity                            0.2251      0.020     11.272      0.000       0.186       0.264\n",
       "HorA:purity                      -0.3300      0.079     -4.166      0.000      -0.485      -0.175\n",
       "loyalty                           0.1269      0.015      8.219      0.000       0.097       0.157\n",
       "HorA:loyalty                      0.1908      0.083      2.303      0.021       0.028       0.353\n",
       "User_followers_count_log          0.6080      0.001    492.115      0.000       0.606       0.610\n",
       "HorA:User_followers_count_log     0.4430      0.010     44.486      0.000       0.424       0.463\n",
       "=================================================================================================\n",
       "\"\"\""
      ]
     },
     "execution_count": 19,
     "metadata": {},
     "output_type": "execute_result"
    }
   ],
   "source": [
    "#道德叙事如何影响它的传播？以转发量>=50为条件\n",
    "# 读取数据\n",
    "from scipy import stats\n",
    "import statsmodels.formula.api as smf\n",
    "\n",
    "# fitting regression\n",
    "# 将仇恨言论与否视为完全交互项进行分层分析\n",
    "formula = 'Tweet_be_retweet_50 ~ HorA*care + HorA*authority + HorA*fairness + HorA*purity + HorA*loyalty + HorA*User_followers_count_log'\n",
    "result = smf.logit(formula, data=df).fit()\n",
    "\n",
    "# checking results\n",
    "result.summary()"
   ]
  },
  {
   "cell_type": "code",
   "execution_count": 20,
   "id": "7b239654",
   "metadata": {
    "ExecuteTime": {
     "end_time": "2023-05-16T05:58:15.049342Z",
     "start_time": "2023-05-16T05:56:31.724964Z"
    }
   },
   "outputs": [
    {
     "name": "stdout",
     "output_type": "stream",
     "text": [
      "Optimization terminated successfully.\n",
      "         Current function value: 0.026815\n",
      "         Iterations 13\n"
     ]
    },
    {
     "data": {
      "text/html": [
       "<table class=\"simpletable\">\n",
       "<caption>Logit Regression Results</caption>\n",
       "<tr>\n",
       "  <th>Dep. Variable:</th>   <td>Tweet_be_retweet_100</td> <th>  No. Observations:  </th>   <td>9842648</td>  \n",
       "</tr>\n",
       "<tr>\n",
       "  <th>Model:</th>                   <td>Logit</td>        <th>  Df Residuals:      </th>   <td>9842634</td>  \n",
       "</tr>\n",
       "<tr>\n",
       "  <th>Method:</th>                   <td>MLE</td>         <th>  Df Model:          </th>   <td>    13</td>   \n",
       "</tr>\n",
       "<tr>\n",
       "  <th>Date:</th>              <td>Tue, 16 May 2023</td>   <th>  Pseudo R-squ.:     </th>   <td>0.2506</td>   \n",
       "</tr>\n",
       "<tr>\n",
       "  <th>Time:</th>                  <td>13:58:14</td>       <th>  Log-Likelihood:    </th> <td>-2.6393e+05</td>\n",
       "</tr>\n",
       "<tr>\n",
       "  <th>converged:</th>               <td>True</td>         <th>  LL-Null:           </th> <td>-3.5218e+05</td>\n",
       "</tr>\n",
       "<tr>\n",
       "  <th>Covariance Type:</th>       <td>nonrobust</td>      <th>  LLR p-value:       </th>   <td> 0.000</td>   \n",
       "</tr>\n",
       "</table>\n",
       "<table class=\"simpletable\">\n",
       "<tr>\n",
       "                <td></td>                   <th>coef</th>     <th>std err</th>      <th>z</th>      <th>P>|z|</th>  <th>[0.025</th>    <th>0.975]</th>  \n",
       "</tr>\n",
       "<tr>\n",
       "  <th>Intercept</th>                     <td>  -10.0642</td> <td>    0.016</td> <td> -610.835</td> <td> 0.000</td> <td>  -10.096</td> <td>  -10.032</td>\n",
       "</tr>\n",
       "<tr>\n",
       "  <th>HorA</th>                          <td>   -4.5765</td> <td>    0.137</td> <td>  -33.395</td> <td> 0.000</td> <td>   -4.845</td> <td>   -4.308</td>\n",
       "</tr>\n",
       "<tr>\n",
       "  <th>care</th>                          <td>   -0.0121</td> <td>    0.010</td> <td>   -1.169</td> <td> 0.242</td> <td>   -0.032</td> <td>    0.008</td>\n",
       "</tr>\n",
       "<tr>\n",
       "  <th>HorA:care</th>                     <td>   -0.3241</td> <td>    0.055</td> <td>   -5.854</td> <td> 0.000</td> <td>   -0.433</td> <td>   -0.216</td>\n",
       "</tr>\n",
       "<tr>\n",
       "  <th>authority</th>                     <td>   -0.0480</td> <td>    0.024</td> <td>   -2.013</td> <td> 0.044</td> <td>   -0.095</td> <td>   -0.001</td>\n",
       "</tr>\n",
       "<tr>\n",
       "  <th>HorA:authority</th>                <td>    0.1379</td> <td>    0.122</td> <td>    1.135</td> <td> 0.257</td> <td>   -0.100</td> <td>    0.376</td>\n",
       "</tr>\n",
       "<tr>\n",
       "  <th>fairness</th>                      <td>    0.2081</td> <td>    0.034</td> <td>    6.111</td> <td> 0.000</td> <td>    0.141</td> <td>    0.275</td>\n",
       "</tr>\n",
       "<tr>\n",
       "  <th>HorA:fairness</th>                 <td>    0.4573</td> <td>    0.132</td> <td>    3.468</td> <td> 0.001</td> <td>    0.199</td> <td>    0.716</td>\n",
       "</tr>\n",
       "<tr>\n",
       "  <th>purity</th>                        <td>    0.2012</td> <td>    0.026</td> <td>    7.655</td> <td> 0.000</td> <td>    0.150</td> <td>    0.253</td>\n",
       "</tr>\n",
       "<tr>\n",
       "  <th>HorA:purity</th>                   <td>   -0.3426</td> <td>    0.104</td> <td>   -3.279</td> <td> 0.001</td> <td>   -0.547</td> <td>   -0.138</td>\n",
       "</tr>\n",
       "<tr>\n",
       "  <th>loyalty</th>                       <td>   -0.0073</td> <td>    0.020</td> <td>   -0.360</td> <td> 0.719</td> <td>   -0.047</td> <td>    0.033</td>\n",
       "</tr>\n",
       "<tr>\n",
       "  <th>HorA:loyalty</th>                  <td>    0.4320</td> <td>    0.109</td> <td>    3.979</td> <td> 0.000</td> <td>    0.219</td> <td>    0.645</td>\n",
       "</tr>\n",
       "<tr>\n",
       "  <th>User_followers_count_log</th>      <td>    0.5978</td> <td>    0.001</td> <td>  399.667</td> <td> 0.000</td> <td>    0.595</td> <td>    0.601</td>\n",
       "</tr>\n",
       "<tr>\n",
       "  <th>HorA:User_followers_count_log</th> <td>    0.4817</td> <td>    0.013</td> <td>   37.363</td> <td> 0.000</td> <td>    0.456</td> <td>    0.507</td>\n",
       "</tr>\n",
       "</table><br/><br/>Possibly complete quasi-separation: A fraction 0.10 of observations can be<br/>perfectly predicted. This might indicate that there is complete<br/>quasi-separation. In this case some parameters will not be identified."
      ],
      "text/plain": [
       "<class 'statsmodels.iolib.summary.Summary'>\n",
       "\"\"\"\n",
       "                            Logit Regression Results                            \n",
       "================================================================================\n",
       "Dep. Variable:     Tweet_be_retweet_100   No. Observations:              9842648\n",
       "Model:                            Logit   Df Residuals:                  9842634\n",
       "Method:                             MLE   Df Model:                           13\n",
       "Date:                  Tue, 16 May 2023   Pseudo R-squ.:                  0.2506\n",
       "Time:                          13:58:14   Log-Likelihood:            -2.6393e+05\n",
       "converged:                         True   LL-Null:                   -3.5218e+05\n",
       "Covariance Type:              nonrobust   LLR p-value:                     0.000\n",
       "=================================================================================================\n",
       "                                    coef    std err          z      P>|z|      [0.025      0.975]\n",
       "-------------------------------------------------------------------------------------------------\n",
       "Intercept                       -10.0642      0.016   -610.835      0.000     -10.096     -10.032\n",
       "HorA                             -4.5765      0.137    -33.395      0.000      -4.845      -4.308\n",
       "care                             -0.0121      0.010     -1.169      0.242      -0.032       0.008\n",
       "HorA:care                        -0.3241      0.055     -5.854      0.000      -0.433      -0.216\n",
       "authority                        -0.0480      0.024     -2.013      0.044      -0.095      -0.001\n",
       "HorA:authority                    0.1379      0.122      1.135      0.257      -0.100       0.376\n",
       "fairness                          0.2081      0.034      6.111      0.000       0.141       0.275\n",
       "HorA:fairness                     0.4573      0.132      3.468      0.001       0.199       0.716\n",
       "purity                            0.2012      0.026      7.655      0.000       0.150       0.253\n",
       "HorA:purity                      -0.3426      0.104     -3.279      0.001      -0.547      -0.138\n",
       "loyalty                          -0.0073      0.020     -0.360      0.719      -0.047       0.033\n",
       "HorA:loyalty                      0.4320      0.109      3.979      0.000       0.219       0.645\n",
       "User_followers_count_log          0.5978      0.001    399.667      0.000       0.595       0.601\n",
       "HorA:User_followers_count_log     0.4817      0.013     37.363      0.000       0.456       0.507\n",
       "=================================================================================================\n",
       "\n",
       "Possibly complete quasi-separation: A fraction 0.10 of observations can be\n",
       "perfectly predicted. This might indicate that there is complete\n",
       "quasi-separation. In this case some parameters will not be identified.\n",
       "\"\"\""
      ]
     },
     "execution_count": 20,
     "metadata": {},
     "output_type": "execute_result"
    }
   ],
   "source": [
    "#道德叙事如何影响它的传播？以转发量>=100为条件\n",
    "# 读取数据\n",
    "from scipy import stats\n",
    "import statsmodels.formula.api as smf\n",
    "\n",
    "# fitting regression\n",
    "# 将仇恨言论与否视为完全交互项进行分层分析\n",
    "formula = 'Tweet_be_retweet_100 ~ HorA*care + HorA*authority + HorA*fairness + HorA*purity + HorA*loyalty + HorA*User_followers_count_log'\n",
    "result = smf.logit(formula, data=df).fit()\n",
    "\n",
    "# checking results\n",
    "result.summary()"
   ]
  },
  {
   "cell_type": "markdown",
   "id": "ede282c0",
   "metadata": {},
   "source": [
    "有两种情况会阻止系数的极大似然估计值的收敛：完全分离和几乎完全分离。通常情况下，当数据集太小而无法观测概率低的事件时，会发生分离。模型中的预测变量越多，就越可能发生分离，因为数据中的单个组的样本数量较小。\n",
    "\n",
    "https://support.minitab.com/zh-cn/minitab/20/help-and-how-to/statistical-modeling/regression/supporting-topics/logistic-regression/what-are-complete-separation-and-quasi-complete-separation/"
   ]
  },
  {
   "cell_type": "code",
   "execution_count": null,
   "id": "3b140408",
   "metadata": {},
   "outputs": [],
   "source": []
  }
 ],
 "metadata": {
  "kernelspec": {
   "display_name": "Python 3 (ipykernel)",
   "language": "python",
   "name": "python3"
  },
  "language_info": {
   "codemirror_mode": {
    "name": "ipython",
    "version": 3
   },
   "file_extension": ".py",
   "mimetype": "text/x-python",
   "name": "python",
   "nbconvert_exporter": "python",
   "pygments_lexer": "ipython3",
   "version": "3.8.13"
  },
  "varInspector": {
   "cols": {
    "lenName": 16,
    "lenType": 16,
    "lenVar": 40
   },
   "kernels_config": {
    "python": {
     "delete_cmd_postfix": "",
     "delete_cmd_prefix": "del ",
     "library": "var_list.py",
     "varRefreshCmd": "print(var_dic_list())"
    },
    "r": {
     "delete_cmd_postfix": ") ",
     "delete_cmd_prefix": "rm(",
     "library": "var_list.r",
     "varRefreshCmd": "cat(var_dic_list()) "
    }
   },
   "types_to_exclude": [
    "module",
    "function",
    "builtin_function_or_method",
    "instance",
    "_Feature"
   ],
   "window_display": false
  }
 },
 "nbformat": 4,
 "nbformat_minor": 5
}
