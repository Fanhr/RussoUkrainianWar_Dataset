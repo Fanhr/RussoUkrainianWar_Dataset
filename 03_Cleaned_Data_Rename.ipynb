{
 "cells": [
  {
   "cell_type": "code",
   "execution_count": 1,
   "id": "2bb5743c",
   "metadata": {
    "ExecuteTime": {
     "end_time": "2023-02-20T02:31:56.874447Z",
     "start_time": "2023-02-20T02:31:56.868723Z"
    }
   },
   "outputs": [],
   "source": [
    "import os"
   ]
  },
  {
   "cell_type": "code",
   "execution_count": 2,
   "id": "5f3a0ce8",
   "metadata": {
    "ExecuteTime": {
     "end_time": "2023-02-20T02:36:05.219784Z",
     "start_time": "2023-02-20T02:36:05.209235Z"
    }
   },
   "outputs": [],
   "source": [
    "#\"H:\\课程\\毕业论文\\cleaned2\\tweet_ids_day_2022-2-24.txt_tweets_clean.csv\"\n",
    "oldnames = []\n",
    "for filepath,dirnames,filenames in os.walk(r'H:\\课程\\毕业论文\\cleaned2'):\n",
    "    for filename in filenames:\n",
    "        oldname = (os.path.join(filepath,filename))\n",
    "        oldnames.append(oldname)"
   ]
  },
  {
   "cell_type": "code",
   "execution_count": 3,
   "id": "48783b09",
   "metadata": {
    "ExecuteTime": {
     "end_time": "2023-02-20T02:36:07.906168Z",
     "start_time": "2023-02-20T02:36:07.879981Z"
    }
   },
   "outputs": [
    {
     "data": {
      "text/plain": [
       "['H:\\\\课程\\\\毕业论文\\\\cleaned2\\\\tweet_ids_day_2022-2-24.txt_tweets_clean.csv',\n",
       " 'H:\\\\课程\\\\毕业论文\\\\cleaned2\\\\tweet_ids_day_2022-2-25.txt_tweets_1_clean.csv',\n",
       " 'H:\\\\课程\\\\毕业论文\\\\cleaned2\\\\tweet_ids_day_2022-2-25.txt_tweets_2_clean.csv',\n",
       " 'H:\\\\课程\\\\毕业论文\\\\cleaned2\\\\tweet_ids_day_2022-2-25.txt_tweets_3_clean.csv',\n",
       " 'H:\\\\课程\\\\毕业论文\\\\cleaned2\\\\tweet_ids_day_2022-2-25.txt_tweets_4_clean.csv',\n",
       " 'H:\\\\课程\\\\毕业论文\\\\cleaned2\\\\tweet_ids_day_2022-2-25.txt_tweets_5_clean.csv',\n",
       " 'H:\\\\课程\\\\毕业论文\\\\cleaned2\\\\tweet_ids_day_2022-2-25.txt_tweets_6_clean.csv',\n",
       " 'H:\\\\课程\\\\毕业论文\\\\cleaned2\\\\tweet_ids_day_2022-2-25.txt_tweets_7_clean.csv',\n",
       " 'H:\\\\课程\\\\毕业论文\\\\cleaned2\\\\tweet_ids_day_2022-2-25.txt_tweets_8_clean.csv',\n",
       " 'H:\\\\课程\\\\毕业论文\\\\cleaned2\\\\tweet_ids_day_2022-2-26.txt_tweets_1_clean.csv',\n",
       " 'H:\\\\课程\\\\毕业论文\\\\cleaned2\\\\tweet_ids_day_2022-2-26.txt_tweets_2_clean.csv',\n",
       " 'H:\\\\课程\\\\毕业论文\\\\cleaned2\\\\tweet_ids_day_2022-2-26.txt_tweets_3_clean.csv',\n",
       " 'H:\\\\课程\\\\毕业论文\\\\cleaned2\\\\tweet_ids_day_2022-2-26.txt_tweets_4_clean.csv',\n",
       " 'H:\\\\课程\\\\毕业论文\\\\cleaned2\\\\tweet_ids_day_2022-2-26.txt_tweets_5_clean.csv',\n",
       " 'H:\\\\课程\\\\毕业论文\\\\cleaned2\\\\tweet_ids_day_2022-2-26.txt_tweets_6_clean.csv',\n",
       " 'H:\\\\课程\\\\毕业论文\\\\cleaned2\\\\tweet_ids_day_2022-2-26.txt_tweets_7_clean.csv',\n",
       " 'H:\\\\课程\\\\毕业论文\\\\cleaned2\\\\tweet_ids_day_2022-2-26.txt_tweets_8_clean.csv',\n",
       " 'H:\\\\课程\\\\毕业论文\\\\cleaned2\\\\tweet_ids_day_2022-2-26.txt_tweets_9_clean.csv',\n",
       " 'H:\\\\课程\\\\毕业论文\\\\cleaned2\\\\tweet_ids_day_2022-2-27.txt_tweets_1_clean.csv',\n",
       " 'H:\\\\课程\\\\毕业论文\\\\cleaned2\\\\tweet_ids_day_2022-2-27.txt_tweets_2_clean.csv',\n",
       " 'H:\\\\课程\\\\毕业论文\\\\cleaned2\\\\tweet_ids_day_2022-2-27.txt_tweets_3_clean.csv',\n",
       " 'H:\\\\课程\\\\毕业论文\\\\cleaned2\\\\tweet_ids_day_2022-2-27.txt_tweets_4_clean.csv',\n",
       " 'H:\\\\课程\\\\毕业论文\\\\cleaned2\\\\tweet_ids_day_2022-2-27.txt_tweets_5_clean.csv',\n",
       " 'H:\\\\课程\\\\毕业论文\\\\cleaned2\\\\tweet_ids_day_2022-2-27.txt_tweets_6_clean.csv',\n",
       " 'H:\\\\课程\\\\毕业论文\\\\cleaned2\\\\tweet_ids_day_2022-2-27.txt_tweets_7_clean.csv',\n",
       " 'H:\\\\课程\\\\毕业论文\\\\cleaned2\\\\tweet_ids_day_2022-2-27.txt_tweets_8_clean.csv',\n",
       " 'H:\\\\课程\\\\毕业论文\\\\cleaned2\\\\tweet_ids_day_2022-2-28.txt_tweets_1_clean.csv',\n",
       " 'H:\\\\课程\\\\毕业论文\\\\cleaned2\\\\tweet_ids_day_2022-2-28.txt_tweets_2_clean.csv',\n",
       " 'H:\\\\课程\\\\毕业论文\\\\cleaned2\\\\tweet_ids_day_2022-2-28.txt_tweets_3_clean.csv',\n",
       " 'H:\\\\课程\\\\毕业论文\\\\cleaned2\\\\tweet_ids_day_2022-2-28.txt_tweets_4_clean.csv',\n",
       " 'H:\\\\课程\\\\毕业论文\\\\cleaned2\\\\tweet_ids_day_2022-2-28.txt_tweets_5_clean.csv',\n",
       " 'H:\\\\课程\\\\毕业论文\\\\cleaned2\\\\tweet_ids_day_2022-2-28.txt_tweets_6_clean.csv',\n",
       " 'H:\\\\课程\\\\毕业论文\\\\cleaned2\\\\tweet_ids_day_2022-2-28.txt_tweets_7_clean.csv',\n",
       " 'H:\\\\课程\\\\毕业论文\\\\cleaned2\\\\tweet_ids_day_2022-3-1.txt_tweets_1_clean.csv',\n",
       " 'H:\\\\课程\\\\毕业论文\\\\cleaned2\\\\tweet_ids_day_2022-3-1.txt_tweets_2_clean.csv',\n",
       " 'H:\\\\课程\\\\毕业论文\\\\cleaned2\\\\tweet_ids_day_2022-3-1.txt_tweets_3_clean.csv',\n",
       " 'H:\\\\课程\\\\毕业论文\\\\cleaned2\\\\tweet_ids_day_2022-3-1.txt_tweets_4_clean.csv',\n",
       " 'H:\\\\课程\\\\毕业论文\\\\cleaned2\\\\tweet_ids_day_2022-3-1.txt_tweets_5_clean.csv',\n",
       " 'H:\\\\课程\\\\毕业论文\\\\cleaned2\\\\tweet_ids_day_2022-3-1.txt_tweets_6_clean.csv',\n",
       " 'H:\\\\课程\\\\毕业论文\\\\cleaned2\\\\tweet_ids_day_2022-3-1.txt_tweets_7_clean.csv',\n",
       " 'H:\\\\课程\\\\毕业论文\\\\cleaned2\\\\tweet_ids_day_2022-3-10.txt_tweets_1_clean.csv',\n",
       " 'H:\\\\课程\\\\毕业论文\\\\cleaned2\\\\tweet_ids_day_2022-3-10.txt_tweets_2_clean.csv',\n",
       " 'H:\\\\课程\\\\毕业论文\\\\cleaned2\\\\tweet_ids_day_2022-3-10.txt_tweets_3_clean.csv',\n",
       " 'H:\\\\课程\\\\毕业论文\\\\cleaned2\\\\tweet_ids_day_2022-3-11.txt_tweets_1_clean.csv',\n",
       " 'H:\\\\课程\\\\毕业论文\\\\cleaned2\\\\tweet_ids_day_2022-3-11.txt_tweets_2_clean.csv',\n",
       " 'H:\\\\课程\\\\毕业论文\\\\cleaned2\\\\tweet_ids_day_2022-3-11.txt_tweets_3_clean.csv',\n",
       " 'H:\\\\课程\\\\毕业论文\\\\cleaned2\\\\tweet_ids_day_2022-3-12.txt_tweets_1_clean.csv',\n",
       " 'H:\\\\课程\\\\毕业论文\\\\cleaned2\\\\tweet_ids_day_2022-3-12.txt_tweets_2_clean.csv',\n",
       " 'H:\\\\课程\\\\毕业论文\\\\cleaned2\\\\tweet_ids_day_2022-3-12.txt_tweets_3_clean.csv',\n",
       " 'H:\\\\课程\\\\毕业论文\\\\cleaned2\\\\tweet_ids_day_2022-3-13.txt_tweets_1_clean.csv',\n",
       " 'H:\\\\课程\\\\毕业论文\\\\cleaned2\\\\tweet_ids_day_2022-3-13.txt_tweets_2_clean.csv',\n",
       " 'H:\\\\课程\\\\毕业论文\\\\cleaned2\\\\tweet_ids_day_2022-3-13.txt_tweets_3_clean.csv',\n",
       " 'H:\\\\课程\\\\毕业论文\\\\cleaned2\\\\tweet_ids_day_2022-3-14.txt_tweets_1_clean.csv',\n",
       " 'H:\\\\课程\\\\毕业论文\\\\cleaned2\\\\tweet_ids_day_2022-3-14.txt_tweets_2_clean.csv',\n",
       " 'H:\\\\课程\\\\毕业论文\\\\cleaned2\\\\tweet_ids_day_2022-3-15.txt_tweets_1_clean.csv',\n",
       " 'H:\\\\课程\\\\毕业论文\\\\cleaned2\\\\tweet_ids_day_2022-3-15.txt_tweets_2_clean.csv',\n",
       " 'H:\\\\课程\\\\毕业论文\\\\cleaned2\\\\tweet_ids_day_2022-3-16.txt_tweets_1_clean.csv',\n",
       " 'H:\\\\课程\\\\毕业论文\\\\cleaned2\\\\tweet_ids_day_2022-3-16.txt_tweets_2_clean.csv',\n",
       " 'H:\\\\课程\\\\毕业论文\\\\cleaned2\\\\tweet_ids_day_2022-3-17.txt_tweets_clean.csv',\n",
       " 'H:\\\\课程\\\\毕业论文\\\\cleaned2\\\\tweet_ids_day_2022-3-18.txt_tweets_clean.csv',\n",
       " 'H:\\\\课程\\\\毕业论文\\\\cleaned2\\\\tweet_ids_day_2022-3-19.txt_tweets_clean.csv',\n",
       " 'H:\\\\课程\\\\毕业论文\\\\cleaned2\\\\tweet_ids_day_2022-3-2.txt_tweets_1_clean.csv',\n",
       " 'H:\\\\课程\\\\毕业论文\\\\cleaned2\\\\tweet_ids_day_2022-3-2.txt_tweets_2_clean.csv',\n",
       " 'H:\\\\课程\\\\毕业论文\\\\cleaned2\\\\tweet_ids_day_2022-3-2.txt_tweets_3_clean.csv',\n",
       " 'H:\\\\课程\\\\毕业论文\\\\cleaned2\\\\tweet_ids_day_2022-3-2.txt_tweets_4_clean.csv',\n",
       " 'H:\\\\课程\\\\毕业论文\\\\cleaned2\\\\tweet_ids_day_2022-3-2.txt_tweets_5_clean.csv',\n",
       " 'H:\\\\课程\\\\毕业论文\\\\cleaned2\\\\tweet_ids_day_2022-3-2.txt_tweets_6_clean.csv',\n",
       " 'H:\\\\课程\\\\毕业论文\\\\cleaned2\\\\tweet_ids_day_2022-3-20.txt_tweets_clean.csv',\n",
       " 'H:\\\\课程\\\\毕业论文\\\\cleaned2\\\\tweet_ids_day_2022-3-21.txt_tweets_clean.csv',\n",
       " 'H:\\\\课程\\\\毕业论文\\\\cleaned2\\\\tweet_ids_day_2022-3-22.txt_tweets_clean.csv',\n",
       " 'H:\\\\课程\\\\毕业论文\\\\cleaned2\\\\tweet_ids_day_2022-3-23.txt_tweets_clean.csv',\n",
       " 'H:\\\\课程\\\\毕业论文\\\\cleaned2\\\\tweet_ids_day_2022-3-24.txt_tweets_clean.csv',\n",
       " 'H:\\\\课程\\\\毕业论文\\\\cleaned2\\\\tweet_ids_day_2022-3-25.txt_tweets_1_clean.csv',\n",
       " 'H:\\\\课程\\\\毕业论文\\\\cleaned2\\\\tweet_ids_day_2022-3-25.txt_tweets_2_clean.csv',\n",
       " 'H:\\\\课程\\\\毕业论文\\\\cleaned2\\\\tweet_ids_day_2022-3-26.txt_tweets_1_clean.csv',\n",
       " 'H:\\\\课程\\\\毕业论文\\\\cleaned2\\\\tweet_ids_day_2022-3-26.txt_tweets_2_clean.csv',\n",
       " 'H:\\\\课程\\\\毕业论文\\\\cleaned2\\\\tweet_ids_day_2022-3-27.txt_tweets_1_clean.csv',\n",
       " 'H:\\\\课程\\\\毕业论文\\\\cleaned2\\\\tweet_ids_day_2022-3-27.txt_tweets_2_clean.csv',\n",
       " 'H:\\\\课程\\\\毕业论文\\\\cleaned2\\\\tweet_ids_day_2022-3-28.txt_tweets_1_clean.csv',\n",
       " 'H:\\\\课程\\\\毕业论文\\\\cleaned2\\\\tweet_ids_day_2022-3-29.txt_tweets_1_clean.csv',\n",
       " 'H:\\\\课程\\\\毕业论文\\\\cleaned2\\\\tweet_ids_day_2022-3-3.txt_tweets_1_clean.csv',\n",
       " 'H:\\\\课程\\\\毕业论文\\\\cleaned2\\\\tweet_ids_day_2022-3-3.txt_tweets_2_clean.csv',\n",
       " 'H:\\\\课程\\\\毕业论文\\\\cleaned2\\\\tweet_ids_day_2022-3-3.txt_tweets_3_clean.csv',\n",
       " 'H:\\\\课程\\\\毕业论文\\\\cleaned2\\\\tweet_ids_day_2022-3-3.txt_tweets_4_clean.csv',\n",
       " 'H:\\\\课程\\\\毕业论文\\\\cleaned2\\\\tweet_ids_day_2022-3-3.txt_tweets_5_clean.csv',\n",
       " 'H:\\\\课程\\\\毕业论文\\\\cleaned2\\\\tweet_ids_day_2022-3-3.txt_tweets_6_clean.csv',\n",
       " 'H:\\\\课程\\\\毕业论文\\\\cleaned2\\\\tweet_ids_day_2022-3-30.txt_tweets_1_clean.csv',\n",
       " 'H:\\\\课程\\\\毕业论文\\\\cleaned2\\\\tweet_ids_day_2022-3-31.txt_tweets_1_clean.csv',\n",
       " 'H:\\\\课程\\\\毕业论文\\\\cleaned2\\\\tweet_ids_day_2022-3-4.txt_tweets_1_clean.csv',\n",
       " 'H:\\\\课程\\\\毕业论文\\\\cleaned2\\\\tweet_ids_day_2022-3-4.txt_tweets_2_clean.csv',\n",
       " 'H:\\\\课程\\\\毕业论文\\\\cleaned2\\\\tweet_ids_day_2022-3-4.txt_tweets_3_clean.csv',\n",
       " 'H:\\\\课程\\\\毕业论文\\\\cleaned2\\\\tweet_ids_day_2022-3-4.txt_tweets_4_clean.csv',\n",
       " 'H:\\\\课程\\\\毕业论文\\\\cleaned2\\\\tweet_ids_day_2022-3-4.txt_tweets_5_clean.csv',\n",
       " 'H:\\\\课程\\\\毕业论文\\\\cleaned2\\\\tweet_ids_day_2022-3-5.txt_tweets_1_clean.csv',\n",
       " 'H:\\\\课程\\\\毕业论文\\\\cleaned2\\\\tweet_ids_day_2022-3-5.txt_tweets_2_clean.csv',\n",
       " 'H:\\\\课程\\\\毕业论文\\\\cleaned2\\\\tweet_ids_day_2022-3-5.txt_tweets_3_clean.csv',\n",
       " 'H:\\\\课程\\\\毕业论文\\\\cleaned2\\\\tweet_ids_day_2022-3-5.txt_tweets_4_clean.csv',\n",
       " 'H:\\\\课程\\\\毕业论文\\\\cleaned2\\\\tweet_ids_day_2022-3-6.txt_tweets_1_clean.csv',\n",
       " 'H:\\\\课程\\\\毕业论文\\\\cleaned2\\\\tweet_ids_day_2022-3-6.txt_tweets_2_clean.csv',\n",
       " 'H:\\\\课程\\\\毕业论文\\\\cleaned2\\\\tweet_ids_day_2022-3-6.txt_tweets_3_clean.csv',\n",
       " 'H:\\\\课程\\\\毕业论文\\\\cleaned2\\\\tweet_ids_day_2022-3-6.txt_tweets_4_clean.csv',\n",
       " 'H:\\\\课程\\\\毕业论文\\\\cleaned2\\\\tweet_ids_day_2022-3-7.txt_tweets_1_clean.csv',\n",
       " 'H:\\\\课程\\\\毕业论文\\\\cleaned2\\\\tweet_ids_day_2022-3-7.txt_tweets_2_clean.csv',\n",
       " 'H:\\\\课程\\\\毕业论文\\\\cleaned2\\\\tweet_ids_day_2022-3-7.txt_tweets_3_clean.csv',\n",
       " 'H:\\\\课程\\\\毕业论文\\\\cleaned2\\\\tweet_ids_day_2022-3-7.txt_tweets_4_clean.csv',\n",
       " 'H:\\\\课程\\\\毕业论文\\\\cleaned2\\\\tweet_ids_day_2022-3-8.txt_tweets_1_clean.csv',\n",
       " 'H:\\\\课程\\\\毕业论文\\\\cleaned2\\\\tweet_ids_day_2022-3-8.txt_tweets_2_clean.csv',\n",
       " 'H:\\\\课程\\\\毕业论文\\\\cleaned2\\\\tweet_ids_day_2022-3-8.txt_tweets_3_clean.csv',\n",
       " 'H:\\\\课程\\\\毕业论文\\\\cleaned2\\\\tweet_ids_day_2022-3-9.txt_tweets_1_clean.csv',\n",
       " 'H:\\\\课程\\\\毕业论文\\\\cleaned2\\\\tweet_ids_day_2022-3-9.txt_tweets_2_clean.csv',\n",
       " 'H:\\\\课程\\\\毕业论文\\\\cleaned2\\\\tweet_ids_day_2022-3-9.txt_tweets_3_clean.csv']"
      ]
     },
     "execution_count": 3,
     "metadata": {},
     "output_type": "execute_result"
    }
   ],
   "source": [
    "oldnames"
   ]
  },
  {
   "cell_type": "code",
   "execution_count": 22,
   "id": "0811c9f6",
   "metadata": {
    "ExecuteTime": {
     "end_time": "2023-02-20T02:45:27.489538Z",
     "start_time": "2023-02-20T02:45:27.482206Z"
    }
   },
   "outputs": [],
   "source": [
    "newnames = []\n",
    "for i in range(len(oldnames)):\n",
    "    newname = oldnames[i].replace('.txt_tweets','')\n",
    "    newnames.append(newname)"
   ]
  },
  {
   "cell_type": "code",
   "execution_count": 23,
   "id": "98e12d0e",
   "metadata": {
    "ExecuteTime": {
     "end_time": "2023-02-20T02:45:28.008246Z",
     "start_time": "2023-02-20T02:45:27.975565Z"
    }
   },
   "outputs": [
    {
     "data": {
      "text/plain": [
       "['H:\\\\课程\\\\毕业论文\\\\cleaned2\\\\tweet_ids_day_2022-2-24_clean.csv',\n",
       " 'H:\\\\课程\\\\毕业论文\\\\cleaned2\\\\tweet_ids_day_2022-2-25_1_clean.csv',\n",
       " 'H:\\\\课程\\\\毕业论文\\\\cleaned2\\\\tweet_ids_day_2022-2-25_2_clean.csv',\n",
       " 'H:\\\\课程\\\\毕业论文\\\\cleaned2\\\\tweet_ids_day_2022-2-25_3_clean.csv',\n",
       " 'H:\\\\课程\\\\毕业论文\\\\cleaned2\\\\tweet_ids_day_2022-2-25_4_clean.csv',\n",
       " 'H:\\\\课程\\\\毕业论文\\\\cleaned2\\\\tweet_ids_day_2022-2-25_5_clean.csv',\n",
       " 'H:\\\\课程\\\\毕业论文\\\\cleaned2\\\\tweet_ids_day_2022-2-25_6_clean.csv',\n",
       " 'H:\\\\课程\\\\毕业论文\\\\cleaned2\\\\tweet_ids_day_2022-2-25_7_clean.csv',\n",
       " 'H:\\\\课程\\\\毕业论文\\\\cleaned2\\\\tweet_ids_day_2022-2-25_8_clean.csv',\n",
       " 'H:\\\\课程\\\\毕业论文\\\\cleaned2\\\\tweet_ids_day_2022-2-26_1_clean.csv',\n",
       " 'H:\\\\课程\\\\毕业论文\\\\cleaned2\\\\tweet_ids_day_2022-2-26_2_clean.csv',\n",
       " 'H:\\\\课程\\\\毕业论文\\\\cleaned2\\\\tweet_ids_day_2022-2-26_3_clean.csv',\n",
       " 'H:\\\\课程\\\\毕业论文\\\\cleaned2\\\\tweet_ids_day_2022-2-26_4_clean.csv',\n",
       " 'H:\\\\课程\\\\毕业论文\\\\cleaned2\\\\tweet_ids_day_2022-2-26_5_clean.csv',\n",
       " 'H:\\\\课程\\\\毕业论文\\\\cleaned2\\\\tweet_ids_day_2022-2-26_6_clean.csv',\n",
       " 'H:\\\\课程\\\\毕业论文\\\\cleaned2\\\\tweet_ids_day_2022-2-26_7_clean.csv',\n",
       " 'H:\\\\课程\\\\毕业论文\\\\cleaned2\\\\tweet_ids_day_2022-2-26_8_clean.csv',\n",
       " 'H:\\\\课程\\\\毕业论文\\\\cleaned2\\\\tweet_ids_day_2022-2-26_9_clean.csv',\n",
       " 'H:\\\\课程\\\\毕业论文\\\\cleaned2\\\\tweet_ids_day_2022-2-27_1_clean.csv',\n",
       " 'H:\\\\课程\\\\毕业论文\\\\cleaned2\\\\tweet_ids_day_2022-2-27_2_clean.csv',\n",
       " 'H:\\\\课程\\\\毕业论文\\\\cleaned2\\\\tweet_ids_day_2022-2-27_3_clean.csv',\n",
       " 'H:\\\\课程\\\\毕业论文\\\\cleaned2\\\\tweet_ids_day_2022-2-27_4_clean.csv',\n",
       " 'H:\\\\课程\\\\毕业论文\\\\cleaned2\\\\tweet_ids_day_2022-2-27_5_clean.csv',\n",
       " 'H:\\\\课程\\\\毕业论文\\\\cleaned2\\\\tweet_ids_day_2022-2-27_6_clean.csv',\n",
       " 'H:\\\\课程\\\\毕业论文\\\\cleaned2\\\\tweet_ids_day_2022-2-27_7_clean.csv',\n",
       " 'H:\\\\课程\\\\毕业论文\\\\cleaned2\\\\tweet_ids_day_2022-2-27_8_clean.csv',\n",
       " 'H:\\\\课程\\\\毕业论文\\\\cleaned2\\\\tweet_ids_day_2022-2-28_1_clean.csv',\n",
       " 'H:\\\\课程\\\\毕业论文\\\\cleaned2\\\\tweet_ids_day_2022-2-28_2_clean.csv',\n",
       " 'H:\\\\课程\\\\毕业论文\\\\cleaned2\\\\tweet_ids_day_2022-2-28_3_clean.csv',\n",
       " 'H:\\\\课程\\\\毕业论文\\\\cleaned2\\\\tweet_ids_day_2022-2-28_4_clean.csv',\n",
       " 'H:\\\\课程\\\\毕业论文\\\\cleaned2\\\\tweet_ids_day_2022-2-28_5_clean.csv',\n",
       " 'H:\\\\课程\\\\毕业论文\\\\cleaned2\\\\tweet_ids_day_2022-2-28_6_clean.csv',\n",
       " 'H:\\\\课程\\\\毕业论文\\\\cleaned2\\\\tweet_ids_day_2022-2-28_7_clean.csv',\n",
       " 'H:\\\\课程\\\\毕业论文\\\\cleaned2\\\\tweet_ids_day_2022-3-1_1_clean.csv',\n",
       " 'H:\\\\课程\\\\毕业论文\\\\cleaned2\\\\tweet_ids_day_2022-3-1_2_clean.csv',\n",
       " 'H:\\\\课程\\\\毕业论文\\\\cleaned2\\\\tweet_ids_day_2022-3-1_3_clean.csv',\n",
       " 'H:\\\\课程\\\\毕业论文\\\\cleaned2\\\\tweet_ids_day_2022-3-1_4_clean.csv',\n",
       " 'H:\\\\课程\\\\毕业论文\\\\cleaned2\\\\tweet_ids_day_2022-3-1_5_clean.csv',\n",
       " 'H:\\\\课程\\\\毕业论文\\\\cleaned2\\\\tweet_ids_day_2022-3-1_6_clean.csv',\n",
       " 'H:\\\\课程\\\\毕业论文\\\\cleaned2\\\\tweet_ids_day_2022-3-1_7_clean.csv',\n",
       " 'H:\\\\课程\\\\毕业论文\\\\cleaned2\\\\tweet_ids_day_2022-3-10_1_clean.csv',\n",
       " 'H:\\\\课程\\\\毕业论文\\\\cleaned2\\\\tweet_ids_day_2022-3-10_2_clean.csv',\n",
       " 'H:\\\\课程\\\\毕业论文\\\\cleaned2\\\\tweet_ids_day_2022-3-10_3_clean.csv',\n",
       " 'H:\\\\课程\\\\毕业论文\\\\cleaned2\\\\tweet_ids_day_2022-3-11_1_clean.csv',\n",
       " 'H:\\\\课程\\\\毕业论文\\\\cleaned2\\\\tweet_ids_day_2022-3-11_2_clean.csv',\n",
       " 'H:\\\\课程\\\\毕业论文\\\\cleaned2\\\\tweet_ids_day_2022-3-11_3_clean.csv',\n",
       " 'H:\\\\课程\\\\毕业论文\\\\cleaned2\\\\tweet_ids_day_2022-3-12_1_clean.csv',\n",
       " 'H:\\\\课程\\\\毕业论文\\\\cleaned2\\\\tweet_ids_day_2022-3-12_2_clean.csv',\n",
       " 'H:\\\\课程\\\\毕业论文\\\\cleaned2\\\\tweet_ids_day_2022-3-12_3_clean.csv',\n",
       " 'H:\\\\课程\\\\毕业论文\\\\cleaned2\\\\tweet_ids_day_2022-3-13_1_clean.csv',\n",
       " 'H:\\\\课程\\\\毕业论文\\\\cleaned2\\\\tweet_ids_day_2022-3-13_2_clean.csv',\n",
       " 'H:\\\\课程\\\\毕业论文\\\\cleaned2\\\\tweet_ids_day_2022-3-13_3_clean.csv',\n",
       " 'H:\\\\课程\\\\毕业论文\\\\cleaned2\\\\tweet_ids_day_2022-3-14_1_clean.csv',\n",
       " 'H:\\\\课程\\\\毕业论文\\\\cleaned2\\\\tweet_ids_day_2022-3-14_2_clean.csv',\n",
       " 'H:\\\\课程\\\\毕业论文\\\\cleaned2\\\\tweet_ids_day_2022-3-15_1_clean.csv',\n",
       " 'H:\\\\课程\\\\毕业论文\\\\cleaned2\\\\tweet_ids_day_2022-3-15_2_clean.csv',\n",
       " 'H:\\\\课程\\\\毕业论文\\\\cleaned2\\\\tweet_ids_day_2022-3-16_1_clean.csv',\n",
       " 'H:\\\\课程\\\\毕业论文\\\\cleaned2\\\\tweet_ids_day_2022-3-16_2_clean.csv',\n",
       " 'H:\\\\课程\\\\毕业论文\\\\cleaned2\\\\tweet_ids_day_2022-3-17_clean.csv',\n",
       " 'H:\\\\课程\\\\毕业论文\\\\cleaned2\\\\tweet_ids_day_2022-3-18_clean.csv',\n",
       " 'H:\\\\课程\\\\毕业论文\\\\cleaned2\\\\tweet_ids_day_2022-3-19_clean.csv',\n",
       " 'H:\\\\课程\\\\毕业论文\\\\cleaned2\\\\tweet_ids_day_2022-3-2_1_clean.csv',\n",
       " 'H:\\\\课程\\\\毕业论文\\\\cleaned2\\\\tweet_ids_day_2022-3-2_2_clean.csv',\n",
       " 'H:\\\\课程\\\\毕业论文\\\\cleaned2\\\\tweet_ids_day_2022-3-2_3_clean.csv',\n",
       " 'H:\\\\课程\\\\毕业论文\\\\cleaned2\\\\tweet_ids_day_2022-3-2_4_clean.csv',\n",
       " 'H:\\\\课程\\\\毕业论文\\\\cleaned2\\\\tweet_ids_day_2022-3-2_5_clean.csv',\n",
       " 'H:\\\\课程\\\\毕业论文\\\\cleaned2\\\\tweet_ids_day_2022-3-2_6_clean.csv',\n",
       " 'H:\\\\课程\\\\毕业论文\\\\cleaned2\\\\tweet_ids_day_2022-3-20_clean.csv',\n",
       " 'H:\\\\课程\\\\毕业论文\\\\cleaned2\\\\tweet_ids_day_2022-3-21_clean.csv',\n",
       " 'H:\\\\课程\\\\毕业论文\\\\cleaned2\\\\tweet_ids_day_2022-3-22_clean.csv',\n",
       " 'H:\\\\课程\\\\毕业论文\\\\cleaned2\\\\tweet_ids_day_2022-3-23_clean.csv',\n",
       " 'H:\\\\课程\\\\毕业论文\\\\cleaned2\\\\tweet_ids_day_2022-3-24_clean.csv',\n",
       " 'H:\\\\课程\\\\毕业论文\\\\cleaned2\\\\tweet_ids_day_2022-3-25_1_clean.csv',\n",
       " 'H:\\\\课程\\\\毕业论文\\\\cleaned2\\\\tweet_ids_day_2022-3-25_2_clean.csv',\n",
       " 'H:\\\\课程\\\\毕业论文\\\\cleaned2\\\\tweet_ids_day_2022-3-26_1_clean.csv',\n",
       " 'H:\\\\课程\\\\毕业论文\\\\cleaned2\\\\tweet_ids_day_2022-3-26_2_clean.csv',\n",
       " 'H:\\\\课程\\\\毕业论文\\\\cleaned2\\\\tweet_ids_day_2022-3-27_1_clean.csv',\n",
       " 'H:\\\\课程\\\\毕业论文\\\\cleaned2\\\\tweet_ids_day_2022-3-27_2_clean.csv',\n",
       " 'H:\\\\课程\\\\毕业论文\\\\cleaned2\\\\tweet_ids_day_2022-3-28_1_clean.csv',\n",
       " 'H:\\\\课程\\\\毕业论文\\\\cleaned2\\\\tweet_ids_day_2022-3-29_1_clean.csv',\n",
       " 'H:\\\\课程\\\\毕业论文\\\\cleaned2\\\\tweet_ids_day_2022-3-3_1_clean.csv',\n",
       " 'H:\\\\课程\\\\毕业论文\\\\cleaned2\\\\tweet_ids_day_2022-3-3_2_clean.csv',\n",
       " 'H:\\\\课程\\\\毕业论文\\\\cleaned2\\\\tweet_ids_day_2022-3-3_3_clean.csv',\n",
       " 'H:\\\\课程\\\\毕业论文\\\\cleaned2\\\\tweet_ids_day_2022-3-3_4_clean.csv',\n",
       " 'H:\\\\课程\\\\毕业论文\\\\cleaned2\\\\tweet_ids_day_2022-3-3_5_clean.csv',\n",
       " 'H:\\\\课程\\\\毕业论文\\\\cleaned2\\\\tweet_ids_day_2022-3-3_6_clean.csv',\n",
       " 'H:\\\\课程\\\\毕业论文\\\\cleaned2\\\\tweet_ids_day_2022-3-30_1_clean.csv',\n",
       " 'H:\\\\课程\\\\毕业论文\\\\cleaned2\\\\tweet_ids_day_2022-3-31_1_clean.csv',\n",
       " 'H:\\\\课程\\\\毕业论文\\\\cleaned2\\\\tweet_ids_day_2022-3-4_1_clean.csv',\n",
       " 'H:\\\\课程\\\\毕业论文\\\\cleaned2\\\\tweet_ids_day_2022-3-4_2_clean.csv',\n",
       " 'H:\\\\课程\\\\毕业论文\\\\cleaned2\\\\tweet_ids_day_2022-3-4_3_clean.csv',\n",
       " 'H:\\\\课程\\\\毕业论文\\\\cleaned2\\\\tweet_ids_day_2022-3-4_4_clean.csv',\n",
       " 'H:\\\\课程\\\\毕业论文\\\\cleaned2\\\\tweet_ids_day_2022-3-4_5_clean.csv',\n",
       " 'H:\\\\课程\\\\毕业论文\\\\cleaned2\\\\tweet_ids_day_2022-3-5_1_clean.csv',\n",
       " 'H:\\\\课程\\\\毕业论文\\\\cleaned2\\\\tweet_ids_day_2022-3-5_2_clean.csv',\n",
       " 'H:\\\\课程\\\\毕业论文\\\\cleaned2\\\\tweet_ids_day_2022-3-5_3_clean.csv',\n",
       " 'H:\\\\课程\\\\毕业论文\\\\cleaned2\\\\tweet_ids_day_2022-3-5_4_clean.csv',\n",
       " 'H:\\\\课程\\\\毕业论文\\\\cleaned2\\\\tweet_ids_day_2022-3-6_1_clean.csv',\n",
       " 'H:\\\\课程\\\\毕业论文\\\\cleaned2\\\\tweet_ids_day_2022-3-6_2_clean.csv',\n",
       " 'H:\\\\课程\\\\毕业论文\\\\cleaned2\\\\tweet_ids_day_2022-3-6_3_clean.csv',\n",
       " 'H:\\\\课程\\\\毕业论文\\\\cleaned2\\\\tweet_ids_day_2022-3-6_4_clean.csv',\n",
       " 'H:\\\\课程\\\\毕业论文\\\\cleaned2\\\\tweet_ids_day_2022-3-7_1_clean.csv',\n",
       " 'H:\\\\课程\\\\毕业论文\\\\cleaned2\\\\tweet_ids_day_2022-3-7_2_clean.csv',\n",
       " 'H:\\\\课程\\\\毕业论文\\\\cleaned2\\\\tweet_ids_day_2022-3-7_3_clean.csv',\n",
       " 'H:\\\\课程\\\\毕业论文\\\\cleaned2\\\\tweet_ids_day_2022-3-7_4_clean.csv',\n",
       " 'H:\\\\课程\\\\毕业论文\\\\cleaned2\\\\tweet_ids_day_2022-3-8_1_clean.csv',\n",
       " 'H:\\\\课程\\\\毕业论文\\\\cleaned2\\\\tweet_ids_day_2022-3-8_2_clean.csv',\n",
       " 'H:\\\\课程\\\\毕业论文\\\\cleaned2\\\\tweet_ids_day_2022-3-8_3_clean.csv',\n",
       " 'H:\\\\课程\\\\毕业论文\\\\cleaned2\\\\tweet_ids_day_2022-3-9_1_clean.csv',\n",
       " 'H:\\\\课程\\\\毕业论文\\\\cleaned2\\\\tweet_ids_day_2022-3-9_2_clean.csv',\n",
       " 'H:\\\\课程\\\\毕业论文\\\\cleaned2\\\\tweet_ids_day_2022-3-9_3_clean.csv']"
      ]
     },
     "execution_count": 23,
     "metadata": {},
     "output_type": "execute_result"
    }
   ],
   "source": [
    "newnames"
   ]
  },
  {
   "cell_type": "code",
   "execution_count": 25,
   "id": "2e6e2b6a",
   "metadata": {
    "ExecuteTime": {
     "end_time": "2023-02-20T02:46:41.888785Z",
     "start_time": "2023-02-20T02:46:41.799733Z"
    }
   },
   "outputs": [],
   "source": [
    "for i in range(len(oldnames)):\n",
    "    os.rename(oldnames[i],newnames[i])"
   ]
  },
  {
   "cell_type": "code",
   "execution_count": null,
   "id": "1d07030e",
   "metadata": {},
   "outputs": [],
   "source": []
  }
 ],
 "metadata": {
  "kernelspec": {
   "display_name": "Python 3 (ipykernel)",
   "language": "python",
   "name": "python3"
  },
  "language_info": {
   "codemirror_mode": {
    "name": "ipython",
    "version": 3
   },
   "file_extension": ".py",
   "mimetype": "text/x-python",
   "name": "python",
   "nbconvert_exporter": "python",
   "pygments_lexer": "ipython3",
   "version": "3.8.13"
  },
  "varInspector": {
   "cols": {
    "lenName": 16,
    "lenType": 16,
    "lenVar": 40
   },
   "kernels_config": {
    "python": {
     "delete_cmd_postfix": "",
     "delete_cmd_prefix": "del ",
     "library": "var_list.py",
     "varRefreshCmd": "print(var_dic_list())"
    },
    "r": {
     "delete_cmd_postfix": ") ",
     "delete_cmd_prefix": "rm(",
     "library": "var_list.r",
     "varRefreshCmd": "cat(var_dic_list()) "
    }
   },
   "types_to_exclude": [
    "module",
    "function",
    "builtin_function_or_method",
    "instance",
    "_Feature"
   ],
   "window_display": false
  }
 },
 "nbformat": 4,
 "nbformat_minor": 5
}
