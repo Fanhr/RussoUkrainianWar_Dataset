{
 "cells": [
  {
   "cell_type": "code",
   "execution_count": 2,
   "id": "3903eb90",
   "metadata": {
    "ExecuteTime": {
     "end_time": "2023-03-29T08:13:32.656289Z",
     "start_time": "2023-03-29T08:13:29.905918Z"
    }
   },
   "outputs": [],
   "source": [
    "import pandas as pd\n",
    "import numpy as np\n",
    "import matplotlib.pyplot as plt\n",
    "import seaborn as sns\n",
    "import os"
   ]
  },
  {
   "cell_type": "code",
   "execution_count": 42,
   "id": "8bfb234b",
   "metadata": {
    "ExecuteTime": {
     "end_time": "2023-03-29T08:45:37.496679Z",
     "start_time": "2023-03-29T08:44:31.718373Z"
    }
   },
   "outputs": [
    {
     "name": "stderr",
     "output_type": "stream",
     "text": [
      "C:\\Windows\\Temp\\ipykernel_8112\\2140576529.py:1: DtypeWarning: Columns (37,38,39,40,41) have mixed types. Specify dtype option on import or set low_memory=False.\n",
      "  df = pd.read_csv('active_User_per_30_days.csv')\n"
     ]
    }
   ],
   "source": [
    "df = pd.read_csv('active_User_per_30_days.csv')"
   ]
  },
  {
   "cell_type": "code",
   "execution_count": 43,
   "id": "eafaad8d",
   "metadata": {
    "ExecuteTime": {
     "end_time": "2023-03-29T08:46:25.379994Z",
     "start_time": "2023-03-29T08:46:25.344967Z"
    }
   },
   "outputs": [
    {
     "data": {
      "text/html": [
       "<div>\n",
       "<style scoped>\n",
       "    .dataframe tbody tr th:only-of-type {\n",
       "        vertical-align: middle;\n",
       "    }\n",
       "\n",
       "    .dataframe tbody tr th {\n",
       "        vertical-align: top;\n",
       "    }\n",
       "\n",
       "    .dataframe thead th {\n",
       "        text-align: right;\n",
       "    }\n",
       "</style>\n",
       "<table border=\"1\" class=\"dataframe\">\n",
       "  <thead>\n",
       "    <tr style=\"text-align: right;\">\n",
       "      <th></th>\n",
       "      <th>Unnamed: 0.2</th>\n",
       "      <th>Unnamed: 0.1</th>\n",
       "      <th>Datetime</th>\n",
       "      <th>Tweet_id</th>\n",
       "      <th>Tweet_content</th>\n",
       "      <th>Tweet_reply_count</th>\n",
       "      <th>Tweet_retweet_count</th>\n",
       "      <th>Tweet_like_count</th>\n",
       "      <th>Tweet_quote_count</th>\n",
       "      <th>Tweet_language</th>\n",
       "      <th>...</th>\n",
       "      <th>authority_cat</th>\n",
       "      <th>care_cat</th>\n",
       "      <th>fairness_cat</th>\n",
       "      <th>purity_cat</th>\n",
       "      <th>loyalty_cat</th>\n",
       "      <th>7day_cut</th>\n",
       "      <th>14day_cut</th>\n",
       "      <th>30day_cut</th>\n",
       "      <th>60day_cut</th>\n",
       "      <th>90day_cut</th>\n",
       "    </tr>\n",
       "  </thead>\n",
       "  <tbody>\n",
       "    <tr>\n",
       "      <th>0</th>\n",
       "      <td>6</td>\n",
       "      <td>6</td>\n",
       "      <td>2022-02-22</td>\n",
       "      <td>1496098801152512002</td>\n",
       "      <td>putins war   ukraine russia crisis  ukraina  ...</td>\n",
       "      <td>0</td>\n",
       "      <td>0</td>\n",
       "      <td>1</td>\n",
       "      <td>0</td>\n",
       "      <td>en</td>\n",
       "      <td>...</td>\n",
       "      <td>Non</td>\n",
       "      <td>Harm</td>\n",
       "      <td>Non</td>\n",
       "      <td>Non</td>\n",
       "      <td>Non</td>\n",
       "      <td>[2022-02-22, 2022-03-01)</td>\n",
       "      <td>[2022-02-22, 2022-03-08)</td>\n",
       "      <td>[2022-02-22, 2022-03-24)</td>\n",
       "      <td>[2022-02-22, 2022-04-23)</td>\n",
       "      <td>[2022-02-22, 2022-05-23)</td>\n",
       "    </tr>\n",
       "    <tr>\n",
       "      <th>1</th>\n",
       "      <td>7</td>\n",
       "      <td>7</td>\n",
       "      <td>2022-02-22</td>\n",
       "      <td>1496099780912881665</td>\n",
       "      <td>Proud moment for  indiaTwo young shining stars...</td>\n",
       "      <td>0</td>\n",
       "      <td>0</td>\n",
       "      <td>1</td>\n",
       "      <td>0</td>\n",
       "      <td>en</td>\n",
       "      <td>...</td>\n",
       "      <td>Non</td>\n",
       "      <td>Care</td>\n",
       "      <td>Non</td>\n",
       "      <td>Non</td>\n",
       "      <td>Non</td>\n",
       "      <td>[2022-02-22, 2022-03-01)</td>\n",
       "      <td>[2022-02-22, 2022-03-08)</td>\n",
       "      <td>[2022-02-22, 2022-03-24)</td>\n",
       "      <td>[2022-02-22, 2022-04-23)</td>\n",
       "      <td>[2022-02-22, 2022-05-23)</td>\n",
       "    </tr>\n",
       "    <tr>\n",
       "      <th>2</th>\n",
       "      <td>12</td>\n",
       "      <td>12</td>\n",
       "      <td>2022-02-22</td>\n",
       "      <td>1496103001903501319</td>\n",
       "      <td>Russia vs Ukraine War Update: Germany halts No...</td>\n",
       "      <td>1</td>\n",
       "      <td>0</td>\n",
       "      <td>1</td>\n",
       "      <td>0</td>\n",
       "      <td>en</td>\n",
       "      <td>...</td>\n",
       "      <td>Non</td>\n",
       "      <td>Harm</td>\n",
       "      <td>Non</td>\n",
       "      <td>Non</td>\n",
       "      <td>Non</td>\n",
       "      <td>[2022-02-22, 2022-03-01)</td>\n",
       "      <td>[2022-02-22, 2022-03-08)</td>\n",
       "      <td>[2022-02-22, 2022-03-24)</td>\n",
       "      <td>[2022-02-22, 2022-04-23)</td>\n",
       "      <td>[2022-02-22, 2022-05-23)</td>\n",
       "    </tr>\n",
       "    <tr>\n",
       "      <th>3</th>\n",
       "      <td>26</td>\n",
       "      <td>26</td>\n",
       "      <td>2022-02-22</td>\n",
       "      <td>1496107122718695424</td>\n",
       "      <td>putins war :Interesting details on other terr...</td>\n",
       "      <td>0</td>\n",
       "      <td>0</td>\n",
       "      <td>1</td>\n",
       "      <td>0</td>\n",
       "      <td>en</td>\n",
       "      <td>...</td>\n",
       "      <td>Non</td>\n",
       "      <td>Harm</td>\n",
       "      <td>Non</td>\n",
       "      <td>Non</td>\n",
       "      <td>Non</td>\n",
       "      <td>[2022-02-22, 2022-03-01)</td>\n",
       "      <td>[2022-02-22, 2022-03-08)</td>\n",
       "      <td>[2022-02-22, 2022-03-24)</td>\n",
       "      <td>[2022-02-22, 2022-04-23)</td>\n",
       "      <td>[2022-02-22, 2022-05-23)</td>\n",
       "    </tr>\n",
       "    <tr>\n",
       "      <th>4</th>\n",
       "      <td>27</td>\n",
       "      <td>27</td>\n",
       "      <td>2022-02-22</td>\n",
       "      <td>1496107229929476105</td>\n",
       "      <td>criminals in  russia,  iran, syria!are the w...</td>\n",
       "      <td>0</td>\n",
       "      <td>0</td>\n",
       "      <td>3</td>\n",
       "      <td>0</td>\n",
       "      <td>en</td>\n",
       "      <td>...</td>\n",
       "      <td>Non</td>\n",
       "      <td>Non</td>\n",
       "      <td>Non</td>\n",
       "      <td>Degradation</td>\n",
       "      <td>Mixed</td>\n",
       "      <td>[2022-02-22, 2022-03-01)</td>\n",
       "      <td>[2022-02-22, 2022-03-08)</td>\n",
       "      <td>[2022-02-22, 2022-03-24)</td>\n",
       "      <td>[2022-02-22, 2022-04-23)</td>\n",
       "      <td>[2022-02-22, 2022-05-23)</td>\n",
       "    </tr>\n",
       "  </tbody>\n",
       "</table>\n",
       "<p>5 rows × 42 columns</p>\n",
       "</div>"
      ],
      "text/plain": [
       "   Unnamed: 0.2  Unnamed: 0.1    Datetime             Tweet_id  \\\n",
       "0             6             6  2022-02-22  1496098801152512002   \n",
       "1             7             7  2022-02-22  1496099780912881665   \n",
       "2            12            12  2022-02-22  1496103001903501319   \n",
       "3            26            26  2022-02-22  1496107122718695424   \n",
       "4            27            27  2022-02-22  1496107229929476105   \n",
       "\n",
       "                                       Tweet_content  Tweet_reply_count  \\\n",
       "0   putins war   ukraine russia crisis  ukraina  ...                  0   \n",
       "1  Proud moment for  indiaTwo young shining stars...                  0   \n",
       "2  Russia vs Ukraine War Update: Germany halts No...                  1   \n",
       "3   putins war :Interesting details on other terr...                  0   \n",
       "4    criminals in  russia,  iran, syria!are the w...                  0   \n",
       "\n",
       "   Tweet_retweet_count  Tweet_like_count  Tweet_quote_count Tweet_language  \\\n",
       "0                    0                 1                  0             en   \n",
       "1                    0                 1                  0             en   \n",
       "2                    0                 1                  0             en   \n",
       "3                    0                 1                  0             en   \n",
       "4                    0                 3                  0             en   \n",
       "\n",
       "   ... authority_cat care_cat fairness_cat   purity_cat  loyalty_cat  \\\n",
       "0  ...           Non     Harm          Non          Non          Non   \n",
       "1  ...           Non     Care          Non          Non          Non   \n",
       "2  ...           Non     Harm          Non          Non          Non   \n",
       "3  ...           Non     Harm          Non          Non          Non   \n",
       "4  ...           Non      Non          Non  Degradation        Mixed   \n",
       "\n",
       "                   7day_cut                 14day_cut  \\\n",
       "0  [2022-02-22, 2022-03-01)  [2022-02-22, 2022-03-08)   \n",
       "1  [2022-02-22, 2022-03-01)  [2022-02-22, 2022-03-08)   \n",
       "2  [2022-02-22, 2022-03-01)  [2022-02-22, 2022-03-08)   \n",
       "3  [2022-02-22, 2022-03-01)  [2022-02-22, 2022-03-08)   \n",
       "4  [2022-02-22, 2022-03-01)  [2022-02-22, 2022-03-08)   \n",
       "\n",
       "                  30day_cut                 60day_cut  \\\n",
       "0  [2022-02-22, 2022-03-24)  [2022-02-22, 2022-04-23)   \n",
       "1  [2022-02-22, 2022-03-24)  [2022-02-22, 2022-04-23)   \n",
       "2  [2022-02-22, 2022-03-24)  [2022-02-22, 2022-04-23)   \n",
       "3  [2022-02-22, 2022-03-24)  [2022-02-22, 2022-04-23)   \n",
       "4  [2022-02-22, 2022-03-24)  [2022-02-22, 2022-04-23)   \n",
       "\n",
       "                  90day_cut  \n",
       "0  [2022-02-22, 2022-05-23)  \n",
       "1  [2022-02-22, 2022-05-23)  \n",
       "2  [2022-02-22, 2022-05-23)  \n",
       "3  [2022-02-22, 2022-05-23)  \n",
       "4  [2022-02-22, 2022-05-23)  \n",
       "\n",
       "[5 rows x 42 columns]"
      ]
     },
     "execution_count": 43,
     "metadata": {},
     "output_type": "execute_result"
    }
   ],
   "source": [
    "df.head()"
   ]
  },
  {
   "cell_type": "code",
   "execution_count": 44,
   "id": "fcdd613f",
   "metadata": {
    "ExecuteTime": {
     "end_time": "2023-03-29T08:46:28.725092Z",
     "start_time": "2023-03-29T08:46:28.703052Z"
    }
   },
   "outputs": [
    {
     "data": {
      "text/plain": [
       "Index(['Unnamed: 0.2', 'Unnamed: 0.1', 'Datetime', 'Tweet_id', 'Tweet_content',\n",
       "       'Tweet_reply_count', 'Tweet_retweet_count', 'Tweet_like_count',\n",
       "       'Tweet_quote_count', 'Tweet_language', 'Tweet_place', 'Tweet_hashtags',\n",
       "       'Username', 'User_id', 'User_followers_count', 'User_friends_count',\n",
       "       'User_statuses_count', 'User_favourites_count', 'User_listed_count',\n",
       "       'User_media_count', 'User_location', 'Tweet_isRT', 'results', 'hateful',\n",
       "       'aggressive', 'HorA', 'care', 'fairness', 'loyalty', 'authority',\n",
       "       'purity', 'Unnamed: 0', 'authority_cat', 'care_cat', 'fairness_cat',\n",
       "       'purity_cat', 'loyalty_cat', '7day_cut', '14day_cut', '30day_cut',\n",
       "       '60day_cut', '90day_cut'],\n",
       "      dtype='object')"
      ]
     },
     "execution_count": 44,
     "metadata": {},
     "output_type": "execute_result"
    }
   ],
   "source": [
    "df.columns"
   ]
  },
  {
   "cell_type": "code",
   "execution_count": 45,
   "id": "12462995",
   "metadata": {
    "ExecuteTime": {
     "end_time": "2023-03-29T08:46:32.754452Z",
     "start_time": "2023-03-29T08:46:31.986008Z"
    }
   },
   "outputs": [],
   "source": [
    "df = df[['Datetime', 'Tweet_id', 'Tweet_content',\n",
    "       'Tweet_reply_count', 'Tweet_retweet_count', 'Tweet_like_count',\n",
    "       'Tweet_quote_count', 'Tweet_hashtags',\n",
    "       'Username', 'User_id', 'User_followers_count', 'User_friends_count',\n",
    "       'User_statuses_count', 'User_favourites_count', 'User_listed_count',\n",
    "       'User_media_count', 'HorA', 'care', 'fairness', 'loyalty', 'authority',\n",
    "       'purity','authority_cat', 'care_cat', 'fairness_cat',\n",
    "       'purity_cat', 'loyalty_cat','30day_cut']]"
   ]
  },
  {
   "cell_type": "code",
   "execution_count": 53,
   "id": "71189fa6",
   "metadata": {
    "ExecuteTime": {
     "end_time": "2023-03-29T08:49:53.303475Z",
     "start_time": "2023-03-29T08:49:53.260801Z"
    }
   },
   "outputs": [
    {
     "data": {
      "text/html": [
       "<div>\n",
       "<style scoped>\n",
       "    .dataframe tbody tr th:only-of-type {\n",
       "        vertical-align: middle;\n",
       "    }\n",
       "\n",
       "    .dataframe tbody tr th {\n",
       "        vertical-align: top;\n",
       "    }\n",
       "\n",
       "    .dataframe thead th {\n",
       "        text-align: right;\n",
       "    }\n",
       "</style>\n",
       "<table border=\"1\" class=\"dataframe\">\n",
       "  <thead>\n",
       "    <tr style=\"text-align: right;\">\n",
       "      <th></th>\n",
       "      <th>Datetime</th>\n",
       "      <th>Tweet_id</th>\n",
       "      <th>Tweet_content</th>\n",
       "      <th>Tweet_reply_count</th>\n",
       "      <th>Tweet_retweet_count</th>\n",
       "      <th>Tweet_like_count</th>\n",
       "      <th>Tweet_quote_count</th>\n",
       "      <th>Tweet_hashtags</th>\n",
       "      <th>Username</th>\n",
       "      <th>User_id</th>\n",
       "      <th>...</th>\n",
       "      <th>fairness</th>\n",
       "      <th>loyalty</th>\n",
       "      <th>authority</th>\n",
       "      <th>purity</th>\n",
       "      <th>authority_cat</th>\n",
       "      <th>care_cat</th>\n",
       "      <th>fairness_cat</th>\n",
       "      <th>purity_cat</th>\n",
       "      <th>loyalty_cat</th>\n",
       "      <th>30day_cut</th>\n",
       "    </tr>\n",
       "  </thead>\n",
       "  <tbody>\n",
       "    <tr>\n",
       "      <th>0</th>\n",
       "      <td>2022-02-22</td>\n",
       "      <td>1496098801152512002</td>\n",
       "      <td>putins war   ukraine russia crisis  ukraina  ...</td>\n",
       "      <td>0</td>\n",
       "      <td>0</td>\n",
       "      <td>1</td>\n",
       "      <td>0</td>\n",
       "      <td>['PutinsWar', 'UkraineRussiaCrisis', 'Ukraina'...</td>\n",
       "      <td>anyidea</td>\n",
       "      <td>23024287</td>\n",
       "      <td>...</td>\n",
       "      <td>0.0</td>\n",
       "      <td>0.00</td>\n",
       "      <td>0.0</td>\n",
       "      <td>0.0</td>\n",
       "      <td>Non</td>\n",
       "      <td>Harm</td>\n",
       "      <td>Non</td>\n",
       "      <td>Non</td>\n",
       "      <td>Non</td>\n",
       "      <td>[2022-02-22, 2022-03-24)</td>\n",
       "    </tr>\n",
       "    <tr>\n",
       "      <th>1</th>\n",
       "      <td>2022-02-22</td>\n",
       "      <td>1496099780912881665</td>\n",
       "      <td>Proud moment for  indiaTwo young shining stars...</td>\n",
       "      <td>0</td>\n",
       "      <td>0</td>\n",
       "      <td>1</td>\n",
       "      <td>0</td>\n",
       "      <td>['India', 'Kashmir', 'India', 'Dubai', 'COVID1...</td>\n",
       "      <td>AhmedFidous</td>\n",
       "      <td>1334012207286325249</td>\n",
       "      <td>...</td>\n",
       "      <td>0.0</td>\n",
       "      <td>0.00</td>\n",
       "      <td>0.0</td>\n",
       "      <td>0.0</td>\n",
       "      <td>Non</td>\n",
       "      <td>Care</td>\n",
       "      <td>Non</td>\n",
       "      <td>Non</td>\n",
       "      <td>Non</td>\n",
       "      <td>[2022-02-22, 2022-03-24)</td>\n",
       "    </tr>\n",
       "    <tr>\n",
       "      <th>2</th>\n",
       "      <td>2022-02-22</td>\n",
       "      <td>1496103001903501319</td>\n",
       "      <td>Russia vs Ukraine War Update: Germany halts No...</td>\n",
       "      <td>1</td>\n",
       "      <td>0</td>\n",
       "      <td>1</td>\n",
       "      <td>0</td>\n",
       "      <td>['Ukraine', 'UkraineRussiaCrisis', 'UkraineCon...</td>\n",
       "      <td>prime_scoop</td>\n",
       "      <td>1486283164846747649</td>\n",
       "      <td>...</td>\n",
       "      <td>0.0</td>\n",
       "      <td>0.00</td>\n",
       "      <td>0.0</td>\n",
       "      <td>0.0</td>\n",
       "      <td>Non</td>\n",
       "      <td>Harm</td>\n",
       "      <td>Non</td>\n",
       "      <td>Non</td>\n",
       "      <td>Non</td>\n",
       "      <td>[2022-02-22, 2022-03-24)</td>\n",
       "    </tr>\n",
       "    <tr>\n",
       "      <th>3</th>\n",
       "      <td>2022-02-22</td>\n",
       "      <td>1496107122718695424</td>\n",
       "      <td>putins war :Interesting details on other terr...</td>\n",
       "      <td>0</td>\n",
       "      <td>0</td>\n",
       "      <td>1</td>\n",
       "      <td>0</td>\n",
       "      <td>['PutinsWar', 'SatansSpeech', 'PutinSpeech', '...</td>\n",
       "      <td>anyidea</td>\n",
       "      <td>23024287</td>\n",
       "      <td>...</td>\n",
       "      <td>0.0</td>\n",
       "      <td>0.00</td>\n",
       "      <td>0.0</td>\n",
       "      <td>0.0</td>\n",
       "      <td>Non</td>\n",
       "      <td>Harm</td>\n",
       "      <td>Non</td>\n",
       "      <td>Non</td>\n",
       "      <td>Non</td>\n",
       "      <td>[2022-02-22, 2022-03-24)</td>\n",
       "    </tr>\n",
       "    <tr>\n",
       "      <th>4</th>\n",
       "      <td>2022-02-22</td>\n",
       "      <td>1496107229929476105</td>\n",
       "      <td>criminals in  russia,  iran, syria!are the w...</td>\n",
       "      <td>0</td>\n",
       "      <td>0</td>\n",
       "      <td>3</td>\n",
       "      <td>0</td>\n",
       "      <td>['criminals', 'Russia', 'Iran', 'Syria', 'Cowa...</td>\n",
       "      <td>Basel_Saneeb</td>\n",
       "      <td>1588526876</td>\n",
       "      <td>...</td>\n",
       "      <td>0.0</td>\n",
       "      <td>3.25</td>\n",
       "      <td>0.0</td>\n",
       "      <td>3.0</td>\n",
       "      <td>Non</td>\n",
       "      <td>Non</td>\n",
       "      <td>Non</td>\n",
       "      <td>Degradation</td>\n",
       "      <td>Mixed</td>\n",
       "      <td>[2022-02-22, 2022-03-24)</td>\n",
       "    </tr>\n",
       "  </tbody>\n",
       "</table>\n",
       "<p>5 rows × 28 columns</p>\n",
       "</div>"
      ],
      "text/plain": [
       "     Datetime             Tweet_id  \\\n",
       "0  2022-02-22  1496098801152512002   \n",
       "1  2022-02-22  1496099780912881665   \n",
       "2  2022-02-22  1496103001903501319   \n",
       "3  2022-02-22  1496107122718695424   \n",
       "4  2022-02-22  1496107229929476105   \n",
       "\n",
       "                                       Tweet_content  Tweet_reply_count  \\\n",
       "0   putins war   ukraine russia crisis  ukraina  ...                  0   \n",
       "1  Proud moment for  indiaTwo young shining stars...                  0   \n",
       "2  Russia vs Ukraine War Update: Germany halts No...                  1   \n",
       "3   putins war :Interesting details on other terr...                  0   \n",
       "4    criminals in  russia,  iran, syria!are the w...                  0   \n",
       "\n",
       "   Tweet_retweet_count  Tweet_like_count  Tweet_quote_count  \\\n",
       "0                    0                 1                  0   \n",
       "1                    0                 1                  0   \n",
       "2                    0                 1                  0   \n",
       "3                    0                 1                  0   \n",
       "4                    0                 3                  0   \n",
       "\n",
       "                                      Tweet_hashtags      Username  \\\n",
       "0  ['PutinsWar', 'UkraineRussiaCrisis', 'Ukraina'...       anyidea   \n",
       "1  ['India', 'Kashmir', 'India', 'Dubai', 'COVID1...   AhmedFidous   \n",
       "2  ['Ukraine', 'UkraineRussiaCrisis', 'UkraineCon...   prime_scoop   \n",
       "3  ['PutinsWar', 'SatansSpeech', 'PutinSpeech', '...       anyidea   \n",
       "4  ['criminals', 'Russia', 'Iran', 'Syria', 'Cowa...  Basel_Saneeb   \n",
       "\n",
       "               User_id  ...  fairness  loyalty  authority  purity  \\\n",
       "0             23024287  ...       0.0     0.00        0.0     0.0   \n",
       "1  1334012207286325249  ...       0.0     0.00        0.0     0.0   \n",
       "2  1486283164846747649  ...       0.0     0.00        0.0     0.0   \n",
       "3             23024287  ...       0.0     0.00        0.0     0.0   \n",
       "4           1588526876  ...       0.0     3.25        0.0     3.0   \n",
       "\n",
       "   authority_cat  care_cat  fairness_cat   purity_cat  loyalty_cat  \\\n",
       "0            Non      Harm           Non          Non          Non   \n",
       "1            Non      Care           Non          Non          Non   \n",
       "2            Non      Harm           Non          Non          Non   \n",
       "3            Non      Harm           Non          Non          Non   \n",
       "4            Non       Non           Non  Degradation        Mixed   \n",
       "\n",
       "                  30day_cut  \n",
       "0  [2022-02-22, 2022-03-24)  \n",
       "1  [2022-02-22, 2022-03-24)  \n",
       "2  [2022-02-22, 2022-03-24)  \n",
       "3  [2022-02-22, 2022-03-24)  \n",
       "4  [2022-02-22, 2022-03-24)  \n",
       "\n",
       "[5 rows x 28 columns]"
      ]
     },
     "execution_count": 53,
     "metadata": {},
     "output_type": "execute_result"
    }
   ],
   "source": [
    "df.head()"
   ]
  },
  {
   "cell_type": "code",
   "execution_count": 60,
   "id": "3fc0da28",
   "metadata": {
    "ExecuteTime": {
     "end_time": "2023-03-29T08:53:24.095373Z",
     "start_time": "2023-03-29T08:53:23.810346Z"
    }
   },
   "outputs": [
    {
     "data": {
      "text/plain": [
       "[2022-02-22, 2022-03-24)    788454\n",
       "[2022-03-24, 2022-04-23)    511543\n",
       "[2022-04-23, 2022-05-23)    382645\n",
       "[2022-05-23, 2022-06-22)    285458\n",
       "[2022-06-22, 2022-07-22)    254926\n",
       "[2022-07-22, 2022-08-21)    232124\n",
       "[2022-08-21, 2022-09-10)    164647\n",
       "Name: 30day_cut, dtype: int64"
      ]
     },
     "execution_count": 60,
     "metadata": {},
     "output_type": "execute_result"
    }
   ],
   "source": [
    "df['30day_cut'].value_counts()"
   ]
  },
  {
   "cell_type": "code",
   "execution_count": 7,
   "id": "a7400547",
   "metadata": {
    "ExecuteTime": {
     "end_time": "2023-03-28T10:49:09.904198Z",
     "start_time": "2023-03-28T10:49:09.186068Z"
    }
   },
   "outputs": [
    {
     "data": {
      "text/html": [
       "<div>\n",
       "<style scoped>\n",
       "    .dataframe tbody tr th:only-of-type {\n",
       "        vertical-align: middle;\n",
       "    }\n",
       "\n",
       "    .dataframe tbody tr th {\n",
       "        vertical-align: top;\n",
       "    }\n",
       "\n",
       "    .dataframe thead th {\n",
       "        text-align: right;\n",
       "    }\n",
       "</style>\n",
       "<table border=\"1\" class=\"dataframe\">\n",
       "  <thead>\n",
       "    <tr style=\"text-align: right;\">\n",
       "      <th></th>\n",
       "      <th>Tweet_id</th>\n",
       "    </tr>\n",
       "    <tr>\n",
       "      <th>User_id</th>\n",
       "      <th></th>\n",
       "    </tr>\n",
       "  </thead>\n",
       "  <tbody>\n",
       "    <tr>\n",
       "      <th>29123084</th>\n",
       "      <td>34002</td>\n",
       "    </tr>\n",
       "    <tr>\n",
       "      <th>1499763123603050497</th>\n",
       "      <td>23260</td>\n",
       "    </tr>\n",
       "    <tr>\n",
       "      <th>88196314</th>\n",
       "      <td>20033</td>\n",
       "    </tr>\n",
       "    <tr>\n",
       "      <th>1452730505787551750</th>\n",
       "      <td>19374</td>\n",
       "    </tr>\n",
       "    <tr>\n",
       "      <th>21729540</th>\n",
       "      <td>14035</td>\n",
       "    </tr>\n",
       "    <tr>\n",
       "      <th>...</th>\n",
       "      <td>...</td>\n",
       "    </tr>\n",
       "    <tr>\n",
       "      <th>1327444965216153600</th>\n",
       "      <td>8</td>\n",
       "    </tr>\n",
       "    <tr>\n",
       "      <th>1430843665484820483</th>\n",
       "      <td>7</td>\n",
       "    </tr>\n",
       "    <tr>\n",
       "      <th>2462990324</th>\n",
       "      <td>7</td>\n",
       "    </tr>\n",
       "    <tr>\n",
       "      <th>837397087973179392</th>\n",
       "      <td>7</td>\n",
       "    </tr>\n",
       "    <tr>\n",
       "      <th>1439303151274897408</th>\n",
       "      <td>7</td>\n",
       "    </tr>\n",
       "  </tbody>\n",
       "</table>\n",
       "<p>13496 rows × 1 columns</p>\n",
       "</div>"
      ],
      "text/plain": [
       "                     Tweet_id\n",
       "User_id                      \n",
       "29123084                34002\n",
       "1499763123603050497     23260\n",
       "88196314                20033\n",
       "1452730505787551750     19374\n",
       "21729540                14035\n",
       "...                       ...\n",
       "1327444965216153600         8\n",
       "1430843665484820483         7\n",
       "2462990324                  7\n",
       "837397087973179392          7\n",
       "1439303151274897408         7\n",
       "\n",
       "[13496 rows x 1 columns]"
      ]
     },
     "execution_count": 7,
     "metadata": {},
     "output_type": "execute_result"
    }
   ],
   "source": [
    "df.pivot_table(index='User_id', values='Tweet_id', aggfunc=len).sort_values(by = 'Tweet_id', ascending=False)"
   ]
  },
  {
   "cell_type": "code",
   "execution_count": 8,
   "id": "5d3547ef",
   "metadata": {
    "ExecuteTime": {
     "end_time": "2023-03-28T10:49:12.214888Z",
     "start_time": "2023-03-28T10:49:10.873901Z"
    }
   },
   "outputs": [
    {
     "data": {
      "text/plain": [
       "<AxesSubplot:ylabel='Density'>"
      ]
     },
     "execution_count": 8,
     "metadata": {},
     "output_type": "execute_result"
    },
    {
     "data": {
      "image/png": "[encoded data removed]",
      "text/plain": [
       "<Figure size 640x480 with 1 Axes>"
      ]
     },
     "metadata": {},
     "output_type": "display_data"
    }
   ],
   "source": [
    "df.pivot_table(index='User_id', values='Tweet_id', aggfunc=len).sort_values(by = 'Tweet_id', ascending=False).plot.density()"
   ]
  },
  {
   "cell_type": "code",
   "execution_count": 9,
   "id": "8362a1b2",
   "metadata": {
    "ExecuteTime": {
     "end_time": "2023-03-28T10:49:14.112771Z",
     "start_time": "2023-03-28T10:49:13.812074Z"
    }
   },
   "outputs": [
    {
     "data": {
      "text/html": [
       "<div>\n",
       "<style scoped>\n",
       "    .dataframe tbody tr th:only-of-type {\n",
       "        vertical-align: middle;\n",
       "    }\n",
       "\n",
       "    .dataframe tbody tr th {\n",
       "        vertical-align: top;\n",
       "    }\n",
       "\n",
       "    .dataframe thead th {\n",
       "        text-align: right;\n",
       "    }\n",
       "</style>\n",
       "<table border=\"1\" class=\"dataframe\">\n",
       "  <thead>\n",
       "    <tr style=\"text-align: right;\">\n",
       "      <th></th>\n",
       "      <th>authority</th>\n",
       "      <th>care</th>\n",
       "      <th>fairness</th>\n",
       "      <th>loyalty</th>\n",
       "      <th>purity</th>\n",
       "    </tr>\n",
       "    <tr>\n",
       "      <th>User_id</th>\n",
       "      <th></th>\n",
       "      <th></th>\n",
       "      <th></th>\n",
       "      <th></th>\n",
       "      <th></th>\n",
       "    </tr>\n",
       "  </thead>\n",
       "  <tbody>\n",
       "    <tr>\n",
       "      <th>1112896007774371840</th>\n",
       "      <td>0.000000</td>\n",
       "      <td>8.600000</td>\n",
       "      <td>0.00</td>\n",
       "      <td>0.000000</td>\n",
       "      <td>0.000000</td>\n",
       "    </tr>\n",
       "    <tr>\n",
       "      <th>1108807484</th>\n",
       "      <td>0.000000</td>\n",
       "      <td>8.359204</td>\n",
       "      <td>0.00</td>\n",
       "      <td>0.059701</td>\n",
       "      <td>7.912313</td>\n",
       "    </tr>\n",
       "    <tr>\n",
       "      <th>115088543</th>\n",
       "      <td>0.000000</td>\n",
       "      <td>8.277193</td>\n",
       "      <td>0.00</td>\n",
       "      <td>8.000000</td>\n",
       "      <td>2.250000</td>\n",
       "    </tr>\n",
       "    <tr>\n",
       "      <th>117000756</th>\n",
       "      <td>0.200031</td>\n",
       "      <td>7.883411</td>\n",
       "      <td>0.00</td>\n",
       "      <td>7.909505</td>\n",
       "      <td>0.034315</td>\n",
       "    </tr>\n",
       "    <tr>\n",
       "      <th>2733323288</th>\n",
       "      <td>0.000000</td>\n",
       "      <td>7.800000</td>\n",
       "      <td>0.00</td>\n",
       "      <td>0.000000</td>\n",
       "      <td>0.000000</td>\n",
       "    </tr>\n",
       "    <tr>\n",
       "      <th>...</th>\n",
       "      <td>...</td>\n",
       "      <td>...</td>\n",
       "      <td>...</td>\n",
       "      <td>...</td>\n",
       "      <td>...</td>\n",
       "    </tr>\n",
       "    <tr>\n",
       "      <th>1047135212935819264</th>\n",
       "      <td>0.000000</td>\n",
       "      <td>0.000000</td>\n",
       "      <td>0.00</td>\n",
       "      <td>0.019016</td>\n",
       "      <td>0.000000</td>\n",
       "    </tr>\n",
       "    <tr>\n",
       "      <th>1659823890</th>\n",
       "      <td>0.000000</td>\n",
       "      <td>0.000000</td>\n",
       "      <td>0.00</td>\n",
       "      <td>0.000000</td>\n",
       "      <td>0.000000</td>\n",
       "    </tr>\n",
       "    <tr>\n",
       "      <th>489785630</th>\n",
       "      <td>0.000000</td>\n",
       "      <td>0.000000</td>\n",
       "      <td>0.00</td>\n",
       "      <td>0.000000</td>\n",
       "      <td>0.637500</td>\n",
       "    </tr>\n",
       "    <tr>\n",
       "      <th>785943112568803330</th>\n",
       "      <td>0.000000</td>\n",
       "      <td>0.000000</td>\n",
       "      <td>0.05</td>\n",
       "      <td>0.248780</td>\n",
       "      <td>0.013240</td>\n",
       "    </tr>\n",
       "    <tr>\n",
       "      <th>1327040029</th>\n",
       "      <td>0.000000</td>\n",
       "      <td>0.000000</td>\n",
       "      <td>0.00</td>\n",
       "      <td>0.000000</td>\n",
       "      <td>0.000000</td>\n",
       "    </tr>\n",
       "  </tbody>\n",
       "</table>\n",
       "<p>13496 rows × 5 columns</p>\n",
       "</div>"
      ],
      "text/plain": [
       "                     authority      care  fairness   loyalty    purity\n",
       "User_id                                                               \n",
       "1112896007774371840   0.000000  8.600000      0.00  0.000000  0.000000\n",
       "1108807484            0.000000  8.359204      0.00  0.059701  7.912313\n",
       "115088543             0.000000  8.277193      0.00  8.000000  2.250000\n",
       "117000756             0.200031  7.883411      0.00  7.909505  0.034315\n",
       "2733323288            0.000000  7.800000      0.00  0.000000  0.000000\n",
       "...                        ...       ...       ...       ...       ...\n",
       "1047135212935819264   0.000000  0.000000      0.00  0.019016  0.000000\n",
       "1659823890            0.000000  0.000000      0.00  0.000000  0.000000\n",
       "489785630             0.000000  0.000000      0.00  0.000000  0.637500\n",
       "785943112568803330    0.000000  0.000000      0.05  0.248780  0.013240\n",
       "1327040029            0.000000  0.000000      0.00  0.000000  0.000000\n",
       "\n",
       "[13496 rows x 5 columns]"
      ]
     },
     "execution_count": 9,
     "metadata": {},
     "output_type": "execute_result"
    }
   ],
   "source": [
    "df.pivot_table(index='User_id', values=['care','fairness','purity','authority',\n",
    "                                       'loyalty'], aggfunc=np.mean).sort_values(by = 'care', ascending=False)"
   ]
  },
  {
   "cell_type": "code",
   "execution_count": 10,
   "id": "de81f78a",
   "metadata": {
    "ExecuteTime": {
     "end_time": "2023-03-28T10:49:17.710360Z",
     "start_time": "2023-03-28T10:49:17.175798Z"
    }
   },
   "outputs": [
    {
     "data": {
      "text/plain": [
       "<AxesSubplot:ylabel='Density'>"
      ]
     },
     "execution_count": 10,
     "metadata": {},
     "output_type": "execute_result"
    },
    {
     "data": {
      "image/png": "[encoded data removed]",
      "text/plain": [
       "<Figure size 640x480 with 1 Axes>"
      ]
     },
     "metadata": {},
     "output_type": "display_data"
    }
   ],
   "source": [
    "df.pivot_table(index = 'Datetime', values=['authority','care','fairness','loyalty','purity'],\n",
    "               aggfunc={'authority':np.mean,'care':np.mean,'fairness':np.mean,'loyalty':np.mean,'purity':np.mean,}).plot.density()"
   ]
  },
  {
   "cell_type": "code",
   "execution_count": 11,
   "id": "a961f6bb",
   "metadata": {
    "ExecuteTime": {
     "end_time": "2023-03-28T10:49:20.486468Z",
     "start_time": "2023-03-28T10:49:19.540676Z"
    }
   },
   "outputs": [
    {
     "data": {
      "text/plain": [
       "array([<AxesSubplot:xlabel='Datetime'>, <AxesSubplot:xlabel='Datetime'>,\n",
       "       <AxesSubplot:xlabel='Datetime'>, <AxesSubplot:xlabel='Datetime'>,\n",
       "       <AxesSubplot:xlabel='Datetime'>], dtype=object)"
      ]
     },
     "execution_count": 11,
     "metadata": {},
     "output_type": "execute_result"
    },
    {
     "data": {
      "image/png": "[encoded data removed]",
      "text/plain": [
       "<Figure size 640x480 with 5 Axes>"
      ]
     },
     "metadata": {},
     "output_type": "display_data"
    }
   ],
   "source": [
    "df.pivot_table(index = 'Datetime', values=['authority','care','fairness','loyalty','purity'],\n",
    "               aggfunc={'authority':np.mean,'care':np.mean,'fairness':np.mean,'loyalty':np.mean,'purity':np.mean,}).plot.line(subplots=True)"
   ]
  },
  {
   "cell_type": "code",
   "execution_count": 12,
   "id": "7851b4c8",
   "metadata": {
    "ExecuteTime": {
     "end_time": "2023-03-28T10:49:27.712246Z",
     "start_time": "2023-03-28T10:49:26.440226Z"
    }
   },
   "outputs": [
    {
     "data": {
      "text/html": [
       "<div>\n",
       "<style scoped>\n",
       "    .dataframe tbody tr th:only-of-type {\n",
       "        vertical-align: middle;\n",
       "    }\n",
       "\n",
       "    .dataframe tbody tr th {\n",
       "        vertical-align: top;\n",
       "    }\n",
       "\n",
       "    .dataframe thead th {\n",
       "        text-align: right;\n",
       "    }\n",
       "</style>\n",
       "<table border=\"1\" class=\"dataframe\">\n",
       "  <thead>\n",
       "    <tr style=\"text-align: right;\">\n",
       "      <th>care_cat</th>\n",
       "      <th>Care</th>\n",
       "      <th>Harm</th>\n",
       "      <th>Mixed</th>\n",
       "      <th>Non</th>\n",
       "      <th>All</th>\n",
       "    </tr>\n",
       "    <tr>\n",
       "      <th>HorA</th>\n",
       "      <th></th>\n",
       "      <th></th>\n",
       "      <th></th>\n",
       "      <th></th>\n",
       "      <th></th>\n",
       "    </tr>\n",
       "  </thead>\n",
       "  <tbody>\n",
       "    <tr>\n",
       "      <th>0</th>\n",
       "      <td>115038</td>\n",
       "      <td>810638</td>\n",
       "      <td>160536</td>\n",
       "      <td>1493504</td>\n",
       "      <td>2579716</td>\n",
       "    </tr>\n",
       "    <tr>\n",
       "      <th>1</th>\n",
       "      <td>5155</td>\n",
       "      <td>70025</td>\n",
       "      <td>10615</td>\n",
       "      <td>65242</td>\n",
       "      <td>151037</td>\n",
       "    </tr>\n",
       "    <tr>\n",
       "      <th>All</th>\n",
       "      <td>120193</td>\n",
       "      <td>880663</td>\n",
       "      <td>171151</td>\n",
       "      <td>1558746</td>\n",
       "      <td>2730753</td>\n",
       "    </tr>\n",
       "  </tbody>\n",
       "</table>\n",
       "</div>"
      ],
      "text/plain": [
       "care_cat    Care    Harm   Mixed      Non      All\n",
       "HorA                                              \n",
       "0         115038  810638  160536  1493504  2579716\n",
       "1           5155   70025   10615    65242   151037\n",
       "All       120193  880663  171151  1558746  2730753"
      ]
     },
     "execution_count": 12,
     "metadata": {},
     "output_type": "execute_result"
    }
   ],
   "source": [
    "cross_table = pd.crosstab(df['HorA'], df['care_cat'], margins=True)\n",
    "cross_table"
   ]
  },
  {
   "cell_type": "code",
   "execution_count": 13,
   "id": "4292cf61",
   "metadata": {
    "ExecuteTime": {
     "end_time": "2023-03-28T10:49:28.632359Z",
     "start_time": "2023-03-28T10:49:28.620825Z"
    }
   },
   "outputs": [
    {
     "name": "stdout",
     "output_type": "stream",
     "text": [
      "p value is 0.0\n",
      "Dependent (reject H0)\n"
     ]
    }
   ],
   "source": [
    "from scipy import stats\n",
    "stat, p, dof, expected = stats.chi2_contingency(cross_table)\n",
    "# interpret p-value\n",
    "alpha = 0.05\n",
    "print(\"p value is \" + str(p))\n",
    "if p <= alpha:\n",
    "    print('Dependent (reject H0)')\n",
    "else:\n",
    "    print('Independent (H0 holds true)')"
   ]
  },
  {
   "cell_type": "code",
   "execution_count": 14,
   "id": "57efa187",
   "metadata": {
    "ExecuteTime": {
     "end_time": "2023-03-28T10:49:31.023879Z",
     "start_time": "2023-03-28T10:49:29.620031Z"
    }
   },
   "outputs": [
    {
     "name": "stdout",
     "output_type": "stream",
     "text": [
      "p value is 4.413706447809801e-261\n",
      "Dependent (reject H0)\n"
     ]
    }
   ],
   "source": [
    "cross_table = pd.crosstab(df['HorA'], df['authority_cat'], margins=True)\n",
    "stat, p, dof, expected = stats.chi2_contingency(cross_table)\n",
    "# interpret p-value\n",
    "alpha = 0.05\n",
    "print(\"p value is \" + str(p))\n",
    "if p <= alpha:\n",
    "    print('Dependent (reject H0)')\n",
    "else:\n",
    "    print('Independent (H0 holds true)')"
   ]
  },
  {
   "cell_type": "code",
   "execution_count": 15,
   "id": "70b4548c",
   "metadata": {
    "ExecuteTime": {
     "end_time": "2023-03-28T10:49:33.381754Z",
     "start_time": "2023-03-28T10:49:31.961178Z"
    }
   },
   "outputs": [
    {
     "name": "stdout",
     "output_type": "stream",
     "text": [
      "p value is 0.0\n",
      "Dependent (reject H0)\n"
     ]
    }
   ],
   "source": [
    "cross_table = pd.crosstab(df['HorA'], df['fairness_cat'], margins=True)\n",
    "stat, p, dof, expected = stats.chi2_contingency(cross_table)\n",
    "# interpret p-value\n",
    "alpha = 0.05\n",
    "print(\"p value is \" + str(p))\n",
    "if p <= alpha:\n",
    "    print('Dependent (reject H0)')\n",
    "else:\n",
    "    print('Independent (H0 holds true)')"
   ]
  },
  {
   "cell_type": "code",
   "execution_count": 16,
   "id": "bbc71fc3",
   "metadata": {
    "ExecuteTime": {
     "end_time": "2023-03-28T10:49:35.704844Z",
     "start_time": "2023-03-28T10:49:34.320923Z"
    }
   },
   "outputs": [
    {
     "name": "stdout",
     "output_type": "stream",
     "text": [
      "p value is 0.0\n",
      "Dependent (reject H0)\n"
     ]
    }
   ],
   "source": [
    "cross_table = pd.crosstab(df['HorA'], df['purity_cat'], margins=True)\n",
    "stat, p, dof, expected = stats.chi2_contingency(cross_table)\n",
    "# interpret p-value\n",
    "alpha = 0.05\n",
    "print(\"p value is \" + str(p))\n",
    "if p <= alpha:\n",
    "    print('Dependent (reject H0)')\n",
    "else:\n",
    "    print('Independent (H0 holds true)')"
   ]
  },
  {
   "cell_type": "code",
   "execution_count": 17,
   "id": "59889eaa",
   "metadata": {
    "ExecuteTime": {
     "end_time": "2023-03-28T10:49:38.108188Z",
     "start_time": "2023-03-28T10:49:36.643356Z"
    }
   },
   "outputs": [
    {
     "name": "stdout",
     "output_type": "stream",
     "text": [
      "p value is 0.0\n",
      "Dependent (reject H0)\n"
     ]
    }
   ],
   "source": [
    "cross_table = pd.crosstab(df['HorA'], df['loyalty_cat'], margins=True)\n",
    "stat, p, dof, expected = stats.chi2_contingency(cross_table)\n",
    "# interpret p-value\n",
    "alpha = 0.05\n",
    "print(\"p value is \" + str(p))\n",
    "if p <= alpha:\n",
    "    print('Dependent (reject H0)')\n",
    "else:\n",
    "    print('Independent (H0 holds true)')"
   ]
  },
  {
   "cell_type": "code",
   "execution_count": 19,
   "id": "47e8438a",
   "metadata": {
    "ExecuteTime": {
     "end_time": "2023-03-28T10:52:01.253725Z",
     "start_time": "2023-03-28T10:52:01.231153Z"
    }
   },
   "outputs": [
    {
     "data": {
      "text/html": [
       "<div>\n",
       "<style scoped>\n",
       "    .dataframe tbody tr th:only-of-type {\n",
       "        vertical-align: middle;\n",
       "    }\n",
       "\n",
       "    .dataframe tbody tr th {\n",
       "        vertical-align: top;\n",
       "    }\n",
       "\n",
       "    .dataframe thead th {\n",
       "        text-align: right;\n",
       "    }\n",
       "</style>\n",
       "<table border=\"1\" class=\"dataframe\">\n",
       "  <thead>\n",
       "    <tr style=\"text-align: right;\">\n",
       "      <th></th>\n",
       "      <th>Datetime</th>\n",
       "      <th>Tweet_id</th>\n",
       "      <th>Tweet_content</th>\n",
       "      <th>Tweet_reply_count</th>\n",
       "      <th>Tweet_retweet_count</th>\n",
       "      <th>Tweet_like_count</th>\n",
       "      <th>Tweet_quote_count</th>\n",
       "      <th>Tweet_hashtags</th>\n",
       "      <th>Username</th>\n",
       "      <th>User_id</th>\n",
       "      <th>...</th>\n",
       "      <th>fairness</th>\n",
       "      <th>loyalty</th>\n",
       "      <th>authority</th>\n",
       "      <th>purity</th>\n",
       "      <th>authority_cat</th>\n",
       "      <th>care_cat</th>\n",
       "      <th>fairness_cat</th>\n",
       "      <th>purity_cat</th>\n",
       "      <th>loyalty_cat</th>\n",
       "      <th>30day_cut</th>\n",
       "    </tr>\n",
       "  </thead>\n",
       "  <tbody>\n",
       "    <tr>\n",
       "      <th>0</th>\n",
       "      <td>2022-02-22</td>\n",
       "      <td>1496098801152512002</td>\n",
       "      <td>putins war   ukraine russia crisis  ukraina  ...</td>\n",
       "      <td>0</td>\n",
       "      <td>0</td>\n",
       "      <td>1</td>\n",
       "      <td>0</td>\n",
       "      <td>['PutinsWar', 'UkraineRussiaCrisis', 'Ukraina'...</td>\n",
       "      <td>anyidea</td>\n",
       "      <td>23024287</td>\n",
       "      <td>...</td>\n",
       "      <td>0.0</td>\n",
       "      <td>0.00</td>\n",
       "      <td>0.0</td>\n",
       "      <td>0.0</td>\n",
       "      <td>Non</td>\n",
       "      <td>Harm</td>\n",
       "      <td>Non</td>\n",
       "      <td>Non</td>\n",
       "      <td>Non</td>\n",
       "      <td>[2022-02-22, 2022-03-24)</td>\n",
       "    </tr>\n",
       "    <tr>\n",
       "      <th>1</th>\n",
       "      <td>2022-02-22</td>\n",
       "      <td>1496099780912881665</td>\n",
       "      <td>Proud moment for  indiaTwo young shining stars...</td>\n",
       "      <td>0</td>\n",
       "      <td>0</td>\n",
       "      <td>1</td>\n",
       "      <td>0</td>\n",
       "      <td>['India', 'Kashmir', 'India', 'Dubai', 'COVID1...</td>\n",
       "      <td>AhmedFidous</td>\n",
       "      <td>1334012207286325249</td>\n",
       "      <td>...</td>\n",
       "      <td>0.0</td>\n",
       "      <td>0.00</td>\n",
       "      <td>0.0</td>\n",
       "      <td>0.0</td>\n",
       "      <td>Non</td>\n",
       "      <td>Care</td>\n",
       "      <td>Non</td>\n",
       "      <td>Non</td>\n",
       "      <td>Non</td>\n",
       "      <td>[2022-02-22, 2022-03-24)</td>\n",
       "    </tr>\n",
       "    <tr>\n",
       "      <th>2</th>\n",
       "      <td>2022-02-22</td>\n",
       "      <td>1496103001903501319</td>\n",
       "      <td>Russia vs Ukraine War Update: Germany halts No...</td>\n",
       "      <td>1</td>\n",
       "      <td>0</td>\n",
       "      <td>1</td>\n",
       "      <td>0</td>\n",
       "      <td>['Ukraine', 'UkraineRussiaCrisis', 'UkraineCon...</td>\n",
       "      <td>prime_scoop</td>\n",
       "      <td>1486283164846747649</td>\n",
       "      <td>...</td>\n",
       "      <td>0.0</td>\n",
       "      <td>0.00</td>\n",
       "      <td>0.0</td>\n",
       "      <td>0.0</td>\n",
       "      <td>Non</td>\n",
       "      <td>Harm</td>\n",
       "      <td>Non</td>\n",
       "      <td>Non</td>\n",
       "      <td>Non</td>\n",
       "      <td>[2022-02-22, 2022-03-24)</td>\n",
       "    </tr>\n",
       "    <tr>\n",
       "      <th>3</th>\n",
       "      <td>2022-02-22</td>\n",
       "      <td>1496107122718695424</td>\n",
       "      <td>putins war :Interesting details on other terr...</td>\n",
       "      <td>0</td>\n",
       "      <td>0</td>\n",
       "      <td>1</td>\n",
       "      <td>0</td>\n",
       "      <td>['PutinsWar', 'SatansSpeech', 'PutinSpeech', '...</td>\n",
       "      <td>anyidea</td>\n",
       "      <td>23024287</td>\n",
       "      <td>...</td>\n",
       "      <td>0.0</td>\n",
       "      <td>0.00</td>\n",
       "      <td>0.0</td>\n",
       "      <td>0.0</td>\n",
       "      <td>Non</td>\n",
       "      <td>Harm</td>\n",
       "      <td>Non</td>\n",
       "      <td>Non</td>\n",
       "      <td>Non</td>\n",
       "      <td>[2022-02-22, 2022-03-24)</td>\n",
       "    </tr>\n",
       "    <tr>\n",
       "      <th>4</th>\n",
       "      <td>2022-02-22</td>\n",
       "      <td>1496107229929476105</td>\n",
       "      <td>criminals in  russia,  iran, syria!are the w...</td>\n",
       "      <td>0</td>\n",
       "      <td>0</td>\n",
       "      <td>3</td>\n",
       "      <td>0</td>\n",
       "      <td>['criminals', 'Russia', 'Iran', 'Syria', 'Cowa...</td>\n",
       "      <td>Basel_Saneeb</td>\n",
       "      <td>1588526876</td>\n",
       "      <td>...</td>\n",
       "      <td>0.0</td>\n",
       "      <td>3.25</td>\n",
       "      <td>0.0</td>\n",
       "      <td>3.0</td>\n",
       "      <td>Non</td>\n",
       "      <td>Non</td>\n",
       "      <td>Non</td>\n",
       "      <td>Degradation</td>\n",
       "      <td>Mixed</td>\n",
       "      <td>[2022-02-22, 2022-03-24)</td>\n",
       "    </tr>\n",
       "  </tbody>\n",
       "</table>\n",
       "<p>5 rows × 28 columns</p>\n",
       "</div>"
      ],
      "text/plain": [
       "     Datetime             Tweet_id  \\\n",
       "0  2022-02-22  1496098801152512002   \n",
       "1  2022-02-22  1496099780912881665   \n",
       "2  2022-02-22  1496103001903501319   \n",
       "3  2022-02-22  1496107122718695424   \n",
       "4  2022-02-22  1496107229929476105   \n",
       "\n",
       "                                       Tweet_content  Tweet_reply_count  \\\n",
       "0   putins war   ukraine russia crisis  ukraina  ...                  0   \n",
       "1  Proud moment for  indiaTwo young shining stars...                  0   \n",
       "2  Russia vs Ukraine War Update: Germany halts No...                  1   \n",
       "3   putins war :Interesting details on other terr...                  0   \n",
       "4    criminals in  russia,  iran, syria!are the w...                  0   \n",
       "\n",
       "   Tweet_retweet_count  Tweet_like_count  Tweet_quote_count  \\\n",
       "0                    0                 1                  0   \n",
       "1                    0                 1                  0   \n",
       "2                    0                 1                  0   \n",
       "3                    0                 1                  0   \n",
       "4                    0                 3                  0   \n",
       "\n",
       "                                      Tweet_hashtags      Username  \\\n",
       "0  ['PutinsWar', 'UkraineRussiaCrisis', 'Ukraina'...       anyidea   \n",
       "1  ['India', 'Kashmir', 'India', 'Dubai', 'COVID1...   AhmedFidous   \n",
       "2  ['Ukraine', 'UkraineRussiaCrisis', 'UkraineCon...   prime_scoop   \n",
       "3  ['PutinsWar', 'SatansSpeech', 'PutinSpeech', '...       anyidea   \n",
       "4  ['criminals', 'Russia', 'Iran', 'Syria', 'Cowa...  Basel_Saneeb   \n",
       "\n",
       "               User_id  ...  fairness  loyalty  authority  purity  \\\n",
       "0             23024287  ...       0.0     0.00        0.0     0.0   \n",
       "1  1334012207286325249  ...       0.0     0.00        0.0     0.0   \n",
       "2  1486283164846747649  ...       0.0     0.00        0.0     0.0   \n",
       "3             23024287  ...       0.0     0.00        0.0     0.0   \n",
       "4           1588526876  ...       0.0     3.25        0.0     3.0   \n",
       "\n",
       "   authority_cat  care_cat  fairness_cat   purity_cat  loyalty_cat  \\\n",
       "0            Non      Harm           Non          Non          Non   \n",
       "1            Non      Care           Non          Non          Non   \n",
       "2            Non      Harm           Non          Non          Non   \n",
       "3            Non      Harm           Non          Non          Non   \n",
       "4            Non       Non           Non  Degradation        Mixed   \n",
       "\n",
       "                  30day_cut  \n",
       "0  [2022-02-22, 2022-03-24)  \n",
       "1  [2022-02-22, 2022-03-24)  \n",
       "2  [2022-02-22, 2022-03-24)  \n",
       "3  [2022-02-22, 2022-03-24)  \n",
       "4  [2022-02-22, 2022-03-24)  \n",
       "\n",
       "[5 rows x 28 columns]"
      ]
     },
     "execution_count": 19,
     "metadata": {},
     "output_type": "execute_result"
    }
   ],
   "source": [
    "df.head()"
   ]
  },
  {
   "cell_type": "code",
   "execution_count": 61,
   "id": "95749087",
   "metadata": {
    "ExecuteTime": {
     "end_time": "2023-03-29T08:53:53.562835Z",
     "start_time": "2023-03-29T08:53:52.038033Z"
    }
   },
   "outputs": [],
   "source": [
    "ddf = df.pivot_table(index=['User_id','30day_cut'], values=['care','fairness','purity','authority',\n",
    "                                       'loyalty','HorA'], aggfunc=np.mean)"
   ]
  },
  {
   "cell_type": "code",
   "execution_count": 66,
   "id": "54efb736",
   "metadata": {
    "ExecuteTime": {
     "end_time": "2023-03-29T08:54:39.900299Z",
     "start_time": "2023-03-29T08:54:39.870610Z"
    }
   },
   "outputs": [
    {
     "data": {
      "text/plain": [
       "MultiIndex([(               1378, '[2022-02-22, 2022-03-24)'),\n",
       "            (               1378, '[2022-03-24, 2022-04-23)'),\n",
       "            (               1378, '[2022-04-23, 2022-05-23)'),\n",
       "            (               1378, '[2022-05-23, 2022-06-22)'),\n",
       "            (               1378, '[2022-06-22, 2022-07-22)'),\n",
       "            (               1378, '[2022-07-22, 2022-08-21)'),\n",
       "            (               1378, '[2022-08-21, 2022-09-10)'),\n",
       "            (               2654, '[2022-02-22, 2022-03-24)'),\n",
       "            (               2654, '[2022-03-24, 2022-04-23)'),\n",
       "            (               2654, '[2022-04-23, 2022-05-23)'),\n",
       "            ...\n",
       "            (1506379836465549314, '[2022-06-22, 2022-07-22)'),\n",
       "            (1506379836465549314, '[2022-07-22, 2022-08-21)'),\n",
       "            (1506379836465549314, '[2022-08-21, 2022-09-10)'),\n",
       "            (1506717607235182592, '[2022-02-22, 2022-03-24)'),\n",
       "            (1506717607235182592, '[2022-03-24, 2022-04-23)'),\n",
       "            (1506717607235182592, '[2022-04-23, 2022-05-23)'),\n",
       "            (1506717607235182592, '[2022-05-23, 2022-06-22)'),\n",
       "            (1506717607235182592, '[2022-06-22, 2022-07-22)'),\n",
       "            (1506717607235182592, '[2022-07-22, 2022-08-21)'),\n",
       "            (1506717607235182592, '[2022-08-21, 2022-09-10)')],\n",
       "           names=['User_id', '30day_cut'], length=94472)"
      ]
     },
     "execution_count": 66,
     "metadata": {},
     "output_type": "execute_result"
    }
   ],
   "source": [
    "ddf.index"
   ]
  },
  {
   "cell_type": "code",
   "execution_count": 29,
   "id": "ac32509a",
   "metadata": {
    "ExecuteTime": {
     "end_time": "2023-03-28T11:18:11.272680Z",
     "start_time": "2023-03-28T11:17:48.878288Z"
    }
   },
   "outputs": [
    {
     "name": "stdout",
     "output_type": "stream",
     "text": [
      "Requirement already satisfied: statsmodels in d:\\anaconda\\lib\\site-packages (0.13.2)\n",
      "Collecting statsmodels\n",
      "  Downloading statsmodels-0.13.5-cp38-cp38-win_amd64.whl (9.2 MB)\n",
      "     ---------------------------------------- 9.2/9.2 MB 3.9 MB/s eta 0:00:00\n",
      "Requirement already satisfied: pandas>=0.25 in d:\\anaconda\\lib\\site-packages (from statsmodels) (1.4.4)\n",
      "Requirement already satisfied: patsy>=0.5.2 in d:\\anaconda\\lib\\site-packages (from statsmodels) (0.5.2)\n",
      "Requirement already satisfied: numpy>=1.17 in d:\\anaconda\\lib\\site-packages (from statsmodels) (1.21.5)\n",
      "Requirement already satisfied: packaging>=21.3 in d:\\anaconda\\lib\\site-packages (from statsmodels) (21.3)\n",
      "Requirement already satisfied: scipy>=1.3 in d:\\anaconda\\lib\\site-packages (from statsmodels) (1.10.0)\n",
      "Requirement already satisfied: pyparsing!=3.0.5,>=2.0.2 in d:\\anaconda\\lib\\site-packages (from packaging>=21.3->statsmodels) (3.0.9)\n",
      "Requirement already satisfied: python-dateutil>=2.8.1 in d:\\anaconda\\lib\\site-packages (from pandas>=0.25->statsmodels) (2.8.2)\n",
      "Requirement already satisfied: pytz>=2020.1 in d:\\anaconda\\lib\\site-packages (from pandas>=0.25->statsmodels) (2022.1)\n",
      "Requirement already satisfied: six in d:\\anaconda\\lib\\site-packages (from patsy>=0.5.2->statsmodels) (1.16.0)\n",
      "Installing collected packages: statsmodels\n",
      "  Attempting uninstall: statsmodels\n",
      "    Found existing installation: statsmodels 0.13.2\n",
      "    Uninstalling statsmodels-0.13.2:\n",
      "      Successfully uninstalled statsmodels-0.13.2\n",
      "Successfully installed statsmodels-0.13.5\n"
     ]
    },
    {
     "name": "stderr",
     "output_type": "stream",
     "text": [
      "WARNING: Ignoring invalid distribution -yproj (d:\\anaconda\\lib\\site-packages)\n",
      "WARNING: Ignoring invalid distribution -yproj (d:\\anaconda\\lib\\site-packages)\n",
      "WARNING: Ignoring invalid distribution -yproj (d:\\anaconda\\lib\\site-packages)\n",
      "    WARNING: Ignoring invalid distribution -yproj (d:\\anaconda\\lib\\site-packages)\n",
      "WARNING: Ignoring invalid distribution -yproj (d:\\anaconda\\lib\\site-packages)\n",
      "WARNING: Ignoring invalid distribution -yproj (d:\\anaconda\\lib\\site-packages)\n",
      "WARNING: Ignoring invalid distribution -yproj (d:\\anaconda\\lib\\site-packages)\n",
      "WARNING: Ignoring invalid distribution -yproj (d:\\anaconda\\lib\\site-packages)\n"
     ]
    }
   ],
   "source": [
    "!pip install --upgrade statsmodels"
   ]
  },
  {
   "cell_type": "code",
   "execution_count": 34,
   "id": "ec0694bd",
   "metadata": {
    "ExecuteTime": {
     "end_time": "2023-03-28T11:22:30.203464Z",
     "start_time": "2023-03-28T11:22:29.726200Z"
    }
   },
   "outputs": [
    {
     "name": "stdout",
     "output_type": "stream",
     "text": [
      "Optimization terminated successfully.\n",
      "         Current function value: 0.116184\n",
      "         Iterations 7\n",
      "                           Logit Regression Results                           \n",
      "==============================================================================\n",
      "Dep. Variable:                   HorA   No. Observations:                94472\n",
      "Model:                          Logit   Df Residuals:                    94466\n",
      "Method:                           MLE   Df Model:                            5\n",
      "Date:                Tue, 28 Mar 2023   Pseudo R-squ.:                 -0.4784\n",
      "Time:                        19:22:30   Log-Likelihood:                -10976.\n",
      "converged:                       True   LL-Null:                       -7424.4\n",
      "Covariance Type:            nonrobust   LLR p-value:                     1.000\n",
      "==============================================================================\n",
      "                 coef    std err          z      P>|z|      [0.025      0.975]\n",
      "------------------------------------------------------------------------------\n",
      "const         -3.0359      0.023   -130.775      0.000      -3.081      -2.990\n",
      "care           0.0455      0.012      3.924      0.000       0.023       0.068\n",
      "fairness       0.1133      0.013      8.984      0.000       0.089       0.138\n",
      "authority      0.0445      0.012      3.836      0.000       0.022       0.067\n",
      "purity         0.1319      0.012     11.320      0.000       0.109       0.155\n",
      "loyalty       -0.0261      0.011     -2.316      0.021      -0.048      -0.004\n",
      "==============================================================================\n"
     ]
    }
   ],
   "source": [
    "import statsmodels.api as sm\n",
    "\n",
    "# 读取数据\n",
    "data = ddf\n",
    "\n",
    "# 拆分数据集\n",
    "X = data[['care', 'fairness', 'authority', 'purity', 'loyalty']]\n",
    "y = data['HorA']\n",
    "\n",
    "# 添加截距项\n",
    "X = sm.add_constant(X)\n",
    "\n",
    "# 拟合逻辑回归模型\n",
    "logit_model = sm.Logit(y, X)\n",
    "result = logit_model.fit()\n",
    "\n",
    "# 打印结果\n",
    "print(result.summary())"
   ]
  },
  {
   "cell_type": "markdown",
   "id": "2e77322d",
   "metadata": {},
   "source": [
    "由于0代表不包含道德，1代表Vice，9代表Virtue，0到1之间是截断的并且不均匀的，所以应该把数据重新处理一下。考虑到不包含道德和道德中立概念相近，把1处理为-1，9处理为1，0继续保留为0。"
   ]
  },
  {
   "cell_type": "code",
   "execution_count": 6,
   "id": "a26b2fb5",
   "metadata": {
    "ExecuteTime": {
     "end_time": "2023-03-29T08:15:02.967685Z",
     "start_time": "2023-03-29T08:15:02.955217Z"
    }
   },
   "outputs": [],
   "source": [
    "def normalize_data(data):\n",
    "    if data ==0:\n",
    "        return 0\n",
    "    else:\n",
    "        return (data-1)/4-1"
   ]
  },
  {
   "cell_type": "code",
   "execution_count": 7,
   "id": "e14389c6",
   "metadata": {
    "ExecuteTime": {
     "end_time": "2023-03-29T08:15:06.315802Z",
     "start_time": "2023-03-29T08:15:06.277730Z"
    }
   },
   "outputs": [
    {
     "data": {
      "text/html": [
       "<div>\n",
       "<style scoped>\n",
       "    .dataframe tbody tr th:only-of-type {\n",
       "        vertical-align: middle;\n",
       "    }\n",
       "\n",
       "    .dataframe tbody tr th {\n",
       "        vertical-align: top;\n",
       "    }\n",
       "\n",
       "    .dataframe thead th {\n",
       "        text-align: right;\n",
       "    }\n",
       "</style>\n",
       "<table border=\"1\" class=\"dataframe\">\n",
       "  <thead>\n",
       "    <tr style=\"text-align: right;\">\n",
       "      <th></th>\n",
       "      <th>Unnamed: 0.2</th>\n",
       "      <th>Unnamed: 0.1</th>\n",
       "      <th>Datetime</th>\n",
       "      <th>Tweet_id</th>\n",
       "      <th>Tweet_content</th>\n",
       "      <th>Tweet_reply_count</th>\n",
       "      <th>Tweet_retweet_count</th>\n",
       "      <th>Tweet_like_count</th>\n",
       "      <th>Tweet_quote_count</th>\n",
       "      <th>Tweet_language</th>\n",
       "      <th>...</th>\n",
       "      <th>authority_cat</th>\n",
       "      <th>care_cat</th>\n",
       "      <th>fairness_cat</th>\n",
       "      <th>purity_cat</th>\n",
       "      <th>loyalty_cat</th>\n",
       "      <th>7day_cut</th>\n",
       "      <th>14day_cut</th>\n",
       "      <th>30day_cut</th>\n",
       "      <th>60day_cut</th>\n",
       "      <th>90day_cut</th>\n",
       "    </tr>\n",
       "  </thead>\n",
       "  <tbody>\n",
       "    <tr>\n",
       "      <th>0</th>\n",
       "      <td>6</td>\n",
       "      <td>6</td>\n",
       "      <td>2022-02-22</td>\n",
       "      <td>1496098801152512002</td>\n",
       "      <td>putins war   ukraine russia crisis  ukraina  ...</td>\n",
       "      <td>0</td>\n",
       "      <td>0</td>\n",
       "      <td>1</td>\n",
       "      <td>0</td>\n",
       "      <td>en</td>\n",
       "      <td>...</td>\n",
       "      <td>Non</td>\n",
       "      <td>Harm</td>\n",
       "      <td>Non</td>\n",
       "      <td>Non</td>\n",
       "      <td>Non</td>\n",
       "      <td>[2022-02-22, 2022-03-01)</td>\n",
       "      <td>[2022-02-22, 2022-03-08)</td>\n",
       "      <td>[2022-02-22, 2022-03-24)</td>\n",
       "      <td>[2022-02-22, 2022-04-23)</td>\n",
       "      <td>[2022-02-22, 2022-05-23)</td>\n",
       "    </tr>\n",
       "    <tr>\n",
       "      <th>1</th>\n",
       "      <td>7</td>\n",
       "      <td>7</td>\n",
       "      <td>2022-02-22</td>\n",
       "      <td>1496099780912881665</td>\n",
       "      <td>Proud moment for  indiaTwo young shining stars...</td>\n",
       "      <td>0</td>\n",
       "      <td>0</td>\n",
       "      <td>1</td>\n",
       "      <td>0</td>\n",
       "      <td>en</td>\n",
       "      <td>...</td>\n",
       "      <td>Non</td>\n",
       "      <td>Care</td>\n",
       "      <td>Non</td>\n",
       "      <td>Non</td>\n",
       "      <td>Non</td>\n",
       "      <td>[2022-02-22, 2022-03-01)</td>\n",
       "      <td>[2022-02-22, 2022-03-08)</td>\n",
       "      <td>[2022-02-22, 2022-03-24)</td>\n",
       "      <td>[2022-02-22, 2022-04-23)</td>\n",
       "      <td>[2022-02-22, 2022-05-23)</td>\n",
       "    </tr>\n",
       "    <tr>\n",
       "      <th>2</th>\n",
       "      <td>12</td>\n",
       "      <td>12</td>\n",
       "      <td>2022-02-22</td>\n",
       "      <td>1496103001903501319</td>\n",
       "      <td>Russia vs Ukraine War Update: Germany halts No...</td>\n",
       "      <td>1</td>\n",
       "      <td>0</td>\n",
       "      <td>1</td>\n",
       "      <td>0</td>\n",
       "      <td>en</td>\n",
       "      <td>...</td>\n",
       "      <td>Non</td>\n",
       "      <td>Harm</td>\n",
       "      <td>Non</td>\n",
       "      <td>Non</td>\n",
       "      <td>Non</td>\n",
       "      <td>[2022-02-22, 2022-03-01)</td>\n",
       "      <td>[2022-02-22, 2022-03-08)</td>\n",
       "      <td>[2022-02-22, 2022-03-24)</td>\n",
       "      <td>[2022-02-22, 2022-04-23)</td>\n",
       "      <td>[2022-02-22, 2022-05-23)</td>\n",
       "    </tr>\n",
       "    <tr>\n",
       "      <th>3</th>\n",
       "      <td>26</td>\n",
       "      <td>26</td>\n",
       "      <td>2022-02-22</td>\n",
       "      <td>1496107122718695424</td>\n",
       "      <td>putins war :Interesting details on other terr...</td>\n",
       "      <td>0</td>\n",
       "      <td>0</td>\n",
       "      <td>1</td>\n",
       "      <td>0</td>\n",
       "      <td>en</td>\n",
       "      <td>...</td>\n",
       "      <td>Non</td>\n",
       "      <td>Harm</td>\n",
       "      <td>Non</td>\n",
       "      <td>Non</td>\n",
       "      <td>Non</td>\n",
       "      <td>[2022-02-22, 2022-03-01)</td>\n",
       "      <td>[2022-02-22, 2022-03-08)</td>\n",
       "      <td>[2022-02-22, 2022-03-24)</td>\n",
       "      <td>[2022-02-22, 2022-04-23)</td>\n",
       "      <td>[2022-02-22, 2022-05-23)</td>\n",
       "    </tr>\n",
       "    <tr>\n",
       "      <th>4</th>\n",
       "      <td>27</td>\n",
       "      <td>27</td>\n",
       "      <td>2022-02-22</td>\n",
       "      <td>1496107229929476105</td>\n",
       "      <td>criminals in  russia,  iran, syria!are the w...</td>\n",
       "      <td>0</td>\n",
       "      <td>0</td>\n",
       "      <td>3</td>\n",
       "      <td>0</td>\n",
       "      <td>en</td>\n",
       "      <td>...</td>\n",
       "      <td>Non</td>\n",
       "      <td>Non</td>\n",
       "      <td>Non</td>\n",
       "      <td>Degradation</td>\n",
       "      <td>Mixed</td>\n",
       "      <td>[2022-02-22, 2022-03-01)</td>\n",
       "      <td>[2022-02-22, 2022-03-08)</td>\n",
       "      <td>[2022-02-22, 2022-03-24)</td>\n",
       "      <td>[2022-02-22, 2022-04-23)</td>\n",
       "      <td>[2022-02-22, 2022-05-23)</td>\n",
       "    </tr>\n",
       "  </tbody>\n",
       "</table>\n",
       "<p>5 rows × 42 columns</p>\n",
       "</div>"
      ],
      "text/plain": [
       "   Unnamed: 0.2  Unnamed: 0.1    Datetime             Tweet_id  \\\n",
       "0             6             6  2022-02-22  1496098801152512002   \n",
       "1             7             7  2022-02-22  1496099780912881665   \n",
       "2            12            12  2022-02-22  1496103001903501319   \n",
       "3            26            26  2022-02-22  1496107122718695424   \n",
       "4            27            27  2022-02-22  1496107229929476105   \n",
       "\n",
       "                                       Tweet_content  Tweet_reply_count  \\\n",
       "0   putins war   ukraine russia crisis  ukraina  ...                  0   \n",
       "1  Proud moment for  indiaTwo young shining stars...                  0   \n",
       "2  Russia vs Ukraine War Update: Germany halts No...                  1   \n",
       "3   putins war :Interesting details on other terr...                  0   \n",
       "4    criminals in  russia,  iran, syria!are the w...                  0   \n",
       "\n",
       "   Tweet_retweet_count  Tweet_like_count  Tweet_quote_count Tweet_language  \\\n",
       "0                    0                 1                  0             en   \n",
       "1                    0                 1                  0             en   \n",
       "2                    0                 1                  0             en   \n",
       "3                    0                 1                  0             en   \n",
       "4                    0                 3                  0             en   \n",
       "\n",
       "   ... authority_cat care_cat fairness_cat   purity_cat  loyalty_cat  \\\n",
       "0  ...           Non     Harm          Non          Non          Non   \n",
       "1  ...           Non     Care          Non          Non          Non   \n",
       "2  ...           Non     Harm          Non          Non          Non   \n",
       "3  ...           Non     Harm          Non          Non          Non   \n",
       "4  ...           Non      Non          Non  Degradation        Mixed   \n",
       "\n",
       "                   7day_cut                 14day_cut  \\\n",
       "0  [2022-02-22, 2022-03-01)  [2022-02-22, 2022-03-08)   \n",
       "1  [2022-02-22, 2022-03-01)  [2022-02-22, 2022-03-08)   \n",
       "2  [2022-02-22, 2022-03-01)  [2022-02-22, 2022-03-08)   \n",
       "3  [2022-02-22, 2022-03-01)  [2022-02-22, 2022-03-08)   \n",
       "4  [2022-02-22, 2022-03-01)  [2022-02-22, 2022-03-08)   \n",
       "\n",
       "                  30day_cut                 60day_cut  \\\n",
       "0  [2022-02-22, 2022-03-24)  [2022-02-22, 2022-04-23)   \n",
       "1  [2022-02-22, 2022-03-24)  [2022-02-22, 2022-04-23)   \n",
       "2  [2022-02-22, 2022-03-24)  [2022-02-22, 2022-04-23)   \n",
       "3  [2022-02-22, 2022-03-24)  [2022-02-22, 2022-04-23)   \n",
       "4  [2022-02-22, 2022-03-24)  [2022-02-22, 2022-04-23)   \n",
       "\n",
       "                  90day_cut  \n",
       "0  [2022-02-22, 2022-05-23)  \n",
       "1  [2022-02-22, 2022-05-23)  \n",
       "2  [2022-02-22, 2022-05-23)  \n",
       "3  [2022-02-22, 2022-05-23)  \n",
       "4  [2022-02-22, 2022-05-23)  \n",
       "\n",
       "[5 rows x 42 columns]"
      ]
     },
     "execution_count": 7,
     "metadata": {},
     "output_type": "execute_result"
    }
   ],
   "source": [
    "df.head()"
   ]
  },
  {
   "cell_type": "code",
   "execution_count": 8,
   "id": "47966b5a",
   "metadata": {
    "ExecuteTime": {
     "end_time": "2023-03-29T08:15:12.357322Z",
     "start_time": "2023-03-29T08:15:10.157618Z"
    }
   },
   "outputs": [],
   "source": [
    "df.fairness = df.fairness.apply(normalize_data)"
   ]
  },
  {
   "cell_type": "code",
   "execution_count": 9,
   "id": "47b94e50",
   "metadata": {
    "ExecuteTime": {
     "end_time": "2023-03-29T08:15:25.751721Z",
     "start_time": "2023-03-29T08:15:15.698573Z"
    }
   },
   "outputs": [],
   "source": [
    "df.loyalty = df.loyalty.apply(normalize_data)\n",
    "df.authority = df.authority.apply(normalize_data)\n",
    "df.purity = df.purity.apply(normalize_data)\n",
    "df.care = df.care.apply(normalize_data)"
   ]
  },
  {
   "cell_type": "code",
   "execution_count": 23,
   "id": "dbe17d18",
   "metadata": {
    "ExecuteTime": {
     "end_time": "2023-03-29T08:34:38.673600Z",
     "start_time": "2023-03-29T08:34:37.003166Z"
    }
   },
   "outputs": [],
   "source": [
    "ddf = df.pivot_table(index=['User_id','30day_cut'], values=['care','fairness','purity','authority',\n",
    "                                       'loyalty','HorA'], aggfunc=np.mean)"
   ]
  },
  {
   "cell_type": "code",
   "execution_count": 36,
   "id": "2e3ab2b0",
   "metadata": {
    "ExecuteTime": {
     "end_time": "2023-03-29T08:37:12.386035Z",
     "start_time": "2023-03-29T08:37:12.367736Z"
    }
   },
   "outputs": [],
   "source": [
    "ddf = ddf.reset_index()"
   ]
  },
  {
   "cell_type": "code",
   "execution_count": 37,
   "id": "8e9d66e8",
   "metadata": {
    "ExecuteTime": {
     "end_time": "2023-03-29T08:37:16.062788Z",
     "start_time": "2023-03-29T08:37:16.007659Z"
    }
   },
   "outputs": [
    {
     "data": {
      "text/html": [
       "<div>\n",
       "<style scoped>\n",
       "    .dataframe tbody tr th:only-of-type {\n",
       "        vertical-align: middle;\n",
       "    }\n",
       "\n",
       "    .dataframe tbody tr th {\n",
       "        vertical-align: top;\n",
       "    }\n",
       "\n",
       "    .dataframe thead th {\n",
       "        text-align: right;\n",
       "    }\n",
       "</style>\n",
       "<table border=\"1\" class=\"dataframe\">\n",
       "  <thead>\n",
       "    <tr style=\"text-align: right;\">\n",
       "      <th></th>\n",
       "      <th>User_id</th>\n",
       "      <th>30day_cut</th>\n",
       "      <th>HorA</th>\n",
       "      <th>authority</th>\n",
       "      <th>care</th>\n",
       "      <th>fairness</th>\n",
       "      <th>loyalty</th>\n",
       "      <th>purity</th>\n",
       "    </tr>\n",
       "  </thead>\n",
       "  <tbody>\n",
       "    <tr>\n",
       "      <th>0</th>\n",
       "      <td>1378</td>\n",
       "      <td>[2022-02-22, 2022-03-24)</td>\n",
       "      <td>0.007168</td>\n",
       "      <td>0.041622</td>\n",
       "      <td>-0.411163</td>\n",
       "      <td>0.017116</td>\n",
       "      <td>0.033132</td>\n",
       "      <td>-0.002748</td>\n",
       "    </tr>\n",
       "    <tr>\n",
       "      <th>1</th>\n",
       "      <td>1378</td>\n",
       "      <td>[2022-03-24, 2022-04-23)</td>\n",
       "      <td>0.004566</td>\n",
       "      <td>0.025209</td>\n",
       "      <td>-0.622084</td>\n",
       "      <td>0.012965</td>\n",
       "      <td>0.044747</td>\n",
       "      <td>0.019273</td>\n",
       "    </tr>\n",
       "    <tr>\n",
       "      <th>2</th>\n",
       "      <td>1378</td>\n",
       "      <td>[2022-04-23, 2022-05-23)</td>\n",
       "      <td>0.000000</td>\n",
       "      <td>0.035638</td>\n",
       "      <td>-0.526144</td>\n",
       "      <td>0.023284</td>\n",
       "      <td>0.061180</td>\n",
       "      <td>-0.017004</td>\n",
       "    </tr>\n",
       "    <tr>\n",
       "      <th>3</th>\n",
       "      <td>1378</td>\n",
       "      <td>[2022-05-23, 2022-06-22)</td>\n",
       "      <td>0.000000</td>\n",
       "      <td>0.092585</td>\n",
       "      <td>-0.552907</td>\n",
       "      <td>0.045290</td>\n",
       "      <td>0.122768</td>\n",
       "      <td>-0.010870</td>\n",
       "    </tr>\n",
       "    <tr>\n",
       "      <th>4</th>\n",
       "      <td>1378</td>\n",
       "      <td>[2022-06-22, 2022-07-22)</td>\n",
       "      <td>0.000000</td>\n",
       "      <td>0.056713</td>\n",
       "      <td>-0.539043</td>\n",
       "      <td>0.028935</td>\n",
       "      <td>0.019965</td>\n",
       "      <td>0.006944</td>\n",
       "    </tr>\n",
       "    <tr>\n",
       "      <th>...</th>\n",
       "      <td>...</td>\n",
       "      <td>...</td>\n",
       "      <td>...</td>\n",
       "      <td>...</td>\n",
       "      <td>...</td>\n",
       "      <td>...</td>\n",
       "      <td>...</td>\n",
       "      <td>...</td>\n",
       "    </tr>\n",
       "    <tr>\n",
       "      <th>94467</th>\n",
       "      <td>1506717607235182592</td>\n",
       "      <td>[2022-04-23, 2022-05-23)</td>\n",
       "      <td>0.000000</td>\n",
       "      <td>0.000000</td>\n",
       "      <td>-0.833333</td>\n",
       "      <td>0.000000</td>\n",
       "      <td>0.000000</td>\n",
       "      <td>0.000000</td>\n",
       "    </tr>\n",
       "    <tr>\n",
       "      <th>94468</th>\n",
       "      <td>1506717607235182592</td>\n",
       "      <td>[2022-05-23, 2022-06-22)</td>\n",
       "      <td>0.000000</td>\n",
       "      <td>0.072917</td>\n",
       "      <td>-0.208333</td>\n",
       "      <td>0.197917</td>\n",
       "      <td>0.085938</td>\n",
       "      <td>0.000000</td>\n",
       "    </tr>\n",
       "    <tr>\n",
       "      <th>94469</th>\n",
       "      <td>1506717607235182592</td>\n",
       "      <td>[2022-06-22, 2022-07-22)</td>\n",
       "      <td>0.000000</td>\n",
       "      <td>0.000000</td>\n",
       "      <td>-0.898810</td>\n",
       "      <td>0.000000</td>\n",
       "      <td>0.000000</td>\n",
       "      <td>0.000000</td>\n",
       "    </tr>\n",
       "    <tr>\n",
       "      <th>94470</th>\n",
       "      <td>1506717607235182592</td>\n",
       "      <td>[2022-07-22, 2022-08-21)</td>\n",
       "      <td>0.000000</td>\n",
       "      <td>0.015278</td>\n",
       "      <td>-0.708113</td>\n",
       "      <td>-0.013889</td>\n",
       "      <td>0.088889</td>\n",
       "      <td>0.000000</td>\n",
       "    </tr>\n",
       "    <tr>\n",
       "      <th>94471</th>\n",
       "      <td>1506717607235182592</td>\n",
       "      <td>[2022-08-21, 2022-09-10)</td>\n",
       "      <td>0.000000</td>\n",
       "      <td>-0.025000</td>\n",
       "      <td>-0.476667</td>\n",
       "      <td>0.000000</td>\n",
       "      <td>0.133750</td>\n",
       "      <td>0.091667</td>\n",
       "    </tr>\n",
       "  </tbody>\n",
       "</table>\n",
       "<p>94472 rows × 8 columns</p>\n",
       "</div>"
      ],
      "text/plain": [
       "                   User_id                 30day_cut      HorA  authority  \\\n",
       "0                     1378  [2022-02-22, 2022-03-24)  0.007168   0.041622   \n",
       "1                     1378  [2022-03-24, 2022-04-23)  0.004566   0.025209   \n",
       "2                     1378  [2022-04-23, 2022-05-23)  0.000000   0.035638   \n",
       "3                     1378  [2022-05-23, 2022-06-22)  0.000000   0.092585   \n",
       "4                     1378  [2022-06-22, 2022-07-22)  0.000000   0.056713   \n",
       "...                    ...                       ...       ...        ...   \n",
       "94467  1506717607235182592  [2022-04-23, 2022-05-23)  0.000000   0.000000   \n",
       "94468  1506717607235182592  [2022-05-23, 2022-06-22)  0.000000   0.072917   \n",
       "94469  1506717607235182592  [2022-06-22, 2022-07-22)  0.000000   0.000000   \n",
       "94470  1506717607235182592  [2022-07-22, 2022-08-21)  0.000000   0.015278   \n",
       "94471  1506717607235182592  [2022-08-21, 2022-09-10)  0.000000  -0.025000   \n",
       "\n",
       "           care  fairness   loyalty    purity  \n",
       "0     -0.411163  0.017116  0.033132 -0.002748  \n",
       "1     -0.622084  0.012965  0.044747  0.019273  \n",
       "2     -0.526144  0.023284  0.061180 -0.017004  \n",
       "3     -0.552907  0.045290  0.122768 -0.010870  \n",
       "4     -0.539043  0.028935  0.019965  0.006944  \n",
       "...         ...       ...       ...       ...  \n",
       "94467 -0.833333  0.000000  0.000000  0.000000  \n",
       "94468 -0.208333  0.197917  0.085938  0.000000  \n",
       "94469 -0.898810  0.000000  0.000000  0.000000  \n",
       "94470 -0.708113 -0.013889  0.088889  0.000000  \n",
       "94471 -0.476667  0.000000  0.133750  0.091667  \n",
       "\n",
       "[94472 rows x 8 columns]"
      ]
     },
     "execution_count": 37,
     "metadata": {},
     "output_type": "execute_result"
    }
   ],
   "source": [
    "ddf"
   ]
  },
  {
   "cell_type": "code",
   "execution_count": 59,
   "id": "87050aa9",
   "metadata": {
    "ExecuteTime": {
     "end_time": "2023-03-28T12:20:55.902698Z",
     "start_time": "2023-03-28T12:20:55.250302Z"
    }
   },
   "outputs": [
    {
     "name": "stdout",
     "output_type": "stream",
     "text": [
      "Optimization terminated successfully.\n",
      "         Current function value: 0.114747\n",
      "         Iterations 7\n",
      "                           Logit Regression Results                           \n",
      "==============================================================================\n",
      "Dep. Variable:                   HorA   No. Observations:                94472\n",
      "Model:                          Logit   Df Residuals:                    94466\n",
      "Method:                           MLE   Df Model:                            5\n",
      "Date:                Tue, 28 Mar 2023   Pseudo R-squ.:                 -0.4601\n",
      "Time:                        20:20:55   Log-Likelihood:                -10840.\n",
      "converged:                       True   LL-Null:                       -7424.4\n",
      "Covariance Type:            nonrobust   LLR p-value:                     1.000\n",
      "==============================================================================\n",
      "                 coef    std err          z      P>|z|      [0.025      0.975]\n",
      "------------------------------------------------------------------------------\n",
      "const         -3.0987      0.021   -146.217      0.000      -3.140      -3.057\n",
      "care          -1.0216      0.052    -19.696      0.000      -1.123      -0.920\n",
      "fairness       1.1084      0.147      7.527      0.000       0.820       1.397\n",
      "authority      0.0829      0.133      0.623      0.533      -0.178       0.343\n",
      "purity        -0.6748      0.139     -4.838      0.000      -0.948      -0.401\n",
      "loyalty       -1.9718      0.123    -16.062      0.000      -2.212      -1.731\n",
      "==============================================================================\n"
     ]
    }
   ],
   "source": [
    "import statsmodels.api as sm\n",
    "\n",
    "# 读取数据\n",
    "data = ddf\n",
    "\n",
    "# 拆分数据集\n",
    "X = data[['care', 'fairness', 'authority', 'purity', 'loyalty']]\n",
    "y = data['HorA']\n",
    "\n",
    "# 添加截距项\n",
    "X = sm.add_constant(X)\n",
    "\n",
    "# 拟合逻辑回归模型\n",
    "logit_model = sm.Logit(y, X)\n",
    "result = logit_model.fit()\n",
    "\n",
    "# 打印结果\n",
    "print(result.summary())"
   ]
  },
  {
   "cell_type": "markdown",
   "id": "31c345c2",
   "metadata": {},
   "source": [
    "Pseudo R-squared 为负数说明模型的拟合效果不如使用平均值预测的效果好。这意味着模型的预测误差大于使用平均值预测的误差。一塌糊涂！"
   ]
  },
  {
   "cell_type": "code",
   "execution_count": 69,
   "id": "31754ed8",
   "metadata": {
    "ExecuteTime": {
     "end_time": "2023-03-28T12:29:32.840523Z",
     "start_time": "2023-03-28T12:29:32.806202Z"
    }
   },
   "outputs": [
    {
     "data": {
      "text/html": [
       "<div>\n",
       "<style scoped>\n",
       "    .dataframe tbody tr th:only-of-type {\n",
       "        vertical-align: middle;\n",
       "    }\n",
       "\n",
       "    .dataframe tbody tr th {\n",
       "        vertical-align: top;\n",
       "    }\n",
       "\n",
       "    .dataframe thead th {\n",
       "        text-align: right;\n",
       "    }\n",
       "</style>\n",
       "<table border=\"1\" class=\"dataframe\">\n",
       "  <thead>\n",
       "    <tr style=\"text-align: right;\">\n",
       "      <th></th>\n",
       "      <th>HorA</th>\n",
       "      <th>authority</th>\n",
       "      <th>care</th>\n",
       "      <th>fairness</th>\n",
       "      <th>loyalty</th>\n",
       "      <th>purity</th>\n",
       "    </tr>\n",
       "  </thead>\n",
       "  <tbody>\n",
       "    <tr>\n",
       "      <th>count</th>\n",
       "      <td>94472.000000</td>\n",
       "      <td>94472.000000</td>\n",
       "      <td>94472.000000</td>\n",
       "      <td>94472.000000</td>\n",
       "      <td>94472.000000</td>\n",
       "      <td>94472.000000</td>\n",
       "    </tr>\n",
       "    <tr>\n",
       "      <th>mean</th>\n",
       "      <td>0.054366</td>\n",
       "      <td>0.029781</td>\n",
       "      <td>-0.204346</td>\n",
       "      <td>0.026175</td>\n",
       "      <td>0.028979</td>\n",
       "      <td>0.013584</td>\n",
       "    </tr>\n",
       "    <tr>\n",
       "      <th>std</th>\n",
       "      <td>0.136935</td>\n",
       "      <td>0.104617</td>\n",
       "      <td>0.265016</td>\n",
       "      <td>0.078949</td>\n",
       "      <td>0.125573</td>\n",
       "      <td>0.105394</td>\n",
       "    </tr>\n",
       "    <tr>\n",
       "      <th>min</th>\n",
       "      <td>0.000000</td>\n",
       "      <td>-0.812500</td>\n",
       "      <td>-1.000000</td>\n",
       "      <td>-0.458333</td>\n",
       "      <td>-1.000000</td>\n",
       "      <td>-0.900000</td>\n",
       "    </tr>\n",
       "    <tr>\n",
       "      <th>25%</th>\n",
       "      <td>0.000000</td>\n",
       "      <td>0.000000</td>\n",
       "      <td>-0.349419</td>\n",
       "      <td>0.000000</td>\n",
       "      <td>0.000000</td>\n",
       "      <td>0.000000</td>\n",
       "    </tr>\n",
       "    <tr>\n",
       "      <th>50%</th>\n",
       "      <td>0.000000</td>\n",
       "      <td>0.000000</td>\n",
       "      <td>-0.155548</td>\n",
       "      <td>0.000000</td>\n",
       "      <td>0.000000</td>\n",
       "      <td>0.000000</td>\n",
       "    </tr>\n",
       "    <tr>\n",
       "      <th>75%</th>\n",
       "      <td>0.038462</td>\n",
       "      <td>0.040000</td>\n",
       "      <td>0.000000</td>\n",
       "      <td>0.020798</td>\n",
       "      <td>0.042208</td>\n",
       "      <td>0.008839</td>\n",
       "    </tr>\n",
       "    <tr>\n",
       "      <th>max</th>\n",
       "      <td>1.000000</td>\n",
       "      <td>0.950000</td>\n",
       "      <td>0.950000</td>\n",
       "      <td>1.000000</td>\n",
       "      <td>0.975000</td>\n",
       "      <td>1.000000</td>\n",
       "    </tr>\n",
       "  </tbody>\n",
       "</table>\n",
       "</div>"
      ],
      "text/plain": [
       "               HorA     authority          care      fairness       loyalty  \\\n",
       "count  94472.000000  94472.000000  94472.000000  94472.000000  94472.000000   \n",
       "mean       0.054366      0.029781     -0.204346      0.026175      0.028979   \n",
       "std        0.136935      0.104617      0.265016      0.078949      0.125573   \n",
       "min        0.000000     -0.812500     -1.000000     -0.458333     -1.000000   \n",
       "25%        0.000000      0.000000     -0.349419      0.000000      0.000000   \n",
       "50%        0.000000      0.000000     -0.155548      0.000000      0.000000   \n",
       "75%        0.038462      0.040000      0.000000      0.020798      0.042208   \n",
       "max        1.000000      0.950000      0.950000      1.000000      0.975000   \n",
       "\n",
       "             purity  \n",
       "count  94472.000000  \n",
       "mean       0.013584  \n",
       "std        0.105394  \n",
       "min       -0.900000  \n",
       "25%        0.000000  \n",
       "50%        0.000000  \n",
       "75%        0.008839  \n",
       "max        1.000000  "
      ]
     },
     "execution_count": 69,
     "metadata": {},
     "output_type": "execute_result"
    }
   ],
   "source": [
    "ddf.describe()"
   ]
  },
  {
   "cell_type": "code",
   "execution_count": 110,
   "id": "ee012068",
   "metadata": {
    "ExecuteTime": {
     "end_time": "2023-03-28T13:30:14.515034Z",
     "start_time": "2023-03-28T13:30:14.384178Z"
    }
   },
   "outputs": [
    {
     "name": "stdout",
     "output_type": "stream",
     "text": [
      "   VIF Factor   features\n",
      "0    1.064128       care\n",
      "1    1.047720   fairness\n",
      "2    1.059330  authority\n",
      "3    1.006710     purity\n",
      "4    1.038962    loyalty\n"
     ]
    }
   ],
   "source": [
    "#自变量之间的共线性检验\n",
    "from statsmodels.stats.outliers_influence import variance_inflation_factor\n",
    "\n",
    "# 将需要检测的变量放入一个列表中\n",
    "variables = ['care', 'fairness', 'authority', 'purity', 'loyalty']\n",
    "\n",
    "# 创建一个新的DataFrame，只包含需要检测的变量\n",
    "new_df = ddf[variables]\n",
    "\n",
    "# 计算VIF值\n",
    "vif = pd.DataFrame()\n",
    "vif[\"VIF Factor\"] = [variance_inflation_factor(new_df.values, i) for i in range(new_df.shape[1])]\n",
    "vif[\"features\"] = new_df.columns\n",
    "\n",
    "# 输出结果\n",
    "print(vif)"
   ]
  },
  {
   "cell_type": "markdown",
   "id": "14b9cb7a",
   "metadata": {},
   "source": [
    "五个道德维度之间不存在多重共线性问题"
   ]
  },
  {
   "cell_type": "code",
   "execution_count": 108,
   "id": "2e693a07",
   "metadata": {
    "ExecuteTime": {
     "end_time": "2023-03-28T13:24:18.618813Z",
     "start_time": "2023-03-28T13:24:18.494327Z"
    }
   },
   "outputs": [
    {
     "name": "stdout",
     "output_type": "stream",
     "text": [
      "                            OLS Regression Results                            \n",
      "==============================================================================\n",
      "Dep. Variable:                   HorA   R-squared:                       0.070\n",
      "Model:                            OLS   Adj. R-squared:                  0.070\n",
      "Method:                 Least Squares   F-statistic:                     204.6\n",
      "Date:                Tue, 28 Mar 2023   Prob (F-statistic):          6.47e-211\n",
      "Time:                        21:24:18   Log-Likelihood:                 13990.\n",
      "No. Observations:               13496   AIC:                        -2.797e+04\n",
      "Df Residuals:                   13490   BIC:                        -2.792e+04\n",
      "Df Model:                           5                                         \n",
      "Covariance Type:            nonrobust                                         \n",
      "==============================================================================\n",
      "                 coef    std err          t      P>|t|      [0.025      0.975]\n",
      "------------------------------------------------------------------------------\n",
      "const          0.0407      0.001     30.864      0.000       0.038       0.043\n",
      "care          -0.0728      0.004    -18.032      0.000      -0.081      -0.065\n",
      "fairness       0.2285      0.018     12.462      0.000       0.193       0.264\n",
      "authority     -0.0270      0.014     -1.872      0.061      -0.055       0.001\n",
      "purity        -0.0756      0.014     -5.577      0.000      -0.102      -0.049\n",
      "loyalty       -0.1835      0.010    -18.583      0.000      -0.203      -0.164\n",
      "==============================================================================\n",
      "Omnibus:                     9385.602   Durbin-Watson:                   1.995\n",
      "Prob(Omnibus):                  0.000   Jarque-Bera (JB):           175612.332\n",
      "Skew:                           3.139   Prob(JB):                         0.00\n",
      "Kurtosis:                      19.519   Cond. No.                         25.5\n",
      "==============================================================================\n",
      "\n",
      "Notes:\n",
      "[1] Standard Errors assume that the covariance matrix of the errors is correctly specified.\n"
     ]
    }
   ],
   "source": [
    "import statsmodels.api as sm\n",
    "\n",
    "# 将数据按照个体分组\n",
    "groups = ddf.groupby('User_id')\n",
    "\n",
    "# 定义自变量和因变量\n",
    "y = groups['HorA'].mean()\n",
    "X = groups[['care', 'fairness', 'authority', 'purity', 'loyalty']].mean()\n",
    "\n",
    "# 拟合OLS回归模型\n",
    "X = sm.add_constant(X)\n",
    "model = sm.OLS(y, X).fit()\n",
    "\n",
    "# 输出结果\n",
    "print(model.summary())"
   ]
  },
  {
   "cell_type": "code",
   "execution_count": 15,
   "id": "23b6d6d8",
   "metadata": {
    "ExecuteTime": {
     "end_time": "2023-03-29T08:22:01.086384Z",
     "start_time": "2023-03-29T08:22:01.056033Z"
    }
   },
   "outputs": [
    {
     "data": {
      "text/html": [
       "<div>\n",
       "<style scoped>\n",
       "    .dataframe tbody tr th:only-of-type {\n",
       "        vertical-align: middle;\n",
       "    }\n",
       "\n",
       "    .dataframe tbody tr th {\n",
       "        vertical-align: top;\n",
       "    }\n",
       "\n",
       "    .dataframe thead th {\n",
       "        text-align: right;\n",
       "    }\n",
       "</style>\n",
       "<table border=\"1\" class=\"dataframe\">\n",
       "  <thead>\n",
       "    <tr style=\"text-align: right;\">\n",
       "      <th></th>\n",
       "      <th>User_id</th>\n",
       "      <th>30day_cut</th>\n",
       "      <th>HorA</th>\n",
       "      <th>authority</th>\n",
       "      <th>care</th>\n",
       "      <th>fairness</th>\n",
       "      <th>loyalty</th>\n",
       "      <th>purity</th>\n",
       "    </tr>\n",
       "  </thead>\n",
       "  <tbody>\n",
       "    <tr>\n",
       "      <th>0</th>\n",
       "      <td>1378</td>\n",
       "      <td>[2022-02-22, 2022-03-24)</td>\n",
       "      <td>0.007168</td>\n",
       "      <td>0.041622</td>\n",
       "      <td>-0.411163</td>\n",
       "      <td>0.017116</td>\n",
       "      <td>0.033132</td>\n",
       "      <td>-0.002748</td>\n",
       "    </tr>\n",
       "    <tr>\n",
       "      <th>1</th>\n",
       "      <td>1378</td>\n",
       "      <td>[2022-03-24, 2022-04-23)</td>\n",
       "      <td>0.004566</td>\n",
       "      <td>0.025209</td>\n",
       "      <td>-0.622084</td>\n",
       "      <td>0.012965</td>\n",
       "      <td>0.044747</td>\n",
       "      <td>0.019273</td>\n",
       "    </tr>\n",
       "    <tr>\n",
       "      <th>2</th>\n",
       "      <td>1378</td>\n",
       "      <td>[2022-04-23, 2022-05-23)</td>\n",
       "      <td>0.000000</td>\n",
       "      <td>0.035638</td>\n",
       "      <td>-0.526144</td>\n",
       "      <td>0.023284</td>\n",
       "      <td>0.061180</td>\n",
       "      <td>-0.017004</td>\n",
       "    </tr>\n",
       "    <tr>\n",
       "      <th>3</th>\n",
       "      <td>1378</td>\n",
       "      <td>[2022-05-23, 2022-06-22)</td>\n",
       "      <td>0.000000</td>\n",
       "      <td>0.092585</td>\n",
       "      <td>-0.552907</td>\n",
       "      <td>0.045290</td>\n",
       "      <td>0.122768</td>\n",
       "      <td>-0.010870</td>\n",
       "    </tr>\n",
       "    <tr>\n",
       "      <th>4</th>\n",
       "      <td>1378</td>\n",
       "      <td>[2022-06-22, 2022-07-22)</td>\n",
       "      <td>0.000000</td>\n",
       "      <td>0.056713</td>\n",
       "      <td>-0.539043</td>\n",
       "      <td>0.028935</td>\n",
       "      <td>0.019965</td>\n",
       "      <td>0.006944</td>\n",
       "    </tr>\n",
       "  </tbody>\n",
       "</table>\n",
       "</div>"
      ],
      "text/plain": [
       "   User_id                 30day_cut      HorA  authority      care  fairness  \\\n",
       "0     1378  [2022-02-22, 2022-03-24)  0.007168   0.041622 -0.411163  0.017116   \n",
       "1     1378  [2022-03-24, 2022-04-23)  0.004566   0.025209 -0.622084  0.012965   \n",
       "2     1378  [2022-04-23, 2022-05-23)  0.000000   0.035638 -0.526144  0.023284   \n",
       "3     1378  [2022-05-23, 2022-06-22)  0.000000   0.092585 -0.552907  0.045290   \n",
       "4     1378  [2022-06-22, 2022-07-22)  0.000000   0.056713 -0.539043  0.028935   \n",
       "\n",
       "    loyalty    purity  \n",
       "0  0.033132 -0.002748  \n",
       "1  0.044747  0.019273  \n",
       "2  0.061180 -0.017004  \n",
       "3  0.122768 -0.010870  \n",
       "4  0.019965  0.006944  "
      ]
     },
     "execution_count": 15,
     "metadata": {},
     "output_type": "execute_result"
    }
   ],
   "source": [
    "ddf.head()"
   ]
  },
  {
   "cell_type": "markdown",
   "id": "c971fb4f",
   "metadata": {},
   "source": [
    "这个模型的R-squared为0.070，说明自变量只能解释因变量的7%。但是，F-statistic为204.6，Prob (F-statistic)为6.47e-211，说明回归系数非常显著。AIC和BIC的值也比较小，说明这个模型拟合得还不错。但是，这个模型只能解释因变量的7%，可能需要更多的自变量来提高拟合度。"
   ]
  },
  {
   "cell_type": "code",
   "execution_count": 41,
   "id": "dcb50d12",
   "metadata": {
    "ExecuteTime": {
     "end_time": "2023-03-29T08:38:09.653202Z",
     "start_time": "2023-03-29T08:38:08.392719Z"
    }
   },
   "outputs": [
    {
     "ename": "FactorEvaluationError",
     "evalue": "Unable to evaluate factor `HorA`. [KeyError: 'HorA']",
     "output_type": "error",
     "traceback": [
      "\u001b[1;31m---------------------------------------------------------------------------\u001b[0m",
      "\u001b[1;31mKeyError\u001b[0m                                  Traceback (most recent call last)",
      "File \u001b[1;32mD:\\Anaconda\\lib\\site-packages\\formulaic\\materializers\\base.py:445\u001b[0m, in \u001b[0;36mFormulaMaterializer._evaluate_factor\u001b[1;34m(self, factor, spec, drop_rows)\u001b[0m\n\u001b[0;32m    444\u001b[0m \u001b[38;5;28;01mif\u001b[39;00m factor\u001b[38;5;241m.\u001b[39meval_method\u001b[38;5;241m.\u001b[39mvalue \u001b[38;5;241m==\u001b[39m \u001b[38;5;124m\"\u001b[39m\u001b[38;5;124mlookup\u001b[39m\u001b[38;5;124m\"\u001b[39m:\n\u001b[1;32m--> 445\u001b[0m     value \u001b[38;5;241m=\u001b[39m \u001b[38;5;28;43mself\u001b[39;49m\u001b[38;5;241;43m.\u001b[39;49m\u001b[43m_lookup\u001b[49m\u001b[43m(\u001b[49m\u001b[43mfactor\u001b[49m\u001b[38;5;241;43m.\u001b[39;49m\u001b[43mexpr\u001b[49m\u001b[43m)\u001b[49m\n\u001b[0;32m    446\u001b[0m \u001b[38;5;28;01melif\u001b[39;00m factor\u001b[38;5;241m.\u001b[39meval_method\u001b[38;5;241m.\u001b[39mvalue \u001b[38;5;241m==\u001b[39m \u001b[38;5;124m\"\u001b[39m\u001b[38;5;124mpython\u001b[39m\u001b[38;5;124m\"\u001b[39m:\n",
      "File \u001b[1;32mD:\\Anaconda\\lib\\site-packages\\formulaic\\materializers\\base.py:505\u001b[0m, in \u001b[0;36mFormulaMaterializer._lookup\u001b[1;34m(self, name)\u001b[0m\n\u001b[0;32m    504\u001b[0m \u001b[38;5;28;01mdef\u001b[39;00m \u001b[38;5;21m_lookup\u001b[39m(\u001b[38;5;28mself\u001b[39m, name):\n\u001b[1;32m--> 505\u001b[0m     \u001b[38;5;28;01mreturn\u001b[39;00m \u001b[38;5;28;43mself\u001b[39;49m\u001b[38;5;241;43m.\u001b[39;49m\u001b[43mlayered_context\u001b[49m\u001b[43m[\u001b[49m\u001b[43mname\u001b[49m\u001b[43m]\u001b[49m\n",
      "File \u001b[1;32mD:\\Anaconda\\lib\\site-packages\\formulaic\\utils\\layered_mapping.py:34\u001b[0m, in \u001b[0;36mLayeredMapping.__getitem__\u001b[1;34m(self, key)\u001b[0m\n\u001b[0;32m     33\u001b[0m         \u001b[38;5;28;01mreturn\u001b[39;00m layer[key]\n\u001b[1;32m---> 34\u001b[0m \u001b[38;5;28;01mraise\u001b[39;00m \u001b[38;5;167;01mKeyError\u001b[39;00m(key)\n",
      "\u001b[1;31mKeyError\u001b[0m: 'HorA'",
      "\nDuring handling of the above exception, another exception occurred:\n",
      "\u001b[1;31mFactorEvaluationError\u001b[0m                     Traceback (most recent call last)",
      "Input \u001b[1;32mIn [41]\u001b[0m, in \u001b[0;36m<cell line: 2>\u001b[1;34m()\u001b[0m\n\u001b[0;32m      1\u001b[0m \u001b[38;5;28;01mfrom\u001b[39;00m \u001b[38;5;21;01mlinearmodels\u001b[39;00m \u001b[38;5;28;01mimport\u001b[39;00m PanelOLS\n\u001b[1;32m----> 2\u001b[0m reg_fe \u001b[38;5;241m=\u001b[39m \u001b[43mPanelOLS\u001b[49m\u001b[38;5;241;43m.\u001b[39;49m\u001b[43mfrom_formula\u001b[49m\u001b[43m(\u001b[49m\u001b[38;5;124;43m'\u001b[39;49m\u001b[38;5;124;43mHorA ~ care + fairness + authority + purity + loyalty + EntityEffects\u001b[39;49m\u001b[38;5;124;43m'\u001b[39;49m\u001b[43m,\u001b[49m\u001b[43m \u001b[49m\u001b[43mdata\u001b[49m\u001b[38;5;241;43m=\u001b[39;49m\u001b[43mddf\u001b[49m\u001b[43m)\u001b[49m\n\u001b[0;32m      3\u001b[0m results_fe \u001b[38;5;241m=\u001b[39m reg_fe\u001b[38;5;241m.\u001b[39mfit()\n\u001b[0;32m      4\u001b[0m \u001b[38;5;28mprint\u001b[39m(results_fe)\n",
      "File \u001b[1;32mD:\\Anaconda\\lib\\site-packages\\linearmodels\\panel\\model.py:1384\u001b[0m, in \u001b[0;36mPanelOLS.from_formula\u001b[1;34m(cls, formula, data, weights, other_effects, singletons, drop_absorbed, check_rank)\u001b[0m\n\u001b[0;32m   1382\u001b[0m entity_effect \u001b[38;5;241m=\u001b[39m parser\u001b[38;5;241m.\u001b[39mentity_effect\n\u001b[0;32m   1383\u001b[0m time_effect \u001b[38;5;241m=\u001b[39m parser\u001b[38;5;241m.\u001b[39mtime_effect\n\u001b[1;32m-> 1384\u001b[0m dependent, exog \u001b[38;5;241m=\u001b[39m \u001b[43mparser\u001b[49m\u001b[38;5;241;43m.\u001b[39;49m\u001b[43mdata\u001b[49m\n\u001b[0;32m   1385\u001b[0m mod \u001b[38;5;241m=\u001b[39m \u001b[38;5;28mcls\u001b[39m(\n\u001b[0;32m   1386\u001b[0m     dependent,\n\u001b[0;32m   1387\u001b[0m     exog,\n\u001b[1;32m   (...)\u001b[0m\n\u001b[0;32m   1394\u001b[0m     check_rank\u001b[38;5;241m=\u001b[39mcheck_rank,\n\u001b[0;32m   1395\u001b[0m )\n\u001b[0;32m   1396\u001b[0m mod\u001b[38;5;241m.\u001b[39mformula \u001b[38;5;241m=\u001b[39m formula\n",
      "File \u001b[1;32mD:\\Anaconda\\lib\\site-packages\\linearmodels\\panel\\model.py:200\u001b[0m, in \u001b[0;36mPanelFormulaParser.data\u001b[1;34m(self)\u001b[0m\n\u001b[0;32m    198\u001b[0m \u001b[38;5;124;03m\"\"\"Returns a tuple containing the dependent, exog, endog\"\"\"\u001b[39;00m\n\u001b[0;32m    199\u001b[0m \u001b[38;5;28mself\u001b[39m\u001b[38;5;241m.\u001b[39m_context \u001b[38;5;241m+\u001b[39m\u001b[38;5;241m=\u001b[39m \u001b[38;5;241m1\u001b[39m\n\u001b[1;32m--> 200\u001b[0m out \u001b[38;5;241m=\u001b[39m \u001b[38;5;28;43mself\u001b[39;49m\u001b[38;5;241;43m.\u001b[39;49m\u001b[43mdependent\u001b[49m, \u001b[38;5;28mself\u001b[39m\u001b[38;5;241m.\u001b[39mexog\n\u001b[0;32m    201\u001b[0m \u001b[38;5;28mself\u001b[39m\u001b[38;5;241m.\u001b[39m_context \u001b[38;5;241m-\u001b[39m\u001b[38;5;241m=\u001b[39m \u001b[38;5;241m1\u001b[39m\n\u001b[0;32m    202\u001b[0m \u001b[38;5;28;01mreturn\u001b[39;00m out\n",
      "File \u001b[1;32mD:\\Anaconda\\lib\\site-packages\\linearmodels\\panel\\model.py:208\u001b[0m, in \u001b[0;36mPanelFormulaParser.dependent\u001b[1;34m(self)\u001b[0m\n\u001b[0;32m    204\u001b[0m \u001b[38;5;129m@property\u001b[39m\n\u001b[0;32m    205\u001b[0m \u001b[38;5;28;01mdef\u001b[39;00m \u001b[38;5;21mdependent\u001b[39m(\u001b[38;5;28mself\u001b[39m) \u001b[38;5;241m-\u001b[39m\u001b[38;5;241m>\u001b[39m DataFrame:\n\u001b[0;32m    206\u001b[0m     \u001b[38;5;124;03m\"\"\"DataFrame containing the dependent variable\"\"\"\u001b[39;00m\n\u001b[0;32m    207\u001b[0m     \u001b[38;5;28;01mreturn\u001b[39;00m DataFrame(\n\u001b[1;32m--> 208\u001b[0m         \u001b[43mmodel_matrix\u001b[49m\u001b[43m(\u001b[49m\n\u001b[0;32m    209\u001b[0m \u001b[43m            \u001b[49m\u001b[38;5;28;43mself\u001b[39;49m\u001b[38;5;241;43m.\u001b[39;49m\u001b[43m_lhs\u001b[49m\u001b[43m,\u001b[49m\n\u001b[0;32m    210\u001b[0m \u001b[43m            \u001b[49m\u001b[38;5;28;43mself\u001b[39;49m\u001b[38;5;241;43m.\u001b[39;49m\u001b[43m_data\u001b[49m\u001b[38;5;241;43m.\u001b[39;49m\u001b[43mdataframe\u001b[49m\u001b[43m,\u001b[49m\n\u001b[0;32m    211\u001b[0m \u001b[43m            \u001b[49m\u001b[43mcontext\u001b[49m\u001b[38;5;241;43m=\u001b[39;49m\u001b[38;5;28;43mself\u001b[39;49m\u001b[38;5;241;43m.\u001b[39;49m\u001b[43m_context\u001b[49m\u001b[43m,\u001b[49m\n\u001b[0;32m    212\u001b[0m \u001b[43m            \u001b[49m\u001b[43mna_action\u001b[49m\u001b[38;5;241;43m=\u001b[39;49m\u001b[38;5;28;43mself\u001b[39;49m\u001b[38;5;241;43m.\u001b[39;49m\u001b[43m_na_action\u001b[49m\u001b[43m,\u001b[49m\n\u001b[0;32m    213\u001b[0m \u001b[43m        \u001b[49m\u001b[43m)\u001b[49m\n\u001b[0;32m    214\u001b[0m     )\n",
      "File \u001b[1;32mD:\\Anaconda\\lib\\site-packages\\formulaic\\sugar.py:57\u001b[0m, in \u001b[0;36mmodel_matrix\u001b[1;34m(spec, data, context, **kwargs)\u001b[0m\n\u001b[0;32m     55\u001b[0m \u001b[38;5;28;01melif\u001b[39;00m \u001b[38;5;129;01mnot\u001b[39;00m \u001b[38;5;28misinstance\u001b[39m(spec, ModelSpec):\n\u001b[0;32m     56\u001b[0m     spec \u001b[38;5;241m=\u001b[39m Formula\u001b[38;5;241m.\u001b[39mfrom_spec(spec)\n\u001b[1;32m---> 57\u001b[0m \u001b[38;5;28;01mreturn\u001b[39;00m \u001b[43mspec\u001b[49m\u001b[38;5;241;43m.\u001b[39;49m\u001b[43mget_model_matrix\u001b[49m\u001b[43m(\u001b[49m\u001b[43mdata\u001b[49m\u001b[43m,\u001b[49m\u001b[43m \u001b[49m\u001b[43mcontext\u001b[49m\u001b[38;5;241;43m=\u001b[39;49m\u001b[43mcontext\u001b[49m\u001b[43m,\u001b[49m\u001b[43m \u001b[49m\u001b[38;5;241;43m*\u001b[39;49m\u001b[38;5;241;43m*\u001b[39;49m\u001b[43mkwargs\u001b[49m\u001b[43m)\u001b[49m\n",
      "File \u001b[1;32mD:\\Anaconda\\lib\\site-packages\\formulaic\\formula.py:77\u001b[0m, in \u001b[0;36mFormula.get_model_matrix\u001b[1;34m(self, data, context, materializer, ensure_full_rank, **kwargs)\u001b[0m\n\u001b[0;32m     71\u001b[0m \u001b[38;5;28;01mif\u001b[39;00m \u001b[38;5;129;01mnot\u001b[39;00m inspect\u001b[38;5;241m.\u001b[39misclass(materializer) \u001b[38;5;129;01mor\u001b[39;00m \u001b[38;5;129;01mnot\u001b[39;00m \u001b[38;5;28missubclass\u001b[39m(\n\u001b[0;32m     72\u001b[0m     materializer, FormulaMaterializer\n\u001b[0;32m     73\u001b[0m ):\n\u001b[0;32m     74\u001b[0m     \u001b[38;5;28;01mraise\u001b[39;00m FormulaMaterializerInvalidError(\n\u001b[0;32m     75\u001b[0m         \u001b[38;5;124m\"\u001b[39m\u001b[38;5;124mMaterializers must be subclasses of `formulaic.materializers.FormulaMaterializer`.\u001b[39m\u001b[38;5;124m\"\u001b[39m\n\u001b[0;32m     76\u001b[0m     )\n\u001b[1;32m---> 77\u001b[0m \u001b[38;5;28;01mreturn\u001b[39;00m \u001b[43mmaterializer\u001b[49m\u001b[43m(\u001b[49m\u001b[43mdata\u001b[49m\u001b[43m,\u001b[49m\u001b[43m \u001b[49m\u001b[43mcontext\u001b[49m\u001b[38;5;241;43m=\u001b[39;49m\u001b[43mcontext\u001b[49m\u001b[43m \u001b[49m\u001b[38;5;129;43;01mor\u001b[39;49;00m\u001b[43m \u001b[49m\u001b[43m{\u001b[49m\u001b[43m}\u001b[49m\u001b[43m)\u001b[49m\u001b[38;5;241;43m.\u001b[39;49m\u001b[43mget_model_matrix\u001b[49m\u001b[43m(\u001b[49m\n\u001b[0;32m     78\u001b[0m \u001b[43m    \u001b[49m\u001b[38;5;28;43mself\u001b[39;49m\u001b[43m,\u001b[49m\u001b[43m \u001b[49m\u001b[43mensure_full_rank\u001b[49m\u001b[38;5;241;43m=\u001b[39;49m\u001b[43mensure_full_rank\u001b[49m\u001b[43m,\u001b[49m\u001b[43m \u001b[49m\u001b[38;5;241;43m*\u001b[39;49m\u001b[38;5;241;43m*\u001b[39;49m\u001b[43mkwargs\u001b[49m\n\u001b[0;32m     79\u001b[0m \u001b[43m\u001b[49m\u001b[43m)\u001b[49m\n",
      "File \u001b[1;32mD:\\Anaconda\\lib\\site-packages\\formulaic\\materializers\\base.py:157\u001b[0m, in \u001b[0;36mFormulaMaterializer.get_model_matrix\u001b[1;34m(self, spec, ensure_full_rank, na_action, output)\u001b[0m\n\u001b[0;32m    155\u001b[0m drop_rows \u001b[38;5;241m=\u001b[39m \u001b[38;5;28mset\u001b[39m()\n\u001b[0;32m    156\u001b[0m \u001b[38;5;28;01mfor\u001b[39;00m factor \u001b[38;5;129;01min\u001b[39;00m factors:\n\u001b[1;32m--> 157\u001b[0m     \u001b[38;5;28;43mself\u001b[39;49m\u001b[38;5;241;43m.\u001b[39;49m\u001b[43m_evaluate_factor\u001b[49m\u001b[43m(\u001b[49m\u001b[43mfactor\u001b[49m\u001b[43m,\u001b[49m\u001b[43m \u001b[49m\u001b[43mfactor_evaluation_model_spec\u001b[49m\u001b[43m,\u001b[49m\u001b[43m \u001b[49m\u001b[43mdrop_rows\u001b[49m\u001b[43m)\u001b[49m\n\u001b[0;32m    158\u001b[0m drop_rows \u001b[38;5;241m=\u001b[39m \u001b[38;5;28msorted\u001b[39m(drop_rows)\n\u001b[0;32m    160\u001b[0m \u001b[38;5;66;03m# Step 2: Update the structured model specs with the information from\u001b[39;00m\n\u001b[0;32m    161\u001b[0m \u001b[38;5;66;03m# the shared transform state pool.\u001b[39;00m\n",
      "File \u001b[1;32mD:\\Anaconda\\lib\\site-packages\\formulaic\\materializers\\base.py:460\u001b[0m, in \u001b[0;36mFormulaMaterializer._evaluate_factor\u001b[1;34m(self, factor, spec, drop_rows)\u001b[0m\n\u001b[0;32m    458\u001b[0m     \u001b[38;5;28;01mraise\u001b[39;00m\n\u001b[0;32m    459\u001b[0m \u001b[38;5;28;01mexcept\u001b[39;00m \u001b[38;5;167;01mException\u001b[39;00m \u001b[38;5;28;01mas\u001b[39;00m e:\n\u001b[1;32m--> 460\u001b[0m     \u001b[38;5;28;01mraise\u001b[39;00m FactorEvaluationError(\n\u001b[0;32m    461\u001b[0m         \u001b[38;5;124mf\u001b[39m\u001b[38;5;124m\"\u001b[39m\u001b[38;5;124mUnable to evaluate factor `\u001b[39m\u001b[38;5;132;01m{\u001b[39;00mfactor\u001b[38;5;132;01m}\u001b[39;00m\u001b[38;5;124m`. [\u001b[39m\u001b[38;5;132;01m{\u001b[39;00m\u001b[38;5;28mtype\u001b[39m(e)\u001b[38;5;241m.\u001b[39m\u001b[38;5;18m__name__\u001b[39m\u001b[38;5;132;01m}\u001b[39;00m\u001b[38;5;124m: \u001b[39m\u001b[38;5;132;01m{\u001b[39;00me\u001b[38;5;132;01m}\u001b[39;00m\u001b[38;5;124m]\u001b[39m\u001b[38;5;124m\"\u001b[39m\n\u001b[0;32m    462\u001b[0m     )\n\u001b[0;32m    464\u001b[0m \u001b[38;5;28;01mif\u001b[39;00m \u001b[38;5;129;01mnot\u001b[39;00m \u001b[38;5;28misinstance\u001b[39m(value, FactorValues):\n\u001b[0;32m    465\u001b[0m     value \u001b[38;5;241m=\u001b[39m FactorValues(value)\n",
      "\u001b[1;31mFactorEvaluationError\u001b[0m: Unable to evaluate factor `HorA`. [KeyError: 'HorA']"
     ]
    }
   ],
   "source": [
    "from linearmodels import PanelOLS\n",
    "reg_fe = PanelOLS.from_formula('HorA ~ care + fairness + authority + purity + loyalty + EntityEffects', data=ddf)\n",
    "results_fe = reg_fe.fit()\n",
    "print(results_fe)"
   ]
  },
  {
   "cell_type": "code",
   "execution_count": 18,
   "id": "4ef3a508",
   "metadata": {
    "ExecuteTime": {
     "end_time": "2023-03-29T08:33:01.979305Z",
     "start_time": "2023-03-29T08:33:01.576782Z"
    }
   },
   "outputs": [],
   "source": [
    "from linearmodels import PanelOLS\n",
    "from linearmodels.panel import generate_panel_data\n",
    "panel_data = generate_panel_data()\n",
    "mod = PanelOLS.from_formula(\"y ~ 1 + x1 + EntityEffects\", panel_data.data)\n",
    "res = mod.fit(cov_type=\"clustered\", cluster_entity=True)"
   ]
  },
  {
   "cell_type": "code",
   "execution_count": 14,
   "id": "483c2322",
   "metadata": {
    "ExecuteTime": {
     "end_time": "2023-03-29T08:21:15.577950Z",
     "start_time": "2023-03-29T08:21:15.559214Z"
    }
   },
   "outputs": [
    {
     "data": {
      "text/plain": [
       "0        0.007168\n",
       "1        0.004566\n",
       "2        0.000000\n",
       "3        0.000000\n",
       "4        0.000000\n",
       "           ...   \n",
       "94467    0.000000\n",
       "94468    0.000000\n",
       "94469    0.000000\n",
       "94470    0.000000\n",
       "94471    0.000000\n",
       "Name: HorA, Length: 94472, dtype: float64"
      ]
     },
     "execution_count": 14,
     "metadata": {},
     "output_type": "execute_result"
    }
   ],
   "source": [
    "ddf.HorA"
   ]
  },
  {
   "cell_type": "code",
   "execution_count": null,
   "id": "394be28c",
   "metadata": {},
   "outputs": [],
   "source": []
  },
  {
   "cell_type": "code",
   "execution_count": null,
   "id": "6f19c563",
   "metadata": {},
   "outputs": [],
   "source": []
  },
  {
   "cell_type": "code",
   "execution_count": 71,
   "id": "f0a0d14c",
   "metadata": {
    "ExecuteTime": {
     "end_time": "2023-03-18T12:45:45.973503Z",
     "start_time": "2023-03-18T12:45:45.946723Z"
    }
   },
   "outputs": [],
   "source": [
    "#\"H:\\课程\\毕业论文\\2022-Ukraine-Russia-War-Dataset-main\\data\\russia_losses_personnel.json\"\n",
    "wardf = pd.read_json(\"H:\\\\课程\\毕业论文\\\\2022-Ukraine-Russia-War-Dataset-main\\\\data\\\\russia_losses_personnel.json\")"
   ]
  },
  {
   "cell_type": "code",
   "execution_count": 72,
   "id": "2191d704",
   "metadata": {
    "ExecuteTime": {
     "end_time": "2023-03-18T12:45:47.093568Z",
     "start_time": "2023-03-18T12:45:47.067641Z"
    }
   },
   "outputs": [
    {
     "data": {
      "text/html": [
       "<div>\n",
       "<style scoped>\n",
       "    .dataframe tbody tr th:only-of-type {\n",
       "        vertical-align: middle;\n",
       "    }\n",
       "\n",
       "    .dataframe tbody tr th {\n",
       "        vertical-align: top;\n",
       "    }\n",
       "\n",
       "    .dataframe thead th {\n",
       "        text-align: right;\n",
       "    }\n",
       "</style>\n",
       "<table border=\"1\" class=\"dataframe\">\n",
       "  <thead>\n",
       "    <tr style=\"text-align: right;\">\n",
       "      <th></th>\n",
       "      <th>date</th>\n",
       "      <th>day</th>\n",
       "      <th>personnel</th>\n",
       "      <th>personnel*</th>\n",
       "      <th>POW</th>\n",
       "    </tr>\n",
       "  </thead>\n",
       "  <tbody>\n",
       "    <tr>\n",
       "      <th>0</th>\n",
       "      <td>2022-02-25</td>\n",
       "      <td>2</td>\n",
       "      <td>2800</td>\n",
       "      <td>about</td>\n",
       "      <td>0.0</td>\n",
       "    </tr>\n",
       "    <tr>\n",
       "      <th>1</th>\n",
       "      <td>2022-02-26</td>\n",
       "      <td>3</td>\n",
       "      <td>4300</td>\n",
       "      <td>about</td>\n",
       "      <td>0.0</td>\n",
       "    </tr>\n",
       "    <tr>\n",
       "      <th>2</th>\n",
       "      <td>2022-02-27</td>\n",
       "      <td>4</td>\n",
       "      <td>4500</td>\n",
       "      <td>about</td>\n",
       "      <td>0.0</td>\n",
       "    </tr>\n",
       "    <tr>\n",
       "      <th>3</th>\n",
       "      <td>2022-02-28</td>\n",
       "      <td>5</td>\n",
       "      <td>5300</td>\n",
       "      <td>about</td>\n",
       "      <td>0.0</td>\n",
       "    </tr>\n",
       "    <tr>\n",
       "      <th>4</th>\n",
       "      <td>2022-03-01</td>\n",
       "      <td>6</td>\n",
       "      <td>5710</td>\n",
       "      <td>about</td>\n",
       "      <td>200.0</td>\n",
       "    </tr>\n",
       "  </tbody>\n",
       "</table>\n",
       "</div>"
      ],
      "text/plain": [
       "        date  day  personnel personnel*    POW\n",
       "0 2022-02-25    2       2800      about    0.0\n",
       "1 2022-02-26    3       4300      about    0.0\n",
       "2 2022-02-27    4       4500      about    0.0\n",
       "3 2022-02-28    5       5300      about    0.0\n",
       "4 2022-03-01    6       5710      about  200.0"
      ]
     },
     "execution_count": 72,
     "metadata": {},
     "output_type": "execute_result"
    }
   ],
   "source": [
    "wardf.head()"
   ]
  },
  {
   "cell_type": "code",
   "execution_count": 73,
   "id": "ea6abc32",
   "metadata": {
    "ExecuteTime": {
     "end_time": "2023-03-18T12:45:49.323778Z",
     "start_time": "2023-03-18T12:45:49.185156Z"
    }
   },
   "outputs": [],
   "source": [
    "daily_personnel=[2800]\n",
    "for i in range(0,len(wardf)-1):\n",
    "    daily_per = wardf.loc[i+1].personnel- wardf.loc[i].personnel\n",
    "    daily_personnel.append(daily_per)"
   ]
  },
  {
   "cell_type": "code",
   "execution_count": 74,
   "id": "deee40ff",
   "metadata": {
    "ExecuteTime": {
     "end_time": "2023-03-18T12:45:50.441755Z",
     "start_time": "2023-03-18T12:45:50.430541Z"
    }
   },
   "outputs": [],
   "source": [
    "wardf['daily_personnel'] = daily_personnel"
   ]
  },
  {
   "cell_type": "code",
   "execution_count": 75,
   "id": "28b81485",
   "metadata": {
    "ExecuteTime": {
     "end_time": "2023-03-18T12:45:51.693846Z",
     "start_time": "2023-03-18T12:45:51.681881Z"
    }
   },
   "outputs": [],
   "source": [
    "wardf.date = pd.to_datetime(wardf.date,format='%Y-%m-%d')"
   ]
  },
  {
   "cell_type": "code",
   "execution_count": 76,
   "id": "9404eb7a",
   "metadata": {
    "ExecuteTime": {
     "end_time": "2023-03-18T12:45:53.099086Z",
     "start_time": "2023-03-18T12:45:52.871064Z"
    }
   },
   "outputs": [
    {
     "data": {
      "text/plain": [
       "<AxesSubplot:>"
      ]
     },
     "execution_count": 76,
     "metadata": {},
     "output_type": "execute_result"
    },
    {
     "data": {
      "image/png": "[encoded data removed]",
      "text/plain": [
       "<Figure size 640x480 with 1 Axes>"
      ]
     },
     "metadata": {},
     "output_type": "display_data"
    }
   ],
   "source": [
    "wardf.daily_personnel.plot()"
   ]
  },
  {
   "cell_type": "code",
   "execution_count": 77,
   "id": "467fcd51",
   "metadata": {
    "ExecuteTime": {
     "end_time": "2023-03-18T12:45:59.930509Z",
     "start_time": "2023-03-18T12:45:59.921387Z"
    }
   },
   "outputs": [],
   "source": [
    "wardf = wardf.rename(columns={'date':'Datetime'})"
   ]
  },
  {
   "cell_type": "code",
   "execution_count": 63,
   "id": "aff21ac7",
   "metadata": {
    "ExecuteTime": {
     "end_time": "2023-03-18T12:42:16.376421Z",
     "start_time": "2023-03-18T12:42:15.531448Z"
    }
   },
   "outputs": [
    {
     "data": {
      "text/plain": [
       "array([<AxesSubplot:xlabel='30day_cut'>, <AxesSubplot:xlabel='30day_cut'>,\n",
       "       <AxesSubplot:xlabel='30day_cut'>], dtype=object)"
      ]
     },
     "execution_count": 63,
     "metadata": {},
     "output_type": "execute_result"
    },
    {
     "data": {
      "image/png": "[encoded data removed]",
      "text/plain": [
       "<Figure size 640x480 with 3 Axes>"
      ]
     },
     "metadata": {},
     "output_type": "display_data"
    }
   ],
   "source": [
    "#加入仇恨推文占总推文的比例历时图\n",
    "ptable = df.pivot_table(index = '30day_cut', values=['HorA','Tweet_id'],\n",
    "               aggfunc={'HorA':np.sum, 'Tweet_id':len })\n",
    "ptable['Hate%'] = ptable.apply(lambda x: x['HorA'] / x['Tweet_id'], axis=1)\n",
    "ptable.plot.line(subplots=True)"
   ]
  },
  {
   "cell_type": "code",
   "execution_count": 64,
   "id": "664828fb",
   "metadata": {
    "ExecuteTime": {
     "end_time": "2023-03-18T12:42:42.579134Z",
     "start_time": "2023-03-18T12:42:42.557253Z"
    }
   },
   "outputs": [
    {
     "data": {
      "text/html": [
       "<div>\n",
       "<style scoped>\n",
       "    .dataframe tbody tr th:only-of-type {\n",
       "        vertical-align: middle;\n",
       "    }\n",
       "\n",
       "    .dataframe tbody tr th {\n",
       "        vertical-align: top;\n",
       "    }\n",
       "\n",
       "    .dataframe thead th {\n",
       "        text-align: right;\n",
       "    }\n",
       "</style>\n",
       "<table border=\"1\" class=\"dataframe\">\n",
       "  <thead>\n",
       "    <tr style=\"text-align: right;\">\n",
       "      <th></th>\n",
       "      <th>HorA</th>\n",
       "      <th>Tweet_id</th>\n",
       "      <th>Hate%</th>\n",
       "    </tr>\n",
       "    <tr>\n",
       "      <th>30day_cut</th>\n",
       "      <th></th>\n",
       "      <th></th>\n",
       "      <th></th>\n",
       "    </tr>\n",
       "  </thead>\n",
       "  <tbody>\n",
       "    <tr>\n",
       "      <th>[2022-02-22, 2022-03-24)</th>\n",
       "      <td>45160</td>\n",
       "      <td>788454</td>\n",
       "      <td>0.057277</td>\n",
       "    </tr>\n",
       "    <tr>\n",
       "      <th>[2022-03-24, 2022-04-23)</th>\n",
       "      <td>30011</td>\n",
       "      <td>511543</td>\n",
       "      <td>0.058668</td>\n",
       "    </tr>\n",
       "    <tr>\n",
       "      <th>[2022-04-23, 2022-05-23)</th>\n",
       "      <td>19540</td>\n",
       "      <td>382645</td>\n",
       "      <td>0.051066</td>\n",
       "    </tr>\n",
       "    <tr>\n",
       "      <th>[2022-05-23, 2022-06-22)</th>\n",
       "      <td>15274</td>\n",
       "      <td>285458</td>\n",
       "      <td>0.053507</td>\n",
       "    </tr>\n",
       "    <tr>\n",
       "      <th>[2022-06-22, 2022-07-22)</th>\n",
       "      <td>14338</td>\n",
       "      <td>254926</td>\n",
       "      <td>0.056244</td>\n",
       "    </tr>\n",
       "  </tbody>\n",
       "</table>\n",
       "</div>"
      ],
      "text/plain": [
       "                           HorA  Tweet_id     Hate%\n",
       "30day_cut                                          \n",
       "[2022-02-22, 2022-03-24)  45160    788454  0.057277\n",
       "[2022-03-24, 2022-04-23)  30011    511543  0.058668\n",
       "[2022-04-23, 2022-05-23)  19540    382645  0.051066\n",
       "[2022-05-23, 2022-06-22)  15274    285458  0.053507\n",
       "[2022-06-22, 2022-07-22)  14338    254926  0.056244"
      ]
     },
     "execution_count": 64,
     "metadata": {},
     "output_type": "execute_result"
    }
   ],
   "source": [
    "ptable.head()"
   ]
  },
  {
   "cell_type": "code",
   "execution_count": 67,
   "id": "a25db5bf",
   "metadata": {
    "ExecuteTime": {
     "end_time": "2023-03-18T12:44:30.370949Z",
     "start_time": "2023-03-18T12:44:30.349009Z"
    }
   },
   "outputs": [],
   "source": [
    "from datetime import timedelta\n",
    "#cut time series by 30 days\n",
    "ini_time = wardf.iloc[0].Datetime\n",
    "end_time = wardf.iloc[-1].Datetime\n",
    "time_series_30day = []\n",
    "\n",
    "while ini_time < end_time:\n",
    "    time_series_30day.append(ini_time)\n",
    "    ini_time = ini_time+timedelta(days=30)\n",
    "    \n",
    "time_series_30day.append(end_time+timedelta(days=1))\n",
    "\n",
    "wardf['30day_cut'] = pd.cut(wardf['Datetime'], bins=time_series_30day, include_lowest=True, right=False)"
   ]
  },
  {
   "cell_type": "code",
   "execution_count": 68,
   "id": "d26479dc",
   "metadata": {
    "ExecuteTime": {
     "end_time": "2023-03-18T12:44:31.871101Z",
     "start_time": "2023-03-18T12:44:31.845129Z"
    }
   },
   "outputs": [
    {
     "data": {
      "text/html": [
       "<div>\n",
       "<style scoped>\n",
       "    .dataframe tbody tr th:only-of-type {\n",
       "        vertical-align: middle;\n",
       "    }\n",
       "\n",
       "    .dataframe tbody tr th {\n",
       "        vertical-align: top;\n",
       "    }\n",
       "\n",
       "    .dataframe thead th {\n",
       "        text-align: right;\n",
       "    }\n",
       "</style>\n",
       "<table border=\"1\" class=\"dataframe\">\n",
       "  <thead>\n",
       "    <tr style=\"text-align: right;\">\n",
       "      <th></th>\n",
       "      <th>Datetime</th>\n",
       "      <th>day</th>\n",
       "      <th>personnel</th>\n",
       "      <th>personnel*</th>\n",
       "      <th>POW</th>\n",
       "      <th>daily_personnel</th>\n",
       "      <th>30day_cut</th>\n",
       "    </tr>\n",
       "  </thead>\n",
       "  <tbody>\n",
       "    <tr>\n",
       "      <th>0</th>\n",
       "      <td>2022-02-25</td>\n",
       "      <td>2</td>\n",
       "      <td>2800</td>\n",
       "      <td>about</td>\n",
       "      <td>0.0</td>\n",
       "      <td>2800</td>\n",
       "      <td>[2022-02-25, 2022-03-27)</td>\n",
       "    </tr>\n",
       "    <tr>\n",
       "      <th>1</th>\n",
       "      <td>2022-02-26</td>\n",
       "      <td>3</td>\n",
       "      <td>4300</td>\n",
       "      <td>about</td>\n",
       "      <td>0.0</td>\n",
       "      <td>1500</td>\n",
       "      <td>[2022-02-25, 2022-03-27)</td>\n",
       "    </tr>\n",
       "    <tr>\n",
       "      <th>2</th>\n",
       "      <td>2022-02-27</td>\n",
       "      <td>4</td>\n",
       "      <td>4500</td>\n",
       "      <td>about</td>\n",
       "      <td>0.0</td>\n",
       "      <td>200</td>\n",
       "      <td>[2022-02-25, 2022-03-27)</td>\n",
       "    </tr>\n",
       "    <tr>\n",
       "      <th>3</th>\n",
       "      <td>2022-02-28</td>\n",
       "      <td>5</td>\n",
       "      <td>5300</td>\n",
       "      <td>about</td>\n",
       "      <td>0.0</td>\n",
       "      <td>800</td>\n",
       "      <td>[2022-02-25, 2022-03-27)</td>\n",
       "    </tr>\n",
       "    <tr>\n",
       "      <th>4</th>\n",
       "      <td>2022-03-01</td>\n",
       "      <td>6</td>\n",
       "      <td>5710</td>\n",
       "      <td>about</td>\n",
       "      <td>200.0</td>\n",
       "      <td>410</td>\n",
       "      <td>[2022-02-25, 2022-03-27)</td>\n",
       "    </tr>\n",
       "  </tbody>\n",
       "</table>\n",
       "</div>"
      ],
      "text/plain": [
       "    Datetime  day  personnel personnel*    POW  daily_personnel  \\\n",
       "0 2022-02-25    2       2800      about    0.0             2800   \n",
       "1 2022-02-26    3       4300      about    0.0             1500   \n",
       "2 2022-02-27    4       4500      about    0.0              200   \n",
       "3 2022-02-28    5       5300      about    0.0              800   \n",
       "4 2022-03-01    6       5710      about  200.0              410   \n",
       "\n",
       "                  30day_cut  \n",
       "0  [2022-02-25, 2022-03-27)  \n",
       "1  [2022-02-25, 2022-03-27)  \n",
       "2  [2022-02-25, 2022-03-27)  \n",
       "3  [2022-02-25, 2022-03-27)  \n",
       "4  [2022-02-25, 2022-03-27)  "
      ]
     },
     "execution_count": 68,
     "metadata": {},
     "output_type": "execute_result"
    }
   ],
   "source": [
    "wardf.head()"
   ]
  },
  {
   "cell_type": "code",
   "execution_count": 69,
   "id": "ad74eee6",
   "metadata": {
    "ExecuteTime": {
     "end_time": "2023-03-18T12:44:40.373989Z",
     "start_time": "2023-03-18T12:44:40.348059Z"
    }
   },
   "outputs": [],
   "source": [
    "ptable = pd.merge(ptable, wardf, on='30day_cut')"
   ]
  },
  {
   "cell_type": "code",
   "execution_count": 70,
   "id": "b8cb650a",
   "metadata": {
    "ExecuteTime": {
     "end_time": "2023-03-18T12:44:45.162751Z",
     "start_time": "2023-03-18T12:44:45.140077Z"
    }
   },
   "outputs": [
    {
     "data": {
      "text/html": [
       "<div>\n",
       "<style scoped>\n",
       "    .dataframe tbody tr th:only-of-type {\n",
       "        vertical-align: middle;\n",
       "    }\n",
       "\n",
       "    .dataframe tbody tr th {\n",
       "        vertical-align: top;\n",
       "    }\n",
       "\n",
       "    .dataframe thead th {\n",
       "        text-align: right;\n",
       "    }\n",
       "</style>\n",
       "<table border=\"1\" class=\"dataframe\">\n",
       "  <thead>\n",
       "    <tr style=\"text-align: right;\">\n",
       "      <th></th>\n",
       "      <th>30day_cut</th>\n",
       "      <th>HorA</th>\n",
       "      <th>Tweet_id</th>\n",
       "      <th>Hate%</th>\n",
       "      <th>Datetime</th>\n",
       "      <th>day</th>\n",
       "      <th>personnel</th>\n",
       "      <th>personnel*</th>\n",
       "      <th>POW</th>\n",
       "      <th>daily_personnel</th>\n",
       "    </tr>\n",
       "  </thead>\n",
       "  <tbody>\n",
       "  </tbody>\n",
       "</table>\n",
       "</div>"
      ],
      "text/plain": [
       "Empty DataFrame\n",
       "Columns: [30day_cut, HorA, Tweet_id, Hate%, Datetime, day, personnel, personnel*, POW, daily_personnel]\n",
       "Index: []"
      ]
     },
     "execution_count": 70,
     "metadata": {},
     "output_type": "execute_result"
    }
   ],
   "source": [
    "ptable.head()"
   ]
  },
  {
   "cell_type": "code",
   "execution_count": null,
   "id": "0ad14a47",
   "metadata": {},
   "outputs": [],
   "source": []
  }
 ],
 "metadata": {
  "kernelspec": {
   "display_name": "Python 3 (ipykernel)",
   "language": "python",
   "name": "python3"
  },
  "language_info": {
   "codemirror_mode": {
    "name": "ipython",
    "version": 3
   },
   "file_extension": ".py",
   "mimetype": "text/x-python",
   "name": "python",
   "nbconvert_exporter": "python",
   "pygments_lexer": "ipython3",
   "version": "3.8.13"
  },
  "varInspector": {
   "cols": {
    "lenName": 16,
    "lenType": 16,
    "lenVar": 40
   },
   "kernels_config": {
    "python": {
     "delete_cmd_postfix": "",
     "delete_cmd_prefix": "del ",
     "library": "var_list.py",
     "varRefreshCmd": "print(var_dic_list())"
    },
    "r": {
     "delete_cmd_postfix": ") ",
     "delete_cmd_prefix": "rm(",
     "library": "var_list.r",
     "varRefreshCmd": "cat(var_dic_list()) "
    }
   },
   "position": {
    "height": "607.85px",
    "left": "1660.4px",
    "right": "20px",
    "top": "120px",
    "width": "350px"
   },
   "types_to_exclude": [
    "module",
    "function",
    "builtin_function_or_method",
    "instance",
    "_Feature"
   ],
   "window_display": true
  }
 },
 "nbformat": 4,
 "nbformat_minor": 5
}
